{
 "metadata": {
  "name": ""
 },
 "nbformat": 3,
 "nbformat_minor": 0,
 "worksheets": [
  {
   "cells": [
    {
     "cell_type": "code",
     "collapsed": false,
     "input": [
      "%reset"
     ],
     "language": "python",
     "metadata": {},
     "outputs": [
      {
       "name": "stdout",
       "output_type": "stream",
       "stream": "stdout",
       "text": [
        "Once deleted, variables cannot be recovered. Proceed (y/[n])? y\n"
       ]
      }
     ],
     "prompt_number": 1
    },
    {
     "cell_type": "code",
     "collapsed": false,
     "input": [
      "%pylab qt\n",
      "%load_ext autoreload\n",
      "%autoreload 2"
     ],
     "language": "python",
     "metadata": {},
     "outputs": [
      {
       "output_type": "stream",
       "stream": "stdout",
       "text": [
        "Populating the interactive namespace from numpy and matplotlib\n"
       ]
      }
     ],
     "prompt_number": 2
    },
    {
     "cell_type": "code",
     "collapsed": false,
     "input": [
      "from chirality_data_analysis.example_data import *\n",
      "from chirality_image_analysis import image_analysis as chi\n",
      "import numpy as np\n",
      "\n",
      "currentData = desiredColonies[desiredColonies.name == 'ReplicateB']\n",
      "latestDate = currentData.irow(currentData['date'].argmax())\n",
      "latestPath = latestDate['path']\n",
      "\n",
      "binaryEdges = chi.getBinaryEdges(latestPath, showPictures=False)"
     ],
     "language": "python",
     "metadata": {},
     "outputs": [
      {
       "output_type": "stream",
       "stream": "stdout",
       "text": [
        "Finding the center...\n",
        "Cleaning up image with filters..."
       ]
      },
      {
       "output_type": "stream",
       "stream": "stdout",
       "text": [
        "\n",
        "Finding edges..."
       ]
      },
      {
       "output_type": "stream",
       "stream": "stdout",
       "text": [
        "\n",
        "Cutting out center..."
       ]
      },
      {
       "output_type": "stream",
       "stream": "stdout",
       "text": [
        "\n"
       ]
      }
     ],
     "prompt_number": 3
    },
    {
     "cell_type": "markdown",
     "metadata": {},
     "source": [
      "Now play with interactive selection tools."
     ]
    },
    {
     "cell_type": "code",
     "collapsed": false,
     "input": [
      "import numpy as np\n",
      "import matplotlib as plt\n",
      "import skimage as ski\n",
      "\n",
      "class ChiralityFinder:\n",
      "    def __init__(self, image):\n",
      "        self.image = image\n",
      "        self.fig = ski.io.imshow(image)\n",
      "        self.lasso = LassoSelector(self.fig"
     ],
     "language": "python",
     "metadata": {},
     "outputs": [],
     "prompt_number": 9
    },
    {
     "cell_type": "code",
     "collapsed": false,
     "input": [
      "chiFinder = ChiralityFinder(binaryEdges)"
     ],
     "language": "python",
     "metadata": {},
     "outputs": [],
     "prompt_number": 7
    },
    {
     "cell_type": "code",
     "collapsed": false,
     "input": [
      "def selector_callback(verts):\n",
      "    yindices = np.array([f[0] for f in verts])\n",
      "    xindices = np.array([f[1] for f in verts])\n",
      "        \n",
      "    rr, cc = ski.draw.polygon(xindices, yindices)\n",
      "    newEdges[rr, cc] = False\n",
      "    ski.io.imshow(newEdges)\n",
      "\n",
      "###### Main Code ########\n",
      "    \n",
      "pl.ion()\n",
      "newEdges = binaryEdges.copy()\n",
      "ski.io.imshow(newEdges)\n",
      "\n",
      "ax = plt.gca()\n",
      "selector = LassoSelector(ax, selector_callback, useblit=True)"
     ],
     "language": "python",
     "metadata": {},
     "outputs": [],
     "prompt_number": 11
    }
   ],
   "metadata": {}
  }
 ]
}