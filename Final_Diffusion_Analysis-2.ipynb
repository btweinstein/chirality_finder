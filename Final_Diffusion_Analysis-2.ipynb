{
 "metadata": {
  "name": ""
 },
 "nbformat": 3,
 "nbformat_minor": 0,
 "worksheets": [
  {
   "cells": [
    {
     "cell_type": "code",
     "collapsed": false,
     "input": [
      "%reset"
     ],
     "language": "python",
     "metadata": {},
     "outputs": [
      {
       "name": "stdout",
       "output_type": "stream",
       "stream": "stdout",
       "text": [
        "Once deleted, variables cannot be recovered. Proceed (y/[n])? y\n"
       ]
      }
     ],
     "prompt_number": 1
    },
    {
     "cell_type": "code",
     "collapsed": false,
     "input": [
      "%pylab inline"
     ],
     "language": "python",
     "metadata": {},
     "outputs": [
      {
       "output_type": "stream",
       "stream": "stdout",
       "text": [
        "Populating the interactive namespace from numpy and matplotlib\n"
       ]
      }
     ],
     "prompt_number": 2
    },
    {
     "cell_type": "code",
     "collapsed": false,
     "input": [
      "%reload_ext autoreload\n",
      "%autoreload 2"
     ],
     "language": "python",
     "metadata": {},
     "outputs": [],
     "prompt_number": 3
    },
    {
     "cell_type": "code",
     "collapsed": false,
     "input": [
      "import pandas as pd\n",
      "import numpy as np"
     ],
     "language": "python",
     "metadata": {},
     "outputs": [],
     "prompt_number": 4
    },
    {
     "cell_type": "code",
     "collapsed": false,
     "input": [
      "growthOutputFolder = '/home/bryan/Documents/Research_Data/Nelson/Chirality_Initial_Imaging/Analysis/Growth/Automated_Output'\n",
      "editedFolder = '/home/bryan/Documents/Research_Data/Nelson/Chirality_Initial_Imaging/Analysis/Growth/Edited_Output'"
     ],
     "language": "python",
     "metadata": {},
     "outputs": [],
     "prompt_number": 5
    },
    {
     "cell_type": "markdown",
     "metadata": {},
     "source": [
      "# Importing Data"
     ]
    },
    {
     "cell_type": "markdown",
     "metadata": {},
     "source": [
      "## Growth"
     ]
    },
    {
     "cell_type": "code",
     "collapsed": false,
     "input": [
      "imageData = pd.read_csv(growthOutputFolder + '/automated_Output.csv')\n",
      "imageData = imageData.drop('Unnamed: 0', 1)\n",
      "display(imageData)"
     ],
     "language": "python",
     "metadata": {},
     "outputs": [
      {
       "html": [
        "<pre>\n",
        "&lt;class 'pandas.core.frame.DataFrame'&gt;\n",
        "Int64Index: 92 entries, 0 to 91\n",
        "Data columns (total 7 columns):\n",
        "path                       92  non-null values\n",
        "T                          92  non-null values\n",
        "mL                         92  non-null values\n",
        "name                       92  non-null values\n",
        "date                       92  non-null values\n",
        "colony_radius_mm           92  non-null values\n",
        "colony_radius_mm_stderr    92  non-null values\n",
        "dtypes: float64(2), int64(2), object(3)\n",
        "</pre>"
       ],
       "metadata": {},
       "output_type": "display_data",
       "text": [
        "<class 'pandas.core.frame.DataFrame'>\n",
        "Int64Index: 92 entries, 0 to 91\n",
        "Data columns (total 7 columns):\n",
        "path                       92  non-null values\n",
        "T                          92  non-null values\n",
        "mL                         92  non-null values\n",
        "name                       92  non-null values\n",
        "date                       92  non-null values\n",
        "colony_radius_mm           92  non-null values\n",
        "colony_radius_mm_stderr    92  non-null values\n",
        "dtypes: float64(2), int64(2), object(3)"
       ]
      }
     ],
     "prompt_number": 6
    },
    {
     "cell_type": "markdown",
     "metadata": {},
     "source": [
      "We have decided to drop the error as it is far too annoying. I will just approximate it as I corrected all of the awful ones by hand anyways."
     ]
    },
    {
     "cell_type": "code",
     "collapsed": false,
     "input": [
      "imageData = imageData.drop('colony_radius_mm_stderr', 1)"
     ],
     "language": "python",
     "metadata": {},
     "outputs": [],
     "prompt_number": 7
    },
    {
     "cell_type": "code",
     "collapsed": false,
     "input": [
      "import glob\n",
      "import scipy as sp\n",
      "import scipy.stats\n",
      "import os"
     ],
     "language": "python",
     "metadata": {},
     "outputs": [],
     "prompt_number": 8
    },
    {
     "cell_type": "code",
     "collapsed": false,
     "input": [
      "files = glob.glob(editedFolder + '/*.txt')\n",
      "editedData = pd.DataFrame()\n",
      "for f in files:\n",
      "    data = pd.read_csv(f, sep='\\t')\n",
      "    data['short_name'] = os.path.basename(f)\n",
      "    data['short_name'] = [f.split('.')[0] for f in data['short_name']]\n",
      "    data = data.drop([' ', 'Angle'], 1)\n",
      "\n",
      "    editedData = editedData.append(data)\n",
      "editedData = editedData.reset_index(drop=True)\n",
      "\n",
      "display(editedData.head(5))"
     ],
     "language": "python",
     "metadata": {},
     "outputs": [
      {
       "html": [
        "<div style=\"max-height:1000px;max-width:1500px;overflow:auto;\">\n",
        "<table border=\"1\" class=\"dataframe\">\n",
        "  <thead>\n",
        "    <tr style=\"text-align: right;\">\n",
        "      <th></th>\n",
        "      <th>Length</th>\n",
        "      <th>short_name</th>\n",
        "    </tr>\n",
        "  </thead>\n",
        "  <tbody>\n",
        "    <tr>\n",
        "      <th>0</th>\n",
        "      <td> 446.000</td>\n",
        "      <td> 30C_25mL_ReplicateA_2013_10_15-0011</td>\n",
        "    </tr>\n",
        "    <tr>\n",
        "      <th>1</th>\n",
        "      <td> 442.000</td>\n",
        "      <td> 30C_25mL_ReplicateA_2013_10_15-0011</td>\n",
        "    </tr>\n",
        "    <tr>\n",
        "      <th>2</th>\n",
        "      <td> 492.492</td>\n",
        "      <td> 30C_25mL_ReplicateA_2013_10_15-0011</td>\n",
        "    </tr>\n",
        "    <tr>\n",
        "      <th>3</th>\n",
        "      <td> 489.036</td>\n",
        "      <td> 30C_25mL_ReplicateA_2013_10_15-0011</td>\n",
        "    </tr>\n",
        "    <tr>\n",
        "      <th>4</th>\n",
        "      <td> 463.797</td>\n",
        "      <td> 30C_25mL_ReplicateA_2013_10_15-0011</td>\n",
        "    </tr>\n",
        "  </tbody>\n",
        "</table>\n",
        "</div>"
       ],
       "metadata": {},
       "output_type": "display_data",
       "text": [
        "    Length                           short_name\n",
        "0  446.000  30C_25mL_ReplicateA_2013_10_15-0011\n",
        "1  442.000  30C_25mL_ReplicateA_2013_10_15-0011\n",
        "2  492.492  30C_25mL_ReplicateA_2013_10_15-0011\n",
        "3  489.036  30C_25mL_ReplicateA_2013_10_15-0011\n",
        "4  463.797  30C_25mL_ReplicateA_2013_10_15-0011"
       ]
      }
     ],
     "prompt_number": 9
    },
    {
     "cell_type": "markdown",
     "metadata": {},
     "source": [
      "Good, that is working. Let us now combine this with the old imageData table."
     ]
    },
    {
     "cell_type": "code",
     "collapsed": false,
     "input": [
      "imageData['short_name'] = imageData.path.apply(os.path.basename)\n",
      "imageData['short_name'] = [f.split('.')[0] for f in imageData['short_name']]\n",
      "imageData.head(2)"
     ],
     "language": "python",
     "metadata": {},
     "outputs": [
      {
       "html": [
        "<div style=\"max-height:1000px;max-width:1500px;overflow:auto;\">\n",
        "<table border=\"1\" class=\"dataframe\">\n",
        "  <thead>\n",
        "    <tr style=\"text-align: right;\">\n",
        "      <th></th>\n",
        "      <th>path</th>\n",
        "      <th>T</th>\n",
        "      <th>mL</th>\n",
        "      <th>name</th>\n",
        "      <th>date</th>\n",
        "      <th>colony_radius_mm</th>\n",
        "      <th>short_name</th>\n",
        "    </tr>\n",
        "  </thead>\n",
        "  <tbody>\n",
        "    <tr>\n",
        "      <th>0</th>\n",
        "      <td> /home/bryan/Documents/Research_Data/Nelson/Chi...</td>\n",
        "      <td> 21</td>\n",
        "      <td> 25</td>\n",
        "      <td> ReplicateB</td>\n",
        "      <td> 2013-10-11 00:00:00</td>\n",
        "      <td> 3.293278</td>\n",
        "      <td> 21C_25mL_ReplicateB_2013_10_11-0002</td>\n",
        "    </tr>\n",
        "    <tr>\n",
        "      <th>1</th>\n",
        "      <td> /home/bryan/Documents/Research_Data/Nelson/Chi...</td>\n",
        "      <td> 37</td>\n",
        "      <td> 66</td>\n",
        "      <td> ReplicateB</td>\n",
        "      <td> 2013-10-07 00:00:00</td>\n",
        "      <td> 5.330891</td>\n",
        "      <td> 37C_66mL_ReplicateB_2013_10_07-0004</td>\n",
        "    </tr>\n",
        "  </tbody>\n",
        "</table>\n",
        "</div>"
       ],
       "metadata": {},
       "output_type": "pyout",
       "prompt_number": 10,
       "text": [
        "                                                path   T  mL        name  \\\n",
        "0  /home/bryan/Documents/Research_Data/Nelson/Chi...  21  25  ReplicateB   \n",
        "1  /home/bryan/Documents/Research_Data/Nelson/Chi...  37  66  ReplicateB   \n",
        "\n",
        "                  date  colony_radius_mm                           short_name  \n",
        "0  2013-10-11 00:00:00          3.293278  21C_25mL_ReplicateB_2013_10_11-0002  \n",
        "1  2013-10-07 00:00:00          5.330891  37C_66mL_ReplicateB_2013_10_07-0004  "
       ]
      }
     ],
     "prompt_number": 10
    },
    {
     "cell_type": "markdown",
     "metadata": {},
     "source": [
      "We have given up on the error. It is too annoying, as we don't exactly know what the error is! Our estimates are sloppy and it is likely better to estimate the error from the data."
     ]
    },
    {
     "cell_type": "code",
     "collapsed": false,
     "input": [
      "combinedData = pd.merge(imageData, editedData, on='short_name', how='outer')\n",
      "display(combinedData.head(5))"
     ],
     "language": "python",
     "metadata": {},
     "outputs": [
      {
       "html": [
        "<div style=\"max-height:1000px;max-width:1500px;overflow:auto;\">\n",
        "<table border=\"1\" class=\"dataframe\">\n",
        "  <thead>\n",
        "    <tr style=\"text-align: right;\">\n",
        "      <th></th>\n",
        "      <th>path</th>\n",
        "      <th>T</th>\n",
        "      <th>mL</th>\n",
        "      <th>name</th>\n",
        "      <th>date</th>\n",
        "      <th>colony_radius_mm</th>\n",
        "      <th>short_name</th>\n",
        "      <th>Length</th>\n",
        "    </tr>\n",
        "  </thead>\n",
        "  <tbody>\n",
        "    <tr>\n",
        "      <th>0</th>\n",
        "      <td> /home/bryan/Documents/Research_Data/Nelson/Chi...</td>\n",
        "      <td> 21</td>\n",
        "      <td> 25</td>\n",
        "      <td> ReplicateB</td>\n",
        "      <td> 2013-10-11 00:00:00</td>\n",
        "      <td> 3.293278</td>\n",
        "      <td> 21C_25mL_ReplicateB_2013_10_11-0002</td>\n",
        "      <td> NaN</td>\n",
        "    </tr>\n",
        "    <tr>\n",
        "      <th>1</th>\n",
        "      <td> /home/bryan/Documents/Research_Data/Nelson/Chi...</td>\n",
        "      <td> 37</td>\n",
        "      <td> 66</td>\n",
        "      <td> ReplicateB</td>\n",
        "      <td> 2013-10-07 00:00:00</td>\n",
        "      <td> 5.330891</td>\n",
        "      <td> 37C_66mL_ReplicateB_2013_10_07-0004</td>\n",
        "      <td> NaN</td>\n",
        "    </tr>\n",
        "    <tr>\n",
        "      <th>2</th>\n",
        "      <td> /home/bryan/Documents/Research_Data/Nelson/Chi...</td>\n",
        "      <td> 21</td>\n",
        "      <td> 66</td>\n",
        "      <td> ReplicateA</td>\n",
        "      <td> 2013-10-04 00:00:00</td>\n",
        "      <td> 1.945775</td>\n",
        "      <td> 21C_66mL_ReplicateA_2013_10_04-0012</td>\n",
        "      <td> 222</td>\n",
        "    </tr>\n",
        "    <tr>\n",
        "      <th>3</th>\n",
        "      <td> /home/bryan/Documents/Research_Data/Nelson/Chi...</td>\n",
        "      <td> 21</td>\n",
        "      <td> 66</td>\n",
        "      <td> ReplicateA</td>\n",
        "      <td> 2013-10-04 00:00:00</td>\n",
        "      <td> 1.945775</td>\n",
        "      <td> 21C_66mL_ReplicateA_2013_10_04-0012</td>\n",
        "      <td> 206</td>\n",
        "    </tr>\n",
        "    <tr>\n",
        "      <th>4</th>\n",
        "      <td> /home/bryan/Documents/Research_Data/Nelson/Chi...</td>\n",
        "      <td> 21</td>\n",
        "      <td> 66</td>\n",
        "      <td> ReplicateA</td>\n",
        "      <td> 2013-10-04 00:00:00</td>\n",
        "      <td> 1.945775</td>\n",
        "      <td> 21C_66mL_ReplicateA_2013_10_04-0012</td>\n",
        "      <td> 236</td>\n",
        "    </tr>\n",
        "  </tbody>\n",
        "</table>\n",
        "</div>"
       ],
       "metadata": {},
       "output_type": "display_data",
       "text": [
        "                                                path   T  mL        name  \\\n",
        "0  /home/bryan/Documents/Research_Data/Nelson/Chi...  21  25  ReplicateB   \n",
        "1  /home/bryan/Documents/Research_Data/Nelson/Chi...  37  66  ReplicateB   \n",
        "2  /home/bryan/Documents/Research_Data/Nelson/Chi...  21  66  ReplicateA   \n",
        "3  /home/bryan/Documents/Research_Data/Nelson/Chi...  21  66  ReplicateA   \n",
        "4  /home/bryan/Documents/Research_Data/Nelson/Chi...  21  66  ReplicateA   \n",
        "\n",
        "                  date  colony_radius_mm                           short_name  \\\n",
        "0  2013-10-11 00:00:00          3.293278  21C_25mL_ReplicateB_2013_10_11-0002   \n",
        "1  2013-10-07 00:00:00          5.330891  37C_66mL_ReplicateB_2013_10_07-0004   \n",
        "2  2013-10-04 00:00:00          1.945775  21C_66mL_ReplicateA_2013_10_04-0012   \n",
        "3  2013-10-04 00:00:00          1.945775  21C_66mL_ReplicateA_2013_10_04-0012   \n",
        "4  2013-10-04 00:00:00          1.945775  21C_66mL_ReplicateA_2013_10_04-0012   \n",
        "\n",
        "   Length  \n",
        "0     NaN  \n",
        "1     NaN  \n",
        "2     222  \n",
        "3     206  \n",
        "4     236  "
       ]
      }
     ],
     "prompt_number": 11
    },
    {
     "cell_type": "markdown",
     "metadata": {},
     "source": [
      "Beautiful. Let us now get an appropriate scale for each image."
     ]
    },
    {
     "cell_type": "code",
     "collapsed": false,
     "input": [
      "import chirality_image_analysis.utility as ut"
     ],
     "language": "python",
     "metadata": {},
     "outputs": [],
     "prompt_number": 12
    },
    {
     "cell_type": "code",
     "collapsed": false,
     "input": [
      "\n",
      "combinedData['scale'] = combinedData['path'].apply(ut.getScale)\n",
      "display(combinedData.head(3))"
     ],
     "language": "python",
     "metadata": {},
     "outputs": [
      {
       "html": [
        "<div style=\"max-height:1000px;max-width:1500px;overflow:auto;\">\n",
        "<table border=\"1\" class=\"dataframe\">\n",
        "  <thead>\n",
        "    <tr style=\"text-align: right;\">\n",
        "      <th></th>\n",
        "      <th>path</th>\n",
        "      <th>T</th>\n",
        "      <th>mL</th>\n",
        "      <th>name</th>\n",
        "      <th>date</th>\n",
        "      <th>colony_radius_mm</th>\n",
        "      <th>short_name</th>\n",
        "      <th>Length</th>\n",
        "      <th>scale</th>\n",
        "    </tr>\n",
        "  </thead>\n",
        "  <tbody>\n",
        "    <tr>\n",
        "      <th>0</th>\n",
        "      <td> /home/bryan/Documents/Research_Data/Nelson/Chi...</td>\n",
        "      <td> 21</td>\n",
        "      <td> 25</td>\n",
        "      <td> ReplicateB</td>\n",
        "      <td> 2013-10-11 00:00:00</td>\n",
        "      <td> 3.293278</td>\n",
        "      <td> 21C_25mL_ReplicateB_2013_10_11-0002</td>\n",
        "      <td> NaN</td>\n",
        "      <td> 0.007775</td>\n",
        "    </tr>\n",
        "    <tr>\n",
        "      <th>1</th>\n",
        "      <td> /home/bryan/Documents/Research_Data/Nelson/Chi...</td>\n",
        "      <td> 37</td>\n",
        "      <td> 66</td>\n",
        "      <td> ReplicateB</td>\n",
        "      <td> 2013-10-07 00:00:00</td>\n",
        "      <td> 5.330891</td>\n",
        "      <td> 37C_66mL_ReplicateB_2013_10_07-0004</td>\n",
        "      <td> NaN</td>\n",
        "      <td> 0.010827</td>\n",
        "    </tr>\n",
        "    <tr>\n",
        "      <th>2</th>\n",
        "      <td> /home/bryan/Documents/Research_Data/Nelson/Chi...</td>\n",
        "      <td> 21</td>\n",
        "      <td> 66</td>\n",
        "      <td> ReplicateA</td>\n",
        "      <td> 2013-10-04 00:00:00</td>\n",
        "      <td> 1.945775</td>\n",
        "      <td> 21C_66mL_ReplicateA_2013_10_04-0012</td>\n",
        "      <td> 222</td>\n",
        "      <td> 0.006399</td>\n",
        "    </tr>\n",
        "  </tbody>\n",
        "</table>\n",
        "</div>"
       ],
       "metadata": {},
       "output_type": "display_data",
       "text": [
        "                                                path   T  mL        name  \\\n",
        "0  /home/bryan/Documents/Research_Data/Nelson/Chi...  21  25  ReplicateB   \n",
        "1  /home/bryan/Documents/Research_Data/Nelson/Chi...  37  66  ReplicateB   \n",
        "2  /home/bryan/Documents/Research_Data/Nelson/Chi...  21  66  ReplicateA   \n",
        "\n",
        "                  date  colony_radius_mm                           short_name  \\\n",
        "0  2013-10-11 00:00:00          3.293278  21C_25mL_ReplicateB_2013_10_11-0002   \n",
        "1  2013-10-07 00:00:00          5.330891  37C_66mL_ReplicateB_2013_10_07-0004   \n",
        "2  2013-10-04 00:00:00          1.945775  21C_66mL_ReplicateA_2013_10_04-0012   \n",
        "\n",
        "   Length     scale  \n",
        "0     NaN  0.007775  \n",
        "1     NaN  0.010827  \n",
        "2     222  0.006399  "
       ]
      }
     ],
     "prompt_number": 13
    },
    {
     "cell_type": "code",
     "collapsed": false,
     "input": [
      "de = ~ combinedData.Length.isnull()\n",
      "combinedData['colony_radius_mm'][de] = combinedData['Length'][de]*combinedData['scale'][de]\n",
      "combinedData.head(6)"
     ],
     "language": "python",
     "metadata": {},
     "outputs": [
      {
       "html": [
        "<div style=\"max-height:1000px;max-width:1500px;overflow:auto;\">\n",
        "<table border=\"1\" class=\"dataframe\">\n",
        "  <thead>\n",
        "    <tr style=\"text-align: right;\">\n",
        "      <th></th>\n",
        "      <th>path</th>\n",
        "      <th>T</th>\n",
        "      <th>mL</th>\n",
        "      <th>name</th>\n",
        "      <th>date</th>\n",
        "      <th>colony_radius_mm</th>\n",
        "      <th>short_name</th>\n",
        "      <th>Length</th>\n",
        "      <th>scale</th>\n",
        "    </tr>\n",
        "  </thead>\n",
        "  <tbody>\n",
        "    <tr>\n",
        "      <th>0</th>\n",
        "      <td> /home/bryan/Documents/Research_Data/Nelson/Chi...</td>\n",
        "      <td> 21</td>\n",
        "      <td> 25</td>\n",
        "      <td> ReplicateB</td>\n",
        "      <td> 2013-10-11 00:00:00</td>\n",
        "      <td> 3.293278</td>\n",
        "      <td> 21C_25mL_ReplicateB_2013_10_11-0002</td>\n",
        "      <td> NaN</td>\n",
        "      <td> 0.007775</td>\n",
        "    </tr>\n",
        "    <tr>\n",
        "      <th>1</th>\n",
        "      <td> /home/bryan/Documents/Research_Data/Nelson/Chi...</td>\n",
        "      <td> 37</td>\n",
        "      <td> 66</td>\n",
        "      <td> ReplicateB</td>\n",
        "      <td> 2013-10-07 00:00:00</td>\n",
        "      <td> 5.330891</td>\n",
        "      <td> 37C_66mL_ReplicateB_2013_10_07-0004</td>\n",
        "      <td> NaN</td>\n",
        "      <td> 0.010827</td>\n",
        "    </tr>\n",
        "    <tr>\n",
        "      <th>2</th>\n",
        "      <td> /home/bryan/Documents/Research_Data/Nelson/Chi...</td>\n",
        "      <td> 21</td>\n",
        "      <td> 66</td>\n",
        "      <td> ReplicateA</td>\n",
        "      <td> 2013-10-04 00:00:00</td>\n",
        "      <td> 1.420536</td>\n",
        "      <td> 21C_66mL_ReplicateA_2013_10_04-0012</td>\n",
        "      <td> 222</td>\n",
        "      <td> 0.006399</td>\n",
        "    </tr>\n",
        "    <tr>\n",
        "      <th>3</th>\n",
        "      <td> /home/bryan/Documents/Research_Data/Nelson/Chi...</td>\n",
        "      <td> 21</td>\n",
        "      <td> 66</td>\n",
        "      <td> ReplicateA</td>\n",
        "      <td> 2013-10-04 00:00:00</td>\n",
        "      <td> 1.318155</td>\n",
        "      <td> 21C_66mL_ReplicateA_2013_10_04-0012</td>\n",
        "      <td> 206</td>\n",
        "      <td> 0.006399</td>\n",
        "    </tr>\n",
        "    <tr>\n",
        "      <th>4</th>\n",
        "      <td> /home/bryan/Documents/Research_Data/Nelson/Chi...</td>\n",
        "      <td> 21</td>\n",
        "      <td> 66</td>\n",
        "      <td> ReplicateA</td>\n",
        "      <td> 2013-10-04 00:00:00</td>\n",
        "      <td> 1.510119</td>\n",
        "      <td> 21C_66mL_ReplicateA_2013_10_04-0012</td>\n",
        "      <td> 236</td>\n",
        "      <td> 0.006399</td>\n",
        "    </tr>\n",
        "    <tr>\n",
        "      <th>5</th>\n",
        "      <td> /home/bryan/Documents/Research_Data/Nelson/Chi...</td>\n",
        "      <td> 21</td>\n",
        "      <td> 66</td>\n",
        "      <td> ReplicateA</td>\n",
        "      <td> 2013-10-04 00:00:00</td>\n",
        "      <td> 1.382143</td>\n",
        "      <td> 21C_66mL_ReplicateA_2013_10_04-0012</td>\n",
        "      <td> 216</td>\n",
        "      <td> 0.006399</td>\n",
        "    </tr>\n",
        "  </tbody>\n",
        "</table>\n",
        "</div>"
       ],
       "metadata": {},
       "output_type": "pyout",
       "prompt_number": 14,
       "text": [
        "                                                path   T  mL        name  \\\n",
        "0  /home/bryan/Documents/Research_Data/Nelson/Chi...  21  25  ReplicateB   \n",
        "1  /home/bryan/Documents/Research_Data/Nelson/Chi...  37  66  ReplicateB   \n",
        "2  /home/bryan/Documents/Research_Data/Nelson/Chi...  21  66  ReplicateA   \n",
        "3  /home/bryan/Documents/Research_Data/Nelson/Chi...  21  66  ReplicateA   \n",
        "4  /home/bryan/Documents/Research_Data/Nelson/Chi...  21  66  ReplicateA   \n",
        "5  /home/bryan/Documents/Research_Data/Nelson/Chi...  21  66  ReplicateA   \n",
        "\n",
        "                  date  colony_radius_mm                           short_name  \\\n",
        "0  2013-10-11 00:00:00          3.293278  21C_25mL_ReplicateB_2013_10_11-0002   \n",
        "1  2013-10-07 00:00:00          5.330891  37C_66mL_ReplicateB_2013_10_07-0004   \n",
        "2  2013-10-04 00:00:00          1.420536  21C_66mL_ReplicateA_2013_10_04-0012   \n",
        "3  2013-10-04 00:00:00          1.318155  21C_66mL_ReplicateA_2013_10_04-0012   \n",
        "4  2013-10-04 00:00:00          1.510119  21C_66mL_ReplicateA_2013_10_04-0012   \n",
        "5  2013-10-04 00:00:00          1.382143  21C_66mL_ReplicateA_2013_10_04-0012   \n",
        "\n",
        "   Length     scale  \n",
        "0     NaN  0.007775  \n",
        "1     NaN  0.010827  \n",
        "2     222  0.006399  \n",
        "3     206  0.006399  \n",
        "4     236  0.006399  \n",
        "5     216  0.006399  "
       ]
      }
     ],
     "prompt_number": 14
    },
    {
     "cell_type": "code",
     "collapsed": false,
     "input": [
      "growthData = combinedData.groupby(['path', 'date', 'T', 'mL', 'name']).agg({'colony_radius_mm' : mean})\n",
      "growthData = growthData.reset_index()\n",
      "display(growthData.head(6))"
     ],
     "language": "python",
     "metadata": {},
     "outputs": [
      {
       "html": [
        "<div style=\"max-height:1000px;max-width:1500px;overflow:auto;\">\n",
        "<table border=\"1\" class=\"dataframe\">\n",
        "  <thead>\n",
        "    <tr style=\"text-align: right;\">\n",
        "      <th></th>\n",
        "      <th>path</th>\n",
        "      <th>date</th>\n",
        "      <th>T</th>\n",
        "      <th>mL</th>\n",
        "      <th>name</th>\n",
        "      <th>colony_radius_mm</th>\n",
        "    </tr>\n",
        "  </thead>\n",
        "  <tbody>\n",
        "    <tr>\n",
        "      <th>0</th>\n",
        "      <td> /home/bryan/Documents/Research_Data/Nelson/Chi...</td>\n",
        "      <td> 2013-10-03 00:00:00</td>\n",
        "      <td> 21</td>\n",
        "      <td> 25</td>\n",
        "      <td> ReplicateB</td>\n",
        "      <td> 1.072320</td>\n",
        "    </tr>\n",
        "    <tr>\n",
        "      <th>1</th>\n",
        "      <td> /home/bryan/Documents/Research_Data/Nelson/Chi...</td>\n",
        "      <td> 2013-10-04 00:00:00</td>\n",
        "      <td> 21</td>\n",
        "      <td> 25</td>\n",
        "      <td> ReplicateB</td>\n",
        "      <td> 1.254533</td>\n",
        "    </tr>\n",
        "    <tr>\n",
        "      <th>2</th>\n",
        "      <td> /home/bryan/Documents/Research_Data/Nelson/Chi...</td>\n",
        "      <td> 2013-10-07 00:00:00</td>\n",
        "      <td> 21</td>\n",
        "      <td> 25</td>\n",
        "      <td> ReplicateB</td>\n",
        "      <td> 2.227408</td>\n",
        "    </tr>\n",
        "    <tr>\n",
        "      <th>3</th>\n",
        "      <td> /home/bryan/Documents/Research_Data/Nelson/Chi...</td>\n",
        "      <td> 2013-10-09 00:00:00</td>\n",
        "      <td> 21</td>\n",
        "      <td> 25</td>\n",
        "      <td> ReplicateB</td>\n",
        "      <td> 2.813173</td>\n",
        "    </tr>\n",
        "    <tr>\n",
        "      <th>4</th>\n",
        "      <td> /home/bryan/Documents/Research_Data/Nelson/Chi...</td>\n",
        "      <td> 2013-10-11 00:00:00</td>\n",
        "      <td> 21</td>\n",
        "      <td> 25</td>\n",
        "      <td> ReplicateB</td>\n",
        "      <td> 3.293278</td>\n",
        "    </tr>\n",
        "    <tr>\n",
        "      <th>5</th>\n",
        "      <td> /home/bryan/Documents/Research_Data/Nelson/Chi...</td>\n",
        "      <td> 2013-10-15 00:00:00</td>\n",
        "      <td> 21</td>\n",
        "      <td> 25</td>\n",
        "      <td> ReplicateB</td>\n",
        "      <td> 4.114244</td>\n",
        "    </tr>\n",
        "  </tbody>\n",
        "</table>\n",
        "</div>"
       ],
       "metadata": {},
       "output_type": "display_data",
       "text": [
        "                                                path                 date   T  \\\n",
        "0  /home/bryan/Documents/Research_Data/Nelson/Chi...  2013-10-03 00:00:00  21   \n",
        "1  /home/bryan/Documents/Research_Data/Nelson/Chi...  2013-10-04 00:00:00  21   \n",
        "2  /home/bryan/Documents/Research_Data/Nelson/Chi...  2013-10-07 00:00:00  21   \n",
        "3  /home/bryan/Documents/Research_Data/Nelson/Chi...  2013-10-09 00:00:00  21   \n",
        "4  /home/bryan/Documents/Research_Data/Nelson/Chi...  2013-10-11 00:00:00  21   \n",
        "5  /home/bryan/Documents/Research_Data/Nelson/Chi...  2013-10-15 00:00:00  21   \n",
        "\n",
        "   mL        name  colony_radius_mm  \n",
        "0  25  ReplicateB          1.072320  \n",
        "1  25  ReplicateB          1.254533  \n",
        "2  25  ReplicateB          2.227408  \n",
        "3  25  ReplicateB          2.813173  \n",
        "4  25  ReplicateB          3.293278  \n",
        "5  25  ReplicateB          4.114244  "
       ]
      }
     ],
     "prompt_number": 15
    },
    {
     "cell_type": "markdown",
     "metadata": {},
     "source": [
      "Make the date actually date-time; right now it is a string!"
     ]
    },
    {
     "cell_type": "code",
     "collapsed": false,
     "input": [
      "from dateutil import parser\n",
      "import datetime as dt"
     ],
     "language": "python",
     "metadata": {},
     "outputs": [],
     "prompt_number": 16
    },
    {
     "cell_type": "markdown",
     "metadata": {},
     "source": [
      "There seems to be some weird errors here. The bottom line is that everything else will work better if you create a new column when this is converted to string, delete the old one, and then rename the new one."
     ]
    },
    {
     "cell_type": "code",
     "collapsed": false,
     "input": [
      "growthData['date'] = growthData['date'].apply(parser.parse)"
     ],
     "language": "python",
     "metadata": {},
     "outputs": [],
     "prompt_number": 17
    },
    {
     "cell_type": "markdown",
     "metadata": {},
     "source": [
      "## Chirality Data"
     ]
    },
    {
     "cell_type": "code",
     "collapsed": false,
     "input": [
      "dataDirectory = '/home/bryan/Documents/Research_Data/Nelson/Chirality_Initial_Imaging/Analysis/Chirality_2'"
     ],
     "language": "python",
     "metadata": {},
     "outputs": [],
     "prompt_number": 18
    },
    {
     "cell_type": "code",
     "collapsed": false,
     "input": [
      "folders = glob.glob(dataDirectory + '/*/')\n",
      "csvPaths = [f + '/chiralityData.csv' for f in folders] \n",
      "display(csvPaths)"
     ],
     "language": "python",
     "metadata": {},
     "outputs": [
      {
       "metadata": {},
       "output_type": "display_data",
       "text": [
        "['/home/bryan/Documents/Research_Data/Nelson/Chirality_Initial_Imaging/Analysis/Chirality_2/21_66_ReplicateA_left//chiralityData.csv',\n",
        " '/home/bryan/Documents/Research_Data/Nelson/Chirality_Initial_Imaging/Analysis/Chirality_2/37_25_ReplicateA//chiralityData.csv',\n",
        " '/home/bryan/Documents/Research_Data/Nelson/Chirality_Initial_Imaging/Analysis/Chirality_2/21_25_ReplicateB//chiralityData.csv',\n",
        " '/home/bryan/Documents/Research_Data/Nelson/Chirality_Initial_Imaging/Analysis/Chirality_2/21_56_ReplicateB//chiralityData.csv',\n",
        " '/home/bryan/Documents/Research_Data/Nelson/Chirality_Initial_Imaging/Analysis/Chirality_2/30_50_ReplicateB//chiralityData.csv',\n",
        " '/home/bryan/Documents/Research_Data/Nelson/Chirality_Initial_Imaging/Analysis/Chirality_2/21_50_ReplicateA//chiralityData.csv',\n",
        " '/home/bryan/Documents/Research_Data/Nelson/Chirality_Initial_Imaging/Analysis/Chirality_2/30_25_ReplicateB//chiralityData.csv',\n",
        " '/home/bryan/Documents/Research_Data/Nelson/Chirality_Initial_Imaging/Analysis/Chirality_2/37_50_ReplicateB//chiralityData.csv',\n",
        " '/home/bryan/Documents/Research_Data/Nelson/Chirality_Initial_Imaging/Analysis/Chirality_2/37_66_ReplicateB//chiralityData.csv']"
       ]
      }
     ],
     "prompt_number": 19
    },
    {
     "cell_type": "code",
     "collapsed": false,
     "input": [
      "import pandas as pd\n",
      "\n",
      "allData = pd.DataFrame()\n",
      "for path in csvPaths:\n",
      "    allData = allData.append(pd.read_csv(path))\n",
      "\n",
      "allData.reset_index()\n",
      "\n",
      "allData = allData.rename(columns = {'Unnamed: 0' : 'radius_interval'})"
     ],
     "language": "python",
     "metadata": {},
     "outputs": [],
     "prompt_number": 20
    },
    {
     "cell_type": "code",
     "collapsed": false,
     "input": [
      "allData['rotated_righthanded'] = -1.*allData['rotated']"
     ],
     "language": "python",
     "metadata": {},
     "outputs": [],
     "prompt_number": 21
    },
    {
     "cell_type": "code",
     "collapsed": false,
     "input": [
      "path_label_groups = allData.groupby(['path', 'label'])\n",
      "minRadii = path_label_groups.agg({'r_mm' : min})\n",
      "minRadii = minRadii.add_suffix('_min')\n",
      "display(minRadii.head(5))"
     ],
     "language": "python",
     "metadata": {},
     "outputs": [
      {
       "html": [
        "<div style=\"max-height:1000px;max-width:1500px;overflow:auto;\">\n",
        "<table border=\"1\" class=\"dataframe\">\n",
        "  <thead>\n",
        "    <tr style=\"text-align: right;\">\n",
        "      <th></th>\n",
        "      <th></th>\n",
        "      <th>r_mm_min</th>\n",
        "    </tr>\n",
        "    <tr>\n",
        "      <th>path</th>\n",
        "      <th>label</th>\n",
        "      <th></th>\n",
        "    </tr>\n",
        "  </thead>\n",
        "  <tbody>\n",
        "    <tr>\n",
        "      <th rowspan=\"5\" valign=\"top\">/home/bryan/Documents/Research_Data/Nelson/Chirality_Initial_Imaging/6_ToAnalyze_Clean/21C_25mL_ReplicateB_2013_10_29-0003.tif</th>\n",
        "      <th>1</th>\n",
        "      <td> 2.272560</td>\n",
        "    </tr>\n",
        "    <tr>\n",
        "      <th>2</th>\n",
        "      <td> 2.274830</td>\n",
        "    </tr>\n",
        "    <tr>\n",
        "      <th>3</th>\n",
        "      <td> 2.276843</td>\n",
        "    </tr>\n",
        "    <tr>\n",
        "      <th>4</th>\n",
        "      <td> 2.266615</td>\n",
        "    </tr>\n",
        "    <tr>\n",
        "      <th>5</th>\n",
        "      <td> 2.266022</td>\n",
        "    </tr>\n",
        "  </tbody>\n",
        "</table>\n",
        "</div>"
       ],
       "metadata": {},
       "output_type": "display_data",
       "text": [
        "                                                                                                                                      r_mm_min\n",
        "path                                                                                                                           label          \n",
        "/home/bryan/Documents/Research_Data/Nelson/Chirality_Initial_Imaging/6_ToAnalyze_Clean/21C_25mL_ReplicateB_2013_10_29-0003.tif 1      2.272560\n",
        "                                                                                                                               2      2.274830\n",
        "                                                                                                                               3      2.276843\n",
        "                                                                                                                               4      2.266615\n",
        "                                                                                                                               5      2.266022"
       ]
      }
     ],
     "prompt_number": 22
    },
    {
     "cell_type": "code",
     "collapsed": false,
     "input": [
      "mr_reset = minRadii.reset_index()\n",
      "allData = pd.merge(allData, mr_reset, on=['path', 'label'])\n",
      "print allData"
     ],
     "language": "python",
     "metadata": {},
     "outputs": [
      {
       "output_type": "stream",
       "stream": "stdout",
       "text": [
        "<class 'pandas.core.frame.DataFrame'>\n",
        "Int64Index: 44119 entries, 0 to 44118\n",
        "Data columns (total 21 columns):\n",
        "T                      44119  non-null values\n",
        "radius_interval        44119  non-null values\n",
        "colony_radius_mm       44119  non-null values\n",
        "date                   44119  non-null values\n",
        "dx                     44119  non-null values\n",
        "dx_mm                  44119  non-null values\n",
        "dy                     44119  non-null values\n",
        "dy_mm                  44119  non-null values\n",
        "label                  44119  non-null values\n",
        "mL                     44119  non-null values\n",
        "mm_per_pixel           44119  non-null values\n",
        "name                   44119  non-null values\n",
        "path                   44119  non-null values\n",
        "r                      44119  non-null values\n",
        "r_mm                   44119  non-null values\n",
        "rotated                44119  non-null values\n",
        "theta                  44119  non-null values\n",
        "x                      44119  non-null values\n",
        "y                      44119  non-null values\n",
        "rotated_righthanded    44119  non-null values\n",
        "r_mm_min               44119  non-null values\n",
        "dtypes: float64(14), int64(3), object(4)\n"
       ]
      }
     ],
     "prompt_number": 23
    },
    {
     "cell_type": "code",
     "collapsed": false,
     "input": [
      "allData['log_r_div_ri'] = np.log(allData['r_mm']/allData['r_mm_min'])\n",
      "allData['1_div_ri_minus_1_r'] = (1/allData['r_mm_min']) - (1/allData['r_mm']) \n",
      "display(allData)"
     ],
     "language": "python",
     "metadata": {},
     "outputs": [
      {
       "html": [
        "<pre>\n",
        "&lt;class 'pandas.core.frame.DataFrame'&gt;\n",
        "Int64Index: 44119 entries, 0 to 44118\n",
        "Data columns (total 23 columns):\n",
        "T                      44119  non-null values\n",
        "radius_interval        44119  non-null values\n",
        "colony_radius_mm       44119  non-null values\n",
        "date                   44119  non-null values\n",
        "dx                     44119  non-null values\n",
        "dx_mm                  44119  non-null values\n",
        "dy                     44119  non-null values\n",
        "dy_mm                  44119  non-null values\n",
        "label                  44119  non-null values\n",
        "mL                     44119  non-null values\n",
        "mm_per_pixel           44119  non-null values\n",
        "name                   44119  non-null values\n",
        "path                   44119  non-null values\n",
        "r                      44119  non-null values\n",
        "r_mm                   44119  non-null values\n",
        "rotated                44119  non-null values\n",
        "theta                  44119  non-null values\n",
        "x                      44119  non-null values\n",
        "y                      44119  non-null values\n",
        "rotated_righthanded    44119  non-null values\n",
        "r_mm_min               44119  non-null values\n",
        "log_r_div_ri           44119  non-null values\n",
        "1_div_ri_minus_1_r     44119  non-null values\n",
        "dtypes: float64(16), int64(3), object(4)\n",
        "</pre>"
       ],
       "metadata": {},
       "output_type": "display_data",
       "text": [
        "<class 'pandas.core.frame.DataFrame'>\n",
        "Int64Index: 44119 entries, 0 to 44118\n",
        "Data columns (total 23 columns):\n",
        "T                      44119  non-null values\n",
        "radius_interval        44119  non-null values\n",
        "colony_radius_mm       44119  non-null values\n",
        "date                   44119  non-null values\n",
        "dx                     44119  non-null values\n",
        "dx_mm                  44119  non-null values\n",
        "dy                     44119  non-null values\n",
        "dy_mm                  44119  non-null values\n",
        "label                  44119  non-null values\n",
        "mL                     44119  non-null values\n",
        "mm_per_pixel           44119  non-null values\n",
        "name                   44119  non-null values\n",
        "path                   44119  non-null values\n",
        "r                      44119  non-null values\n",
        "r_mm                   44119  non-null values\n",
        "rotated                44119  non-null values\n",
        "theta                  44119  non-null values\n",
        "x                      44119  non-null values\n",
        "y                      44119  non-null values\n",
        "rotated_righthanded    44119  non-null values\n",
        "r_mm_min               44119  non-null values\n",
        "log_r_div_ri           44119  non-null values\n",
        "1_div_ri_minus_1_r     44119  non-null values\n",
        "dtypes: float64(16), int64(3), object(4)"
       ]
      }
     ],
     "prompt_number": 24
    },
    {
     "cell_type": "markdown",
     "metadata": {},
     "source": [
      "## Combining the Data"
     ]
    },
    {
     "cell_type": "code",
     "collapsed": false,
     "input": [
      "print allData"
     ],
     "language": "python",
     "metadata": {},
     "outputs": [
      {
       "output_type": "stream",
       "stream": "stdout",
       "text": [
        "<class 'pandas.core.frame.DataFrame'>\n",
        "Int64Index: 44119 entries, 0 to 44118\n",
        "Data columns (total 23 columns):\n",
        "T                      44119  non-null values\n",
        "radius_interval        44119  non-null values\n",
        "colony_radius_mm       44119  non-null values\n",
        "date                   44119  non-null values\n",
        "dx                     44119  non-null values\n",
        "dx_mm                  44119  non-null values\n",
        "dy                     44119  non-null values\n",
        "dy_mm                  44119  non-null values\n",
        "label                  44119  non-null values\n",
        "mL                     44119  non-null values\n",
        "mm_per_pixel           44119  non-null values\n",
        "name                   44119  non-null values\n",
        "path                   44119  non-null values\n",
        "r                      44119  non-null values\n",
        "r_mm                   44119  non-null values\n",
        "rotated                44119  non-null values\n",
        "theta                  44119  non-null values\n",
        "x                      44119  non-null values\n",
        "y                      44119  non-null values\n",
        "rotated_righthanded    44119  non-null values\n",
        "r_mm_min               44119  non-null values\n",
        "log_r_div_ri           44119  non-null values\n",
        "1_div_ri_minus_1_r     44119  non-null values\n",
        "dtypes: float64(16), int64(3), object(4)\n"
       ]
      }
     ],
     "prompt_number": 25
    },
    {
     "cell_type": "code",
     "collapsed": false,
     "input": [
      "print growthData"
     ],
     "language": "python",
     "metadata": {},
     "outputs": [
      {
       "output_type": "stream",
       "stream": "stdout",
       "text": [
        "<class 'pandas.core.frame.DataFrame'>\n",
        "Int64Index: 92 entries, 0 to 91\n",
        "Data columns (total 6 columns):\n",
        "path                92  non-null values\n",
        "date                92  non-null values\n",
        "T                   92  non-null values\n",
        "mL                  92  non-null values\n",
        "name                92  non-null values\n",
        "colony_radius_mm    92  non-null values\n",
        "dtypes: datetime64[ns](1), float64(1), int64(2), object(2)\n"
       ]
      }
     ],
     "prompt_number": 26
    },
    {
     "cell_type": "markdown",
     "metadata": {},
     "source": [
      "We want to merge on path, replace date and colony_radius_mm. Let's just drop the columns that we know are not quite accurate."
     ]
    },
    {
     "cell_type": "code",
     "collapsed": false,
     "input": [
      "edited_cd = allData.copy()\n",
      "edited_gd = growthData.copy()"
     ],
     "language": "python",
     "metadata": {},
     "outputs": [],
     "prompt_number": 27
    },
    {
     "cell_type": "code",
     "collapsed": false,
     "input": [
      "edited_cd = edited_cd.drop(['date', 'colony_radius_mm'], 1)"
     ],
     "language": "python",
     "metadata": {},
     "outputs": [],
     "prompt_number": 28
    },
    {
     "cell_type": "code",
     "collapsed": false,
     "input": [
      "print edited_cd"
     ],
     "language": "python",
     "metadata": {},
     "outputs": [
      {
       "output_type": "stream",
       "stream": "stdout",
       "text": [
        "<class 'pandas.core.frame.DataFrame'>\n",
        "Int64Index: 44119 entries, 0 to 44118\n",
        "Data columns (total 21 columns):\n",
        "T                      44119  non-null values\n",
        "radius_interval        44119  non-null values\n",
        "dx                     44119  non-null values\n",
        "dx_mm                  44119  non-null values\n",
        "dy                     44119  non-null values\n",
        "dy_mm                  44119  non-null values\n",
        "label                  44119  non-null values\n",
        "mL                     44119  non-null values\n",
        "mm_per_pixel           44119  non-null values\n",
        "name                   44119  non-null values\n",
        "path                   44119  non-null values\n",
        "r                      44119  non-null values\n",
        "r_mm                   44119  non-null values\n",
        "rotated                44119  non-null values\n",
        "theta                  44119  non-null values\n",
        "x                      44119  non-null values\n",
        "y                      44119  non-null values\n",
        "rotated_righthanded    44119  non-null values\n",
        "r_mm_min               44119  non-null values\n",
        "log_r_div_ri           44119  non-null values\n",
        "1_div_ri_minus_1_r     44119  non-null values\n",
        "dtypes: float64(15), int64(3), object(3)\n"
       ]
      }
     ],
     "prompt_number": 29
    },
    {
     "cell_type": "code",
     "collapsed": false,
     "input": [
      "edited_gd = edited_gd.drop(['T', 'mL', 'name'], 1)"
     ],
     "language": "python",
     "metadata": {},
     "outputs": [],
     "prompt_number": 30
    },
    {
     "cell_type": "code",
     "collapsed": false,
     "input": [
      "print edited_gd"
     ],
     "language": "python",
     "metadata": {},
     "outputs": [
      {
       "output_type": "stream",
       "stream": "stdout",
       "text": [
        "<class 'pandas.core.frame.DataFrame'>\n",
        "Int64Index: 92 entries, 0 to 91\n",
        "Data columns (total 3 columns):\n",
        "path                92  non-null values\n",
        "date                92  non-null values\n",
        "colony_radius_mm    92  non-null values\n",
        "dtypes: datetime64[ns](1), float64(1), object(1)\n"
       ]
      }
     ],
     "prompt_number": 31
    },
    {
     "cell_type": "code",
     "collapsed": false,
     "input": [
      "combinedData = pd.merge(edited_cd, edited_gd, how='outer', on='path')\n",
      "print combinedData"
     ],
     "language": "python",
     "metadata": {},
     "outputs": [
      {
       "output_type": "stream",
       "stream": "stdout",
       "text": [
        "<class 'pandas.core.frame.DataFrame'>\n",
        "Int64Index: 44202 entries, 0 to 44201\n",
        "Data columns (total 23 columns):\n",
        "T                      44119  non-null values\n",
        "radius_interval        44119  non-null values\n",
        "dx                     44119  non-null values\n",
        "dx_mm                  44119  non-null values\n",
        "dy                     44119  non-null values\n",
        "dy_mm                  44119  non-null values\n",
        "label                  44119  non-null values\n",
        "mL                     44119  non-null values\n",
        "mm_per_pixel           44119  non-null values\n",
        "name                   44119  non-null values\n",
        "path                   44202  non-null values\n",
        "r                      44119  non-null values\n",
        "r_mm                   44119  non-null values\n",
        "rotated                44119  non-null values\n",
        "theta                  44119  non-null values\n",
        "x                      44119  non-null values\n",
        "y                      44119  non-null values\n",
        "rotated_righthanded    44119  non-null values\n",
        "r_mm_min               44119  non-null values\n",
        "log_r_div_ri           44119  non-null values\n",
        "1_div_ri_minus_1_r     44119  non-null values\n",
        "date                   44202  non-null values\n",
        "colony_radius_mm       44202  non-null values\n",
        "dtypes: datetime64[ns](1), float64(19), object(3)\n"
       ]
      }
     ],
     "prompt_number": 32
    },
    {
     "cell_type": "markdown",
     "metadata": {},
     "source": [
      "Ok, we are all set. Everything worked well."
     ]
    },
    {
     "cell_type": "markdown",
     "metadata": {},
     "source": [
      "# Fitting Model with PyMC"
     ]
    },
    {
     "cell_type": "markdown",
     "metadata": {},
     "source": [
      "## Converting time to delta T"
     ]
    },
    {
     "cell_type": "markdown",
     "metadata": {},
     "source": [
      "Let us convert the time into seconds."
     ]
    },
    {
     "cell_type": "code",
     "collapsed": false,
     "input": [
      "import time"
     ],
     "language": "python",
     "metadata": {},
     "outputs": [],
     "prompt_number": 33
    },
    {
     "cell_type": "code",
     "collapsed": false,
     "input": [
      "growthData['time_s'] = growthData['date'].apply(lambda x: time.mktime(x.timetuple()))"
     ],
     "language": "python",
     "metadata": {},
     "outputs": [],
     "prompt_number": 34
    },
    {
     "cell_type": "code",
     "collapsed": false,
     "input": [
      "plate_groups = growthData.groupby(['T', 'mL', 'name'])\n",
      "timeDelta = plate_groups['time_s'].transform(lambda x: x - x.min())\n",
      "timeDelta.name = 'timeDelta'\n",
      "print timeDelta.head(15)\n",
      "\n",
      "combinedData = growthData.copy()\n",
      "combinedData['timeDelta'] = timeDelta"
     ],
     "language": "python",
     "metadata": {},
     "outputs": [
      {
       "output_type": "stream",
       "stream": "stdout",
       "text": [
        "0           0\n",
        "1       86400\n",
        "2      345600\n",
        "3      518400\n",
        "4      691200\n",
        "5     1036800\n",
        "6     1555200\n",
        "7     2246400\n",
        "8           0\n",
        "9       86400\n",
        "10     345600\n",
        "11     518400\n",
        "12     691200\n",
        "13    1036800\n",
        "14    1555200\n",
        "Name: timeDelta, dtype: float64\n"
       ]
      }
     ],
     "prompt_number": 35
    },
    {
     "cell_type": "code",
     "collapsed": false,
     "input": [
      "combinedData.head(5)"
     ],
     "language": "python",
     "metadata": {},
     "outputs": [
      {
       "html": [
        "<div style=\"max-height:1000px;max-width:1500px;overflow:auto;\">\n",
        "<table border=\"1\" class=\"dataframe\">\n",
        "  <thead>\n",
        "    <tr style=\"text-align: right;\">\n",
        "      <th></th>\n",
        "      <th>path</th>\n",
        "      <th>date</th>\n",
        "      <th>T</th>\n",
        "      <th>mL</th>\n",
        "      <th>name</th>\n",
        "      <th>colony_radius_mm</th>\n",
        "      <th>time_s</th>\n",
        "      <th>timeDelta</th>\n",
        "    </tr>\n",
        "  </thead>\n",
        "  <tbody>\n",
        "    <tr>\n",
        "      <th>0</th>\n",
        "      <td> /home/bryan/Documents/Research_Data/Nelson/Chi...</td>\n",
        "      <td>2013-10-03 00:00:00</td>\n",
        "      <td> 21</td>\n",
        "      <td> 25</td>\n",
        "      <td> ReplicateB</td>\n",
        "      <td> 1.072320</td>\n",
        "      <td> 1380772800</td>\n",
        "      <td>      0</td>\n",
        "    </tr>\n",
        "    <tr>\n",
        "      <th>1</th>\n",
        "      <td> /home/bryan/Documents/Research_Data/Nelson/Chi...</td>\n",
        "      <td>2013-10-04 00:00:00</td>\n",
        "      <td> 21</td>\n",
        "      <td> 25</td>\n",
        "      <td> ReplicateB</td>\n",
        "      <td> 1.254533</td>\n",
        "      <td> 1380859200</td>\n",
        "      <td>  86400</td>\n",
        "    </tr>\n",
        "    <tr>\n",
        "      <th>2</th>\n",
        "      <td> /home/bryan/Documents/Research_Data/Nelson/Chi...</td>\n",
        "      <td>2013-10-07 00:00:00</td>\n",
        "      <td> 21</td>\n",
        "      <td> 25</td>\n",
        "      <td> ReplicateB</td>\n",
        "      <td> 2.227408</td>\n",
        "      <td> 1381118400</td>\n",
        "      <td> 345600</td>\n",
        "    </tr>\n",
        "    <tr>\n",
        "      <th>3</th>\n",
        "      <td> /home/bryan/Documents/Research_Data/Nelson/Chi...</td>\n",
        "      <td>2013-10-09 00:00:00</td>\n",
        "      <td> 21</td>\n",
        "      <td> 25</td>\n",
        "      <td> ReplicateB</td>\n",
        "      <td> 2.813173</td>\n",
        "      <td> 1381291200</td>\n",
        "      <td> 518400</td>\n",
        "    </tr>\n",
        "    <tr>\n",
        "      <th>4</th>\n",
        "      <td> /home/bryan/Documents/Research_Data/Nelson/Chi...</td>\n",
        "      <td>2013-10-11 00:00:00</td>\n",
        "      <td> 21</td>\n",
        "      <td> 25</td>\n",
        "      <td> ReplicateB</td>\n",
        "      <td> 3.293278</td>\n",
        "      <td> 1381464000</td>\n",
        "      <td> 691200</td>\n",
        "    </tr>\n",
        "  </tbody>\n",
        "</table>\n",
        "</div>"
       ],
       "metadata": {},
       "output_type": "pyout",
       "prompt_number": 37,
       "text": [
        "                                                path                date   T  \\\n",
        "0  /home/bryan/Documents/Research_Data/Nelson/Chi... 2013-10-03 00:00:00  21   \n",
        "1  /home/bryan/Documents/Research_Data/Nelson/Chi... 2013-10-04 00:00:00  21   \n",
        "2  /home/bryan/Documents/Research_Data/Nelson/Chi... 2013-10-07 00:00:00  21   \n",
        "3  /home/bryan/Documents/Research_Data/Nelson/Chi... 2013-10-09 00:00:00  21   \n",
        "4  /home/bryan/Documents/Research_Data/Nelson/Chi... 2013-10-11 00:00:00  21   \n",
        "\n",
        "   mL        name  colony_radius_mm      time_s  timeDelta  \n",
        "0  25  ReplicateB          1.072320  1380772800          0  \n",
        "1  25  ReplicateB          1.254533  1380859200      86400  \n",
        "2  25  ReplicateB          2.227408  1381118400     345600  \n",
        "3  25  ReplicateB          2.813173  1381291200     518400  \n",
        "4  25  ReplicateB          3.293278  1381464000     691200  "
       ]
      }
     ],
     "prompt_number": 37
    },
    {
     "cell_type": "markdown",
     "metadata": {},
     "source": [
      "Good. Finally! That works. lol. We now have the deltaT in seconds."
     ]
    },
    {
     "cell_type": "markdown",
     "metadata": {},
     "source": [
      "## Setting up System"
     ]
    },
    {
     "cell_type": "code",
     "collapsed": false,
     "input": [
      "import pymc"
     ],
     "language": "python",
     "metadata": {},
     "outputs": [],
     "prompt_number": 38
    },
    {
     "cell_type": "code",
     "collapsed": false,
     "input": [
      "def bin_chirality(currentChiralityData):\n",
      "    min_x = currentChiralityData['log_r_div_ri'].min() - 10**-6\n",
      "    max_x = currentChiralityData['log_r_div_ri'].max() + 10**-6\n",
      "    numBins = 75\n",
      "\n",
      "    print 'numBins for chirality:' , numBins\n",
      "    print 'Min log(r/ri):', min_x \n",
      "    print 'Max log(r/ri):', max_x \n",
      "\n",
      "    bins, binsize = np.linspace(min_x, max_x, numBins, retstep=True)\n",
      "\n",
      "    print 'Dimensionless Binsize for log(r/ri):' , binsize\n",
      "\n",
      "    group_T = currentChiralityData.groupby([pd.cut(currentChiralityData['log_r_div_ri'], bins), 'T'])\n",
      "    \n",
      "    return group_T\n",
      "\n",
      "def plot_av_chirality(av_currentChiralityData):\n",
      "    x = av_currentChiralityData['log_r_div_ri', 'mean'].values\n",
      "    y = av_currentChiralityData['rotated_righthanded', 'mean'].values\n",
      "    #xerr=binsize\n",
      "    yerr = av_currentChiralityData['rotated_righthanded', 'std'].values\n",
      "    \n",
      "    plt.figure()\n",
      "    plt.plot(x , y, '+-')\n",
      "    plt.fill_between(x, y - yerr, y + yerr, alpha=0.3, antialiased=True)\n",
      "    plt.xlabel('Average $\\ln{(r/r_i)}$')\n",
      "    plt.ylabel('Average d$\\\\theta$')\n",
      "    plt.title('Average d$\\\\theta$ vs. Normalized Radius')\n",
      "\n",
      "def bin_diffusion(currentChiralityData):\n",
      "    min_x = currentChiralityData['1_div_ri_minus_1_r'].min() - 10**-6\n",
      "    max_x = currentChiralityData['1_div_ri_minus_1_r'].max() + 10**-6\n",
      "    numBins = 75\n",
      "\n",
      "    print 'Numbins for diffusion:' , numBins\n",
      "    print 'Min 1/ri - 1/r:', min_x \n",
      "    print 'Max 1/ri - 1/r:', max_x \n",
      "    \n",
      "    bins, binsize = np.linspace(min_x, max_x, numBins, retstep=True)\n",
      "    \n",
      "    print 'Dimensionless Binsize for 1/ri - 1/r:' , binsize\n",
      "    \n",
      "    group_T = currentChiralityData.groupby([pd.cut(currentChiralityData['1_div_ri_minus_1_r'], bins), 'T'])\n",
      "    \n",
      "    return group_T\n",
      "\n",
      "def plot_diffusion(av_currentDiffusionData, av_currentChiralityData):\n",
      "    x = av_currentDiffusionData['1_div_ri_minus_1_r', 'mean'].values\n",
      "    y = av_currentChiralityData['rotated_righthanded', 'var'].values\n",
      "    #xerr = binsize\n",
      "    #yerr = av_currentChiralityData['rotated_righthanded', 'std'].values\n",
      "        \n",
      "    plt.figure()\n",
      "    plt.plot(x , y, '+-')\n",
      "    \n",
      "    plt.xlabel('Average $1/r_i - 1/r$')\n",
      "    plt.ylabel('Var(d$\\\\theta)$')\n",
      "    plt.title('Variance of d$\\\\theta$ vs. Normalized Radius')\n",
      "\n",
      "def setup_analysis(temp):\n",
      "    \n",
      "    print 'Setting up the simulation for T=' , temp , '...'\n",
      "    \n",
      "    # Get the desired data\n",
      "    plate_groups = combinedData.groupby(['T'])\n",
      "    current_group = plate_groups.get_group(temp)\n",
      "    \n",
      "    currentChiralityData = allData[(allData['T'] == temp)]\n",
      "    print\n",
      "    binnedChiralityData = bin_chirality(currentChiralityData)\n",
      "    \n",
      "    av_currentChiralityData = binnedChiralityData.agg([mean, std, var])\n",
      "    plot_av_chirality(av_currentChiralityData)\n",
      "    \n",
      "    print\n",
      "    binnedDiffusion = bin_diffusion(currentChiralityData)\n",
      "    av_currentDiffusionData = binnedDiffusion.agg([mean, std, var])\n",
      "    \n",
      "    plot_diffusion(av_currentDiffusionData, av_currentChiralityData)\n",
      "    \n",
      "    print\n",
      "    print 'Done setting up!'"
     ],
     "language": "python",
     "metadata": {},
     "outputs": [],
     "prompt_number": 45
    },
    {
     "cell_type": "code",
     "collapsed": false,
     "input": [
      "setup_analysis(21)"
     ],
     "language": "python",
     "metadata": {},
     "outputs": [
      {
       "output_type": "stream",
       "stream": "stdout",
       "text": [
        "Setting up the simulation for T= 21 ...\n",
        "\n",
        "numBins for chirality: 75\n",
        "Min log(r/ri): -1e-06\n",
        "Max log(r/ri): 0.812636972995\n",
        "Dimensionless Binsize for log(r/ri): 0.0109815942297\n",
        "\n"
       ]
      },
      {
       "output_type": "stream",
       "stream": "stdout",
       "text": [
        "Numbins for diffusion: 75\n",
        "Min 1/ri - 1/r: -1e-06\n",
        "Max 1/ri - 1/r: 0.249954623211\n",
        "Dimensionless Binsize for 1/ri - 1/r: 0.00337777869205\n",
        "\n"
       ]
      },
      {
       "output_type": "stream",
       "stream": "stdout",
       "text": [
        "Done setting up!\n"
       ]
      },
      {
       "metadata": {},
       "output_type": "display_data",
       "png": "[encoded data removed]",
       "text": [
        "<matplotlib.figure.Figure at 0x50306d0>"
       ]
      },
      {
       "metadata": {},
       "output_type": "display_data",
       "png": "[encoded data removed]",
       "text": [
        "<matplotlib.figure.Figure at 0x61f9a50>"
       ]
      }
     ],
     "prompt_number": 49
    },
    {
     "cell_type": "markdown",
     "metadata": {},
     "source": [
      "### Velocity Piece"
     ]
    },
    {
     "cell_type": "markdown",
     "metadata": {},
     "source": [
      "We make the slight change now to figure out how many days the growth is approximately linear."
     ]
    },
    {
     "cell_type": "code",
     "collapsed": false,
     "input": [
      "# Priors\n",
      "#sigma_varp = pymc.HalfNormal('R_av_sigma', tau=1./(0.5)**2, value=0.1)\n",
      "ro = pymc.HalfNormal('ro', tau=1./(1.5)**2, value=1.0)\n",
      "vpar = pymc.Uniform('vpar', lower=0, upper=1, value=10**-6)\n",
      "t = current_group['timeDelta'].values\n",
      "\n",
      "@pymc.deterministic\n",
      "def modeled_R(ro=ro, vpar=vpar, t=t):\n",
      "    return ro + vpar*t\n",
      "\n",
      "R = pymc.Normal('R', mu = modeled_R, tau=1.0/(0.05), value=current_group['colony_radius_mm'], observed=True)"
     ],
     "language": "python",
     "metadata": {},
     "outputs": [],
     "prompt_number": 75
    },
    {
     "cell_type": "markdown",
     "metadata": {},
     "source": [
      "### Chirality Piece"
     ]
    },
    {
     "cell_type": "code",
     "collapsed": false,
     "input": [
      "log_r_ri = av_currentChiralityData['log_r_div_ri', 'mean']\n",
      "\n",
      "vperp = pymc.Normal('vperp', mu=0, tau=1./(10.**-3.)**2, value=0)\n",
      "\n",
      "@pymc.deterministic\n",
      "def modeled_dtheta(vperp=vperp, vpar=vpar, log_r_ri = log_r_ri):\n",
      "    return (vperp/vpar) * log_r_ri\n",
      "\n",
      "dthetaData = av_currentChiralityData['rotated_righthanded', 'mean']\n",
      "dthetaStd = av_currentChiralityData['rotated_righthanded', 'std']\n",
      "dthetaTau = 1.0/(dthetaStd)**2\n",
      "dtheta = pymc.Normal('dtheta', mu = modeled_dtheta, tau=dthetaTau, value=dthetaData, observed=True)"
     ],
     "language": "python",
     "metadata": {},
     "outputs": [],
     "prompt_number": 77
    },
    {
     "cell_type": "markdown",
     "metadata": {},
     "source": [
      "### Diffusion Piece"
     ]
    },
    {
     "cell_type": "code",
     "collapsed": false,
     "input": [
      "dif_xaxis = av_currentDiffusionData['1_div_ri_minus_1_r', 'mean'].values\n",
      "dtheta_variance = av_currentDiffusionData['rotated_righthanded', 'mean'].values\n",
      "\n",
      "ds = pymc.Uniform('ds', lower=0, upper=10.**-4, value=10.**-6)\n",
      "\n",
      "@pymc.deterministic\n",
      "def modeled_variance(vpar=vpar, ds=ds, dif_xaxis=dif_xaxis):\n",
      "    return (2*ds/vpar)*dif_xaxis\n",
      "\n",
      "var_sigma = pymc.Uniform('sigma_dtheta_variance', lower=0, upper=1)\n",
      "\n",
      "var_dtheta = pymc.Normal('var_dtheta', mu=modeled_variance, tau=1./var_sigma**2, \\\n",
      "                         value=dtheta_variance, observed=True)"
     ],
     "language": "python",
     "metadata": {},
     "outputs": [],
     "prompt_number": 78
    },
    {
     "cell_type": "code",
     "collapsed": false,
     "input": [
      "M = pymc.MCMC([ro, vpar, t, R, \\\n",
      "               log_r_ri, vperp,dtheta, \\\n",
      "               dif_xaxis, ds, var_sigma, var_dtheta])\n",
      "M.sample(100000, burn=10000, thin=10)"
     ],
     "language": "python",
     "metadata": {},
     "outputs": [
      {
       "output_type": "stream",
       "stream": "stdout",
       "text": [
        "\r",
        " [                  1%                  ] 1516 of 100000 complete in 0.5 sec"
       ]
      },
      {
       "output_type": "stream",
       "stream": "stdout",
       "text": [
        "\r",
        " [-                 2%                  ] 2911 of 100000 complete in 1.0 sec"
       ]
      },
      {
       "output_type": "stream",
       "stream": "stdout",
       "text": [
        "\r",
        " [-                 4%                  ] 4427 of 100000 complete in 1.5 sec"
       ]
      },
      {
       "output_type": "stream",
       "stream": "stdout",
       "text": [
        "\r",
        " [--                5%                  ] 5971 of 100000 complete in 2.0 sec"
       ]
      },
      {
       "output_type": "stream",
       "stream": "stdout",
       "text": [
        "\r",
        " [--                7%                  ] 7549 of 100000 complete in 2.5 sec"
       ]
      },
      {
       "output_type": "stream",
       "stream": "stdout",
       "text": [
        "\r",
        " [---               9%                  ] 9095 of 100000 complete in 3.0 sec"
       ]
      },
      {
       "output_type": "stream",
       "stream": "stdout",
       "text": [
        "\r",
        " [----             10%                  ] 10531 of 100000 complete in 3.5 sec"
       ]
      },
      {
       "output_type": "stream",
       "stream": "stdout",
       "text": [
        "\r",
        " [----             12%                  ] 12014 of 100000 complete in 4.0 sec"
       ]
      },
      {
       "output_type": "stream",
       "stream": "stdout",
       "text": [
        "\r",
        " [-----            13%                  ] 13530 of 100000 complete in 4.5 sec"
       ]
      },
      {
       "output_type": "stream",
       "stream": "stdout",
       "text": [
        "\r",
        " [-----            15%                  ] 15029 of 100000 complete in 5.0 sec"
       ]
      },
      {
       "output_type": "stream",
       "stream": "stdout",
       "text": [
        "\r",
        " [------           16%                  ] 16455 of 100000 complete in 5.5 sec"
       ]
      },
      {
       "output_type": "stream",
       "stream": "stdout",
       "text": [
        "\r",
        " [------           17%                  ] 17968 of 100000 complete in 6.0 sec"
       ]
      },
      {
       "output_type": "stream",
       "stream": "stdout",
       "text": [
        "\r",
        " [-------          19%                  ] 19488 of 100000 complete in 6.5 sec"
       ]
      },
      {
       "output_type": "stream",
       "stream": "stdout",
       "text": [
        "\r",
        " [-------          21%                  ] 21007 of 100000 complete in 7.0 sec"
       ]
      },
      {
       "output_type": "stream",
       "stream": "stdout",
       "text": [
        "\r",
        " [--------         22%                  ] 22526 of 100000 complete in 7.5 sec"
       ]
      },
      {
       "output_type": "stream",
       "stream": "stdout",
       "text": [
        "\r",
        " [---------        24%                  ] 24090 of 100000 complete in 8.0 sec"
       ]
      },
      {
       "output_type": "stream",
       "stream": "stdout",
       "text": [
        "\r",
        " [---------        25%                  ] 25592 of 100000 complete in 8.5 sec"
       ]
      },
      {
       "output_type": "stream",
       "stream": "stdout",
       "text": [
        "\r",
        " [----------       27%                  ] 27112 of 100000 complete in 9.0 sec"
       ]
      },
      {
       "output_type": "stream",
       "stream": "stdout",
       "text": [
        "\r",
        " [----------       28%                  ] 28618 of 100000 complete in 9.5 sec"
       ]
      },
      {
       "output_type": "stream",
       "stream": "stdout",
       "text": [
        "\r",
        " [-----------      30%                  ] 30126 of 100000 complete in 10.0 sec"
       ]
      },
      {
       "output_type": "stream",
       "stream": "stdout",
       "text": [
        "\r",
        " [------------     31%                  ] 31590 of 100000 complete in 10.5 sec"
       ]
      },
      {
       "output_type": "stream",
       "stream": "stdout",
       "text": [
        "\r",
        " [------------     33%                  ] 33134 of 100000 complete in 11.0 sec"
       ]
      },
      {
       "output_type": "stream",
       "stream": "stdout",
       "text": [
        "\r",
        " [-------------    34%                  ] 34672 of 100000 complete in 11.5 sec"
       ]
      },
      {
       "output_type": "stream",
       "stream": "stdout",
       "text": [
        "\r",
        " [-------------    36%                  ] 36215 of 100000 complete in 12.0 sec"
       ]
      },
      {
       "output_type": "stream",
       "stream": "stdout",
       "text": [
        "\r",
        " [--------------   37%                  ] 37732 of 100000 complete in 12.5 sec"
       ]
      },
      {
       "output_type": "stream",
       "stream": "stdout",
       "text": [
        "\r",
        " [--------------   39%                  ] 39265 of 100000 complete in 13.0 sec"
       ]
      },
      {
       "output_type": "stream",
       "stream": "stdout",
       "text": [
        "\r",
        " [---------------  40%                  ] 40802 of 100000 complete in 13.5 sec"
       ]
      },
      {
       "output_type": "stream",
       "stream": "stdout",
       "text": [
        "\r",
        " [---------------- 42%                  ] 42349 of 100000 complete in 14.0 sec"
       ]
      },
      {
       "output_type": "stream",
       "stream": "stdout",
       "text": [
        "\r",
        " [---------------- 43%                  ] 43902 of 100000 complete in 14.5 sec"
       ]
      },
      {
       "output_type": "stream",
       "stream": "stdout",
       "text": [
        "\r",
        " [-----------------45%                  ] 45453 of 100000 complete in 15.0 sec"
       ]
      },
      {
       "output_type": "stream",
       "stream": "stdout",
       "text": [
        "\r",
        " [-----------------46%                  ] 46998 of 100000 complete in 15.5 sec"
       ]
      },
      {
       "output_type": "stream",
       "stream": "stdout",
       "text": [
        "\r",
        " [-----------------48%                  ] 48541 of 100000 complete in 16.0 sec"
       ]
      },
      {
       "output_type": "stream",
       "stream": "stdout",
       "text": [
        "\r",
        " [-----------------50%                  ] 50118 of 100000 complete in 16.5 sec"
       ]
      },
      {
       "output_type": "stream",
       "stream": "stdout",
       "text": [
        "\r",
        " [-----------------51%                  ] 51637 of 100000 complete in 17.0 sec"
       ]
      },
      {
       "output_type": "stream",
       "stream": "stdout",
       "text": [
        "\r",
        " [-----------------53%                  ] 53205 of 100000 complete in 17.5 sec"
       ]
      },
      {
       "output_type": "stream",
       "stream": "stdout",
       "text": [
        "\r",
        " [-----------------54%                  ] 54726 of 100000 complete in 18.0 sec"
       ]
      },
      {
       "output_type": "stream",
       "stream": "stdout",
       "text": [
        "\r",
        " [-----------------56%-                 ] 56270 of 100000 complete in 18.5 sec"
       ]
      },
      {
       "output_type": "stream",
       "stream": "stdout",
       "text": [
        "\r",
        " [-----------------57%-                 ] 57786 of 100000 complete in 19.0 sec"
       ]
      },
      {
       "output_type": "stream",
       "stream": "stdout",
       "text": [
        "\r",
        " [-----------------59%--                ] 59359 of 100000 complete in 19.5 sec"
       ]
      },
      {
       "output_type": "stream",
       "stream": "stdout",
       "text": [
        "\r",
        " [-----------------60%---               ] 60873 of 100000 complete in 20.0 sec"
       ]
      },
      {
       "output_type": "stream",
       "stream": "stdout",
       "text": [
        "\r",
        " [-----------------62%---               ] 62437 of 100000 complete in 20.5 sec"
       ]
      },
      {
       "output_type": "stream",
       "stream": "stdout",
       "text": [
        "\r",
        " [-----------------63%----              ] 63964 of 100000 complete in 21.0 sec"
       ]
      },
      {
       "output_type": "stream",
       "stream": "stdout",
       "text": [
        "\r",
        " [-----------------65%----              ] 65542 of 100000 complete in 21.5 sec"
       ]
      },
      {
       "output_type": "stream",
       "stream": "stdout",
       "text": [
        "\r",
        " [-----------------67%-----             ] 67088 of 100000 complete in 22.0 sec"
       ]
      },
      {
       "output_type": "stream",
       "stream": "stdout",
       "text": [
        "\r",
        " [-----------------68%------            ] 68654 of 100000 complete in 22.5 sec"
       ]
      },
      {
       "output_type": "stream",
       "stream": "stdout",
       "text": [
        "\r",
        " [-----------------70%------            ] 70138 of 100000 complete in 23.0 sec"
       ]
      },
      {
       "output_type": "stream",
       "stream": "stdout",
       "text": [
        "\r",
        " [-----------------71%-------           ] 71658 of 100000 complete in 23.5 sec"
       ]
      },
      {
       "output_type": "stream",
       "stream": "stdout",
       "text": [
        "\r",
        " [-----------------73%-------           ] 73208 of 100000 complete in 24.0 sec"
       ]
      },
      {
       "output_type": "stream",
       "stream": "stdout",
       "text": [
        "\r",
        " [-----------------74%--------          ] 74698 of 100000 complete in 24.5 sec"
       ]
      },
      {
       "output_type": "stream",
       "stream": "stdout",
       "text": [
        "\r",
        " [-----------------76%--------          ] 76228 of 100000 complete in 25.0 sec"
       ]
      },
      {
       "output_type": "stream",
       "stream": "stdout",
       "text": [
        "\r",
        " [-----------------77%---------         ] 77740 of 100000 complete in 25.5 sec"
       ]
      },
      {
       "output_type": "stream",
       "stream": "stdout",
       "text": [
        "\r",
        " [-----------------79%----------        ] 79215 of 100000 complete in 26.0 sec"
       ]
      },
      {
       "output_type": "stream",
       "stream": "stdout",
       "text": [
        "\r",
        " [-----------------80%----------        ] 80710 of 100000 complete in 26.5 sec"
       ]
      },
      {
       "output_type": "stream",
       "stream": "stdout",
       "text": [
        "\r",
        " [-----------------82%-----------       ] 82277 of 100000 complete in 27.0 sec"
       ]
      },
      {
       "output_type": "stream",
       "stream": "stdout",
       "text": [
        "\r",
        " [-----------------83%-----------       ] 83789 of 100000 complete in 27.5 sec"
       ]
      },
      {
       "output_type": "stream",
       "stream": "stdout",
       "text": [
        "\r",
        " [-----------------85%------------      ] 85367 of 100000 complete in 28.0 sec"
       ]
      },
      {
       "output_type": "stream",
       "stream": "stdout",
       "text": [
        "\r",
        " [-----------------86%-------------     ] 86908 of 100000 complete in 28.5 sec"
       ]
      },
      {
       "output_type": "stream",
       "stream": "stdout",
       "text": [
        "\r",
        " [-----------------88%-------------     ] 88488 of 100000 complete in 29.0 sec"
       ]
      },
      {
       "output_type": "stream",
       "stream": "stdout",
       "text": [
        "\r",
        " [-----------------90%--------------    ] 90037 of 100000 complete in 29.5 sec"
       ]
      },
      {
       "output_type": "stream",
       "stream": "stdout",
       "text": [
        "\r",
        " [-----------------91%--------------    ] 91575 of 100000 complete in 30.0 sec"
       ]
      },
      {
       "output_type": "stream",
       "stream": "stdout",
       "text": [
        "\r",
        " [-----------------93%---------------   ] 93092 of 100000 complete in 30.5 sec"
       ]
      },
      {
       "output_type": "stream",
       "stream": "stdout",
       "text": [
        "\r",
        " [-----------------94%---------------   ] 94659 of 100000 complete in 31.0 sec"
       ]
      },
      {
       "output_type": "stream",
       "stream": "stdout",
       "text": [
        "\r",
        " [-----------------96%----------------  ] 96168 of 100000 complete in 31.5 sec"
       ]
      },
      {
       "output_type": "stream",
       "stream": "stdout",
       "text": [
        "\r",
        " [-----------------97%----------------- ] 97735 of 100000 complete in 32.0 sec"
       ]
      },
      {
       "output_type": "stream",
       "stream": "stdout",
       "text": [
        "\r",
        " [-----------------99%----------------- ] 99265 of 100000 complete in 32.5 sec"
       ]
      },
      {
       "output_type": "stream",
       "stream": "stdout",
       "text": [
        "\r",
        " [-----------------100%-----------------] 100000 of 100000 complete in 32.8 sec"
       ]
      }
     ],
     "prompt_number": 81
    },
    {
     "cell_type": "code",
     "collapsed": false,
     "input": [
      "pymc.Matplot.plot(M)"
     ],
     "language": "python",
     "metadata": {},
     "outputs": [
      {
       "output_type": "stream",
       "stream": "stdout",
       "text": [
        "Plotting vpar\n",
        "Plotting"
       ]
      },
      {
       "output_type": "stream",
       "stream": "stdout",
       "text": [
        " sigma_dtheta_variance\n",
        "Plotting"
       ]
      },
      {
       "output_type": "stream",
       "stream": "stdout",
       "text": [
        " vperp\n",
        "Plotting"
       ]
      },
      {
       "output_type": "stream",
       "stream": "stdout",
       "text": [
        " ds\n",
        "Plotting"
       ]
      },
      {
       "output_type": "stream",
       "stream": "stdout",
       "text": [
        " ro\n"
       ]
      },
      {
       "metadata": {},
       "output_type": "display_data",
       "png": "[encoded data removed]",
       "text": [
        "<matplotlib.figure.Figure at 0xb01ffd0>"
       ]
      },
      {
       "metadata": {},
       "output_type": "display_data",
       "png": "[encoded data removed]",
       "text": [
        "<matplotlib.figure.Figure at 0x9a5c8d0>"
       ]
      },
      {
       "metadata": {},
       "output_type": "display_data",
       "png": "[encoded data removed]",
       "text": [
        "<matplotlib.figure.Figure at 0x8d1ed10>"
       ]
      },
      {
       "metadata": {},
       "output_type": "display_data",
       "png": "[encoded data removed]",
       "text": [
        "<matplotlib.figure.Figure at 0x68f1d50>"
       ]
      },
      {
       "metadata": {},
       "output_type": "display_data",
       "png": "[encoded data removed]",
       "text": [
        "<matplotlib.figure.Figure at 0x98825d0>"
       ]
      }
     ],
     "prompt_number": 82
    },
    {
     "cell_type": "markdown",
     "metadata": {},
     "source": [
      "Let's see if we can summarize these statistics."
     ]
    },
    {
     "cell_type": "code",
     "collapsed": false,
     "input": [
      "M.summary(roundto=10)"
     ],
     "language": "python",
     "metadata": {},
     "outputs": [
      {
       "output_type": "stream",
       "stream": "stdout",
       "text": [
        "\n",
        "vpar:\n",
        " \n",
        "\tMean             SD               MC Error        95% HPD interval\n",
        "\t------------------------------------------------------------------\n",
        "\t2.4264e-06       5.35e-08         7e-10[  2.32110000e-06   2.52950000e-06]\n",
        "\t\n",
        "\t\n",
        "\tPosterior quantiles:\n",
        "\t\n",
        "\t2.5             25              50              75             97.5\n",
        "\t |---------------|===============|===============|---------------|\n",
        "\t2.3216e-06       2.39e-06        2.4258e-06     2.4627e-06    2.531e-06\n",
        "\t\n",
        "\n",
        "sigma_dtheta_variance:\n",
        " \n",
        "\tMean             SD               MC Error        95% HPD interval\n",
        "\t------------------------------------------------------------------\n",
        "\t0.0072646579     0.0006151661     6.8178e-06[ 0.00612069  0.00851712]\n",
        "\t\n",
        "\t\n",
        "\tPosterior quantiles:\n",
        "\t\n",
        "\t2.5             25              50              75             97.5\n",
        "\t |---------------|===============|===============|---------------|\n",
        "\t0.0061606184     0.0068324049    0.0072211078   0.0076515244  0.0085824268\n",
        "\t\n",
        "\n",
        "vperp:\n",
        " \n",
        "\tMean             SD               MC Error        95% HPD interval\n",
        "\t------------------------------------------------------------------\n",
        "\t-2.41e-08        3.44e-08         4e-10[ -9.38000000e-08   4.05000000e-08]\n",
        "\t\n",
        "\t\n",
        "\tPosterior quantiles:\n",
        "\t\n",
        "\t2.5             25              50              75             97.5\n",
        "\t |---------------|===============|===============|---------------|\n",
        "\t-9.18e-08        -4.77e-08       -2.38e-08      -9e-10        4.31e-08\n",
        "\t\n",
        "\n",
        "ds:\n",
        " \n",
        "\tMean             SD               MC Error        95% HPD interval\n",
        "\t------------------------------------------------------------------\n",
        "\t1.1e-09          1e-09            0.0[  0.00000000e+00   3.20000000e-09]\n",
        "\t\n",
        "\t\n",
        "\tPosterior quantiles:\n",
        "\t\n",
        "\t2.5             25              50              75             97.5\n",
        "\t |---------------|===============|===============|---------------|\n",
        "\t0.0              3e-10           7e-10          1.5e-09       3.9e-09\n",
        "\t\n",
        "\n",
        "ro:\n",
        " \n",
        "\tMean             SD               MC Error        95% HPD interval\n",
        "\t------------------------------------------------------------------\n",
        "\t1.7542414886     0.0481058278     0.0006391191[ 1.65921626  1.84691581]\n",
        "\t\n",
        "\t\n",
        "\tPosterior quantiles:\n",
        "\t\n",
        "\t2.5             25              50              75             97.5\n",
        "\t |---------------|===============|===============|---------------|\n",
        "\t1.6614776341     1.7216212489    1.7539180773   1.7869401766  1.8498215128\n",
        "\t\n"
       ]
      }
     ],
     "prompt_number": 97
    },
    {
     "cell_type": "code",
     "collapsed": false,
     "input": [
      "plt.hist(M.trace('vpar')[:])"
     ],
     "language": "python",
     "metadata": {},
     "outputs": [
      {
       "metadata": {},
       "output_type": "pyout",
       "prompt_number": 112,
       "text": [
        "(array([   14.,    93.,   451.,  1431.,  2422.,  2411.,  1496.,   550.,\n",
        "         109.,    23.]),\n",
        " array([  2.22638715e-06,   2.26599425e-06,   2.30560134e-06,\n",
        "         2.34520844e-06,   2.38481554e-06,   2.42442264e-06,\n",
        "         2.46402974e-06,   2.50363684e-06,   2.54324394e-06,\n",
        "         2.58285104e-06,   2.62245813e-06]),\n",
        " <a list of 10 Patch objects>)"
       ]
      },
      {
       "metadata": {},
       "output_type": "display_data",
       "png": "[encoded data removed]",
       "text": [
        "<matplotlib.figure.Figure at 0x4eddf10>"
       ]
      }
     ],
     "prompt_number": 112
    },
    {
     "cell_type": "markdown",
     "metadata": {},
     "source": [
      "Ok, that worked well enough. Why don't we package all of this into a function to avoid all this pain in the future."
     ]
    },
    {
     "cell_type": "code",
     "collapsed": false,
     "input": [],
     "language": "python",
     "metadata": {},
     "outputs": [],
     "prompt_number": 161
    },
    {
     "cell_type": "code",
     "collapsed": false,
     "input": [
      "setup_analysis(37)"
     ],
     "language": "python",
     "metadata": {},
     "outputs": [
      {
       "output_type": "stream",
       "stream": "stdout",
       "text": [
        "Setting up the simulation for T= 37 ...\n",
        "\n",
        "numBins for chirality: 75\n",
        "Min log(r/ri): -1e-06\n",
        "Max log(r/ri): 1.28446456734\n",
        "Dimensionless Binsize for log(r/ri): 0.0173576428019\n",
        "\n"
       ]
      },
      {
       "output_type": "stream",
       "stream": "stdout",
       "text": [
        "Numbins for diffusion: 75\n",
        "Min 1/ri - 1/r: -1e-06\n",
        "Max 1/ri - 1/r: 0.369055701446\n",
        "Dimensionless Binsize for 1/ri - 1/r: 0.00498725272224\n",
        "\n"
       ]
      },
      {
       "output_type": "stream",
       "stream": "stdout",
       "text": [
        "Done setting up!\n"
       ]
      },
      {
       "metadata": {},
       "output_type": "display_data",
       "png": "[encoded data removed]",
       "text": [
        "<matplotlib.figure.Figure at 0x68ee650>"
       ]
      },
      {
       "metadata": {},
       "output_type": "display_data",
       "png": "[encoded data removed]",
       "text": [
        "<matplotlib.figure.Figure at 0x6f653d0>"
       ]
      }
     ],
     "prompt_number": 165
    },
    {
     "cell_type": "code",
     "collapsed": false,
     "input": [],
     "language": "python",
     "metadata": {},
     "outputs": []
    }
   ],
   "metadata": {}
  }
 ]
}