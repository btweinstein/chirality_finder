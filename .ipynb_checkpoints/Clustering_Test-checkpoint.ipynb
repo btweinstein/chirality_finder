{
 "metadata": {
  "name": ""
 },
 "nbformat": 3,
 "nbformat_minor": 0,
 "worksheets": [
  {
   "cells": [
    {
     "cell_type": "code",
     "collapsed": false,
     "input": [
      "%pylab qt"
     ],
     "language": "python",
     "metadata": {},
     "outputs": [
      {
       "output_type": "stream",
       "stream": "stdout",
       "text": [
        "Populating the interactive namespace from numpy and matplotlib\n"
       ]
      }
     ],
     "prompt_number": 1
    },
    {
     "cell_type": "markdown",
     "metadata": {},
     "source": [
      "# Organizing Data"
     ]
    },
    {
     "cell_type": "code",
     "collapsed": false,
     "input": [
      "import skimage as ski\n",
      "import skimage.io\n",
      "import pylab as pl\n",
      "import numpy as np\n",
      "\n",
      "testImage = ski.io.imread('./tests/Example.tif')\n",
      "pl.figure()\n",
      "ski.io.imshow(testImage)\n",
      "testImage = (testImage > 0)\n",
      "center = np.array([116, 101])\n",
      "\n",
      "[xdata, ydata] = np.where(testImage)\n",
      "\n",
      "data = np.column_stack((xdata, ydata))"
     ],
     "language": "python",
     "metadata": {},
     "outputs": [],
     "prompt_number": 23
    },
    {
     "cell_type": "markdown",
     "metadata": {},
     "source": [
      "# Db clustering"
     ]
    },
    {
     "cell_type": "code",
     "collapsed": false,
     "input": [
      "import sklearn\n",
      "import sklearn.cluster\n",
      "import scipy as sp\n",
      "\n",
      "db = sklearn.cluster.DBSCAN(eps=1.5, min_samples=6).fit(data)\n",
      "labels = db.labels_\n",
      "# Make into a label image\n",
      "labelImage = np.zeros(testImage.shape, dtype=np.int)\n",
      "\n",
      "# We want labels to go from 1 upwards\n",
      "labelImage[xdata, ydata] = labels + 2\n",
      "imshow(labelImage)"
     ],
     "language": "python",
     "metadata": {},
     "outputs": [
      {
       "metadata": {},
       "output_type": "pyout",
       "prompt_number": 45,
       "text": [
        "<matplotlib.image.AxesImage at 0x7b08ed0>"
       ]
      }
     ],
     "prompt_number": 45
    },
    {
     "cell_type": "markdown",
     "metadata": {},
     "source": [
      "# Hierarchical Ward Clustering"
     ]
    },
    {
     "cell_type": "code",
     "collapsed": false,
     "input": [
      "# Get connectivity data\n",
      "sklearn.neighbors.kneighbors_graph(data, n_neighbors=8) "
     ],
     "language": "python",
     "metadata": {},
     "outputs": []
    }
   ],
   "metadata": {}
  }
 ]
}