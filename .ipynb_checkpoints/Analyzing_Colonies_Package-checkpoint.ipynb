{
 "metadata": {
  "name": ""
 },
 "nbformat": 3,
 "nbformat_minor": 0,
 "worksheets": [
  {
   "cells": [
    {
     "cell_type": "markdown",
     "metadata": {},
     "source": [
      "# Description"
     ]
    },
    {
     "cell_type": "code",
     "collapsed": false,
     "input": [
      "%reset\n",
      "%pylab qt\n",
      "\n",
      "from chirality_image_analysis import image_analysis as chi\n",
      "from chirality_image_analysis import utility as ut\n",
      "from chirality_data_analysis import data_analysis as cda"
     ],
     "language": "python",
     "metadata": {},
     "outputs": [
      {
       "name": "stdout",
       "output_type": "stream",
       "stream": "stdout",
       "text": [
        "Once deleted, variables cannot be recovered. Proceed (y/[n])? y\n"
       ]
      },
      {
       "output_type": "stream",
       "stream": "stdout",
       "text": [
        "Populating the interactive namespace from numpy and matplotlib\n"
       ]
      }
     ],
     "prompt_number": 17
    },
    {
     "cell_type": "markdown",
     "metadata": {},
     "source": [
      "# Sort Experimental Metadata\n",
      "\n",
      "Here we organize all the data into an easy to use coherent format. Right now we will just use the clean data, as we are trying to learn how to do this."
     ]
    },
    {
     "cell_type": "code",
     "collapsed": false,
     "input": [
      "import glob\n",
      "import os\n",
      "import datetime\n",
      "import pandas as pd\n",
      "\n",
      "baseDirectory = '/home/bryan/Documents/Research_Data/Nelson/Chirality_Initial_Imaging'\n",
      "analysisDirectory = baseDirectory + '/6_ToAnalyze_Clean'\n",
      "\n",
      "def getExperimentMetadata():\n",
      "\n",
      "    imageFiles = glob.glob(analysisDirectory + '/*.tif')\n",
      "    imageData = pd.DataFrame(imageFiles, columns=['path'])\n",
      "    \n",
      "    #### Get Desired Information about images ####\n",
      "    \n",
      "    numImages = len(imageData)\n",
      "    \n",
      "    imageInfoArray = []\n",
      "    for i in range(numImages):\n",
      "        # Get the images\n",
      "        imageName = os.path.basename(imageData['path'][i])\n",
      "        # Chop off the end with the .zvi to avoid shennanigans\n",
      "        imageArray = (imageName.split('-'))\n",
      "        imageInfoStr = imageArray[0]\n",
      "        imageExtensionStr = imageArray[1]\n",
      "        \n",
      "        imageInfo  = os.path.basename(imageInfoStr).split('_')\n",
      "        imageInfoArray.append(imageInfo)\n",
      "    \n",
      "    #### Convert the array to a proper type ####\n",
      "    columnNames = ['T', 'mL', 'name', 'date']\n",
      "    \n",
      "    for i in range(numImages):\n",
      "        imageInfo = imageInfoArray[i]\n",
      "        # Convert temperature to int\n",
      "        temp = imageInfo[0]\n",
      "        imageInfo[0] = int(temp[0:2])\n",
      "        # Convert augerVolume to int\n",
      "        augerVolume = imageInfo[1]\n",
      "        imageInfo[1] = int(augerVolume[0:2])\n",
      "        # Combine replicate info and other qualifiers to act as an identifier\n",
      "        # I assume if the string is a digit, it is a date\n",
      "        # I also assume that there is at most one extra qualifier\n",
      "        if not imageInfo[3].isdigit():\n",
      "            imageInfo[2] += '_' + imageInfo[3]\n",
      "            imageInfo.pop(3)\n",
      "        date = datetime.datetime(int(imageInfo[3]), int(imageInfo[4]), int(imageInfo[5]))\n",
      "        del imageInfo [-3:]\n",
      "        imageInfo.append(date)\n",
      "        # Update\n",
      "        imageInfoArray[i] = imageInfo\n",
      "    \n",
      "    imageInfo = pd.DataFrame(imageInfoArray, columns=columnNames)    \n",
      "    imageData = imageData.join(imageInfo)\n",
      "    return imageData\n",
      "\n",
      "print getExperimentMetadata()"
     ],
     "language": "python",
     "metadata": {},
     "outputs": [
      {
       "output_type": "stream",
       "stream": "stdout",
       "text": [
        "<class 'pandas.core.frame.DataFrame'>\n",
        "Int64Index: 92 entries, 0 to 91\n",
        "Data columns (total 5 columns):\n",
        "path    92  non-null values\n",
        "T       92  non-null values\n",
        "mL      92  non-null values\n",
        "name    92  non-null values\n",
        "date    92  non-null values\n",
        "dtypes: datetime64[ns](1), int64(2), object(2)\n"
       ]
      }
     ],
     "prompt_number": 19
    },
    {
     "cell_type": "markdown",
     "metadata": {},
     "source": [
      "# Analyzing the Data"
     ]
    },
    {
     "cell_type": "markdown",
     "metadata": {},
     "source": [
      "## 37C, 25mL Agar\n",
      "\n",
      "We will just use this set of data for now as an example."
     ]
    },
    {
     "cell_type": "code",
     "collapsed": false,
     "input": [
      "imageData = getExperimentMetadata()\n",
      "\n",
      "desiredColonies = imageData[(imageData['T']==37)&(imageData['mL']==25)]\n",
      "# Find all unique names in the desired colonies\n",
      "uniqueNames = desiredColonies['name'].unique()\n",
      "print uniqueNames\n",
      "numUnique = len(uniqueNames)\n",
      "# Split up the data into unique names that you can analyze\n",
      "uniqueColonies = []\n",
      "for i in range(numUnique):\n",
      "    currentName = uniqueNames[i]\n",
      "    sameType = desiredColonies[desiredColonies['name']==currentName]\n",
      "    uniqueColonies.append(sameType)"
     ],
     "language": "python",
     "metadata": {},
     "outputs": [
      {
       "output_type": "stream",
       "stream": "stdout",
       "text": [
        "['ReplicateA' 'ReplicateB']\n"
       ]
      }
     ],
     "prompt_number": 20
    },
    {
     "cell_type": "markdown",
     "metadata": {},
     "source": [
      "# Analyzing Growth"
     ]
    },
    {
     "cell_type": "markdown",
     "metadata": {},
     "source": [
      "## Original Algorithm"
     ]
    },
    {
     "cell_type": "code",
     "collapsed": false,
     "input": [
      "import SimpleCV as cv\n",
      "disp = cv.Display(displaytype='notebook')\n",
      "\n",
      "desiredColonies['diameter'] = None\n",
      "for path in desiredColonies['path']:\n",
      "    scale = ut.getScale(path)\n",
      "    \n",
      "    # Open the image    \n",
      "    img = cv.Image(path)\n",
      "    (fluor1, fluor2, brightfield) = img.splitChannels()\n",
      "\n",
      "    circs = chi.findBrightfieldCircle(brightfield, False)\n",
      "    if circs is not None:\n",
      "        circs.draw(width=8)\n",
      "        niceDisplay(filtered, disp)\n",
      "    \n",
      "        # Get the diameter\n",
      "        pixelDiameter = circs[0].diameter()\n",
      "        actualDiameter = scale*pixelDiameter\n",
      "        print 'Diameter is ' , actualDiameter , 'mm'\n",
      "        # Assumes that if the diameter is less than 1, something bad happened. \n",
      "        if actualDiameter > 1:\n",
      "            desiredColonies.diameter[desiredColonies.path == path] = actualDiameter\n",
      "    else:\n",
      "        print 'Could not find a circle :('"
     ],
     "language": "python",
     "metadata": {},
     "outputs": [
      {
       "ename": "AttributeError",
       "evalue": "Image instance has no attribute 'mode'",
       "output_type": "pyerr",
       "traceback": [
        "\u001b[1;31m---------------------------------------------------------------------------\u001b[0m\n\u001b[1;31mAttributeError\u001b[0m                            Traceback (most recent call last)",
        "\u001b[1;32m<ipython-input-22-80d98a57f5a9>\u001b[0m in \u001b[0;36m<module>\u001b[1;34m()\u001b[0m\n\u001b[0;32m     10\u001b[0m     \u001b[1;33m(\u001b[0m\u001b[0mfluor1\u001b[0m\u001b[1;33m,\u001b[0m \u001b[0mfluor2\u001b[0m\u001b[1;33m,\u001b[0m \u001b[0mbrightfield\u001b[0m\u001b[1;33m)\u001b[0m \u001b[1;33m=\u001b[0m \u001b[0mimg\u001b[0m\u001b[1;33m.\u001b[0m\u001b[0msplitChannels\u001b[0m\u001b[1;33m(\u001b[0m\u001b[1;33m)\u001b[0m\u001b[1;33m\u001b[0m\u001b[0m\n\u001b[0;32m     11\u001b[0m \u001b[1;33m\u001b[0m\u001b[0m\n\u001b[1;32m---> 12\u001b[1;33m     \u001b[0mcircs\u001b[0m \u001b[1;33m=\u001b[0m \u001b[0mchi\u001b[0m\u001b[1;33m.\u001b[0m\u001b[0mfindBrightfieldCircle\u001b[0m\u001b[1;33m(\u001b[0m\u001b[0mbrightfield\u001b[0m\u001b[1;33m,\u001b[0m \u001b[0mFalse\u001b[0m\u001b[1;33m)\u001b[0m\u001b[1;33m\u001b[0m\u001b[0m\n\u001b[0m\u001b[0;32m     13\u001b[0m     \u001b[1;32mif\u001b[0m \u001b[0mcircs\u001b[0m \u001b[1;32mis\u001b[0m \u001b[1;32mnot\u001b[0m \u001b[0mNone\u001b[0m\u001b[1;33m:\u001b[0m\u001b[1;33m\u001b[0m\u001b[0m\n\u001b[0;32m     14\u001b[0m         \u001b[0mcircs\u001b[0m\u001b[1;33m.\u001b[0m\u001b[0mdraw\u001b[0m\u001b[1;33m(\u001b[0m\u001b[0mwidth\u001b[0m\u001b[1;33m=\u001b[0m\u001b[1;36m8\u001b[0m\u001b[1;33m)\u001b[0m\u001b[1;33m\u001b[0m\u001b[0m\n",
        "\u001b[1;32m/home/bryan/PycharmProjects/chirality_finder/chirality_image_analysis/image_analysis.py\u001b[0m in \u001b[0;36mfindBrightfieldCircle\u001b[1;34m(brightfield, showPictures)\u001b[0m\n\u001b[0;32m     25\u001b[0m     Returns the center and radius of the circle.\"\"\"\n\u001b[0;32m     26\u001b[0m \u001b[1;33m\u001b[0m\u001b[0m\n\u001b[1;32m---> 27\u001b[1;33m     \u001b[0mbrightfieldCV\u001b[0m \u001b[1;33m=\u001b[0m \u001b[0mcv\u001b[0m\u001b[1;33m.\u001b[0m\u001b[0mImage\u001b[0m\u001b[1;33m(\u001b[0m\u001b[0mbrightfield\u001b[0m\u001b[1;33m)\u001b[0m\u001b[1;33m\u001b[0m\u001b[0m\n\u001b[0m\u001b[0;32m     28\u001b[0m     \u001b[0mfiltered\u001b[0m \u001b[1;33m=\u001b[0m \u001b[0mbrightfieldCV\u001b[0m\u001b[1;33m.\u001b[0m\u001b[0mbandPassFilter\u001b[0m\u001b[1;33m(\u001b[0m\u001b[1;36m0.05\u001b[0m\u001b[1;33m,\u001b[0m\u001b[1;36m0.8\u001b[0m\u001b[1;33m)\u001b[0m\u001b[1;33m\u001b[0m\u001b[0m\n\u001b[0;32m     29\u001b[0m     \u001b[0mcircs\u001b[0m \u001b[1;33m=\u001b[0m \u001b[0mfiltered\u001b[0m\u001b[1;33m.\u001b[0m\u001b[0mfindCircle\u001b[0m\u001b[1;33m(\u001b[0m\u001b[0mdistance\u001b[0m\u001b[1;33m=\u001b[0m\u001b[1;36m2000\u001b[0m\u001b[1;33m,\u001b[0m \u001b[0mcanny\u001b[0m\u001b[1;33m=\u001b[0m\u001b[1;36m50\u001b[0m\u001b[1;33m)\u001b[0m\u001b[1;33m\u001b[0m\u001b[0m\n",
        "\u001b[1;32m/usr/local/lib/python2.7/dist-packages/SimpleCV/ImageClass.pyc\u001b[0m in \u001b[0;36m__init__\u001b[1;34m(self, source, camera, colorSpace, verbose, sample, cv2image, webp)\u001b[0m\n\u001b[0;32m   1094\u001b[0m                 or  source.__class__.__name__ == \"Image\")):\n\u001b[0;32m   1095\u001b[0m \u001b[1;33m\u001b[0m\u001b[0m\n\u001b[1;32m-> 1096\u001b[1;33m             \u001b[1;32mif\u001b[0m \u001b[0msource\u001b[0m\u001b[1;33m.\u001b[0m\u001b[0mmode\u001b[0m \u001b[1;33m!=\u001b[0m \u001b[1;34m'RGB'\u001b[0m\u001b[1;33m:\u001b[0m\u001b[1;33m\u001b[0m\u001b[0m\n\u001b[0m\u001b[0;32m   1097\u001b[0m                 \u001b[0msource\u001b[0m \u001b[1;33m=\u001b[0m \u001b[0msource\u001b[0m\u001b[1;33m.\u001b[0m\u001b[0mconvert\u001b[0m\u001b[1;33m(\u001b[0m\u001b[1;34m'RGB'\u001b[0m\u001b[1;33m)\u001b[0m\u001b[1;33m\u001b[0m\u001b[0m\n\u001b[0;32m   1098\u001b[0m             \u001b[0mself\u001b[0m\u001b[1;33m.\u001b[0m\u001b[0m_pil\u001b[0m \u001b[1;33m=\u001b[0m \u001b[0msource\u001b[0m\u001b[1;33m\u001b[0m\u001b[0m\n",
        "\u001b[1;31mAttributeError\u001b[0m: Image instance has no attribute 'mode'"
       ]
      }
     ],
     "prompt_number": 22
    },
    {
     "cell_type": "code",
     "collapsed": false,
     "input": [
      "print desiredColonies"
     ],
     "language": "python",
     "metadata": {},
     "outputs": [
      {
       "output_type": "stream",
       "stream": "stdout",
       "text": [
        "                                                 path   T  mL        name  \\\n",
        "3   /home/bryan/Documents/Research_Data/Nelson/Chi...  37  25  ReplicateA   \n",
        "12  /home/bryan/Documents/Research_Data/Nelson/Chi...  37  25  ReplicateB   \n",
        "13  /home/bryan/Documents/Research_Data/Nelson/Chi...  37  25  ReplicateB   \n",
        "18  /home/bryan/Documents/Research_Data/Nelson/Chi...  37  25  ReplicateA   \n",
        "21  /home/bryan/Documents/Research_Data/Nelson/Chi...  37  25  ReplicateB   \n",
        "24  /home/bryan/Documents/Research_Data/Nelson/Chi...  37  25  ReplicateB   \n",
        "25  /home/bryan/Documents/Research_Data/Nelson/Chi...  37  25  ReplicateA   \n",
        "31  /home/bryan/Documents/Research_Data/Nelson/Chi...  37  25  ReplicateB   \n",
        "51  /home/bryan/Documents/Research_Data/Nelson/Chi...  37  25  ReplicateB   \n",
        "60  /home/bryan/Documents/Research_Data/Nelson/Chi...  37  25  ReplicateA   \n",
        "73  /home/bryan/Documents/Research_Data/Nelson/Chi...  37  25  ReplicateA   \n",
        "83  /home/bryan/Documents/Research_Data/Nelson/Chi...  37  25  ReplicateA   \n",
        "\n",
        "                  date  diameter  \n",
        "3  2013-10-03 00:00:00      None  \n",
        "12 2013-10-15 00:00:00  15.41423  \n",
        "13 2013-10-09 00:00:00  11.33869  \n",
        "18 2013-10-11 00:00:00  12.62628  \n",
        "21 2013-10-04 00:00:00      None  \n",
        "24 2013-10-03 00:00:00      None  \n",
        "25 2013-10-15 00:00:00  16.09301  \n",
        "31 2013-10-11 00:00:00  13.37104  \n",
        "51 2013-10-07 00:00:00   8.12635  \n",
        "60 2013-10-07 00:00:00    8.5686  \n",
        "73 2013-10-09 00:00:00  10.85238  \n",
        "83 2013-10-04 00:00:00  4.486857  \n"
       ]
      }
     ],
     "prompt_number": 7
    },
    {
     "cell_type": "code",
     "collapsed": false,
     "input": [
      "import pylab as pl\n",
      "\n",
      "uniqueNames = desiredColonies['name'].unique()\n",
      "for name in uniqueNames:\n",
      "    currentData = desiredColonies[desiredColonies.name == name]\n",
      "    currentData = currentData.sort(columns='date')\n",
      "    currentData.date = currentData.date - currentData.date.irow(0)\n",
      "    \n",
      "    currentData.plot('date', 'diameter', style='-o')\n",
      "pl.legend(uniqueNames, loc=4)"
     ],
     "language": "python",
     "metadata": {},
     "outputs": [
      {
       "metadata": {},
       "output_type": "pyout",
       "prompt_number": 8,
       "text": [
        "<matplotlib.legend.Legend at 0x4a3bb90>"
       ]
      }
     ],
     "prompt_number": 8
    },
    {
     "cell_type": "markdown",
     "metadata": {},
     "source": [
      "This is working ok. My circle finding algorithm needs to be improved in the future, as it is extremely important that we can accurately find the center of circles. "
     ]
    },
    {
     "cell_type": "markdown",
     "metadata": {},
     "source": [
      "# Chirality Analysis"
     ]
    },
    {
     "cell_type": "markdown",
     "metadata": {},
     "source": [
      "## Complete functions\n",
      "\n",
      "Taken from the previous ipython notebooks."
     ]
    },
    {
     "cell_type": "code",
     "collapsed": false,
     "input": [
      "import SimpleCV as cv\n",
      "disp = cv.Display(displaytype='notebook')\n",
      "\n",
      "def findBrightfieldCircle(brightfield, showPictures=True):\n",
      "    '''Finds the circle (boundary) in a brightfield numpy image. \n",
      "    Returns the center and radius of the circle.'''\n",
      "    \n",
      "    brightfieldCV = cv.Image(brightfield)\n",
      "    filtered = brightfieldCV.bandPassFilter(0.05,0.8)\n",
      "    circs = filtered.findCircle(distance=2000, canny=50)\n",
      "    # There will only be one circle as we only allow one due to \"distance\"\n",
      "    circs = circs[0]    \n",
      "    center = circs.coordinates()\n",
      "    radius = circs.radius()\n",
      "    \n",
      "    if showPictures:\n",
      "        circs.image = brightfieldCV\n",
      "        circs.draw(width=12)\n",
      "        brightfieldCV = brightfieldCV.applyLayers()\n",
      "        showImage(brightfieldCV.getNumpy())\n",
      "    \n",
      "    return (center, radius)"
     ],
     "language": "python",
     "metadata": {},
     "outputs": [],
     "prompt_number": 9
    },
    {
     "cell_type": "code",
     "collapsed": false,
     "input": [
      "def getPositionData(coords, center):\n",
      "    (x, y) = (coords[:, 0], coords[:, 1])\n",
      "    deltaX = x - center[0]\n",
      "    deltaY = y - center[1]\n",
      "    \n",
      "    # Get distance from center\n",
      "    deltaR = np.column_stack((x, y, deltaX, deltaY))\n",
      "    \n",
      "    currentData = pd.DataFrame(deltaR, columns=['x', 'y', 'dx', 'dy'])\n",
      "    currentData['r'] = np.sqrt(currentData['dx']**2 + currentData['dy']**2)\n",
      "    currentData['theta'] = np.arctan2(currentData['dy'], currentData['dx'])\n",
      "    \n",
      "    return currentData"
     ],
     "language": "python",
     "metadata": {},
     "outputs": [],
     "prompt_number": 11
    },
    {
     "cell_type": "code",
     "collapsed": false,
     "input": [
      "import pandas as pd\n",
      "import skimage.transform\n",
      "import scipy as sp\n",
      "import numpy as np\n",
      "\n",
      "def reduceLabelsToPixel(labels, center, showPictures=True):    \n",
      "    '''Reduces the labeled sectors down to individual pixels by\n",
      "    essentially taking the median theta at every radius in each blob.\n",
      "    Currently, this cannot handle multi-valued sectors (i.e. sectors that\n",
      "    annihilate) as the median will be in the middle of the sector.\n",
      "    \n",
      "    Returns the new labels.''' \n",
      "    \n",
      "    # Make the median disk length greater than 1.4 so that you can\n",
      "    # get 8 connected neighbors\n",
      "    medianDiskLength = 1.5\n",
      "    radiusStep = .5\n",
      "\n",
      "    thinnedLabels = 0 * labels\n",
      "\n",
      "    if showPictures: showImage(ski.color.label2rgb(labels - 1))\n",
      "    \n",
      "    props = ski.measure.regionprops(labels)\n",
      "    for p in props:\n",
      "        currentLabel = p.label\n",
      "        coords = p.coords\n",
      "        currentData = getPositionData(coords, center)\n",
      "        \n",
      "        minDistance = currentData['r'].min()\n",
      "        maxDistance = currentData['r'].max()\n",
      "        \n",
      "        radiusList = np.arange(minDistance, maxDistance, radiusStep)\n",
      "        \n",
      "        for radius in radiusList:\n",
      "            # Get all points that are essentially at this radius\n",
      "            dataAtRadius = currentData[np.abs(radius - currentData['r']) <= medianDiskLength]\n",
      "            \n",
      "            medianTheta = dataAtRadius.theta.median()\n",
      "            medianThetaRow = dataAtRadius[dataAtRadius.theta == medianTheta]\n",
      "            medianX = medianThetaRow['x']\n",
      "            medianY = medianThetaRow['y']\n",
      "\n",
      "            # Get median line theta\n",
      "            thinnedLabels[medianX, medianY] = currentLabel\n",
      "            \n",
      "    if showPictures: showImage(ski.color.label2rgb(thinnedLabels - 1))\n",
      "    showImage(ski.color.label2rgb(thinnedLabels - 1))\n",
      "    return thinnedLabels"
     ],
     "language": "python",
     "metadata": {},
     "outputs": [],
     "prompt_number": 12
    },
    {
     "cell_type": "code",
     "collapsed": false,
     "input": [
      "def splitLabels(labels, center, showPictures=True):    \n",
      "    '''Splits labels into pieces based on connected components\n",
      "    as a funciton of R.''' \n",
      "    \n",
      "    # Move in the opposite direction of growth and cut\n",
      "    medianDiskLength = 1.5\n",
      "    radiusStep = .5\n",
      "\n",
      "    newLabels = 0 * labels\n",
      "    labelCounter = 1\n",
      "\n",
      "    if showPictures: showImage(ski.color.label2rgb(labels - 1))\n",
      "    imageDimensions = np.shape(labels)\n",
      "    props = ski.measure.regionprops(labels)\n",
      "    for p in props:\n",
      "        currentLabel = p.label\n",
      "        coords = p.coords\n",
      "        currentData = getPositionData(coords, center)\n",
      "        \n",
      "        minDistance = currentData['r'].min()\n",
      "        maxDistance = currentData['r'].max()\n",
      "        \n",
      "        radiusList = np.arange(minDistance, maxDistance, radiusStep)\n",
      "        \n",
      "        currentBlobPic = np.zeros(imageDimensions)\n",
      "        for radius in radiusList:\n",
      "            # Get all points that are essentially at this radius\n",
      "            dataAtRadius = currentData[np.abs(radius - currentData['r']) <= medianDiskLength]\n",
      "            # Figure out if the regions are disconnected; if so, assign them\n",
      "            # different names\n",
      "            currentRadiusPic = np.zeros(imageDimensions)\n",
      "            currentRadiusPic[dataAtRadius['x'], dataAtRadius['y']] = 1\n",
      "            connectedComponents = ski.morphology.label(currentRadiusPic, neighbors=8, background=0) + 1\n",
      "            \n",
      "            representativeTheta = np.array([])\n",
      "            radiusLabelMax = np.max(connectedComponents)\n",
      "            for l in range(1, radiusLabelMax):\n",
      "                (radX, radY) = np.nonzero(connectedComponents == l)\n",
      "                radX = radX[0]\n",
      "                radY = radY[0]\n",
      "                currentThetaRow = dataAtRadius[(dataAtRadius['x']==radX) & (dataAtRadius['y']==radY)]\n",
      "                \n",
      "    return thinnedLabels\n"
     ],
     "language": "python",
     "metadata": {},
     "outputs": [],
     "prompt_number": 15
    },
    {
     "cell_type": "code",
     "collapsed": false,
     "input": [
      "def filterSectors(labels, center, minLength=250, showPictures=True):\n",
      "    ''' Returns a new labeled image with poor quality sectors\n",
      "    filtered out. This basically means the sector is not long\n",
      "    enough.'''\n",
      "    \n",
      "    if showPictures:\n",
      "        labelImage = ski.color.label2rgb(labels - 1)\n",
      "        showImage(labelImage)\n",
      "    \n",
      "    filteredLabels = labels * 0\n",
      "    chiralityData = getChiralityData(labels, center)    \n",
      "    \n",
      "    #### Apply the filter ####\n",
      "    # Region properties no longer works, as the regions are now\n",
      "    # technically disconnected. So don't use that!\n",
      "\n",
      "    uniqueLabels = np.unique(labels)\n",
      "    uniqueLabels = uniqueLabels[uniqueLabels != 0]\n",
      "    \n",
      "    for currentLabel in uniqueLabels:\n",
      "        # Get current data\n",
      "        currentData = chiralityData[chiralityData['label'] == currentLabel]\n",
      "        # Get minimum and maximum r\n",
      "        minR = currentData['r'].min()\n",
      "        maxR = currentData['r'].max()\n",
      "        if maxR - minR > minLength:\n",
      "            filteredLabels[currentData['x'], currentData['y']] = currentLabel\n",
      "    # Let's assume this does a good enough filtering job for now.\n",
      "    # Now figure out the chirality!\n",
      "    \n",
      "    if showPictures: showImage(ski.color.label2rgb(labels - 1))\n",
      "    \n",
      "    return filteredLabels"
     ],
     "language": "python",
     "metadata": {},
     "outputs": [],
     "prompt_number": 16
    },
    {
     "cell_type": "code",
     "collapsed": false,
     "input": [
      "def getChiralityData(labels, center):\n",
      "    minLabel = 1\n",
      "    maxLabel = np.max(labels)\n",
      "    chiralityData = pd.DataFrame()\n",
      "    \n",
      "    uniqueLabels = np.unique(labels)\n",
      "    uniqueLabels = uniqueLabels[uniqueLabels != 0]\n",
      "    for currentLabel in uniqueLabels:        \n",
      "        (x,y) = np.nonzero(labels == currentLabel)\n",
      "        coords = np.column_stack((x, y))\n",
      "        data = getPositionData(coords, center)\n",
      "        \n",
      "        # Now rotate the coordinate system so that it is in the correct spot\n",
      "        minRadiusIndex = data.r.idxmin()\n",
      "        minRadiusRow = data.iloc[minRadiusIndex]\n",
      "        minRadiusTheta = minRadiusRow['theta']\n",
      "        \n",
      "        data['rotated'] = data['theta'] - minRadiusTheta\n",
      "        data['rotated'][data['rotated'] < -np.pi] = 2*np.pi+ data['rotated']\n",
      "        data['rotated'][data['rotated'] > np.pi] = -2*np.pi + data['rotated']\n",
      "        \n",
      "        data['label'] = currentLabel\n",
      "        \n",
      "        chiralityData = chiralityData.append(data)\n",
      "        \n",
      "    chiralityData = chiralityData.reset_index(drop=True)\n",
      "    return chiralityData"
     ],
     "language": "python",
     "metadata": {},
     "outputs": [],
     "prompt_number": 17
    },
    {
     "cell_type": "code",
     "collapsed": false,
     "input": [
      "import skimage as ski\n",
      "import skimage.io \n",
      "import skimage.filter\n",
      "import skimage.morphology\n",
      "import skimage.draw\n",
      "import skimage.measure\n",
      "import scipy.ndimage as ndimage\n",
      "import skimage.feature\n",
      "import pymorph as pm\n",
      "import skimage.segmentation\n",
      "import mahotas as mah\n",
      "\n",
      "###### Code #######\n",
      "\n",
      "def findSectors(path, homelandCutFactor=0.33, edgeCutFactor=0.9, showPictures=False):\n",
      "    '''Finds the sectors in an image by looking at the first\n",
      "    fluorescence image (the first channel).\n",
      "    \n",
      "    Returns a labeled image with regions filed down to \n",
      "    approximately a single pixel.'''\n",
      "    \n",
      "    img = ski.io.imread(latestPath)\n",
      "    if showPictures: showImage(img)\n",
      "    \n",
      "    fluor1 = img[:, :, 0]\n",
      "    fluor2 = img[:, :, 1]\n",
      "    brightfield = img[:, :, 2]\n",
      "    \n",
      "    ### Use SimpleCV to find circle for now ###\n",
      "    (center, radius) = findBrightfieldCircle(brightfield, showPictures=showPictures)\n",
      "    \n",
      "    # Filter, clean things up\n",
      "    filtered = ski.filter.rank.median(fluor1, ski.morphology.disk(5))\n",
      "    if showPictures: showImage(filtered)\n",
      "    \n",
      "    # Find sectors\n",
      "    edges = ski.filter.sobel(filtered)\n",
      "    if showPictures: showImage(edges)\n",
      "    \n",
      "    # Cut out center\n",
      "    (rr, cc) = ski.draw.circle(center[0], center[1], homelandCutFactor*radius)\n",
      "    edges[rr, cc] = 0\n",
      "    # Cut out edge as we get artifacts there. Note that we could fix this by \n",
      "    # using some sort of bandpass filter, but python is being a pain so we won't\n",
      "    # do that right now\n",
      "    \n",
      "    (rr, cc) = ski.draw.circle(center[0], center[1], radius*edgeCutFactor)\n",
      "    mask = np.zeros(np.shape(edges))\n",
      "    mask[rr, cc] = 1\n",
      "    \n",
      "    edges = np.multiply(mask, edges)\n",
      "    \n",
      "    # Binarize\n",
      "    binaryValue = ski.filter.threshold_otsu(edges)\n",
      "    binary = edges > binaryValue\n",
      "    \n",
      "    binaryLabels = ski.morphology.label(binary, neighbors=8, background=0) + 1\n",
      "    showImage(ski.color.label2rgb(binaryLabels - 1))\n",
      "    # Split the labels\n",
      "    splitLabels(binaryLabels, center, showPictures=showPictures)\n",
      "    \n",
      "    # Filter the image...the hard part. Just rememember to look at image on full scale\n",
      "    # or things look discontinuous\n",
      "    thinnedLabels = reduceLabelsToPixel(binaryLabels, center, showPictures=False)\n",
      "    \n",
      "    # Filter out small labels\n",
      "    necessaryLength = .8*radius - homelandCutFactor*radius\n",
      "    filteredLabels = filterSectors(thinnedLabels, center, minLength=necessaryLength, showPictures=showPictures)\n",
      "    \n",
      "    if showPictures: showImage(ski.color.label2rgb(filteredLabels - 1))\n",
      "    \n",
      "    # Get the data of the sectors\n",
      "    chiralityData = getChiralityData(filteredLabels, center)\n",
      "    #return (filteredLabels, chiralityData)\n",
      "    return (filteredLabels, chiralityData)\n"
     ],
     "language": "python",
     "metadata": {},
     "outputs": [],
     "prompt_number": 18
    },
    {
     "cell_type": "code",
     "collapsed": false,
     "input": [
      "def  makeChiralityPlot(chiralityData):\n",
      "    for currentLabel in chiralityData.label.unique():\n",
      "        labelData = chiralityData[chiralityData['label'] == currentLabel]\n",
      "        labelData = labelData.sort(columns=['r'])\n",
      "        # Somehow I still don't think we have a unique theta at every r. Let us fix that.\n",
      "        # We can do that later. Let us apply this to the other replicate and see what happens.\n",
      "        labelData.plot(x='r', y='rotated', style='+')"
     ],
     "language": "python",
     "metadata": {},
     "outputs": [],
     "prompt_number": 19
    },
    {
     "cell_type": "markdown",
     "metadata": {},
     "source": [
      "So we could use this method or make my own. We could basically make a \"flood fill tool\" which is pretty ridiculous but will basically do what I want. Imaging sticking a hose to the center of this and filling it up, avoiding regions of high curvature!"
     ]
    },
    {
     "cell_type": "markdown",
     "metadata": {},
     "source": [
      "Here is the issue. My region is no longer continuous, so regionprops flips out. It doesn't know how to handle it. I probably need to make it continuous or use my own stuff."
     ]
    },
    {
     "cell_type": "markdown",
     "metadata": {},
     "source": [
      "## Tests"
     ]
    },
    {
     "cell_type": "code",
     "collapsed": false,
     "input": [
      "####### Run ########\n",
      "currentData = desiredColonies[desiredColonies.name == 'ReplicateB']\n",
      "latestDate = currentData.irow(currentData['date'].argmax())\n",
      "latestPath = latestDate['path']\n",
      "\n",
      "(filteredLabels, chiralityData) = findSectors(path, showPictures=False)"
     ],
     "language": "python",
     "metadata": {},
     "outputs": [
      {
       "ename": "KeyboardInterrupt",
       "evalue": "",
       "output_type": "pyerr",
       "traceback": [
        "\u001b[1;31m---------------------------------------------------------------------------\u001b[0m\n\u001b[1;31mKeyboardInterrupt\u001b[0m                         Traceback (most recent call last)",
        "\u001b[1;32m<ipython-input-91-5285dda429ad>\u001b[0m in \u001b[0;36m<module>\u001b[1;34m()\u001b[0m\n\u001b[0;32m      4\u001b[0m \u001b[0mlatestPath\u001b[0m \u001b[1;33m=\u001b[0m \u001b[0mlatestDate\u001b[0m\u001b[1;33m[\u001b[0m\u001b[1;34m'path'\u001b[0m\u001b[1;33m]\u001b[0m\u001b[1;33m\u001b[0m\u001b[0m\n\u001b[0;32m      5\u001b[0m \u001b[1;33m\u001b[0m\u001b[0m\n\u001b[1;32m----> 6\u001b[1;33m \u001b[1;33m(\u001b[0m\u001b[0mfilteredLabels\u001b[0m\u001b[1;33m,\u001b[0m \u001b[0mchiralityData\u001b[0m\u001b[1;33m)\u001b[0m \u001b[1;33m=\u001b[0m \u001b[0mfindSectors\u001b[0m\u001b[1;33m(\u001b[0m\u001b[0mpath\u001b[0m\u001b[1;33m,\u001b[0m \u001b[0mshowPictures\u001b[0m\u001b[1;33m=\u001b[0m\u001b[0mFalse\u001b[0m\u001b[1;33m)\u001b[0m\u001b[1;33m\u001b[0m\u001b[0m\n\u001b[0m",
        "\u001b[1;32m<ipython-input-89-af59f2b57984>\u001b[0m in \u001b[0;36mfindSectors\u001b[1;34m(path, homelandCutFactor, edgeCutFactor, showPictures)\u001b[0m\n\u001b[0;32m     58\u001b[0m     \u001b[0mshowImage\u001b[0m\u001b[1;33m(\u001b[0m\u001b[0mski\u001b[0m\u001b[1;33m.\u001b[0m\u001b[0mcolor\u001b[0m\u001b[1;33m.\u001b[0m\u001b[0mlabel2rgb\u001b[0m\u001b[1;33m(\u001b[0m\u001b[0mbinaryLabels\u001b[0m \u001b[1;33m-\u001b[0m \u001b[1;36m1\u001b[0m\u001b[1;33m)\u001b[0m\u001b[1;33m)\u001b[0m\u001b[1;33m\u001b[0m\u001b[0m\n\u001b[0;32m     59\u001b[0m     \u001b[1;31m# Split the labels\u001b[0m\u001b[1;33m\u001b[0m\u001b[1;33m\u001b[0m\u001b[0m\n\u001b[1;32m---> 60\u001b[1;33m     \u001b[0msplitLabels\u001b[0m\u001b[1;33m(\u001b[0m\u001b[0mbinaryLabels\u001b[0m\u001b[1;33m,\u001b[0m \u001b[0mcenter\u001b[0m\u001b[1;33m,\u001b[0m \u001b[0mshowPictures\u001b[0m\u001b[1;33m=\u001b[0m\u001b[0mshowPictures\u001b[0m\u001b[1;33m)\u001b[0m\u001b[1;33m\u001b[0m\u001b[0m\n\u001b[0m\u001b[0;32m     61\u001b[0m \u001b[1;33m\u001b[0m\u001b[0m\n\u001b[0;32m     62\u001b[0m     \u001b[1;31m# Filter the image...the hard part. Just rememember to look at image on full scale\u001b[0m\u001b[1;33m\u001b[0m\u001b[1;33m\u001b[0m\u001b[0m\n",
        "\u001b[1;32m<ipython-input-86-a08dbfe90780>\u001b[0m in \u001b[0;36msplitLabels\u001b[1;34m(labels, center, showPictures)\u001b[0m\n\u001b[0;32m     33\u001b[0m             \u001b[0mcurrentRadiusPic\u001b[0m \u001b[1;33m=\u001b[0m \u001b[0mnp\u001b[0m\u001b[1;33m.\u001b[0m\u001b[0mzeros\u001b[0m\u001b[1;33m(\u001b[0m\u001b[0mimageDimensions\u001b[0m\u001b[1;33m)\u001b[0m\u001b[1;33m\u001b[0m\u001b[0m\n\u001b[0;32m     34\u001b[0m             \u001b[0mcurrentRadiusPic\u001b[0m\u001b[1;33m[\u001b[0m\u001b[0mdataAtRadius\u001b[0m\u001b[1;33m[\u001b[0m\u001b[1;34m'x'\u001b[0m\u001b[1;33m]\u001b[0m\u001b[1;33m,\u001b[0m \u001b[0mdataAtRadius\u001b[0m\u001b[1;33m[\u001b[0m\u001b[1;34m'y'\u001b[0m\u001b[1;33m]\u001b[0m\u001b[1;33m]\u001b[0m \u001b[1;33m=\u001b[0m \u001b[1;36m1\u001b[0m\u001b[1;33m\u001b[0m\u001b[0m\n\u001b[1;32m---> 35\u001b[1;33m             \u001b[0mconnectedComponents\u001b[0m \u001b[1;33m=\u001b[0m \u001b[0mski\u001b[0m\u001b[1;33m.\u001b[0m\u001b[0mmorphology\u001b[0m\u001b[1;33m.\u001b[0m\u001b[0mlabel\u001b[0m\u001b[1;33m(\u001b[0m\u001b[0mcurrentRadiusPic\u001b[0m\u001b[1;33m,\u001b[0m \u001b[0mneighbors\u001b[0m\u001b[1;33m=\u001b[0m\u001b[1;36m8\u001b[0m\u001b[1;33m,\u001b[0m \u001b[0mbackground\u001b[0m\u001b[1;33m=\u001b[0m\u001b[1;36m0\u001b[0m\u001b[1;33m)\u001b[0m \u001b[1;33m+\u001b[0m \u001b[1;36m1\u001b[0m\u001b[1;33m\u001b[0m\u001b[0m\n\u001b[0m\u001b[0;32m     36\u001b[0m \u001b[1;33m\u001b[0m\u001b[0m\n\u001b[0;32m     37\u001b[0m             \u001b[0mrepresentativeTheta\u001b[0m \u001b[1;33m=\u001b[0m \u001b[0mnp\u001b[0m\u001b[1;33m.\u001b[0m\u001b[0marray\u001b[0m\u001b[1;33m(\u001b[0m\u001b[1;33m[\u001b[0m\u001b[1;33m]\u001b[0m\u001b[1;33m)\u001b[0m\u001b[1;33m\u001b[0m\u001b[0m\n",
        "\u001b[1;31mKeyboardInterrupt\u001b[0m: "
       ]
      }
     ],
     "prompt_number": 91
    },
    {
     "cell_type": "markdown",
     "metadata": {},
     "source": [
      "It looks like it's working. Let's try to plot chirality now without all the pictures."
     ]
    },
    {
     "cell_type": "markdown",
     "metadata": {},
     "source": [
      "## Replicate A"
     ]
    },
    {
     "cell_type": "code",
     "collapsed": false,
     "input": [
      "####### Non-verbose run ########\n",
      "currentData = desiredColonies[desiredColonies.name == 'ReplicateA']\n",
      "latestDate = currentData.irow(currentData['date'].argmax())\n",
      "latestPath = latestDate['path']\n",
      "\n",
      "(filteredLabels, chiralityData) = findSectors(path, showPictures=True, homelandCutFactor=0.4)\n",
      "figure()\n",
      "makeChiralityPlot(chiralityData)"
     ],
     "language": "python",
     "metadata": {},
     "outputs": [],
     "prompt_number": 21
    },
    {
     "cell_type": "markdown",
     "metadata": {},
     "source": [
      "## Replicate B"
     ]
    },
    {
     "cell_type": "code",
     "collapsed": false,
     "input": [
      "####### Non-verbose run ########\n",
      "currentData = desiredColonies[desiredColonies.name == 'ReplicateB']\n",
      "latestDate = currentData.irow(currentData['date'].argmax())\n",
      "latestPath = latestDate['path']\n",
      "\n",
      "(filteredLabels, chiralityData) = findSectors(path, showPictures=False)\n",
      "figure()\n",
      "makeChiralityPlot(chiralityData)"
     ],
     "language": "python",
     "metadata": {},
     "outputs": [],
     "prompt_number": 360
    },
    {
     "cell_type": "markdown",
     "metadata": {},
     "source": [
      "Hooray! It looks like it works and is at least somewhat robust! This is exciting. "
     ]
    },
    {
     "cell_type": "markdown",
     "metadata": {},
     "source": [
      "## Comparing low temperature to high temperature"
     ]
    },
    {
     "cell_type": "code",
     "collapsed": false,
     "input": [
      "lowTempColonies = imageData[(imageData['T']==21)&(imageData['mL']==50)]\n",
      "uniqueNames = lowTempColonies['name'].unique()\n",
      "for name in uniqueNames:\n",
      "    currentData = lowTempColonies[lowTempColonies['name'] == name]\n",
      "    \n",
      "    latestDate = currentData.irow(currentData['date'].argmax())\n",
      "    latestPath = latestDate['path']\n",
      "    (labels, data) = findSectors(latestPath, homelandCutFactor= 0.4, showPictures=False)\n",
      "    showImage(ski.color.label2rgb(labels - 1))\n",
      "    figure()\n",
      "    makeChiralityPlot(data)\n",
      "    break\n",
      "    "
     ],
     "language": "python",
     "metadata": {},
     "outputs": [],
     "prompt_number": 361
    },
    {
     "cell_type": "markdown",
     "metadata": {},
     "source": [
      "## Complete Chirality Analysis Loop ## "
     ]
    },
    {
     "cell_type": "code",
     "collapsed": false,
     "input": [
      "### \"Complete\" Algorithm ### \n",
      "\n",
      "uniqueNames = desiredColonies['name'].unique()\n",
      "for name in uniqueNames:\n",
      "    currentData = desiredColonies[desiredColonies.name == name]\n",
      "    latestDate = currentData.irow(currentData['date'].argmax())\n",
      "    # Get the image\n",
      "    img = cv.Image(latestDate['path'])\n",
      "    \n",
      "    (fluor1, fluor2, brightfield) = img.splitChannels()\n",
      "    \n",
      "    # Find the center of the circle\n",
      "    filtered = brightfield.bandPassFilter(0.05,0.8)\n",
      "    circs = filtered.findCircle(distance=2000, canny=50)\n",
      "    # There will only be one circle as we only allow one due to \"distance\"\n",
      "    circs = circs[0]    \n",
      "    center = circs.coordinates()\n",
      "    radius = circs.radius()\n",
      "    print 'Center: ' , center\n",
      "    \n",
      "    # Show it in relation to the brightfield to see how well it performed\n",
      "    circs = circs.reassign(brightfield)\n",
      "    circs.draw(width=8)\n",
      "    niceDisplay(brightfield, disp)\n",
      "    \n",
      "    # Now find the edges of the first image\n",
      "    edges = fluor1.edges(t1=25, t2=50)\n",
      "\n",
      "    ### Erase the homeland ###\n",
      "    homelandRadiusFraction = 0.3\n",
      "    edges.getDrawingLayer().circle(center, int(radius*homelandRadiusFraction), filled=True, color=cv.Color.BLACK)\n",
      "    edges = edges.applyLayers()\n",
      "    \n",
      "    # See how it looks on the fluorescent image\n",
      "    fluor1.getDrawingLayer().circle(center, int(radius*homelandRadiusFraction), filled=False, color=cv.Color.RED, width=8)\n",
      "    niceDisplay(fluor1, disp)\n",
      "                \n",
      "    ### Find blobs ###\n",
      "    blobs = edges.findBlobs(minsize=25, threshblocksize=3, appx_level=1)\n",
      "    blobs.draw(width=3)\n",
      "    niceDisplay(edges, disp, scaleFactor=0.5)\n",
      "    \n",
      "    # Turn blobs into paths\n",
      "    "
     ],
     "language": "python",
     "metadata": {},
     "outputs": []
    },
    {
     "cell_type": "markdown",
     "metadata": {},
     "source": [
      "# Potentially Useful"
     ]
    },
    {
     "cell_type": "code",
     "collapsed": false,
     "input": [
      "# Branch point finder\n",
      "def findBranchPoints(skel):\n",
      "    import mahotas as mh\n",
      "    \n",
      "    xbranch0  = np.array([[1,0,1],[0,1,0],[1,0,1]])\n",
      "    xbranch1 = np.array([[0,1,0],[1,1,1],[0,1,0]])\n",
      "    tbranch0 = np.array([[0,0,0],[1,1,1],[0,1,0]])\n",
      "    tbranch1 = np.flipud(tbranch0)\n",
      "    tbranch2 = tbranch0.T\n",
      "    tbranch3 = np.fliplr(tbranch2)\n",
      "    tbranch4 = np.array([[1,0,1],[0,1,0],[1,0,0]])\n",
      "    tbranch5 = np.flipud(tbranch4)\n",
      "    tbranch6 = np.fliplr(tbranch4)\n",
      "    tbranch7 = np.fliplr(tbranch5)  \n",
      "    ybranch0 = np.array([[1,0,1],[0,1,0],[2,1,2]])\n",
      "    ybranch1 = np.flipud(ybranch0)\n",
      "    ybranch2 = ybranch0.T\n",
      "    ybranch3 = np.fliplr(ybranch2)\n",
      "    ybranch4 = np.array([[0,1,2],[1,1,2],[2,2,1]])\n",
      "    ybranch5 = np.flipud(ybranch4)\n",
      "    ybranch6 = np.fliplr(ybranch4)\n",
      "    ybranch7 = np.fliplr(ybranch5)\n",
      "    \n",
      "    br = mh.morph.hitmiss(skel,xbranch0)\n",
      "    br+= mh.morph.hitmiss(skel,xbranch1)\n",
      "    \n",
      "    br+= mh.morph.hitmiss(skel,tbranch0)\n",
      "    br+= mh.morph.hitmiss(skel,tbranch1)\n",
      "    br+= mh.morph.hitmiss(skel,tbranch2)\n",
      "    br+= mh.morph.hitmiss(skel,tbranch3)\n",
      "    br+= mh.morph.hitmiss(skel,tbranch4)\n",
      "    br+= mh.morph.hitmiss(skel,tbranch5)\n",
      "    br+= mh.morph.hitmiss(skel,tbranch6)\n",
      "    br+= mh.morph.hitmiss(skel,tbranch7)\n",
      "    \n",
      "    br+= mh.morph.hitmiss(skel,ybranch0)\n",
      "    br+= mh.morph.hitmiss(skel,ybranch1)\n",
      "    br+= mh.morph.hitmiss(skel,ybranch2)\n",
      "    br+= mh.morph.hitmiss(skel,ybranch3)\n",
      "    br+= mh.morph.hitmiss(skel,ybranch4)\n",
      "    br+= mh.morph.hitmiss(skel,ybranch5)\n",
      "    br+= mh.morph.hitmiss(skel,ybranch6)\n",
      "    br+= mh.morph.hitmiss(skel,ybranch7)\n",
      "    \n",
      "    return br\n",
      "    "
     ],
     "language": "python",
     "metadata": {},
     "outputs": []
    },
    {
     "cell_type": "code",
     "collapsed": false,
     "input": [
      "np.nonzero([[1, 1], [0, 1]])[0]"
     ],
     "language": "python",
     "metadata": {},
     "outputs": [
      {
       "metadata": {},
       "output_type": "pyout",
       "prompt_number": 265,
       "text": [
        "array([0, 0, 1])"
       ]
      }
     ],
     "prompt_number": 265
    },
    {
     "cell_type": "code",
     "collapsed": false,
     "input": [],
     "language": "python",
     "metadata": {},
     "outputs": []
    }
   ],
   "metadata": {}
  }
 ]
}