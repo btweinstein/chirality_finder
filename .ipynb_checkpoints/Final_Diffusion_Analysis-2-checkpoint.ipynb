{
 "metadata": {
  "name": ""
 },
 "nbformat": 3,
 "nbformat_minor": 0,
 "worksheets": [
  {
   "cells": [
    {
     "cell_type": "code",
     "collapsed": false,
     "input": [
      "%reset"
     ],
     "language": "python",
     "metadata": {},
     "outputs": [
      {
       "name": "stdout",
       "output_type": "stream",
       "stream": "stdout",
       "text": [
        "Once deleted, variables cannot be recovered. Proceed (y/[n])? y\n"
       ]
      }
     ],
     "prompt_number": 288
    },
    {
     "cell_type": "code",
     "collapsed": false,
     "input": [
      "%pylab inline"
     ],
     "language": "python",
     "metadata": {},
     "outputs": [
      {
       "output_type": "stream",
       "stream": "stdout",
       "text": [
        "Populating the interactive namespace from numpy and matplotlib\n"
       ]
      }
     ],
     "prompt_number": 289
    },
    {
     "cell_type": "code",
     "collapsed": false,
     "input": [
      "%reload_ext autoreload\n",
      "%autoreload 2"
     ],
     "language": "python",
     "metadata": {},
     "outputs": [],
     "prompt_number": 290
    },
    {
     "cell_type": "code",
     "collapsed": false,
     "input": [
      "import pandas as pd\n",
      "import numpy as np"
     ],
     "language": "python",
     "metadata": {},
     "outputs": [],
     "prompt_number": 291
    },
    {
     "cell_type": "code",
     "collapsed": false,
     "input": [
      "growthOutputFolder = '/home/bryan/Documents/Research_Data/Nelson/Chirality_Initial_Imaging/Analysis/Growth/Automated_Output'\n",
      "editedFolder = '/home/bryan/Documents/Research_Data/Nelson/Chirality_Initial_Imaging/Analysis/Growth/Edited_Output'"
     ],
     "language": "python",
     "metadata": {},
     "outputs": [],
     "prompt_number": 292
    },
    {
     "cell_type": "markdown",
     "metadata": {},
     "source": [
      "# Importing Data"
     ]
    },
    {
     "cell_type": "markdown",
     "metadata": {},
     "source": [
      "## Growth"
     ]
    },
    {
     "cell_type": "code",
     "collapsed": false,
     "input": [
      "imageData = pd.read_csv(growthOutputFolder + '/automated_Output.csv')\n",
      "imageData = imageData.drop('Unnamed: 0', 1)\n",
      "display(imageData)"
     ],
     "language": "python",
     "metadata": {},
     "outputs": [
      {
       "html": [
        "<pre>\n",
        "&lt;class 'pandas.core.frame.DataFrame'&gt;\n",
        "Int64Index: 92 entries, 0 to 91\n",
        "Data columns (total 7 columns):\n",
        "path                       92  non-null values\n",
        "T                          92  non-null values\n",
        "mL                         92  non-null values\n",
        "name                       92  non-null values\n",
        "date                       92  non-null values\n",
        "colony_radius_mm           92  non-null values\n",
        "colony_radius_mm_stderr    92  non-null values\n",
        "dtypes: float64(2), int64(2), object(3)\n",
        "</pre>"
       ],
       "metadata": {},
       "output_type": "display_data",
       "text": [
        "<class 'pandas.core.frame.DataFrame'>\n",
        "Int64Index: 92 entries, 0 to 91\n",
        "Data columns (total 7 columns):\n",
        "path                       92  non-null values\n",
        "T                          92  non-null values\n",
        "mL                         92  non-null values\n",
        "name                       92  non-null values\n",
        "date                       92  non-null values\n",
        "colony_radius_mm           92  non-null values\n",
        "colony_radius_mm_stderr    92  non-null values\n",
        "dtypes: float64(2), int64(2), object(3)"
       ]
      }
     ],
     "prompt_number": 293
    },
    {
     "cell_type": "markdown",
     "metadata": {},
     "source": [
      "We have decided to drop the error as it is far too annoying. I will just approximate it as I corrected all of the awful ones by hand anyways."
     ]
    },
    {
     "cell_type": "code",
     "collapsed": false,
     "input": [
      "imageData = imageData.drop('colony_radius_mm_stderr', 1)"
     ],
     "language": "python",
     "metadata": {},
     "outputs": [],
     "prompt_number": 294
    },
    {
     "cell_type": "code",
     "collapsed": false,
     "input": [
      "import glob\n",
      "import scipy as sp\n",
      "import scipy.stats\n",
      "import os"
     ],
     "language": "python",
     "metadata": {},
     "outputs": [],
     "prompt_number": 295
    },
    {
     "cell_type": "code",
     "collapsed": false,
     "input": [
      "files = glob.glob(editedFolder + '/*.txt')\n",
      "editedData = pd.DataFrame()\n",
      "for f in files:\n",
      "    data = pd.read_csv(f, sep='\\t')\n",
      "    data['short_name'] = os.path.basename(f)\n",
      "    data['short_name'] = [f.split('.')[0] for f in data['short_name']]\n",
      "    data = data.drop([' ', 'Angle'], 1)\n",
      "\n",
      "    editedData = editedData.append(data)\n",
      "editedData = editedData.reset_index(drop=True)\n",
      "\n",
      "display(editedData.head(5))"
     ],
     "language": "python",
     "metadata": {},
     "outputs": [
      {
       "html": [
        "<div style=\"max-height:1000px;max-width:1500px;overflow:auto;\">\n",
        "<table border=\"1\" class=\"dataframe\">\n",
        "  <thead>\n",
        "    <tr style=\"text-align: right;\">\n",
        "      <th></th>\n",
        "      <th>Length</th>\n",
        "      <th>short_name</th>\n",
        "    </tr>\n",
        "  </thead>\n",
        "  <tbody>\n",
        "    <tr>\n",
        "      <th>0</th>\n",
        "      <td> 446.000</td>\n",
        "      <td> 30C_25mL_ReplicateA_2013_10_15-0011</td>\n",
        "    </tr>\n",
        "    <tr>\n",
        "      <th>1</th>\n",
        "      <td> 442.000</td>\n",
        "      <td> 30C_25mL_ReplicateA_2013_10_15-0011</td>\n",
        "    </tr>\n",
        "    <tr>\n",
        "      <th>2</th>\n",
        "      <td> 492.492</td>\n",
        "      <td> 30C_25mL_ReplicateA_2013_10_15-0011</td>\n",
        "    </tr>\n",
        "    <tr>\n",
        "      <th>3</th>\n",
        "      <td> 489.036</td>\n",
        "      <td> 30C_25mL_ReplicateA_2013_10_15-0011</td>\n",
        "    </tr>\n",
        "    <tr>\n",
        "      <th>4</th>\n",
        "      <td> 463.797</td>\n",
        "      <td> 30C_25mL_ReplicateA_2013_10_15-0011</td>\n",
        "    </tr>\n",
        "  </tbody>\n",
        "</table>\n",
        "</div>"
       ],
       "metadata": {},
       "output_type": "display_data",
       "text": [
        "    Length                           short_name\n",
        "0  446.000  30C_25mL_ReplicateA_2013_10_15-0011\n",
        "1  442.000  30C_25mL_ReplicateA_2013_10_15-0011\n",
        "2  492.492  30C_25mL_ReplicateA_2013_10_15-0011\n",
        "3  489.036  30C_25mL_ReplicateA_2013_10_15-0011\n",
        "4  463.797  30C_25mL_ReplicateA_2013_10_15-0011"
       ]
      }
     ],
     "prompt_number": 296
    },
    {
     "cell_type": "markdown",
     "metadata": {},
     "source": [
      "Good, that is working. Let us now combine this with the old imageData table."
     ]
    },
    {
     "cell_type": "code",
     "collapsed": false,
     "input": [
      "imageData['short_name'] = imageData.path.apply(os.path.basename)\n",
      "imageData['short_name'] = [f.split('.')[0] for f in imageData['short_name']]\n",
      "imageData.head(2)"
     ],
     "language": "python",
     "metadata": {},
     "outputs": [
      {
       "html": [
        "<div style=\"max-height:1000px;max-width:1500px;overflow:auto;\">\n",
        "<table border=\"1\" class=\"dataframe\">\n",
        "  <thead>\n",
        "    <tr style=\"text-align: right;\">\n",
        "      <th></th>\n",
        "      <th>path</th>\n",
        "      <th>T</th>\n",
        "      <th>mL</th>\n",
        "      <th>name</th>\n",
        "      <th>date</th>\n",
        "      <th>colony_radius_mm</th>\n",
        "      <th>short_name</th>\n",
        "    </tr>\n",
        "  </thead>\n",
        "  <tbody>\n",
        "    <tr>\n",
        "      <th>0</th>\n",
        "      <td> /home/bryan/Documents/Research_Data/Nelson/Chi...</td>\n",
        "      <td> 21</td>\n",
        "      <td> 25</td>\n",
        "      <td> ReplicateB</td>\n",
        "      <td> 2013-10-11 00:00:00</td>\n",
        "      <td> 3.293278</td>\n",
        "      <td> 21C_25mL_ReplicateB_2013_10_11-0002</td>\n",
        "    </tr>\n",
        "    <tr>\n",
        "      <th>1</th>\n",
        "      <td> /home/bryan/Documents/Research_Data/Nelson/Chi...</td>\n",
        "      <td> 37</td>\n",
        "      <td> 66</td>\n",
        "      <td> ReplicateB</td>\n",
        "      <td> 2013-10-07 00:00:00</td>\n",
        "      <td> 5.330891</td>\n",
        "      <td> 37C_66mL_ReplicateB_2013_10_07-0004</td>\n",
        "    </tr>\n",
        "  </tbody>\n",
        "</table>\n",
        "</div>"
       ],
       "metadata": {},
       "output_type": "pyout",
       "prompt_number": 297,
       "text": [
        "                                                path   T  mL        name  \\\n",
        "0  /home/bryan/Documents/Research_Data/Nelson/Chi...  21  25  ReplicateB   \n",
        "1  /home/bryan/Documents/Research_Data/Nelson/Chi...  37  66  ReplicateB   \n",
        "\n",
        "                  date  colony_radius_mm                           short_name  \n",
        "0  2013-10-11 00:00:00          3.293278  21C_25mL_ReplicateB_2013_10_11-0002  \n",
        "1  2013-10-07 00:00:00          5.330891  37C_66mL_ReplicateB_2013_10_07-0004  "
       ]
      }
     ],
     "prompt_number": 297
    },
    {
     "cell_type": "markdown",
     "metadata": {},
     "source": [
      "We have given up on the error. It is too annoying, as we don't exactly know what the error is! Our estimates are sloppy and it is likely better to estimate the error from the data."
     ]
    },
    {
     "cell_type": "code",
     "collapsed": false,
     "input": [
      "combinedData = pd.merge(imageData, editedData, on='short_name', how='outer')\n",
      "display(combinedData.head(5))"
     ],
     "language": "python",
     "metadata": {},
     "outputs": [
      {
       "html": [
        "<div style=\"max-height:1000px;max-width:1500px;overflow:auto;\">\n",
        "<table border=\"1\" class=\"dataframe\">\n",
        "  <thead>\n",
        "    <tr style=\"text-align: right;\">\n",
        "      <th></th>\n",
        "      <th>path</th>\n",
        "      <th>T</th>\n",
        "      <th>mL</th>\n",
        "      <th>name</th>\n",
        "      <th>date</th>\n",
        "      <th>colony_radius_mm</th>\n",
        "      <th>short_name</th>\n",
        "      <th>Length</th>\n",
        "    </tr>\n",
        "  </thead>\n",
        "  <tbody>\n",
        "    <tr>\n",
        "      <th>0</th>\n",
        "      <td> /home/bryan/Documents/Research_Data/Nelson/Chi...</td>\n",
        "      <td> 21</td>\n",
        "      <td> 25</td>\n",
        "      <td> ReplicateB</td>\n",
        "      <td> 2013-10-11 00:00:00</td>\n",
        "      <td> 3.293278</td>\n",
        "      <td> 21C_25mL_ReplicateB_2013_10_11-0002</td>\n",
        "      <td> NaN</td>\n",
        "    </tr>\n",
        "    <tr>\n",
        "      <th>1</th>\n",
        "      <td> /home/bryan/Documents/Research_Data/Nelson/Chi...</td>\n",
        "      <td> 37</td>\n",
        "      <td> 66</td>\n",
        "      <td> ReplicateB</td>\n",
        "      <td> 2013-10-07 00:00:00</td>\n",
        "      <td> 5.330891</td>\n",
        "      <td> 37C_66mL_ReplicateB_2013_10_07-0004</td>\n",
        "      <td> NaN</td>\n",
        "    </tr>\n",
        "    <tr>\n",
        "      <th>2</th>\n",
        "      <td> /home/bryan/Documents/Research_Data/Nelson/Chi...</td>\n",
        "      <td> 21</td>\n",
        "      <td> 66</td>\n",
        "      <td> ReplicateA</td>\n",
        "      <td> 2013-10-04 00:00:00</td>\n",
        "      <td> 1.945775</td>\n",
        "      <td> 21C_66mL_ReplicateA_2013_10_04-0012</td>\n",
        "      <td> 222</td>\n",
        "    </tr>\n",
        "    <tr>\n",
        "      <th>3</th>\n",
        "      <td> /home/bryan/Documents/Research_Data/Nelson/Chi...</td>\n",
        "      <td> 21</td>\n",
        "      <td> 66</td>\n",
        "      <td> ReplicateA</td>\n",
        "      <td> 2013-10-04 00:00:00</td>\n",
        "      <td> 1.945775</td>\n",
        "      <td> 21C_66mL_ReplicateA_2013_10_04-0012</td>\n",
        "      <td> 206</td>\n",
        "    </tr>\n",
        "    <tr>\n",
        "      <th>4</th>\n",
        "      <td> /home/bryan/Documents/Research_Data/Nelson/Chi...</td>\n",
        "      <td> 21</td>\n",
        "      <td> 66</td>\n",
        "      <td> ReplicateA</td>\n",
        "      <td> 2013-10-04 00:00:00</td>\n",
        "      <td> 1.945775</td>\n",
        "      <td> 21C_66mL_ReplicateA_2013_10_04-0012</td>\n",
        "      <td> 236</td>\n",
        "    </tr>\n",
        "  </tbody>\n",
        "</table>\n",
        "</div>"
       ],
       "metadata": {},
       "output_type": "display_data",
       "text": [
        "                                                path   T  mL        name  \\\n",
        "0  /home/bryan/Documents/Research_Data/Nelson/Chi...  21  25  ReplicateB   \n",
        "1  /home/bryan/Documents/Research_Data/Nelson/Chi...  37  66  ReplicateB   \n",
        "2  /home/bryan/Documents/Research_Data/Nelson/Chi...  21  66  ReplicateA   \n",
        "3  /home/bryan/Documents/Research_Data/Nelson/Chi...  21  66  ReplicateA   \n",
        "4  /home/bryan/Documents/Research_Data/Nelson/Chi...  21  66  ReplicateA   \n",
        "\n",
        "                  date  colony_radius_mm                           short_name  \\\n",
        "0  2013-10-11 00:00:00          3.293278  21C_25mL_ReplicateB_2013_10_11-0002   \n",
        "1  2013-10-07 00:00:00          5.330891  37C_66mL_ReplicateB_2013_10_07-0004   \n",
        "2  2013-10-04 00:00:00          1.945775  21C_66mL_ReplicateA_2013_10_04-0012   \n",
        "3  2013-10-04 00:00:00          1.945775  21C_66mL_ReplicateA_2013_10_04-0012   \n",
        "4  2013-10-04 00:00:00          1.945775  21C_66mL_ReplicateA_2013_10_04-0012   \n",
        "\n",
        "   Length  \n",
        "0     NaN  \n",
        "1     NaN  \n",
        "2     222  \n",
        "3     206  \n",
        "4     236  "
       ]
      }
     ],
     "prompt_number": 298
    },
    {
     "cell_type": "markdown",
     "metadata": {},
     "source": [
      "Beautiful. Let us now get an appropriate scale for each image."
     ]
    },
    {
     "cell_type": "code",
     "collapsed": false,
     "input": [
      "import chirality_image_analysis.utility as ut"
     ],
     "language": "python",
     "metadata": {},
     "outputs": [],
     "prompt_number": 299
    },
    {
     "cell_type": "code",
     "collapsed": false,
     "input": [
      "\n",
      "combinedData['scale'] = combinedData['path'].apply(ut.getScale)\n",
      "display(combinedData.head(3))"
     ],
     "language": "python",
     "metadata": {},
     "outputs": [
      {
       "html": [
        "<div style=\"max-height:1000px;max-width:1500px;overflow:auto;\">\n",
        "<table border=\"1\" class=\"dataframe\">\n",
        "  <thead>\n",
        "    <tr style=\"text-align: right;\">\n",
        "      <th></th>\n",
        "      <th>path</th>\n",
        "      <th>T</th>\n",
        "      <th>mL</th>\n",
        "      <th>name</th>\n",
        "      <th>date</th>\n",
        "      <th>colony_radius_mm</th>\n",
        "      <th>short_name</th>\n",
        "      <th>Length</th>\n",
        "      <th>scale</th>\n",
        "    </tr>\n",
        "  </thead>\n",
        "  <tbody>\n",
        "    <tr>\n",
        "      <th>0</th>\n",
        "      <td> /home/bryan/Documents/Research_Data/Nelson/Chi...</td>\n",
        "      <td> 21</td>\n",
        "      <td> 25</td>\n",
        "      <td> ReplicateB</td>\n",
        "      <td> 2013-10-11 00:00:00</td>\n",
        "      <td> 3.293278</td>\n",
        "      <td> 21C_25mL_ReplicateB_2013_10_11-0002</td>\n",
        "      <td> NaN</td>\n",
        "      <td> 0.007775</td>\n",
        "    </tr>\n",
        "    <tr>\n",
        "      <th>1</th>\n",
        "      <td> /home/bryan/Documents/Research_Data/Nelson/Chi...</td>\n",
        "      <td> 37</td>\n",
        "      <td> 66</td>\n",
        "      <td> ReplicateB</td>\n",
        "      <td> 2013-10-07 00:00:00</td>\n",
        "      <td> 5.330891</td>\n",
        "      <td> 37C_66mL_ReplicateB_2013_10_07-0004</td>\n",
        "      <td> NaN</td>\n",
        "      <td> 0.010827</td>\n",
        "    </tr>\n",
        "    <tr>\n",
        "      <th>2</th>\n",
        "      <td> /home/bryan/Documents/Research_Data/Nelson/Chi...</td>\n",
        "      <td> 21</td>\n",
        "      <td> 66</td>\n",
        "      <td> ReplicateA</td>\n",
        "      <td> 2013-10-04 00:00:00</td>\n",
        "      <td> 1.945775</td>\n",
        "      <td> 21C_66mL_ReplicateA_2013_10_04-0012</td>\n",
        "      <td> 222</td>\n",
        "      <td> 0.006399</td>\n",
        "    </tr>\n",
        "  </tbody>\n",
        "</table>\n",
        "</div>"
       ],
       "metadata": {},
       "output_type": "display_data",
       "text": [
        "                                                path   T  mL        name  \\\n",
        "0  /home/bryan/Documents/Research_Data/Nelson/Chi...  21  25  ReplicateB   \n",
        "1  /home/bryan/Documents/Research_Data/Nelson/Chi...  37  66  ReplicateB   \n",
        "2  /home/bryan/Documents/Research_Data/Nelson/Chi...  21  66  ReplicateA   \n",
        "\n",
        "                  date  colony_radius_mm                           short_name  \\\n",
        "0  2013-10-11 00:00:00          3.293278  21C_25mL_ReplicateB_2013_10_11-0002   \n",
        "1  2013-10-07 00:00:00          5.330891  37C_66mL_ReplicateB_2013_10_07-0004   \n",
        "2  2013-10-04 00:00:00          1.945775  21C_66mL_ReplicateA_2013_10_04-0012   \n",
        "\n",
        "   Length     scale  \n",
        "0     NaN  0.007775  \n",
        "1     NaN  0.010827  \n",
        "2     222  0.006399  "
       ]
      }
     ],
     "prompt_number": 300
    },
    {
     "cell_type": "code",
     "collapsed": false,
     "input": [
      "de = ~ combinedData.Length.isnull()\n",
      "combinedData['colony_radius_mm'][de] = combinedData['Length'][de]*combinedData['scale'][de]\n",
      "combinedData.head(6)"
     ],
     "language": "python",
     "metadata": {},
     "outputs": [
      {
       "html": [
        "<div style=\"max-height:1000px;max-width:1500px;overflow:auto;\">\n",
        "<table border=\"1\" class=\"dataframe\">\n",
        "  <thead>\n",
        "    <tr style=\"text-align: right;\">\n",
        "      <th></th>\n",
        "      <th>path</th>\n",
        "      <th>T</th>\n",
        "      <th>mL</th>\n",
        "      <th>name</th>\n",
        "      <th>date</th>\n",
        "      <th>colony_radius_mm</th>\n",
        "      <th>short_name</th>\n",
        "      <th>Length</th>\n",
        "      <th>scale</th>\n",
        "    </tr>\n",
        "  </thead>\n",
        "  <tbody>\n",
        "    <tr>\n",
        "      <th>0</th>\n",
        "      <td> /home/bryan/Documents/Research_Data/Nelson/Chi...</td>\n",
        "      <td> 21</td>\n",
        "      <td> 25</td>\n",
        "      <td> ReplicateB</td>\n",
        "      <td> 2013-10-11 00:00:00</td>\n",
        "      <td> 3.293278</td>\n",
        "      <td> 21C_25mL_ReplicateB_2013_10_11-0002</td>\n",
        "      <td> NaN</td>\n",
        "      <td> 0.007775</td>\n",
        "    </tr>\n",
        "    <tr>\n",
        "      <th>1</th>\n",
        "      <td> /home/bryan/Documents/Research_Data/Nelson/Chi...</td>\n",
        "      <td> 37</td>\n",
        "      <td> 66</td>\n",
        "      <td> ReplicateB</td>\n",
        "      <td> 2013-10-07 00:00:00</td>\n",
        "      <td> 5.330891</td>\n",
        "      <td> 37C_66mL_ReplicateB_2013_10_07-0004</td>\n",
        "      <td> NaN</td>\n",
        "      <td> 0.010827</td>\n",
        "    </tr>\n",
        "    <tr>\n",
        "      <th>2</th>\n",
        "      <td> /home/bryan/Documents/Research_Data/Nelson/Chi...</td>\n",
        "      <td> 21</td>\n",
        "      <td> 66</td>\n",
        "      <td> ReplicateA</td>\n",
        "      <td> 2013-10-04 00:00:00</td>\n",
        "      <td> 1.420536</td>\n",
        "      <td> 21C_66mL_ReplicateA_2013_10_04-0012</td>\n",
        "      <td> 222</td>\n",
        "      <td> 0.006399</td>\n",
        "    </tr>\n",
        "    <tr>\n",
        "      <th>3</th>\n",
        "      <td> /home/bryan/Documents/Research_Data/Nelson/Chi...</td>\n",
        "      <td> 21</td>\n",
        "      <td> 66</td>\n",
        "      <td> ReplicateA</td>\n",
        "      <td> 2013-10-04 00:00:00</td>\n",
        "      <td> 1.318155</td>\n",
        "      <td> 21C_66mL_ReplicateA_2013_10_04-0012</td>\n",
        "      <td> 206</td>\n",
        "      <td> 0.006399</td>\n",
        "    </tr>\n",
        "    <tr>\n",
        "      <th>4</th>\n",
        "      <td> /home/bryan/Documents/Research_Data/Nelson/Chi...</td>\n",
        "      <td> 21</td>\n",
        "      <td> 66</td>\n",
        "      <td> ReplicateA</td>\n",
        "      <td> 2013-10-04 00:00:00</td>\n",
        "      <td> 1.510119</td>\n",
        "      <td> 21C_66mL_ReplicateA_2013_10_04-0012</td>\n",
        "      <td> 236</td>\n",
        "      <td> 0.006399</td>\n",
        "    </tr>\n",
        "    <tr>\n",
        "      <th>5</th>\n",
        "      <td> /home/bryan/Documents/Research_Data/Nelson/Chi...</td>\n",
        "      <td> 21</td>\n",
        "      <td> 66</td>\n",
        "      <td> ReplicateA</td>\n",
        "      <td> 2013-10-04 00:00:00</td>\n",
        "      <td> 1.382143</td>\n",
        "      <td> 21C_66mL_ReplicateA_2013_10_04-0012</td>\n",
        "      <td> 216</td>\n",
        "      <td> 0.006399</td>\n",
        "    </tr>\n",
        "  </tbody>\n",
        "</table>\n",
        "</div>"
       ],
       "metadata": {},
       "output_type": "pyout",
       "prompt_number": 301,
       "text": [
        "                                                path   T  mL        name  \\\n",
        "0  /home/bryan/Documents/Research_Data/Nelson/Chi...  21  25  ReplicateB   \n",
        "1  /home/bryan/Documents/Research_Data/Nelson/Chi...  37  66  ReplicateB   \n",
        "2  /home/bryan/Documents/Research_Data/Nelson/Chi...  21  66  ReplicateA   \n",
        "3  /home/bryan/Documents/Research_Data/Nelson/Chi...  21  66  ReplicateA   \n",
        "4  /home/bryan/Documents/Research_Data/Nelson/Chi...  21  66  ReplicateA   \n",
        "5  /home/bryan/Documents/Research_Data/Nelson/Chi...  21  66  ReplicateA   \n",
        "\n",
        "                  date  colony_radius_mm                           short_name  \\\n",
        "0  2013-10-11 00:00:00          3.293278  21C_25mL_ReplicateB_2013_10_11-0002   \n",
        "1  2013-10-07 00:00:00          5.330891  37C_66mL_ReplicateB_2013_10_07-0004   \n",
        "2  2013-10-04 00:00:00          1.420536  21C_66mL_ReplicateA_2013_10_04-0012   \n",
        "3  2013-10-04 00:00:00          1.318155  21C_66mL_ReplicateA_2013_10_04-0012   \n",
        "4  2013-10-04 00:00:00          1.510119  21C_66mL_ReplicateA_2013_10_04-0012   \n",
        "5  2013-10-04 00:00:00          1.382143  21C_66mL_ReplicateA_2013_10_04-0012   \n",
        "\n",
        "   Length     scale  \n",
        "0     NaN  0.007775  \n",
        "1     NaN  0.010827  \n",
        "2     222  0.006399  \n",
        "3     206  0.006399  \n",
        "4     236  0.006399  \n",
        "5     216  0.006399  "
       ]
      }
     ],
     "prompt_number": 301
    },
    {
     "cell_type": "code",
     "collapsed": false,
     "input": [
      "growthData = combinedData.groupby(['path', 'date', 'T', 'mL', 'name']).agg({'colony_radius_mm' : mean})\n",
      "growthData = growthData.reset_index()\n",
      "display(growthData.head(6))"
     ],
     "language": "python",
     "metadata": {},
     "outputs": [
      {
       "html": [
        "<div style=\"max-height:1000px;max-width:1500px;overflow:auto;\">\n",
        "<table border=\"1\" class=\"dataframe\">\n",
        "  <thead>\n",
        "    <tr style=\"text-align: right;\">\n",
        "      <th></th>\n",
        "      <th>path</th>\n",
        "      <th>date</th>\n",
        "      <th>T</th>\n",
        "      <th>mL</th>\n",
        "      <th>name</th>\n",
        "      <th>colony_radius_mm</th>\n",
        "    </tr>\n",
        "  </thead>\n",
        "  <tbody>\n",
        "    <tr>\n",
        "      <th>0</th>\n",
        "      <td> /home/bryan/Documents/Research_Data/Nelson/Chi...</td>\n",
        "      <td> 2013-10-03 00:00:00</td>\n",
        "      <td> 21</td>\n",
        "      <td> 25</td>\n",
        "      <td> ReplicateB</td>\n",
        "      <td> 1.072320</td>\n",
        "    </tr>\n",
        "    <tr>\n",
        "      <th>1</th>\n",
        "      <td> /home/bryan/Documents/Research_Data/Nelson/Chi...</td>\n",
        "      <td> 2013-10-04 00:00:00</td>\n",
        "      <td> 21</td>\n",
        "      <td> 25</td>\n",
        "      <td> ReplicateB</td>\n",
        "      <td> 1.254533</td>\n",
        "    </tr>\n",
        "    <tr>\n",
        "      <th>2</th>\n",
        "      <td> /home/bryan/Documents/Research_Data/Nelson/Chi...</td>\n",
        "      <td> 2013-10-07 00:00:00</td>\n",
        "      <td> 21</td>\n",
        "      <td> 25</td>\n",
        "      <td> ReplicateB</td>\n",
        "      <td> 2.227408</td>\n",
        "    </tr>\n",
        "    <tr>\n",
        "      <th>3</th>\n",
        "      <td> /home/bryan/Documents/Research_Data/Nelson/Chi...</td>\n",
        "      <td> 2013-10-09 00:00:00</td>\n",
        "      <td> 21</td>\n",
        "      <td> 25</td>\n",
        "      <td> ReplicateB</td>\n",
        "      <td> 2.813173</td>\n",
        "    </tr>\n",
        "    <tr>\n",
        "      <th>4</th>\n",
        "      <td> /home/bryan/Documents/Research_Data/Nelson/Chi...</td>\n",
        "      <td> 2013-10-11 00:00:00</td>\n",
        "      <td> 21</td>\n",
        "      <td> 25</td>\n",
        "      <td> ReplicateB</td>\n",
        "      <td> 3.293278</td>\n",
        "    </tr>\n",
        "    <tr>\n",
        "      <th>5</th>\n",
        "      <td> /home/bryan/Documents/Research_Data/Nelson/Chi...</td>\n",
        "      <td> 2013-10-15 00:00:00</td>\n",
        "      <td> 21</td>\n",
        "      <td> 25</td>\n",
        "      <td> ReplicateB</td>\n",
        "      <td> 4.114244</td>\n",
        "    </tr>\n",
        "  </tbody>\n",
        "</table>\n",
        "</div>"
       ],
       "metadata": {},
       "output_type": "display_data",
       "text": [
        "                                                path                 date   T  \\\n",
        "0  /home/bryan/Documents/Research_Data/Nelson/Chi...  2013-10-03 00:00:00  21   \n",
        "1  /home/bryan/Documents/Research_Data/Nelson/Chi...  2013-10-04 00:00:00  21   \n",
        "2  /home/bryan/Documents/Research_Data/Nelson/Chi...  2013-10-07 00:00:00  21   \n",
        "3  /home/bryan/Documents/Research_Data/Nelson/Chi...  2013-10-09 00:00:00  21   \n",
        "4  /home/bryan/Documents/Research_Data/Nelson/Chi...  2013-10-11 00:00:00  21   \n",
        "5  /home/bryan/Documents/Research_Data/Nelson/Chi...  2013-10-15 00:00:00  21   \n",
        "\n",
        "   mL        name  colony_radius_mm  \n",
        "0  25  ReplicateB          1.072320  \n",
        "1  25  ReplicateB          1.254533  \n",
        "2  25  ReplicateB          2.227408  \n",
        "3  25  ReplicateB          2.813173  \n",
        "4  25  ReplicateB          3.293278  \n",
        "5  25  ReplicateB          4.114244  "
       ]
      }
     ],
     "prompt_number": 302
    },
    {
     "cell_type": "markdown",
     "metadata": {},
     "source": [
      "Make the date actually date-time; right now it is a string!"
     ]
    },
    {
     "cell_type": "code",
     "collapsed": false,
     "input": [
      "from dateutil import parser\n",
      "import datetime as dt"
     ],
     "language": "python",
     "metadata": {},
     "outputs": [],
     "prompt_number": 303
    },
    {
     "cell_type": "markdown",
     "metadata": {},
     "source": [
      "There seems to be some weird errors here. The bottom line is that everything else will work better if you create a new column when this is converted to string, delete the old one, and then rename the new one."
     ]
    },
    {
     "cell_type": "code",
     "collapsed": false,
     "input": [
      "growthData['date'] = growthData['date'].apply(parser.parse)"
     ],
     "language": "python",
     "metadata": {},
     "outputs": [],
     "prompt_number": 304
    },
    {
     "cell_type": "markdown",
     "metadata": {},
     "source": [
      "## Chirality Data"
     ]
    },
    {
     "cell_type": "code",
     "collapsed": false,
     "input": [
      "dataDirectory = '/home/bryan/Documents/Research_Data/Nelson/Chirality_Initial_Imaging/Analysis/Chirality_2'"
     ],
     "language": "python",
     "metadata": {},
     "outputs": [],
     "prompt_number": 305
    },
    {
     "cell_type": "code",
     "collapsed": false,
     "input": [
      "folders = glob.glob(dataDirectory + '/*/')\n",
      "csvPaths = [f + '/chiralityData.csv' for f in folders] \n",
      "display(csvPaths)"
     ],
     "language": "python",
     "metadata": {},
     "outputs": [
      {
       "metadata": {},
       "output_type": "display_data",
       "text": [
        "['/home/bryan/Documents/Research_Data/Nelson/Chirality_Initial_Imaging/Analysis/Chirality_2/21_66_ReplicateA_left//chiralityData.csv',\n",
        " '/home/bryan/Documents/Research_Data/Nelson/Chirality_Initial_Imaging/Analysis/Chirality_2/37_25_ReplicateA//chiralityData.csv',\n",
        " '/home/bryan/Documents/Research_Data/Nelson/Chirality_Initial_Imaging/Analysis/Chirality_2/21_25_ReplicateB//chiralityData.csv',\n",
        " '/home/bryan/Documents/Research_Data/Nelson/Chirality_Initial_Imaging/Analysis/Chirality_2/21_56_ReplicateB//chiralityData.csv',\n",
        " '/home/bryan/Documents/Research_Data/Nelson/Chirality_Initial_Imaging/Analysis/Chirality_2/30_50_ReplicateB//chiralityData.csv',\n",
        " '/home/bryan/Documents/Research_Data/Nelson/Chirality_Initial_Imaging/Analysis/Chirality_2/21_50_ReplicateA//chiralityData.csv',\n",
        " '/home/bryan/Documents/Research_Data/Nelson/Chirality_Initial_Imaging/Analysis/Chirality_2/30_25_ReplicateB//chiralityData.csv',\n",
        " '/home/bryan/Documents/Research_Data/Nelson/Chirality_Initial_Imaging/Analysis/Chirality_2/37_50_ReplicateB//chiralityData.csv',\n",
        " '/home/bryan/Documents/Research_Data/Nelson/Chirality_Initial_Imaging/Analysis/Chirality_2/37_66_ReplicateB//chiralityData.csv']"
       ]
      }
     ],
     "prompt_number": 306
    },
    {
     "cell_type": "code",
     "collapsed": false,
     "input": [
      "import pandas as pd\n",
      "\n",
      "allData = pd.DataFrame()\n",
      "for path in csvPaths:\n",
      "    allData = allData.append(pd.read_csv(path))\n",
      "\n",
      "allData.reset_index()\n",
      "\n",
      "allData = allData.rename(columns = {'Unnamed: 0' : 'radius_interval'})"
     ],
     "language": "python",
     "metadata": {},
     "outputs": [],
     "prompt_number": 307
    },
    {
     "cell_type": "code",
     "collapsed": false,
     "input": [
      "allData['rotated_righthanded'] = -1.*allData['rotated']"
     ],
     "language": "python",
     "metadata": {},
     "outputs": [],
     "prompt_number": 308
    },
    {
     "cell_type": "code",
     "collapsed": false,
     "input": [
      "path_label_groups = allData.groupby(['path', 'label'])\n",
      "minRadii = path_label_groups.agg({'r_mm' : min})\n",
      "minRadii = minRadii.add_suffix('_min')\n",
      "display(minRadii.head(5))"
     ],
     "language": "python",
     "metadata": {},
     "outputs": [
      {
       "html": [
        "<div style=\"max-height:1000px;max-width:1500px;overflow:auto;\">\n",
        "<table border=\"1\" class=\"dataframe\">\n",
        "  <thead>\n",
        "    <tr style=\"text-align: right;\">\n",
        "      <th></th>\n",
        "      <th></th>\n",
        "      <th>r_mm_min</th>\n",
        "    </tr>\n",
        "    <tr>\n",
        "      <th>path</th>\n",
        "      <th>label</th>\n",
        "      <th></th>\n",
        "    </tr>\n",
        "  </thead>\n",
        "  <tbody>\n",
        "    <tr>\n",
        "      <th rowspan=\"5\" valign=\"top\">/home/bryan/Documents/Research_Data/Nelson/Chirality_Initial_Imaging/6_ToAnalyze_Clean/21C_25mL_ReplicateB_2013_10_29-0003.tif</th>\n",
        "      <th>1</th>\n",
        "      <td> 2.272560</td>\n",
        "    </tr>\n",
        "    <tr>\n",
        "      <th>2</th>\n",
        "      <td> 2.274830</td>\n",
        "    </tr>\n",
        "    <tr>\n",
        "      <th>3</th>\n",
        "      <td> 2.276843</td>\n",
        "    </tr>\n",
        "    <tr>\n",
        "      <th>4</th>\n",
        "      <td> 2.266615</td>\n",
        "    </tr>\n",
        "    <tr>\n",
        "      <th>5</th>\n",
        "      <td> 2.266022</td>\n",
        "    </tr>\n",
        "  </tbody>\n",
        "</table>\n",
        "</div>"
       ],
       "metadata": {},
       "output_type": "display_data",
       "text": [
        "                                                                                                                                      r_mm_min\n",
        "path                                                                                                                           label          \n",
        "/home/bryan/Documents/Research_Data/Nelson/Chirality_Initial_Imaging/6_ToAnalyze_Clean/21C_25mL_ReplicateB_2013_10_29-0003.tif 1      2.272560\n",
        "                                                                                                                               2      2.274830\n",
        "                                                                                                                               3      2.276843\n",
        "                                                                                                                               4      2.266615\n",
        "                                                                                                                               5      2.266022"
       ]
      }
     ],
     "prompt_number": 309
    },
    {
     "cell_type": "code",
     "collapsed": false,
     "input": [
      "mr_reset = minRadii.reset_index()\n",
      "allData = pd.merge(allData, mr_reset, on=['path', 'label'])\n",
      "print allData"
     ],
     "language": "python",
     "metadata": {},
     "outputs": [
      {
       "output_type": "stream",
       "stream": "stdout",
       "text": [
        "<class 'pandas.core.frame.DataFrame'>\n",
        "Int64Index: 44119 entries, 0 to 44118\n",
        "Data columns (total 21 columns):\n",
        "T                      44119  non-null values\n",
        "radius_interval        44119  non-null values\n",
        "colony_radius_mm       44119  non-null values\n",
        "date                   44119  non-null values\n",
        "dx                     44119  non-null values\n",
        "dx_mm                  44119  non-null values\n",
        "dy                     44119  non-null values\n",
        "dy_mm                  44119  non-null values\n",
        "label                  44119  non-null values\n",
        "mL                     44119  non-null values\n",
        "mm_per_pixel           44119  non-null values\n",
        "name                   44119  non-null values\n",
        "path                   44119  non-null values\n",
        "r                      44119  non-null values\n",
        "r_mm                   44119  non-null values\n",
        "rotated                44119  non-null values\n",
        "theta                  44119  non-null values\n",
        "x                      44119  non-null values\n",
        "y                      44119  non-null values\n",
        "rotated_righthanded    44119  non-null values\n",
        "r_mm_min               44119  non-null values\n",
        "dtypes: float64(14), int64(3), object(4)\n"
       ]
      }
     ],
     "prompt_number": 310
    },
    {
     "cell_type": "code",
     "collapsed": false,
     "input": [
      "allData['log_r_div_ri'] = np.log(allData['r_mm']/allData['r_mm_min'])\n",
      "allData['1_div_ri_minus_1_r'] = (1/allData['r_mm_min']) - (1/allData['r_mm']) \n",
      "display(allData)"
     ],
     "language": "python",
     "metadata": {},
     "outputs": [
      {
       "html": [
        "<pre>\n",
        "&lt;class 'pandas.core.frame.DataFrame'&gt;\n",
        "Int64Index: 44119 entries, 0 to 44118\n",
        "Data columns (total 23 columns):\n",
        "T                      44119  non-null values\n",
        "radius_interval        44119  non-null values\n",
        "colony_radius_mm       44119  non-null values\n",
        "date                   44119  non-null values\n",
        "dx                     44119  non-null values\n",
        "dx_mm                  44119  non-null values\n",
        "dy                     44119  non-null values\n",
        "dy_mm                  44119  non-null values\n",
        "label                  44119  non-null values\n",
        "mL                     44119  non-null values\n",
        "mm_per_pixel           44119  non-null values\n",
        "name                   44119  non-null values\n",
        "path                   44119  non-null values\n",
        "r                      44119  non-null values\n",
        "r_mm                   44119  non-null values\n",
        "rotated                44119  non-null values\n",
        "theta                  44119  non-null values\n",
        "x                      44119  non-null values\n",
        "y                      44119  non-null values\n",
        "rotated_righthanded    44119  non-null values\n",
        "r_mm_min               44119  non-null values\n",
        "log_r_div_ri           44119  non-null values\n",
        "1_div_ri_minus_1_r     44119  non-null values\n",
        "dtypes: float64(16), int64(3), object(4)\n",
        "</pre>"
       ],
       "metadata": {},
       "output_type": "display_data",
       "text": [
        "<class 'pandas.core.frame.DataFrame'>\n",
        "Int64Index: 44119 entries, 0 to 44118\n",
        "Data columns (total 23 columns):\n",
        "T                      44119  non-null values\n",
        "radius_interval        44119  non-null values\n",
        "colony_radius_mm       44119  non-null values\n",
        "date                   44119  non-null values\n",
        "dx                     44119  non-null values\n",
        "dx_mm                  44119  non-null values\n",
        "dy                     44119  non-null values\n",
        "dy_mm                  44119  non-null values\n",
        "label                  44119  non-null values\n",
        "mL                     44119  non-null values\n",
        "mm_per_pixel           44119  non-null values\n",
        "name                   44119  non-null values\n",
        "path                   44119  non-null values\n",
        "r                      44119  non-null values\n",
        "r_mm                   44119  non-null values\n",
        "rotated                44119  non-null values\n",
        "theta                  44119  non-null values\n",
        "x                      44119  non-null values\n",
        "y                      44119  non-null values\n",
        "rotated_righthanded    44119  non-null values\n",
        "r_mm_min               44119  non-null values\n",
        "log_r_div_ri           44119  non-null values\n",
        "1_div_ri_minus_1_r     44119  non-null values\n",
        "dtypes: float64(16), int64(3), object(4)"
       ]
      }
     ],
     "prompt_number": 311
    },
    {
     "cell_type": "markdown",
     "metadata": {},
     "source": [
      "## Combining the Data"
     ]
    },
    {
     "cell_type": "code",
     "collapsed": false,
     "input": [
      "print allData"
     ],
     "language": "python",
     "metadata": {},
     "outputs": [
      {
       "output_type": "stream",
       "stream": "stdout",
       "text": [
        "<class 'pandas.core.frame.DataFrame'>\n",
        "Int64Index: 44119 entries, 0 to 44118\n",
        "Data columns (total 23 columns):\n",
        "T                      44119  non-null values\n",
        "radius_interval        44119  non-null values\n",
        "colony_radius_mm       44119  non-null values\n",
        "date                   44119  non-null values\n",
        "dx                     44119  non-null values\n",
        "dx_mm                  44119  non-null values\n",
        "dy                     44119  non-null values\n",
        "dy_mm                  44119  non-null values\n",
        "label                  44119  non-null values\n",
        "mL                     44119  non-null values\n",
        "mm_per_pixel           44119  non-null values\n",
        "name                   44119  non-null values\n",
        "path                   44119  non-null values\n",
        "r                      44119  non-null values\n",
        "r_mm                   44119  non-null values\n",
        "rotated                44119  non-null values\n",
        "theta                  44119  non-null values\n",
        "x                      44119  non-null values\n",
        "y                      44119  non-null values\n",
        "rotated_righthanded    44119  non-null values\n",
        "r_mm_min               44119  non-null values\n",
        "log_r_div_ri           44119  non-null values\n",
        "1_div_ri_minus_1_r     44119  non-null values\n",
        "dtypes: float64(16), int64(3), object(4)\n"
       ]
      }
     ],
     "prompt_number": 312
    },
    {
     "cell_type": "code",
     "collapsed": false,
     "input": [
      "print growthData"
     ],
     "language": "python",
     "metadata": {},
     "outputs": [
      {
       "output_type": "stream",
       "stream": "stdout",
       "text": [
        "<class 'pandas.core.frame.DataFrame'>\n",
        "Int64Index: 92 entries, 0 to 91\n",
        "Data columns (total 6 columns):\n",
        "path                92  non-null values\n",
        "date                92  non-null values\n",
        "T                   92  non-null values\n",
        "mL                  92  non-null values\n",
        "name                92  non-null values\n",
        "colony_radius_mm    92  non-null values\n",
        "dtypes: datetime64[ns](1), float64(1), int64(2), object(2)\n"
       ]
      }
     ],
     "prompt_number": 313
    },
    {
     "cell_type": "markdown",
     "metadata": {},
     "source": [
      "We want to merge on path, replace date and colony_radius_mm. Let's just drop the columns that we know are not quite accurate."
     ]
    },
    {
     "cell_type": "code",
     "collapsed": false,
     "input": [
      "edited_cd = allData.copy()\n",
      "edited_gd = growthData.copy()"
     ],
     "language": "python",
     "metadata": {},
     "outputs": [],
     "prompt_number": 314
    },
    {
     "cell_type": "code",
     "collapsed": false,
     "input": [
      "edited_cd = edited_cd.drop(['date', 'colony_radius_mm'], 1)"
     ],
     "language": "python",
     "metadata": {},
     "outputs": [],
     "prompt_number": 315
    },
    {
     "cell_type": "code",
     "collapsed": false,
     "input": [
      "print edited_cd"
     ],
     "language": "python",
     "metadata": {},
     "outputs": [
      {
       "output_type": "stream",
       "stream": "stdout",
       "text": [
        "<class 'pandas.core.frame.DataFrame'>\n",
        "Int64Index: 44119 entries, 0 to 44118\n",
        "Data columns (total 21 columns):\n",
        "T                      44119  non-null values\n",
        "radius_interval        44119  non-null values\n",
        "dx                     44119  non-null values\n",
        "dx_mm                  44119  non-null values\n",
        "dy                     44119  non-null values\n",
        "dy_mm                  44119  non-null values\n",
        "label                  44119  non-null values\n",
        "mL                     44119  non-null values\n",
        "mm_per_pixel           44119  non-null values\n",
        "name                   44119  non-null values\n",
        "path                   44119  non-null values\n",
        "r                      44119  non-null values\n",
        "r_mm                   44119  non-null values\n",
        "rotated                44119  non-null values\n",
        "theta                  44119  non-null values\n",
        "x                      44119  non-null values\n",
        "y                      44119  non-null values\n",
        "rotated_righthanded    44119  non-null values\n",
        "r_mm_min               44119  non-null values\n",
        "log_r_div_ri           44119  non-null values\n",
        "1_div_ri_minus_1_r     44119  non-null values\n",
        "dtypes: float64(15), int64(3), object(3)\n"
       ]
      }
     ],
     "prompt_number": 316
    },
    {
     "cell_type": "code",
     "collapsed": false,
     "input": [
      "edited_gd = edited_gd.drop(['T', 'mL', 'name'], 1)"
     ],
     "language": "python",
     "metadata": {},
     "outputs": [],
     "prompt_number": 317
    },
    {
     "cell_type": "code",
     "collapsed": false,
     "input": [
      "print edited_gd"
     ],
     "language": "python",
     "metadata": {},
     "outputs": [
      {
       "output_type": "stream",
       "stream": "stdout",
       "text": [
        "<class 'pandas.core.frame.DataFrame'>\n",
        "Int64Index: 92 entries, 0 to 91\n",
        "Data columns (total 3 columns):\n",
        "path                92  non-null values\n",
        "date                92  non-null values\n",
        "colony_radius_mm    92  non-null values\n",
        "dtypes: datetime64[ns](1), float64(1), object(1)\n"
       ]
      }
     ],
     "prompt_number": 318
    },
    {
     "cell_type": "code",
     "collapsed": false,
     "input": [
      "combinedData = pd.merge(edited_cd, edited_gd, how='outer', on='path')\n",
      "print combinedData"
     ],
     "language": "python",
     "metadata": {},
     "outputs": [
      {
       "output_type": "stream",
       "stream": "stdout",
       "text": [
        "<class 'pandas.core.frame.DataFrame'>\n",
        "Int64Index: 44202 entries, 0 to 44201\n",
        "Data columns (total 23 columns):\n",
        "T                      44119  non-null values\n",
        "radius_interval        44119  non-null values\n",
        "dx                     44119  non-null values\n",
        "dx_mm                  44119  non-null values\n",
        "dy                     44119  non-null values\n",
        "dy_mm                  44119  non-null values\n",
        "label                  44119  non-null values\n",
        "mL                     44119  non-null values\n",
        "mm_per_pixel           44119  non-null values\n",
        "name                   44119  non-null values\n",
        "path                   44202  non-null values\n",
        "r                      44119  non-null values\n",
        "r_mm                   44119  non-null values\n",
        "rotated                44119  non-null values\n",
        "theta                  44119  non-null values\n",
        "x                      44119  non-null values\n",
        "y                      44119  non-null values\n",
        "rotated_righthanded    44119  non-null values\n",
        "r_mm_min               44119  non-null values\n",
        "log_r_div_ri           44119  non-null values\n",
        "1_div_ri_minus_1_r     44119  non-null values\n",
        "date                   44202  non-null values\n",
        "colony_radius_mm       44202  non-null values\n",
        "dtypes: datetime64[ns](1), float64(19), object(3)\n"
       ]
      }
     ],
     "prompt_number": 319
    },
    {
     "cell_type": "markdown",
     "metadata": {},
     "source": [
      "Ok, we are all set. Everything worked well."
     ]
    },
    {
     "cell_type": "markdown",
     "metadata": {},
     "source": [
      "# Fitting Model with PyMC"
     ]
    },
    {
     "cell_type": "markdown",
     "metadata": {},
     "source": [
      "## Converting time to delta T"
     ]
    },
    {
     "cell_type": "markdown",
     "metadata": {},
     "source": [
      "Let us convert the time into seconds."
     ]
    },
    {
     "cell_type": "code",
     "collapsed": false,
     "input": [
      "import time"
     ],
     "language": "python",
     "metadata": {},
     "outputs": [],
     "prompt_number": 320
    },
    {
     "cell_type": "code",
     "collapsed": false,
     "input": [
      "growthData['time_s'] = growthData['date'].apply(lambda x: time.mktime(x.timetuple()))"
     ],
     "language": "python",
     "metadata": {},
     "outputs": [],
     "prompt_number": 321
    },
    {
     "cell_type": "code",
     "collapsed": false,
     "input": [
      "plate_groups = growthData.groupby(['T', 'mL', 'name'])\n",
      "timeDelta = plate_groups['time_s'].transform(lambda x: x - x.min())\n",
      "timeDelta.name = 'timeDelta'\n",
      "print timeDelta.head(15)\n",
      "\n",
      "combinedData = growthData.copy()\n",
      "combinedData['timeDelta'] = timeDelta"
     ],
     "language": "python",
     "metadata": {},
     "outputs": [
      {
       "output_type": "stream",
       "stream": "stdout",
       "text": [
        "0           0\n",
        "1       86400\n",
        "2      345600\n",
        "3      518400\n",
        "4      691200\n",
        "5     1036800\n",
        "6     1555200\n",
        "7     2246400\n",
        "8           0\n",
        "9       86400\n",
        "10     345600\n",
        "11     518400\n",
        "12     691200\n",
        "13    1036800\n",
        "14    1555200\n",
        "Name: timeDelta, dtype: float64\n"
       ]
      }
     ],
     "prompt_number": 322
    },
    {
     "cell_type": "code",
     "collapsed": false,
     "input": [
      "combinedData.head(5)"
     ],
     "language": "python",
     "metadata": {},
     "outputs": [
      {
       "html": [
        "<div style=\"max-height:1000px;max-width:1500px;overflow:auto;\">\n",
        "<table border=\"1\" class=\"dataframe\">\n",
        "  <thead>\n",
        "    <tr style=\"text-align: right;\">\n",
        "      <th></th>\n",
        "      <th>path</th>\n",
        "      <th>date</th>\n",
        "      <th>T</th>\n",
        "      <th>mL</th>\n",
        "      <th>name</th>\n",
        "      <th>colony_radius_mm</th>\n",
        "      <th>time_s</th>\n",
        "      <th>timeDelta</th>\n",
        "    </tr>\n",
        "  </thead>\n",
        "  <tbody>\n",
        "    <tr>\n",
        "      <th>0</th>\n",
        "      <td> /home/bryan/Documents/Research_Data/Nelson/Chi...</td>\n",
        "      <td>2013-10-03 00:00:00</td>\n",
        "      <td> 21</td>\n",
        "      <td> 25</td>\n",
        "      <td> ReplicateB</td>\n",
        "      <td> 1.072320</td>\n",
        "      <td> 1380772800</td>\n",
        "      <td>      0</td>\n",
        "    </tr>\n",
        "    <tr>\n",
        "      <th>1</th>\n",
        "      <td> /home/bryan/Documents/Research_Data/Nelson/Chi...</td>\n",
        "      <td>2013-10-04 00:00:00</td>\n",
        "      <td> 21</td>\n",
        "      <td> 25</td>\n",
        "      <td> ReplicateB</td>\n",
        "      <td> 1.254533</td>\n",
        "      <td> 1380859200</td>\n",
        "      <td>  86400</td>\n",
        "    </tr>\n",
        "    <tr>\n",
        "      <th>2</th>\n",
        "      <td> /home/bryan/Documents/Research_Data/Nelson/Chi...</td>\n",
        "      <td>2013-10-07 00:00:00</td>\n",
        "      <td> 21</td>\n",
        "      <td> 25</td>\n",
        "      <td> ReplicateB</td>\n",
        "      <td> 2.227408</td>\n",
        "      <td> 1381118400</td>\n",
        "      <td> 345600</td>\n",
        "    </tr>\n",
        "    <tr>\n",
        "      <th>3</th>\n",
        "      <td> /home/bryan/Documents/Research_Data/Nelson/Chi...</td>\n",
        "      <td>2013-10-09 00:00:00</td>\n",
        "      <td> 21</td>\n",
        "      <td> 25</td>\n",
        "      <td> ReplicateB</td>\n",
        "      <td> 2.813173</td>\n",
        "      <td> 1381291200</td>\n",
        "      <td> 518400</td>\n",
        "    </tr>\n",
        "    <tr>\n",
        "      <th>4</th>\n",
        "      <td> /home/bryan/Documents/Research_Data/Nelson/Chi...</td>\n",
        "      <td>2013-10-11 00:00:00</td>\n",
        "      <td> 21</td>\n",
        "      <td> 25</td>\n",
        "      <td> ReplicateB</td>\n",
        "      <td> 3.293278</td>\n",
        "      <td> 1381464000</td>\n",
        "      <td> 691200</td>\n",
        "    </tr>\n",
        "  </tbody>\n",
        "</table>\n",
        "</div>"
       ],
       "metadata": {},
       "output_type": "pyout",
       "prompt_number": 323,
       "text": [
        "                                                path                date   T  \\\n",
        "0  /home/bryan/Documents/Research_Data/Nelson/Chi... 2013-10-03 00:00:00  21   \n",
        "1  /home/bryan/Documents/Research_Data/Nelson/Chi... 2013-10-04 00:00:00  21   \n",
        "2  /home/bryan/Documents/Research_Data/Nelson/Chi... 2013-10-07 00:00:00  21   \n",
        "3  /home/bryan/Documents/Research_Data/Nelson/Chi... 2013-10-09 00:00:00  21   \n",
        "4  /home/bryan/Documents/Research_Data/Nelson/Chi... 2013-10-11 00:00:00  21   \n",
        "\n",
        "   mL        name  colony_radius_mm      time_s  timeDelta  \n",
        "0  25  ReplicateB          1.072320  1380772800          0  \n",
        "1  25  ReplicateB          1.254533  1380859200      86400  \n",
        "2  25  ReplicateB          2.227408  1381118400     345600  \n",
        "3  25  ReplicateB          2.813173  1381291200     518400  \n",
        "4  25  ReplicateB          3.293278  1381464000     691200  "
       ]
      }
     ],
     "prompt_number": 323
    },
    {
     "cell_type": "markdown",
     "metadata": {},
     "source": [
      "Good. Finally! That works. lol. We now have the deltaT in seconds."
     ]
    },
    {
     "cell_type": "markdown",
     "metadata": {},
     "source": [
      "## Setting up System"
     ]
    },
    {
     "cell_type": "code",
     "collapsed": false,
     "input": [
      "import pymc"
     ],
     "language": "python",
     "metadata": {},
     "outputs": [],
     "prompt_number": 324
    },
    {
     "cell_type": "code",
     "collapsed": false,
     "input": [
      "def bin_chirality(currentChiralityData):\n",
      "    min_x = currentChiralityData['log_r_div_ri'].min() - 10**-6\n",
      "    max_x = currentChiralityData['log_r_div_ri'].max() + 10**-6\n",
      "    numBins = 75\n",
      "\n",
      "    print 'numBins for chirality:' , numBins\n",
      "    print 'Min log(r/ri):', min_x \n",
      "    print 'Max log(r/ri):', max_x \n",
      "\n",
      "    bins, binsize = np.linspace(min_x, max_x, numBins, retstep=True)\n",
      "\n",
      "    print 'Dimensionless Binsize for log(r/ri):' , binsize\n",
      "\n",
      "    group_T = currentChiralityData.groupby([pd.cut(currentChiralityData['log_r_div_ri'], bins), 'T'])\n",
      "    \n",
      "    return group_T\n",
      "\n",
      "def plot_av_chirality(av_currentChiralityData):\n",
      "    x = av_currentChiralityData['log_r_div_ri', 'mean'].values\n",
      "    y = av_currentChiralityData['rotated_righthanded', 'mean'].values\n",
      "    #xerr=binsize\n",
      "    yerr = av_currentChiralityData['rotated_righthanded', 'std'].values\n",
      "    \n",
      "    plt.figure()\n",
      "    plt.plot(x , y, '+-')\n",
      "    plt.fill_between(x, y - yerr, y + yerr, alpha=0.3, antialiased=True)\n",
      "    plt.xlabel('Average $\\ln{(r/r_i)}$')\n",
      "    plt.ylabel('Average d$\\\\theta$')\n",
      "    plt.title('Average d$\\\\theta$ vs. Normalized Radius')\n",
      "\n",
      "def bin_diffusion(currentChiralityData):\n",
      "    min_x = currentChiralityData['1_div_ri_minus_1_r'].min() - 10**-6\n",
      "    max_x = currentChiralityData['1_div_ri_minus_1_r'].max() + 10**-6\n",
      "    numBins = 75\n",
      "\n",
      "    print 'Numbins for diffusion:' , numBins\n",
      "    print 'Min 1/ri - 1/r:', min_x \n",
      "    print 'Max 1/ri - 1/r:', max_x \n",
      "    \n",
      "    bins, binsize = np.linspace(min_x, max_x, numBins, retstep=True)\n",
      "    \n",
      "    print 'Dimensionless Binsize for 1/ri - 1/r:' , binsize\n",
      "    \n",
      "    group_T = currentChiralityData.groupby([pd.cut(currentChiralityData['1_div_ri_minus_1_r'], bins), 'T'])\n",
      "    \n",
      "    return group_T\n",
      "\n",
      "def plot_diffusion(av_currentDiffusionData, av_currentChiralityData):\n",
      "    x = av_currentDiffusionData['1_div_ri_minus_1_r', 'mean'].values\n",
      "    y = av_currentChiralityData['rotated_righthanded', 'var'].values\n",
      "    #xerr = binsize\n",
      "    #yerr = av_currentChiralityData['rotated_righthanded', 'std'].values\n",
      "        \n",
      "    plt.figure()\n",
      "    plt.plot(x , y, '+-')\n",
      "    \n",
      "    plt.xlabel('Average $1/r_i - 1/r$')\n",
      "    plt.ylabel('Var(d$\\\\theta)$')\n",
      "    plt.title('Variance of d$\\\\theta$ vs. Normalized Radius')\n",
      "\n",
      "def setup_analysis(temp):\n",
      "    \n",
      "    print 'Setting up the simulation for T=' , temp , '...'\n",
      "    \n",
      "    # Get the desired data\n",
      "    plate_groups = combinedData.groupby(['T'])\n",
      "    current_group = plate_groups.get_group(temp)\n",
      "    \n",
      "    current_group['colony_radius_um'] = current_group['colony_radius_mm']*10.**3.\n",
      "    \n",
      "    currentChiralityData = allData[(allData['T'] == temp)]\n",
      "    print\n",
      "    binnedChiralityData = bin_chirality(currentChiralityData)\n",
      "    \n",
      "    av_currentChiralityData = binnedChiralityData.agg([mean, std, var, len])\n",
      "    plot_av_chirality(av_currentChiralityData)\n",
      "    \n",
      "    print\n",
      "    binnedDiffusion = bin_diffusion(currentChiralityData)\n",
      "    av_currentDiffusionData = binnedDiffusion.agg([mean, std, var, len])\n",
      "    \n",
      "    plot_diffusion(av_currentDiffusionData, av_currentChiralityData)\n",
      "    \n",
      "    print\n",
      "    print 'Done setting up!'\n",
      "    \n",
      "    return current_group, av_currentChiralityData, av_currentDiffusionData"
     ],
     "language": "python",
     "metadata": {},
     "outputs": [],
     "prompt_number": 347
    },
    {
     "cell_type": "markdown",
     "metadata": {},
     "source": [
      "## PYMC Analysis"
     ]
    },
    {
     "cell_type": "markdown",
     "metadata": {},
     "source": [
      "### Making the Model"
     ]
    },
    {
     "cell_type": "markdown",
     "metadata": {},
     "source": [
      "It works better to just define it in the Ipython notebook, as it will keep changing.\n",
      "\n",
      "* One thing that is annoying about this system is the wide variety of scales. i.e. velocity is on the $\\mu m$ scale while radius is on the $mm$ scale.\n",
      "* What scale should I use in the MCMC system? I suppose velocity is on the order of $nm$ per second.\n",
      "* Perhaps it would make sense to have a scaling factor...or something of the sort. Do my simulations non-dimensionally.\n",
      "* Or, alternatively, do them without any dimensions. But then things are likely even more confusing.\n",
      "* I guess let us just use mm and we can go from there.\n",
      "    * Meh. Let's use microns. As we are measuring everything in terms of microns."
     ]
    },
    {
     "cell_type": "code",
     "collapsed": false,
     "input": [
      "import pymc\n",
      "import numpy as np\n",
      "\n",
      "def make_model(current_group, av_currentChiralityData, av_currentDiffusionData):\n",
      "\n",
      "    ######################\n",
      "    ### Velocity Piece ###\n",
      "    ######################\n",
      "\n",
      "    ro = pymc.TruncatedNormal('ro', mu=1.5*1000, tau=1./(1.5*1000)**2, a=0, value=1.5*1000)\n",
      "    vpar = pymc.TruncatedNormal('vpar', mu = 1.*10**-3, tau=1./(0.1)**2, a=0, value=1.*10**-3)\n",
      "    t = current_group['timeDelta'].values\n",
      "\n",
      "    @pymc.deterministic\n",
      "    def modeled_R(ro=ro, vpar=vpar, t=t):\n",
      "        return ro + vpar*t\n",
      "    \n",
      "    R = pymc.TruncatedNormal('R', mu = modeled_R, tau=1.0/(0.05*1000)**2, a=0, value=current_group['colony_radius_um'].values, observed=True)\n",
      "\n",
      "    velocityVariables = [ro, vpar, t, R]\n",
      "\n",
      "    #######################\n",
      "    ### Chirality Piece ###\n",
      "    #######################\n",
      "\n",
      "    log_r_ri = av_currentChiralityData['log_r_div_ri', 'mean'].values\n",
      "\n",
      "    vperp = pymc.Normal('vperp', mu=0, tau=1./(0.1)**2, value=0)\n",
      "\n",
      "    @pymc.deterministic\n",
      "    def modeled_dtheta(vperp=vperp, vpar=vpar, log_r_ri = log_r_ri):\n",
      "        return (vperp/vpar) * log_r_ri\n",
      "\n",
      "    dthetaData = av_currentChiralityData['rotated_righthanded', 'mean'].values\n",
      "    dthetaStd = av_currentChiralityData['rotated_righthanded', 'std'].values\n",
      "    dthetaTau = 1.0/dthetaStd**2\n",
      "\n",
      "    dtheta = pymc.Normal('dtheta', mu = modeled_dtheta, tau=dthetaTau, value=dthetaData, observed=True)\n",
      "\n",
      "    chiralityVariables = [log_r_ri, vperp, dtheta]\n",
      "\n",
      "    #######################\n",
      "    ### Diffusion Piece ###\n",
      "    #######################\n",
      "\n",
      "    dif_xaxis = av_currentDiffusionData['1_div_ri_minus_1_r', 'mean'].values\n",
      "    dtheta_variance = av_currentDiffusionData['rotated_righthanded', 'var'].values\n",
      "\n",
      "    # Estimating the error of the variance\n",
      "    numSamples = av_currentDiffusionData['rotated_righthanded', 'len'].values\n",
      "    dtheta_variance_error = np.sqrt(2*dthetaStd**4/(numSamples - 1))\n",
      "\n",
      "    ds = pymc.TruncatedNormal('ds', mu=10**-3, tau=1./1.**2, a=0, value=10.**-4)\n",
      "\n",
      "    @pymc.deterministic\n",
      "    def modeled_variance(vpar=vpar, ds=ds, dif_xaxis=dif_xaxis):\n",
      "        return (2*ds/vpar)*dif_xaxis\n",
      "    \n",
      "    var_dtheta = pymc.TruncatedNormal('var_dtheta', mu=modeled_variance, tau=1./dtheta_variance_error**2, a=0, \\\n",
      "                             value=dtheta_variance, observed=True)\n",
      "    diffusionVariables = [dif_xaxis, ds, var_dtheta]\n",
      "\n",
      "    #######################\n",
      "    ### Returning Model ###\n",
      "    #######################\n",
      "\n",
      "    return [velocityVariables, chiralityVariables, diffusionVariables]"
     ],
     "language": "python",
     "metadata": {},
     "outputs": [],
     "prompt_number": 469
    },
    {
     "cell_type": "code",
     "collapsed": false,
     "input": [
      "cg21, av_chir21, av_dif21 = setup_analysis(21)\n",
      "\n",
      "model21 = make_model(cg21, av_chir21, av_dif21)\n",
      "M21 = pymc.MCMC(model21)\n",
      "M21.sample(100000, burn=10000, thin=10)"
     ],
     "language": "python",
     "metadata": {},
     "outputs": [
      {
       "output_type": "stream",
       "stream": "stdout",
       "text": [
        "Setting up the simulation for T= 21 ...\n",
        "\n",
        "numBins for chirality: 75\n",
        "Min log(r/ri): -1e-06\n",
        "Max log(r/ri): 0.812636972995\n",
        "Dimensionless Binsize for log(r/ri): 0.0109815942297\n",
        "\n"
       ]
      },
      {
       "output_type": "stream",
       "stream": "stdout",
       "text": [
        "Numbins for diffusion: 75\n",
        "Min 1/ri - 1/r: -1e-06\n",
        "Max 1/ri - 1/r: 0.249954623211\n",
        "Dimensionless Binsize for 1/ri - 1/r: 0.00337777869205\n",
        "\n"
       ]
      },
      {
       "output_type": "stream",
       "stream": "stdout",
       "text": [
        "Done setting up!\n",
        "\r"
       ]
      },
      {
       "output_type": "stream",
       "stream": "stdout",
       "text": [
        " [                  0%                  ] 352 of 100000 complete in 0.5 sec"
       ]
      },
      {
       "output_type": "stream",
       "stream": "stdout",
       "text": [
        "\r",
        " [                  0%                  ] 684 of 100000 complete in 1.0 sec"
       ]
      },
      {
       "output_type": "stream",
       "stream": "stdout",
       "text": [
        "\r",
        " [                  1%                  ] 1034 of 100000 complete in 1.5 sec"
       ]
      },
      {
       "output_type": "stream",
       "stream": "stdout",
       "text": [
        "\r",
        " [                  1%                  ] 1370 of 100000 complete in 2.0 sec"
       ]
      },
      {
       "output_type": "stream",
       "stream": "stdout",
       "text": [
        "\r",
        " [                  1%                  ] 1694 of 100000 complete in 2.5 sec"
       ]
      },
      {
       "output_type": "stream",
       "stream": "stdout",
       "text": [
        "\r",
        " [                  2%                  ] 2030 of 100000 complete in 3.0 sec"
       ]
      },
      {
       "output_type": "stream",
       "stream": "stdout",
       "text": [
        "\r",
        " [                  2%                  ] 2345 of 100000 complete in 3.5 sec"
       ]
      },
      {
       "output_type": "stream",
       "stream": "stdout",
       "text": [
        "\r",
        " [-                 2%                  ] 2663 of 100000 complete in 4.0 sec"
       ]
      },
      {
       "output_type": "stream",
       "stream": "stdout",
       "text": [
        "\r",
        " [-                 2%                  ] 2976 of 100000 complete in 4.5 sec"
       ]
      },
      {
       "output_type": "stream",
       "stream": "stdout",
       "text": [
        "\r",
        " [-                 3%                  ] 3285 of 100000 complete in 5.0 sec"
       ]
      },
      {
       "output_type": "stream",
       "stream": "stdout",
       "text": [
        "\r",
        " [-                 3%                  ] 3582 of 100000 complete in 5.5 sec"
       ]
      },
      {
       "output_type": "stream",
       "stream": "stdout",
       "text": [
        "\r",
        " [-                 3%                  ] 3889 of 100000 complete in 6.0 sec"
       ]
      },
      {
       "output_type": "stream",
       "stream": "stdout",
       "text": [
        "\r",
        " [-                 4%                  ] 4175 of 100000 complete in 6.5 sec"
       ]
      },
      {
       "output_type": "stream",
       "stream": "stdout",
       "text": [
        "\r",
        " [-                 4%                  ] 4482 of 100000 complete in 7.0 sec"
       ]
      },
      {
       "output_type": "stream",
       "stream": "stdout",
       "text": [
        "\r",
        " [-                 4%                  ] 4782 of 100000 complete in 7.5 sec"
       ]
      },
      {
       "output_type": "stream",
       "stream": "stdout",
       "text": [
        "\r",
        " [-                 5%                  ] 5087 of 100000 complete in 8.0 sec"
       ]
      },
      {
       "output_type": "stream",
       "stream": "stdout",
       "text": [
        "\r",
        " [--                5%                  ] 5376 of 100000 complete in 8.5 sec"
       ]
      },
      {
       "output_type": "stream",
       "stream": "stdout",
       "text": [
        "\r",
        " [--                5%                  ] 5677 of 100000 complete in 9.0 sec"
       ]
      },
      {
       "output_type": "stream",
       "stream": "stdout",
       "text": [
        "\r",
        " [--                5%                  ] 5984 of 100000 complete in 9.5 sec"
       ]
      },
      {
       "output_type": "stream",
       "stream": "stdout",
       "text": [
        "\r",
        " [--                6%                  ] 6295 of 100000 complete in 10.0 sec"
       ]
      },
      {
       "output_type": "stream",
       "stream": "stdout",
       "text": [
        "\r",
        " [--                6%                  ] 6604 of 100000 complete in 10.5 sec"
       ]
      },
      {
       "output_type": "stream",
       "stream": "stdout",
       "text": [
        "\r",
        " [--                6%                  ] 6903 of 100000 complete in 11.0 sec"
       ]
      },
      {
       "output_type": "stream",
       "stream": "stdout",
       "text": [
        "\r",
        " [--                7%                  ] 7217 of 100000 complete in 11.5 sec"
       ]
      },
      {
       "output_type": "stream",
       "stream": "stdout",
       "text": [
        "\r",
        " [--                7%                  ] 7524 of 100000 complete in 12.0 sec"
       ]
      },
      {
       "output_type": "stream",
       "stream": "stdout",
       "text": [
        "\r",
        " [--                7%                  ] 7830 of 100000 complete in 12.5 sec"
       ]
      },
      {
       "output_type": "stream",
       "stream": "stdout",
       "text": [
        "\r",
        " [---               8%                  ] 8134 of 100000 complete in 13.0 sec"
       ]
      },
      {
       "output_type": "stream",
       "stream": "stdout",
       "text": [
        "\r",
        " [---               8%                  ] 8445 of 100000 complete in 13.5 sec"
       ]
      },
      {
       "output_type": "stream",
       "stream": "stdout",
       "text": [
        "\r",
        " [---               8%                  ] 8750 of 100000 complete in 14.0 sec"
       ]
      },
      {
       "output_type": "stream",
       "stream": "stdout",
       "text": [
        "\r",
        " [---               9%                  ] 9061 of 100000 complete in 14.5 sec"
       ]
      },
      {
       "output_type": "stream",
       "stream": "stdout",
       "text": [
        "\r",
        " [---               9%                  ] 9366 of 100000 complete in 15.0 sec"
       ]
      },
      {
       "output_type": "stream",
       "stream": "stdout",
       "text": [
        "\r",
        " [---               9%                  ] 9678 of 100000 complete in 15.5 sec"
       ]
      },
      {
       "output_type": "stream",
       "stream": "stdout",
       "text": [
        "\r",
        " [---               9%                  ] 9981 of 100000 complete in 16.0 sec"
       ]
      },
      {
       "output_type": "stream",
       "stream": "stdout",
       "text": [
        "\r",
        " [---              10%                  ] 10290 of 100000 complete in 16.5 sec"
       ]
      },
      {
       "output_type": "stream",
       "stream": "stdout",
       "text": [
        "\r",
        " [----             10%                  ] 10593 of 100000 complete in 17.0 sec"
       ]
      },
      {
       "output_type": "stream",
       "stream": "stdout",
       "text": [
        "\r",
        " [----             10%                  ] 10905 of 100000 complete in 17.5 sec"
       ]
      },
      {
       "output_type": "stream",
       "stream": "stdout",
       "text": [
        "\r",
        " [----             11%                  ] 11210 of 100000 complete in 18.0 sec"
       ]
      },
      {
       "output_type": "stream",
       "stream": "stdout",
       "text": [
        "\r",
        " [----             11%                  ] 11521 of 100000 complete in 18.5 sec"
       ]
      },
      {
       "output_type": "stream",
       "stream": "stdout",
       "text": [
        "\r",
        " [----             11%                  ] 11824 of 100000 complete in 19.0 sec"
       ]
      },
      {
       "output_type": "stream",
       "stream": "stdout",
       "text": [
        "\r",
        " [----             12%                  ] 12133 of 100000 complete in 19.5 sec"
       ]
      },
      {
       "output_type": "stream",
       "stream": "stdout",
       "text": [
        "\r",
        " [----             12%                  ] 12438 of 100000 complete in 20.0 sec"
       ]
      },
      {
       "output_type": "stream",
       "stream": "stdout",
       "text": [
        "\r",
        " [----             12%                  ] 12744 of 100000 complete in 20.5 sec"
       ]
      },
      {
       "output_type": "stream",
       "stream": "stdout",
       "text": [
        "\r",
        " [----             13%                  ] 13043 of 100000 complete in 21.0 sec"
       ]
      },
      {
       "output_type": "stream",
       "stream": "stdout",
       "text": [
        "\r",
        " [-----            13%                  ] 13352 of 100000 complete in 21.5 sec"
       ]
      },
      {
       "output_type": "stream",
       "stream": "stdout",
       "text": [
        "\r",
        " [-----            13%                  ] 13661 of 100000 complete in 22.0 sec"
       ]
      },
      {
       "output_type": "stream",
       "stream": "stdout",
       "text": [
        "\r",
        " [-----            13%                  ] 13957 of 100000 complete in 22.5 sec"
       ]
      },
      {
       "output_type": "stream",
       "stream": "stdout",
       "text": [
        "\r",
        " [-----            14%                  ] 14266 of 100000 complete in 23.0 sec"
       ]
      },
      {
       "output_type": "stream",
       "stream": "stdout",
       "text": [
        "\r",
        " [-----            14%                  ] 14565 of 100000 complete in 23.5 sec"
       ]
      },
      {
       "output_type": "stream",
       "stream": "stdout",
       "text": [
        "\r",
        " [-----            14%                  ] 14875 of 100000 complete in 24.0 sec"
       ]
      },
      {
       "output_type": "stream",
       "stream": "stdout",
       "text": [
        "\r",
        " [-----            15%                  ] 15176 of 100000 complete in 24.5 sec"
       ]
      },
      {
       "output_type": "stream",
       "stream": "stdout",
       "text": [
        "\r",
        " [-----            15%                  ] 15485 of 100000 complete in 25.0 sec"
       ]
      },
      {
       "output_type": "stream",
       "stream": "stdout",
       "text": [
        "\r",
        " [-----            15%                  ] 15785 of 100000 complete in 25.5 sec"
       ]
      },
      {
       "output_type": "stream",
       "stream": "stdout",
       "text": [
        "\r",
        " [------           16%                  ] 16092 of 100000 complete in 26.0 sec"
       ]
      },
      {
       "output_type": "stream",
       "stream": "stdout",
       "text": [
        "\r",
        " [------           16%                  ] 16382 of 100000 complete in 26.5 sec"
       ]
      },
      {
       "output_type": "stream",
       "stream": "stdout",
       "text": [
        "\r",
        " [------           16%                  ] 16689 of 100000 complete in 27.0 sec"
       ]
      },
      {
       "output_type": "stream",
       "stream": "stdout",
       "text": [
        "\r",
        " [------           16%                  ] 16989 of 100000 complete in 27.5 sec"
       ]
      },
      {
       "output_type": "stream",
       "stream": "stdout",
       "text": [
        "\r",
        " [------           17%                  ] 17298 of 100000 complete in 28.0 sec"
       ]
      },
      {
       "output_type": "stream",
       "stream": "stdout",
       "text": [
        "\r",
        " [------           17%                  ] 17602 of 100000 complete in 28.5 sec"
       ]
      },
      {
       "output_type": "stream",
       "stream": "stdout",
       "text": [
        "\r",
        " [------           17%                  ] 17909 of 100000 complete in 29.0 sec"
       ]
      },
      {
       "output_type": "stream",
       "stream": "stdout",
       "text": [
        "\r",
        " [------           18%                  ] 18199 of 100000 complete in 29.5 sec"
       ]
      },
      {
       "output_type": "stream",
       "stream": "stdout",
       "text": [
        "\r",
        " [-------          18%                  ] 18498 of 100000 complete in 30.0 sec"
       ]
      },
      {
       "output_type": "stream",
       "stream": "stdout",
       "text": [
        "\r",
        " [-------          18%                  ] 18788 of 100000 complete in 30.5 sec"
       ]
      },
      {
       "output_type": "stream",
       "stream": "stdout",
       "text": [
        "\r",
        " [-------          19%                  ] 19089 of 100000 complete in 31.0 sec"
       ]
      },
      {
       "output_type": "stream",
       "stream": "stdout",
       "text": [
        "\r",
        " [-------          19%                  ] 19391 of 100000 complete in 31.6 sec"
       ]
      },
      {
       "output_type": "stream",
       "stream": "stdout",
       "text": [
        "\r",
        " [-------          19%                  ] 19701 of 100000 complete in 32.1 sec"
       ]
      },
      {
       "output_type": "stream",
       "stream": "stdout",
       "text": [
        "\r",
        " [-------          20%                  ] 20003 of 100000 complete in 32.6 sec"
       ]
      },
      {
       "output_type": "stream",
       "stream": "stdout",
       "text": [
        "\r",
        " [-------          20%                  ] 20304 of 100000 complete in 33.1 sec"
       ]
      },
      {
       "output_type": "stream",
       "stream": "stdout",
       "text": [
        "\r",
        " [-------          20%                  ] 20612 of 100000 complete in 33.6 sec"
       ]
      },
      {
       "output_type": "stream",
       "stream": "stdout",
       "text": [
        "\r",
        " [-------          20%                  ] 20910 of 100000 complete in 34.1 sec"
       ]
      },
      {
       "output_type": "stream",
       "stream": "stdout",
       "text": [
        "\r",
        " [--------         21%                  ] 21218 of 100000 complete in 34.6 sec"
       ]
      },
      {
       "output_type": "stream",
       "stream": "stdout",
       "text": [
        "\r",
        " [--------         21%                  ] 21522 of 100000 complete in 35.1 sec"
       ]
      },
      {
       "output_type": "stream",
       "stream": "stdout",
       "text": [
        "\r",
        " [--------         21%                  ] 21829 of 100000 complete in 35.6 sec"
       ]
      },
      {
       "output_type": "stream",
       "stream": "stdout",
       "text": [
        "\r",
        " [--------         22%                  ] 22122 of 100000 complete in 36.1 sec"
       ]
      },
      {
       "output_type": "stream",
       "stream": "stdout",
       "text": [
        "\r",
        " [--------         22%                  ] 22423 of 100000 complete in 36.6 sec"
       ]
      },
      {
       "output_type": "stream",
       "stream": "stdout",
       "text": [
        "\r",
        " [--------         22%                  ] 22726 of 100000 complete in 37.1 sec"
       ]
      },
      {
       "output_type": "stream",
       "stream": "stdout",
       "text": [
        "\r",
        " [--------         23%                  ] 23029 of 100000 complete in 37.6 sec"
       ]
      },
      {
       "output_type": "stream",
       "stream": "stdout",
       "text": [
        "\r",
        " [--------         23%                  ] 23335 of 100000 complete in 38.1 sec"
       ]
      },
      {
       "output_type": "stream",
       "stream": "stdout",
       "text": [
        "\r",
        " [--------         23%                  ] 23644 of 100000 complete in 38.6 sec"
       ]
      },
      {
       "output_type": "stream",
       "stream": "stdout",
       "text": [
        "\r",
        " [---------        23%                  ] 23947 of 100000 complete in 39.1 sec"
       ]
      },
      {
       "output_type": "stream",
       "stream": "stdout",
       "text": [
        "\r",
        " [---------        24%                  ] 24255 of 100000 complete in 39.6 sec"
       ]
      },
      {
       "output_type": "stream",
       "stream": "stdout",
       "text": [
        "\r",
        " [---------        24%                  ] 24558 of 100000 complete in 40.1 sec"
       ]
      },
      {
       "output_type": "stream",
       "stream": "stdout",
       "text": [
        "\r",
        " [---------        24%                  ] 24867 of 100000 complete in 40.6 sec"
       ]
      },
      {
       "output_type": "stream",
       "stream": "stdout",
       "text": [
        "\r",
        " [---------        25%                  ] 25169 of 100000 complete in 41.1 sec"
       ]
      },
      {
       "output_type": "stream",
       "stream": "stdout",
       "text": [
        "\r",
        " [---------        25%                  ] 25480 of 100000 complete in 41.6 sec"
       ]
      },
      {
       "output_type": "stream",
       "stream": "stdout",
       "text": [
        "\r",
        " [---------        25%                  ] 25784 of 100000 complete in 42.1 sec"
       ]
      },
      {
       "output_type": "stream",
       "stream": "stdout",
       "text": [
        "\r",
        " [---------        26%                  ] 26095 of 100000 complete in 42.6 sec"
       ]
      },
      {
       "output_type": "stream",
       "stream": "stdout",
       "text": [
        "\r",
        " [----------       26%                  ] 26396 of 100000 complete in 43.1 sec"
       ]
      },
      {
       "output_type": "stream",
       "stream": "stdout",
       "text": [
        "\r",
        " [----------       26%                  ] 26704 of 100000 complete in 43.6 sec"
       ]
      },
      {
       "output_type": "stream",
       "stream": "stdout",
       "text": [
        "\r",
        " [----------       27%                  ] 27013 of 100000 complete in 44.1 sec"
       ]
      },
      {
       "output_type": "stream",
       "stream": "stdout",
       "text": [
        "\r",
        " [----------       27%                  ] 27317 of 100000 complete in 44.6 sec"
       ]
      },
      {
       "output_type": "stream",
       "stream": "stdout",
       "text": [
        "\r",
        " [----------       27%                  ] 27620 of 100000 complete in 45.1 sec"
       ]
      },
      {
       "output_type": "stream",
       "stream": "stdout",
       "text": [
        "\r",
        " [----------       27%                  ] 27908 of 100000 complete in 45.6 sec"
       ]
      },
      {
       "output_type": "stream",
       "stream": "stdout",
       "text": [
        "\r",
        " [----------       28%                  ] 28198 of 100000 complete in 46.1 sec"
       ]
      },
      {
       "output_type": "stream",
       "stream": "stdout",
       "text": [
        "\r",
        " [----------       28%                  ] 28481 of 100000 complete in 46.6 sec"
       ]
      },
      {
       "output_type": "stream",
       "stream": "stdout",
       "text": [
        "\r",
        " [----------       28%                  ] 28780 of 100000 complete in 47.1 sec"
       ]
      },
      {
       "output_type": "stream",
       "stream": "stdout",
       "text": [
        "\r",
        " [-----------      29%                  ] 29049 of 100000 complete in 47.6 sec"
       ]
      },
      {
       "output_type": "stream",
       "stream": "stdout",
       "text": [
        "\r",
        " [-----------      29%                  ] 29275 of 100000 complete in 48.1 sec"
       ]
      },
      {
       "output_type": "stream",
       "stream": "stdout",
       "text": [
        "\r",
        " [-----------      29%                  ] 29562 of 100000 complete in 48.6 sec"
       ]
      },
      {
       "output_type": "stream",
       "stream": "stdout",
       "text": [
        "\r",
        " [-----------      29%                  ] 29865 of 100000 complete in 49.1 sec"
       ]
      },
      {
       "output_type": "stream",
       "stream": "stdout",
       "text": [
        "\r",
        " [-----------      30%                  ] 30164 of 100000 complete in 49.6 sec"
       ]
      },
      {
       "output_type": "stream",
       "stream": "stdout",
       "text": [
        "\r",
        " [-----------      30%                  ] 30432 of 100000 complete in 50.1 sec"
       ]
      },
      {
       "output_type": "stream",
       "stream": "stdout",
       "text": [
        "\r",
        " [-----------      30%                  ] 30738 of 100000 complete in 50.6 sec"
       ]
      },
      {
       "output_type": "stream",
       "stream": "stdout",
       "text": [
        "\r",
        " [-----------      31%                  ] 31041 of 100000 complete in 51.1 sec"
       ]
      },
      {
       "output_type": "stream",
       "stream": "stdout",
       "text": [
        "\r",
        " [-----------      31%                  ] 31348 of 100000 complete in 51.6 sec"
       ]
      },
      {
       "output_type": "stream",
       "stream": "stdout",
       "text": [
        "\r",
        " [------------     31%                  ] 31635 of 100000 complete in 52.1 sec"
       ]
      },
      {
       "output_type": "stream",
       "stream": "stdout",
       "text": [
        "\r",
        " [------------     31%                  ] 31941 of 100000 complete in 52.6 sec"
       ]
      },
      {
       "output_type": "stream",
       "stream": "stdout",
       "text": [
        "\r",
        " [------------     32%                  ] 32243 of 100000 complete in 53.1 sec"
       ]
      },
      {
       "output_type": "stream",
       "stream": "stdout",
       "text": [
        "\r",
        " [------------     32%                  ] 32550 of 100000 complete in 53.6 sec"
       ]
      },
      {
       "output_type": "stream",
       "stream": "stdout",
       "text": [
        "\r",
        " [------------     32%                  ] 32851 of 100000 complete in 54.1 sec"
       ]
      },
      {
       "output_type": "stream",
       "stream": "stdout",
       "text": [
        "\r",
        " [------------     33%                  ] 33158 of 100000 complete in 54.6 sec"
       ]
      },
      {
       "output_type": "stream",
       "stream": "stdout",
       "text": [
        "\r",
        " [------------     33%                  ] 33462 of 100000 complete in 55.1 sec"
       ]
      },
      {
       "output_type": "stream",
       "stream": "stdout",
       "text": [
        "\r",
        " [------------     33%                  ] 33766 of 100000 complete in 55.6 sec"
       ]
      },
      {
       "output_type": "stream",
       "stream": "stdout",
       "text": [
        "\r",
        " [------------     34%                  ] 34069 of 100000 complete in 56.1 sec"
       ]
      },
      {
       "output_type": "stream",
       "stream": "stdout",
       "text": [
        "\r",
        " [-------------    34%                  ] 34374 of 100000 complete in 56.6 sec"
       ]
      },
      {
       "output_type": "stream",
       "stream": "stdout",
       "text": [
        "\r",
        " [-------------    34%                  ] 34678 of 100000 complete in 57.1 sec"
       ]
      },
      {
       "output_type": "stream",
       "stream": "stdout",
       "text": [
        "\r",
        " [-------------    34%                  ] 34980 of 100000 complete in 57.6 sec"
       ]
      },
      {
       "output_type": "stream",
       "stream": "stdout",
       "text": [
        "\r",
        " [-------------    35%                  ] 35282 of 100000 complete in 58.1 sec"
       ]
      },
      {
       "output_type": "stream",
       "stream": "stdout",
       "text": [
        "\r",
        " [-------------    35%                  ] 35584 of 100000 complete in 58.6 sec"
       ]
      },
      {
       "output_type": "stream",
       "stream": "stdout",
       "text": [
        "\r",
        " [-------------    35%                  ] 35889 of 100000 complete in 59.1 sec"
       ]
      },
      {
       "output_type": "stream",
       "stream": "stdout",
       "text": [
        "\r",
        " [-------------    36%                  ] 36198 of 100000 complete in 59.6 sec"
       ]
      },
      {
       "output_type": "stream",
       "stream": "stdout",
       "text": [
        "\r",
        " [-------------    36%                  ] 36501 of 100000 complete in 60.1 sec"
       ]
      },
      {
       "output_type": "stream",
       "stream": "stdout",
       "text": [
        "\r",
        " [-------------    36%                  ] 36807 of 100000 complete in 60.6 sec"
       ]
      },
      {
       "output_type": "stream",
       "stream": "stdout",
       "text": [
        "\r",
        " [--------------   37%                  ] 37108 of 100000 complete in 61.1 sec"
       ]
      },
      {
       "output_type": "stream",
       "stream": "stdout",
       "text": [
        "\r",
        " [--------------   37%                  ] 37414 of 100000 complete in 61.6 sec"
       ]
      },
      {
       "output_type": "stream",
       "stream": "stdout",
       "text": [
        "\r",
        " [--------------   37%                  ] 37722 of 100000 complete in 62.1 sec"
       ]
      },
      {
       "output_type": "stream",
       "stream": "stdout",
       "text": [
        "\r",
        " [--------------   38%                  ] 38023 of 100000 complete in 62.6 sec"
       ]
      },
      {
       "output_type": "stream",
       "stream": "stdout",
       "text": [
        "\r",
        " [--------------   38%                  ] 38331 of 100000 complete in 63.1 sec"
       ]
      },
      {
       "output_type": "stream",
       "stream": "stdout",
       "text": [
        "\r",
        " [--------------   38%                  ] 38632 of 100000 complete in 63.6 sec"
       ]
      },
      {
       "output_type": "stream",
       "stream": "stdout",
       "text": [
        "\r",
        " [--------------   38%                  ] 38941 of 100000 complete in 64.1 sec"
       ]
      },
      {
       "output_type": "stream",
       "stream": "stdout",
       "text": [
        "\r",
        " [--------------   39%                  ] 39245 of 100000 complete in 64.6 sec"
       ]
      },
      {
       "output_type": "stream",
       "stream": "stdout",
       "text": [
        "\r",
        " [---------------  39%                  ] 39555 of 100000 complete in 65.1 sec"
       ]
      },
      {
       "output_type": "stream",
       "stream": "stdout",
       "text": [
        "\r",
        " [---------------  39%                  ] 39856 of 100000 complete in 65.6 sec"
       ]
      },
      {
       "output_type": "stream",
       "stream": "stdout",
       "text": [
        "\r",
        " [---------------  40%                  ] 40164 of 100000 complete in 66.1 sec"
       ]
      },
      {
       "output_type": "stream",
       "stream": "stdout",
       "text": [
        "\r",
        " [---------------  40%                  ] 40466 of 100000 complete in 66.6 sec"
       ]
      },
      {
       "output_type": "stream",
       "stream": "stdout",
       "text": [
        "\r",
        " [---------------  40%                  ] 40772 of 100000 complete in 67.1 sec"
       ]
      },
      {
       "output_type": "stream",
       "stream": "stdout",
       "text": [
        "\r",
        " [---------------  41%                  ] 41073 of 100000 complete in 67.6 sec"
       ]
      },
      {
       "output_type": "stream",
       "stream": "stdout",
       "text": [
        "\r",
        " [---------------  41%                  ] 41376 of 100000 complete in 68.1 sec"
       ]
      },
      {
       "output_type": "stream",
       "stream": "stdout",
       "text": [
        "\r",
        " [---------------  41%                  ] 41672 of 100000 complete in 68.6 sec"
       ]
      },
      {
       "output_type": "stream",
       "stream": "stdout",
       "text": [
        "\r",
        " [---------------  41%                  ] 41974 of 100000 complete in 69.1 sec"
       ]
      },
      {
       "output_type": "stream",
       "stream": "stdout",
       "text": [
        "\r",
        " [---------------- 42%                  ] 42271 of 100000 complete in 69.6 sec"
       ]
      },
      {
       "output_type": "stream",
       "stream": "stdout",
       "text": [
        "\r",
        " [---------------- 42%                  ] 42568 of 100000 complete in 70.1 sec"
       ]
      },
      {
       "output_type": "stream",
       "stream": "stdout",
       "text": [
        "\r",
        " [---------------- 42%                  ] 42861 of 100000 complete in 70.6 sec"
       ]
      },
      {
       "output_type": "stream",
       "stream": "stdout",
       "text": [
        "\r",
        " [---------------- 43%                  ] 43159 of 100000 complete in 71.1 sec"
       ]
      },
      {
       "output_type": "stream",
       "stream": "stdout",
       "text": [
        "\r",
        " [---------------- 43%                  ] 43459 of 100000 complete in 71.6 sec"
       ]
      },
      {
       "output_type": "stream",
       "stream": "stdout",
       "text": [
        "\r",
        " [---------------- 43%                  ] 43748 of 100000 complete in 72.1 sec"
       ]
      },
      {
       "output_type": "stream",
       "stream": "stdout",
       "text": [
        "\r",
        " [---------------- 44%                  ] 44046 of 100000 complete in 72.6 sec"
       ]
      },
      {
       "output_type": "stream",
       "stream": "stdout",
       "text": [
        "\r",
        " [---------------- 44%                  ] 44351 of 100000 complete in 73.1 sec"
       ]
      },
      {
       "output_type": "stream",
       "stream": "stdout",
       "text": [
        "\r",
        " [---------------- 44%                  ] 44659 of 100000 complete in 73.6 sec"
       ]
      },
      {
       "output_type": "stream",
       "stream": "stdout",
       "text": [
        "\r",
        " [-----------------44%                  ] 44958 of 100000 complete in 74.1 sec"
       ]
      },
      {
       "output_type": "stream",
       "stream": "stdout",
       "text": [
        "\r",
        " [-----------------45%                  ] 45263 of 100000 complete in 74.6 sec"
       ]
      },
      {
       "output_type": "stream",
       "stream": "stdout",
       "text": [
        "\r",
        " [-----------------45%                  ] 45566 of 100000 complete in 75.1 sec"
       ]
      },
      {
       "output_type": "stream",
       "stream": "stdout",
       "text": [
        "\r",
        " [-----------------45%                  ] 45872 of 100000 complete in 75.6 sec"
       ]
      },
      {
       "output_type": "stream",
       "stream": "stdout",
       "text": [
        "\r",
        " [-----------------46%                  ] 46169 of 100000 complete in 76.1 sec"
       ]
      },
      {
       "output_type": "stream",
       "stream": "stdout",
       "text": [
        "\r",
        " [-----------------46%                  ] 46468 of 100000 complete in 76.6 sec"
       ]
      },
      {
       "output_type": "stream",
       "stream": "stdout",
       "text": [
        "\r",
        " [-----------------46%                  ] 46758 of 100000 complete in 77.1 sec"
       ]
      },
      {
       "output_type": "stream",
       "stream": "stdout",
       "text": [
        "\r",
        " [-----------------47%                  ] 47062 of 100000 complete in 77.6 sec"
       ]
      },
      {
       "output_type": "stream",
       "stream": "stdout",
       "text": [
        "\r",
        " [-----------------47%                  ] 47355 of 100000 complete in 78.1 sec"
       ]
      },
      {
       "output_type": "stream",
       "stream": "stdout",
       "text": [
        "\r",
        " [-----------------47%                  ] 47657 of 100000 complete in 78.6 sec"
       ]
      },
      {
       "output_type": "stream",
       "stream": "stdout",
       "text": [
        "\r",
        " [-----------------47%                  ] 47957 of 100000 complete in 79.1 sec"
       ]
      },
      {
       "output_type": "stream",
       "stream": "stdout",
       "text": [
        "\r",
        " [-----------------48%                  ] 48261 of 100000 complete in 79.6 sec"
       ]
      },
      {
       "output_type": "stream",
       "stream": "stdout",
       "text": [
        "\r",
        " [-----------------48%                  ] 48564 of 100000 complete in 80.1 sec"
       ]
      },
      {
       "output_type": "stream",
       "stream": "stdout",
       "text": [
        "\r",
        " [-----------------48%                  ] 48868 of 100000 complete in 80.6 sec"
       ]
      },
      {
       "output_type": "stream",
       "stream": "stdout",
       "text": [
        "\r",
        " [-----------------49%                  ] 49166 of 100000 complete in 81.1 sec"
       ]
      },
      {
       "output_type": "stream",
       "stream": "stdout",
       "text": [
        "\r",
        " [-----------------49%                  ] 49472 of 100000 complete in 81.6 sec"
       ]
      },
      {
       "output_type": "stream",
       "stream": "stdout",
       "text": [
        "\r",
        " [-----------------49%                  ] 49775 of 100000 complete in 82.1 sec"
       ]
      },
      {
       "output_type": "stream",
       "stream": "stdout",
       "text": [
        "\r",
        " [-----------------50%                  ] 50080 of 100000 complete in 82.6 sec"
       ]
      },
      {
       "output_type": "stream",
       "stream": "stdout",
       "text": [
        "\r",
        " [-----------------50%                  ] 50386 of 100000 complete in 83.1 sec"
       ]
      },
      {
       "output_type": "stream",
       "stream": "stdout",
       "text": [
        "\r",
        " [-----------------50%                  ] 50691 of 100000 complete in 83.6 sec"
       ]
      },
      {
       "output_type": "stream",
       "stream": "stdout",
       "text": [
        "\r",
        " [-----------------50%                  ] 50999 of 100000 complete in 84.1 sec"
       ]
      },
      {
       "output_type": "stream",
       "stream": "stdout",
       "text": [
        "\r",
        " [-----------------51%                  ] 51298 of 100000 complete in 84.6 sec"
       ]
      },
      {
       "output_type": "stream",
       "stream": "stdout",
       "text": [
        "\r",
        " [-----------------51%                  ] 51598 of 100000 complete in 85.1 sec"
       ]
      },
      {
       "output_type": "stream",
       "stream": "stdout",
       "text": [
        "\r",
        " [-----------------51%                  ] 51891 of 100000 complete in 85.6 sec"
       ]
      },
      {
       "output_type": "stream",
       "stream": "stdout",
       "text": [
        "\r",
        " [-----------------52%                  ] 52198 of 100000 complete in 86.1 sec"
       ]
      },
      {
       "output_type": "stream",
       "stream": "stdout",
       "text": [
        "\r",
        " [-----------------52%                  ] 52497 of 100000 complete in 86.6 sec"
       ]
      },
      {
       "output_type": "stream",
       "stream": "stdout",
       "text": [
        "\r",
        " [-----------------52%                  ] 52806 of 100000 complete in 87.1 sec"
       ]
      },
      {
       "output_type": "stream",
       "stream": "stdout",
       "text": [
        "\r",
        " [-----------------53%                  ] 53106 of 100000 complete in 87.6 sec"
       ]
      },
      {
       "output_type": "stream",
       "stream": "stdout",
       "text": [
        "\r",
        " [-----------------53%                  ] 53411 of 100000 complete in 88.1 sec"
       ]
      },
      {
       "output_type": "stream",
       "stream": "stdout",
       "text": [
        "\r",
        " [-----------------53%                  ] 53708 of 100000 complete in 88.6 sec"
       ]
      },
      {
       "output_type": "stream",
       "stream": "stdout",
       "text": [
        "\r",
        " [-----------------54%                  ] 54014 of 100000 complete in 89.1 sec"
       ]
      },
      {
       "output_type": "stream",
       "stream": "stdout",
       "text": [
        "\r",
        " [-----------------54%                  ] 54316 of 100000 complete in 89.6 sec"
       ]
      },
      {
       "output_type": "stream",
       "stream": "stdout",
       "text": [
        "\r",
        " [-----------------54%                  ] 54627 of 100000 complete in 90.1 sec"
       ]
      },
      {
       "output_type": "stream",
       "stream": "stdout",
       "text": [
        "\r",
        " [-----------------54%                  ] 54923 of 100000 complete in 90.6 sec"
       ]
      },
      {
       "output_type": "stream",
       "stream": "stdout",
       "text": [
        "\r",
        " [-----------------55%                  ] 55228 of 100000 complete in 91.1 sec"
       ]
      },
      {
       "output_type": "stream",
       "stream": "stdout",
       "text": [
        "\r",
        " [-----------------55%-                 ] 55532 of 100000 complete in 91.7 sec"
       ]
      },
      {
       "output_type": "stream",
       "stream": "stdout",
       "text": [
        "\r",
        " [-----------------55%-                 ] 55834 of 100000 complete in 92.2 sec"
       ]
      },
      {
       "output_type": "stream",
       "stream": "stdout",
       "text": [
        "\r",
        " [-----------------56%-                 ] 56136 of 100000 complete in 92.7 sec"
       ]
      },
      {
       "output_type": "stream",
       "stream": "stdout",
       "text": [
        "\r",
        " [-----------------56%-                 ] 56427 of 100000 complete in 93.2 sec"
       ]
      },
      {
       "output_type": "stream",
       "stream": "stdout",
       "text": [
        "\r",
        " [-----------------56%-                 ] 56705 of 100000 complete in 93.7 sec"
       ]
      },
      {
       "output_type": "stream",
       "stream": "stdout",
       "text": [
        "\r",
        " [-----------------57%-                 ] 57012 of 100000 complete in 94.2 sec"
       ]
      },
      {
       "output_type": "stream",
       "stream": "stdout",
       "text": [
        "\r",
        " [-----------------57%-                 ] 57321 of 100000 complete in 94.7 sec"
       ]
      },
      {
       "output_type": "stream",
       "stream": "stdout",
       "text": [
        "\r",
        " [-----------------57%-                 ] 57617 of 100000 complete in 95.2 sec"
       ]
      },
      {
       "output_type": "stream",
       "stream": "stdout",
       "text": [
        "\r",
        " [-----------------57%--                ] 57922 of 100000 complete in 95.7 sec"
       ]
      },
      {
       "output_type": "stream",
       "stream": "stdout",
       "text": [
        "\r",
        " [-----------------58%--                ] 58224 of 100000 complete in 96.2 sec"
       ]
      },
      {
       "output_type": "stream",
       "stream": "stdout",
       "text": [
        "\r",
        " [-----------------58%--                ] 58513 of 100000 complete in 96.7 sec"
       ]
      },
      {
       "output_type": "stream",
       "stream": "stdout",
       "text": [
        "\r",
        " [-----------------58%--                ] 58819 of 100000 complete in 97.2 sec"
       ]
      },
      {
       "output_type": "stream",
       "stream": "stdout",
       "text": [
        "\r",
        " [-----------------59%--                ] 59123 of 100000 complete in 97.7 sec"
       ]
      },
      {
       "output_type": "stream",
       "stream": "stdout",
       "text": [
        "\r",
        " [-----------------59%--                ] 59425 of 100000 complete in 98.2 sec"
       ]
      },
      {
       "output_type": "stream",
       "stream": "stdout",
       "text": [
        "\r",
        " [-----------------59%--                ] 59734 of 100000 complete in 98.7 sec"
       ]
      },
      {
       "output_type": "stream",
       "stream": "stdout",
       "text": [
        "\r",
        " [-----------------60%--                ] 60036 of 100000 complete in 99.2 sec"
       ]
      },
      {
       "output_type": "stream",
       "stream": "stdout",
       "text": [
        "\r",
        " [-----------------60%--                ] 60344 of 100000 complete in 99.7 sec"
       ]
      },
      {
       "output_type": "stream",
       "stream": "stdout",
       "text": [
        "\r",
        " [-----------------60%---               ] 60648 of 100000 complete in 100.2 sec"
       ]
      },
      {
       "output_type": "stream",
       "stream": "stdout",
       "text": [
        "\r",
        " [-----------------60%---               ] 60951 of 100000 complete in 100.7 sec"
       ]
      },
      {
       "output_type": "stream",
       "stream": "stdout",
       "text": [
        "\r",
        " [-----------------61%---               ] 61243 of 100000 complete in 101.2 sec"
       ]
      },
      {
       "output_type": "stream",
       "stream": "stdout",
       "text": [
        "\r",
        " [-----------------61%---               ] 61544 of 100000 complete in 101.7 sec"
       ]
      },
      {
       "output_type": "stream",
       "stream": "stdout",
       "text": [
        "\r",
        " [-----------------61%---               ] 61844 of 100000 complete in 102.2 sec"
       ]
      },
      {
       "output_type": "stream",
       "stream": "stdout",
       "text": [
        "\r",
        " [-----------------62%---               ] 62150 of 100000 complete in 102.7 sec"
       ]
      },
      {
       "output_type": "stream",
       "stream": "stdout",
       "text": [
        "\r",
        " [-----------------62%---               ] 62455 of 100000 complete in 103.2 sec"
       ]
      },
      {
       "output_type": "stream",
       "stream": "stdout",
       "text": [
        "\r",
        " [-----------------62%---               ] 62763 of 100000 complete in 103.7 sec"
       ]
      },
      {
       "output_type": "stream",
       "stream": "stdout",
       "text": [
        "\r",
        " [-----------------63%---               ] 63066 of 100000 complete in 104.2 sec"
       ]
      },
      {
       "output_type": "stream",
       "stream": "stdout",
       "text": [
        "\r",
        " [-----------------63%----              ] 63362 of 100000 complete in 104.7 sec"
       ]
      },
      {
       "output_type": "stream",
       "stream": "stdout",
       "text": [
        "\r",
        " [-----------------63%----              ] 63668 of 100000 complete in 105.2 sec"
       ]
      },
      {
       "output_type": "stream",
       "stream": "stdout",
       "text": [
        "\r",
        " [-----------------63%----              ] 63968 of 100000 complete in 105.7 sec"
       ]
      },
      {
       "output_type": "stream",
       "stream": "stdout",
       "text": [
        "\r",
        " [-----------------64%----              ] 64264 of 100000 complete in 106.2 sec"
       ]
      },
      {
       "output_type": "stream",
       "stream": "stdout",
       "text": [
        "\r",
        " [-----------------64%----              ] 64559 of 100000 complete in 106.7 sec"
       ]
      },
      {
       "output_type": "stream",
       "stream": "stdout",
       "text": [
        "\r",
        " [-----------------64%----              ] 64851 of 100000 complete in 107.2 sec"
       ]
      },
      {
       "output_type": "stream",
       "stream": "stdout",
       "text": [
        "\r",
        " [-----------------65%----              ] 65137 of 100000 complete in 107.7 sec"
       ]
      },
      {
       "output_type": "stream",
       "stream": "stdout",
       "text": [
        "\r",
        " [-----------------65%----              ] 65410 of 100000 complete in 108.2 sec"
       ]
      },
      {
       "output_type": "stream",
       "stream": "stdout",
       "text": [
        "\r",
        " [-----------------65%----              ] 65705 of 100000 complete in 108.7 sec"
       ]
      },
      {
       "output_type": "stream",
       "stream": "stdout",
       "text": [
        "\r",
        " [-----------------66%-----             ] 66002 of 100000 complete in 109.2 sec"
       ]
      },
      {
       "output_type": "stream",
       "stream": "stdout",
       "text": [
        "\r",
        " [-----------------66%-----             ] 66305 of 100000 complete in 109.7 sec"
       ]
      },
      {
       "output_type": "stream",
       "stream": "stdout",
       "text": [
        "\r",
        " [-----------------66%-----             ] 66606 of 100000 complete in 110.2 sec"
       ]
      },
      {
       "output_type": "stream",
       "stream": "stdout",
       "text": [
        "\r",
        " [-----------------66%-----             ] 66908 of 100000 complete in 110.7 sec"
       ]
      },
      {
       "output_type": "stream",
       "stream": "stdout",
       "text": [
        "\r",
        " [-----------------67%-----             ] 67218 of 100000 complete in 111.2 sec"
       ]
      },
      {
       "output_type": "stream",
       "stream": "stdout",
       "text": [
        "\r",
        " [-----------------67%-----             ] 67521 of 100000 complete in 111.7 sec"
       ]
      },
      {
       "output_type": "stream",
       "stream": "stdout",
       "text": [
        "\r",
        " [-----------------67%-----             ] 67829 of 100000 complete in 112.2 sec"
       ]
      },
      {
       "output_type": "stream",
       "stream": "stdout",
       "text": [
        "\r",
        " [-----------------68%-----             ] 68133 of 100000 complete in 112.7 sec"
       ]
      },
      {
       "output_type": "stream",
       "stream": "stdout",
       "text": [
        "\r",
        " [-----------------68%------            ] 68443 of 100000 complete in 113.2 sec"
       ]
      },
      {
       "output_type": "stream",
       "stream": "stdout",
       "text": [
        "\r",
        " [-----------------68%------            ] 68748 of 100000 complete in 113.7 sec"
       ]
      },
      {
       "output_type": "stream",
       "stream": "stdout",
       "text": [
        "\r",
        " [-----------------69%------            ] 69057 of 100000 complete in 114.2 sec"
       ]
      },
      {
       "output_type": "stream",
       "stream": "stdout",
       "text": [
        "\r",
        " [-----------------69%------            ] 69361 of 100000 complete in 114.7 sec"
       ]
      },
      {
       "output_type": "stream",
       "stream": "stdout",
       "text": [
        "\r",
        " [-----------------69%------            ] 69670 of 100000 complete in 115.2 sec"
       ]
      },
      {
       "output_type": "stream",
       "stream": "stdout",
       "text": [
        "\r",
        " [-----------------69%------            ] 69974 of 100000 complete in 115.7 sec"
       ]
      },
      {
       "output_type": "stream",
       "stream": "stdout",
       "text": [
        "\r",
        " [-----------------70%------            ] 70284 of 100000 complete in 116.2 sec"
       ]
      },
      {
       "output_type": "stream",
       "stream": "stdout",
       "text": [
        "\r",
        " [-----------------70%------            ] 70590 of 100000 complete in 116.7 sec"
       ]
      },
      {
       "output_type": "stream",
       "stream": "stdout",
       "text": [
        "\r",
        " [-----------------70%------            ] 70886 of 100000 complete in 117.2 sec"
       ]
      },
      {
       "output_type": "stream",
       "stream": "stdout",
       "text": [
        "\r",
        " [-----------------71%-------           ] 71194 of 100000 complete in 117.7 sec"
       ]
      },
      {
       "output_type": "stream",
       "stream": "stdout",
       "text": [
        "\r",
        " [-----------------71%-------           ] 71495 of 100000 complete in 118.2 sec"
       ]
      },
      {
       "output_type": "stream",
       "stream": "stdout",
       "text": [
        "\r",
        " [-----------------71%-------           ] 71804 of 100000 complete in 118.7 sec"
       ]
      },
      {
       "output_type": "stream",
       "stream": "stdout",
       "text": [
        "\r",
        " [-----------------72%-------           ] 72106 of 100000 complete in 119.2 sec"
       ]
      },
      {
       "output_type": "stream",
       "stream": "stdout",
       "text": [
        "\r",
        " [-----------------72%-------           ] 72416 of 100000 complete in 119.7 sec"
       ]
      },
      {
       "output_type": "stream",
       "stream": "stdout",
       "text": [
        "\r",
        " [-----------------72%-------           ] 72720 of 100000 complete in 120.2 sec"
       ]
      },
      {
       "output_type": "stream",
       "stream": "stdout",
       "text": [
        "\r",
        " [-----------------73%-------           ] 73029 of 100000 complete in 120.7 sec"
       ]
      },
      {
       "output_type": "stream",
       "stream": "stdout",
       "text": [
        "\r",
        " [-----------------73%-------           ] 73331 of 100000 complete in 121.2 sec"
       ]
      },
      {
       "output_type": "stream",
       "stream": "stdout",
       "text": [
        "\r",
        " [-----------------73%-------           ] 73641 of 100000 complete in 121.7 sec"
       ]
      },
      {
       "output_type": "stream",
       "stream": "stdout",
       "text": [
        "\r",
        " [-----------------73%--------          ] 73943 of 100000 complete in 122.2 sec"
       ]
      },
      {
       "output_type": "stream",
       "stream": "stdout",
       "text": [
        "\r",
        " [-----------------74%--------          ] 74251 of 100000 complete in 122.7 sec"
       ]
      },
      {
       "output_type": "stream",
       "stream": "stdout",
       "text": [
        "\r",
        " [-----------------74%--------          ] 74553 of 100000 complete in 123.2 sec"
       ]
      },
      {
       "output_type": "stream",
       "stream": "stdout",
       "text": [
        "\r",
        " [-----------------74%--------          ] 74839 of 100000 complete in 123.7 sec"
       ]
      },
      {
       "output_type": "stream",
       "stream": "stdout",
       "text": [
        "\r",
        " [-----------------75%--------          ] 75141 of 100000 complete in 124.2 sec"
       ]
      },
      {
       "output_type": "stream",
       "stream": "stdout",
       "text": [
        "\r",
        " [-----------------75%--------          ] 75444 of 100000 complete in 124.7 sec"
       ]
      },
      {
       "output_type": "stream",
       "stream": "stdout",
       "text": [
        "\r",
        " [-----------------75%--------          ] 75743 of 100000 complete in 125.2 sec"
       ]
      },
      {
       "output_type": "stream",
       "stream": "stdout",
       "text": [
        "\r",
        " [-----------------76%--------          ] 76040 of 100000 complete in 125.7 sec"
       ]
      },
      {
       "output_type": "stream",
       "stream": "stdout",
       "text": [
        "\r",
        " [-----------------76%---------         ] 76338 of 100000 complete in 126.2 sec"
       ]
      },
      {
       "output_type": "stream",
       "stream": "stdout",
       "text": [
        "\r",
        " [-----------------76%---------         ] 76648 of 100000 complete in 126.7 sec"
       ]
      },
      {
       "output_type": "stream",
       "stream": "stdout",
       "text": [
        "\r",
        " [-----------------76%---------         ] 76951 of 100000 complete in 127.2 sec"
       ]
      },
      {
       "output_type": "stream",
       "stream": "stdout",
       "text": [
        "\r",
        " [-----------------77%---------         ] 77261 of 100000 complete in 127.7 sec"
       ]
      },
      {
       "output_type": "stream",
       "stream": "stdout",
       "text": [
        "\r",
        " [-----------------77%---------         ] 77565 of 100000 complete in 128.2 sec"
       ]
      },
      {
       "output_type": "stream",
       "stream": "stdout",
       "text": [
        "\r",
        " [-----------------77%---------         ] 77868 of 100000 complete in 128.7 sec"
       ]
      },
      {
       "output_type": "stream",
       "stream": "stdout",
       "text": [
        "\r",
        " [-----------------78%---------         ] 78176 of 100000 complete in 129.2 sec"
       ]
      },
      {
       "output_type": "stream",
       "stream": "stdout",
       "text": [
        "\r",
        " [-----------------78%---------         ] 78482 of 100000 complete in 129.7 sec"
       ]
      },
      {
       "output_type": "stream",
       "stream": "stdout",
       "text": [
        "\r",
        " [-----------------78%---------         ] 78790 of 100000 complete in 130.2 sec"
       ]
      },
      {
       "output_type": "stream",
       "stream": "stdout",
       "text": [
        "\r",
        " [-----------------79%----------        ] 79094 of 100000 complete in 130.7 sec"
       ]
      },
      {
       "output_type": "stream",
       "stream": "stdout",
       "text": [
        "\r",
        " [-----------------79%----------        ] 79401 of 100000 complete in 131.2 sec"
       ]
      },
      {
       "output_type": "stream",
       "stream": "stdout",
       "text": [
        "\r",
        " [-----------------79%----------        ] 79704 of 100000 complete in 131.7 sec"
       ]
      },
      {
       "output_type": "stream",
       "stream": "stdout",
       "text": [
        "\r",
        " [-----------------80%----------        ] 80011 of 100000 complete in 132.2 sec"
       ]
      },
      {
       "output_type": "stream",
       "stream": "stdout",
       "text": [
        "\r",
        " [-----------------80%----------        ] 80314 of 100000 complete in 132.7 sec"
       ]
      },
      {
       "output_type": "stream",
       "stream": "stdout",
       "text": [
        "\r",
        " [-----------------80%----------        ] 80620 of 100000 complete in 133.2 sec"
       ]
      },
      {
       "output_type": "stream",
       "stream": "stdout",
       "text": [
        "\r",
        " [-----------------80%----------        ] 80921 of 100000 complete in 133.7 sec"
       ]
      },
      {
       "output_type": "stream",
       "stream": "stdout",
       "text": [
        "\r",
        " [-----------------81%----------        ] 81223 of 100000 complete in 134.2 sec"
       ]
      },
      {
       "output_type": "stream",
       "stream": "stdout",
       "text": [
        "\r",
        " [-----------------81%----------        ] 81527 of 100000 complete in 134.7 sec"
       ]
      },
      {
       "output_type": "stream",
       "stream": "stdout",
       "text": [
        "\r",
        " [-----------------81%-----------       ] 81832 of 100000 complete in 135.2 sec"
       ]
      },
      {
       "output_type": "stream",
       "stream": "stdout",
       "text": [
        "\r",
        " [-----------------82%-----------       ] 82135 of 100000 complete in 135.7 sec"
       ]
      },
      {
       "output_type": "stream",
       "stream": "stdout",
       "text": [
        "\r",
        " [-----------------82%-----------       ] 82432 of 100000 complete in 136.2 sec"
       ]
      },
      {
       "output_type": "stream",
       "stream": "stdout",
       "text": [
        "\r",
        " [-----------------82%-----------       ] 82731 of 100000 complete in 136.7 sec"
       ]
      },
      {
       "output_type": "stream",
       "stream": "stdout",
       "text": [
        "\r",
        " [-----------------83%-----------       ] 83033 of 100000 complete in 137.2 sec"
       ]
      },
      {
       "output_type": "stream",
       "stream": "stdout",
       "text": [
        "\r",
        " [-----------------83%-----------       ] 83333 of 100000 complete in 137.7 sec"
       ]
      },
      {
       "output_type": "stream",
       "stream": "stdout",
       "text": [
        "\r",
        " [-----------------83%-----------       ] 83640 of 100000 complete in 138.2 sec"
       ]
      },
      {
       "output_type": "stream",
       "stream": "stdout",
       "text": [
        "\r",
        " [-----------------83%-----------       ] 83946 of 100000 complete in 138.7 sec"
       ]
      },
      {
       "output_type": "stream",
       "stream": "stdout",
       "text": [
        "\r",
        " [-----------------84%------------      ] 84238 of 100000 complete in 139.2 sec"
       ]
      },
      {
       "output_type": "stream",
       "stream": "stdout",
       "text": [
        "\r",
        " [-----------------84%------------      ] 84509 of 100000 complete in 139.7 sec"
       ]
      },
      {
       "output_type": "stream",
       "stream": "stdout",
       "text": [
        "\r",
        " [-----------------84%------------      ] 84809 of 100000 complete in 140.2 sec"
       ]
      },
      {
       "output_type": "stream",
       "stream": "stdout",
       "text": [
        "\r",
        " [-----------------85%------------      ] 85113 of 100000 complete in 140.7 sec"
       ]
      },
      {
       "output_type": "stream",
       "stream": "stdout",
       "text": [
        "\r",
        " [-----------------85%------------      ] 85411 of 100000 complete in 141.2 sec"
       ]
      },
      {
       "output_type": "stream",
       "stream": "stdout",
       "text": [
        "\r",
        " [-----------------85%------------      ] 85716 of 100000 complete in 141.7 sec"
       ]
      },
      {
       "output_type": "stream",
       "stream": "stdout",
       "text": [
        "\r",
        " [-----------------86%------------      ] 86012 of 100000 complete in 142.2 sec"
       ]
      },
      {
       "output_type": "stream",
       "stream": "stdout",
       "text": [
        "\r",
        " [-----------------86%------------      ] 86317 of 100000 complete in 142.7 sec"
       ]
      },
      {
       "output_type": "stream",
       "stream": "stdout",
       "text": [
        "\r",
        " [-----------------86%------------      ] 86617 of 100000 complete in 143.2 sec"
       ]
      },
      {
       "output_type": "stream",
       "stream": "stdout",
       "text": [
        "\r",
        " [-----------------86%-------------     ] 86923 of 100000 complete in 143.7 sec"
       ]
      },
      {
       "output_type": "stream",
       "stream": "stdout",
       "text": [
        "\r",
        " [-----------------87%-------------     ] 87219 of 100000 complete in 144.3 sec"
       ]
      },
      {
       "output_type": "stream",
       "stream": "stdout",
       "text": [
        "\r",
        " [-----------------87%-------------     ] 87519 of 100000 complete in 144.8 sec"
       ]
      },
      {
       "output_type": "stream",
       "stream": "stdout",
       "text": [
        "\r",
        " [-----------------87%-------------     ] 87815 of 100000 complete in 145.3 sec"
       ]
      },
      {
       "output_type": "stream",
       "stream": "stdout",
       "text": [
        "\r",
        " [-----------------88%-------------     ] 88115 of 100000 complete in 145.8 sec"
       ]
      },
      {
       "output_type": "stream",
       "stream": "stdout",
       "text": [
        "\r",
        " [-----------------88%-------------     ] 88414 of 100000 complete in 146.3 sec"
       ]
      },
      {
       "output_type": "stream",
       "stream": "stdout",
       "text": [
        "\r",
        " [-----------------88%-------------     ] 88718 of 100000 complete in 146.8 sec"
       ]
      },
      {
       "output_type": "stream",
       "stream": "stdout",
       "text": [
        "\r",
        " [-----------------89%-------------     ] 89017 of 100000 complete in 147.3 sec"
       ]
      },
      {
       "output_type": "stream",
       "stream": "stdout",
       "text": [
        "\r",
        " [-----------------89%-------------     ] 89322 of 100000 complete in 147.8 sec"
       ]
      },
      {
       "output_type": "stream",
       "stream": "stdout",
       "text": [
        "\r",
        " [-----------------89%--------------    ] 89621 of 100000 complete in 148.3 sec"
       ]
      },
      {
       "output_type": "stream",
       "stream": "stdout",
       "text": [
        "\r",
        " [-----------------89%--------------    ] 89924 of 100000 complete in 148.8 sec"
       ]
      },
      {
       "output_type": "stream",
       "stream": "stdout",
       "text": [
        "\r",
        " [-----------------90%--------------    ] 90231 of 100000 complete in 149.3 sec"
       ]
      },
      {
       "output_type": "stream",
       "stream": "stdout",
       "text": [
        "\r",
        " [-----------------90%--------------    ] 90531 of 100000 complete in 149.8 sec"
       ]
      },
      {
       "output_type": "stream",
       "stream": "stdout",
       "text": [
        "\r",
        " [-----------------90%--------------    ] 90837 of 100000 complete in 150.3 sec"
       ]
      },
      {
       "output_type": "stream",
       "stream": "stdout",
       "text": [
        "\r",
        " [-----------------91%--------------    ] 91133 of 100000 complete in 150.8 sec"
       ]
      },
      {
       "output_type": "stream",
       "stream": "stdout",
       "text": [
        "\r",
        " [-----------------91%--------------    ] 91434 of 100000 complete in 151.3 sec"
       ]
      },
      {
       "output_type": "stream",
       "stream": "stdout",
       "text": [
        "\r",
        " [-----------------91%--------------    ] 91739 of 100000 complete in 151.8 sec"
       ]
      },
      {
       "output_type": "stream",
       "stream": "stdout",
       "text": [
        "\r",
        " [-----------------92%--------------    ] 92050 of 100000 complete in 152.3 sec"
       ]
      },
      {
       "output_type": "stream",
       "stream": "stdout",
       "text": [
        "\r",
        " [-----------------92%---------------   ] 92354 of 100000 complete in 152.8 sec"
       ]
      },
      {
       "output_type": "stream",
       "stream": "stdout",
       "text": [
        "\r",
        " [-----------------92%---------------   ] 92663 of 100000 complete in 153.3 sec"
       ]
      },
      {
       "output_type": "stream",
       "stream": "stdout",
       "text": [
        "\r",
        " [-----------------92%---------------   ] 92969 of 100000 complete in 153.8 sec"
       ]
      },
      {
       "output_type": "stream",
       "stream": "stdout",
       "text": [
        "\r",
        " [-----------------93%---------------   ] 93278 of 100000 complete in 154.3 sec"
       ]
      },
      {
       "output_type": "stream",
       "stream": "stdout",
       "text": [
        "\r",
        " [-----------------93%---------------   ] 93563 of 100000 complete in 154.8 sec"
       ]
      },
      {
       "output_type": "stream",
       "stream": "stdout",
       "text": [
        "\r",
        " [-----------------93%---------------   ] 93875 of 100000 complete in 155.3 sec"
       ]
      },
      {
       "output_type": "stream",
       "stream": "stdout",
       "text": [
        "\r",
        " [-----------------94%---------------   ] 94178 of 100000 complete in 155.8 sec"
       ]
      },
      {
       "output_type": "stream",
       "stream": "stdout",
       "text": [
        "\r",
        " [-----------------94%---------------   ] 94489 of 100000 complete in 156.3 sec"
       ]
      },
      {
       "output_type": "stream",
       "stream": "stdout",
       "text": [
        "\r",
        " [-----------------94%----------------  ] 94791 of 100000 complete in 156.8 sec"
       ]
      },
      {
       "output_type": "stream",
       "stream": "stdout",
       "text": [
        "\r",
        " [-----------------95%----------------  ] 95103 of 100000 complete in 157.3 sec"
       ]
      },
      {
       "output_type": "stream",
       "stream": "stdout",
       "text": [
        "\r",
        " [-----------------95%----------------  ] 95410 of 100000 complete in 157.8 sec"
       ]
      },
      {
       "output_type": "stream",
       "stream": "stdout",
       "text": [
        "\r",
        " [-----------------95%----------------  ] 95719 of 100000 complete in 158.3 sec"
       ]
      },
      {
       "output_type": "stream",
       "stream": "stdout",
       "text": [
        "\r",
        " [-----------------96%----------------  ] 96030 of 100000 complete in 158.8 sec"
       ]
      },
      {
       "output_type": "stream",
       "stream": "stdout",
       "text": [
        "\r",
        " [-----------------96%----------------  ] 96328 of 100000 complete in 159.3 sec"
       ]
      },
      {
       "output_type": "stream",
       "stream": "stdout",
       "text": [
        "\r",
        " [-----------------96%----------------  ] 96632 of 100000 complete in 159.8 sec"
       ]
      },
      {
       "output_type": "stream",
       "stream": "stdout",
       "text": [
        "\r",
        " [-----------------96%----------------  ] 96936 of 100000 complete in 160.3 sec"
       ]
      },
      {
       "output_type": "stream",
       "stream": "stdout",
       "text": [
        "\r",
        " [-----------------97%----------------  ] 97238 of 100000 complete in 160.8 sec"
       ]
      },
      {
       "output_type": "stream",
       "stream": "stdout",
       "text": [
        "\r",
        " [-----------------97%----------------- ] 97540 of 100000 complete in 161.3 sec"
       ]
      },
      {
       "output_type": "stream",
       "stream": "stdout",
       "text": [
        "\r",
        " [-----------------97%----------------- ] 97849 of 100000 complete in 161.8 sec"
       ]
      },
      {
       "output_type": "stream",
       "stream": "stdout",
       "text": [
        "\r",
        " [-----------------98%----------------- ] 98141 of 100000 complete in 162.3 sec"
       ]
      },
      {
       "output_type": "stream",
       "stream": "stdout",
       "text": [
        "\r",
        " [-----------------98%----------------- ] 98447 of 100000 complete in 162.8 sec"
       ]
      },
      {
       "output_type": "stream",
       "stream": "stdout",
       "text": [
        "\r",
        " [-----------------98%----------------- ] 98747 of 100000 complete in 163.3 sec"
       ]
      },
      {
       "output_type": "stream",
       "stream": "stdout",
       "text": [
        "\r",
        " [-----------------99%----------------- ] 99054 of 100000 complete in 163.8 sec"
       ]
      },
      {
       "output_type": "stream",
       "stream": "stdout",
       "text": [
        "\r",
        " [-----------------99%----------------- ] 99353 of 100000 complete in 164.3 sec"
       ]
      },
      {
       "output_type": "stream",
       "stream": "stdout",
       "text": [
        "\r",
        " [-----------------99%----------------- ] 99655 of 100000 complete in 164.8 sec"
       ]
      },
      {
       "output_type": "stream",
       "stream": "stdout",
       "text": [
        "\r",
        " [-----------------99%----------------- ] 99954 of 100000 complete in 165.3 sec"
       ]
      },
      {
       "output_type": "stream",
       "stream": "stdout",
       "text": [
        "\r",
        " [-----------------100%-----------------] 100000 of 100000 complete in 165.4 sec"
       ]
      },
      {
       "metadata": {},
       "output_type": "display_data",
       "png": "[encoded data removed]",
       "text": [
        "<matplotlib.figure.Figure at 0x7b22390>"
       ]
      },
      {
       "metadata": {},
       "output_type": "display_data",
       "png": "[encoded data removed]",
       "text": [
        "<matplotlib.figure.Figure at 0x13c54d10>"
       ]
      }
     ],
     "prompt_number": 474
    },
    {
     "cell_type": "code",
     "collapsed": false,
     "input": [
      "cg30, av_chir30, av_dif30 = setup_analysis(30)\n",
      "\n",
      "model30 = make_model(cg30, av_chir30, av_dif30)\n",
      "M30 = pymc.MCMC(model30)\n",
      "M30.sample(100000, burn=10000, thin=10)"
     ],
     "language": "python",
     "metadata": {},
     "outputs": [
      {
       "output_type": "stream",
       "stream": "stdout",
       "text": [
        "Setting up the simulation for T= 30 ...\n",
        "\n",
        "numBins for chirality: 75\n",
        "Min log(r/ri): -1e-06\n",
        "Max log(r/ri): 1.00084215175\n",
        "Dimensionless Binsize for log(r/ri): 0.0135249074561\n",
        "\n"
       ]
      },
      {
       "output_type": "stream",
       "stream": "stdout",
       "text": [
        "Numbins for diffusion: 75\n",
        "Min 1/ri - 1/r: -1e-06\n",
        "Max 1/ri - 1/r: 0.289300890981\n",
        "Dimensionless Binsize for 1/ri - 1/r: 0.00390948501325\n",
        "\n"
       ]
      },
      {
       "output_type": "stream",
       "stream": "stdout",
       "text": [
        "Done setting up!\n",
        "\r"
       ]
      },
      {
       "output_type": "stream",
       "stream": "stdout",
       "text": [
        " [                  0%                  ] 285 of 100000 complete in 0.5 sec"
       ]
      },
      {
       "output_type": "stream",
       "stream": "stdout",
       "text": [
        "\r",
        " [                  0%                  ] 578 of 100000 complete in 1.0 sec"
       ]
      },
      {
       "output_type": "stream",
       "stream": "stdout",
       "text": [
        "\r",
        " [                  0%                  ] 868 of 100000 complete in 1.5 sec"
       ]
      },
      {
       "output_type": "stream",
       "stream": "stdout",
       "text": [
        "\r",
        " [                  1%                  ] 1156 of 100000 complete in 2.0 sec"
       ]
      },
      {
       "output_type": "stream",
       "stream": "stdout",
       "text": [
        "\r",
        " [                  1%                  ] 1447 of 100000 complete in 2.5 sec"
       ]
      },
      {
       "output_type": "stream",
       "stream": "stdout",
       "text": [
        "\r",
        " [                  1%                  ] 1740 of 100000 complete in 3.0 sec"
       ]
      },
      {
       "output_type": "stream",
       "stream": "stdout",
       "text": [
        "\r",
        " [                  2%                  ] 2037 of 100000 complete in 3.5 sec"
       ]
      },
      {
       "output_type": "stream",
       "stream": "stdout",
       "text": [
        "\r",
        " [                  2%                  ] 2325 of 100000 complete in 4.0 sec"
       ]
      },
      {
       "output_type": "stream",
       "stream": "stdout",
       "text": [
        "\r",
        " [                  2%                  ] 2620 of 100000 complete in 4.5 sec"
       ]
      },
      {
       "output_type": "stream",
       "stream": "stdout",
       "text": [
        "\r",
        " [-                 2%                  ] 2912 of 100000 complete in 5.0 sec"
       ]
      },
      {
       "output_type": "stream",
       "stream": "stdout",
       "text": [
        "\r",
        " [-                 3%                  ] 3208 of 100000 complete in 5.5 sec"
       ]
      },
      {
       "output_type": "stream",
       "stream": "stdout",
       "text": [
        "\r",
        " [-                 3%                  ] 3497 of 100000 complete in 6.0 sec"
       ]
      },
      {
       "output_type": "stream",
       "stream": "stdout",
       "text": [
        "\r",
        " [-                 3%                  ] 3789 of 100000 complete in 6.5 sec"
       ]
      },
      {
       "output_type": "stream",
       "stream": "stdout",
       "text": [
        "\r",
        " [-                 4%                  ] 4081 of 100000 complete in 7.0 sec"
       ]
      },
      {
       "output_type": "stream",
       "stream": "stdout",
       "text": [
        "\r",
        " [-                 4%                  ] 4374 of 100000 complete in 7.5 sec"
       ]
      },
      {
       "output_type": "stream",
       "stream": "stdout",
       "text": [
        "\r",
        " [-                 4%                  ] 4669 of 100000 complete in 8.0 sec"
       ]
      },
      {
       "output_type": "stream",
       "stream": "stdout",
       "text": [
        "\r",
        " [-                 4%                  ] 4960 of 100000 complete in 8.5 sec"
       ]
      },
      {
       "output_type": "stream",
       "stream": "stdout",
       "text": [
        "\r",
        " [-                 5%                  ] 5252 of 100000 complete in 9.0 sec"
       ]
      },
      {
       "output_type": "stream",
       "stream": "stdout",
       "text": [
        "\r",
        " [--                5%                  ] 5549 of 100000 complete in 9.5 sec"
       ]
      },
      {
       "output_type": "stream",
       "stream": "stdout",
       "text": [
        "\r",
        " [--                5%                  ] 5843 of 100000 complete in 10.0 sec"
       ]
      },
      {
       "output_type": "stream",
       "stream": "stdout",
       "text": [
        "\r",
        " [--                6%                  ] 6137 of 100000 complete in 10.5 sec"
       ]
      },
      {
       "output_type": "stream",
       "stream": "stdout",
       "text": [
        "\r",
        " [--                6%                  ] 6430 of 100000 complete in 11.0 sec"
       ]
      },
      {
       "output_type": "stream",
       "stream": "stdout",
       "text": [
        "\r",
        " [--                6%                  ] 6717 of 100000 complete in 11.5 sec"
       ]
      },
      {
       "output_type": "stream",
       "stream": "stdout",
       "text": [
        "\r",
        " [--                6%                  ] 6998 of 100000 complete in 12.0 sec"
       ]
      },
      {
       "output_type": "stream",
       "stream": "stdout",
       "text": [
        "\r",
        " [--                7%                  ] 7293 of 100000 complete in 12.5 sec"
       ]
      },
      {
       "output_type": "stream",
       "stream": "stdout",
       "text": [
        "\r",
        " [--                7%                  ] 7563 of 100000 complete in 13.0 sec"
       ]
      },
      {
       "output_type": "stream",
       "stream": "stdout",
       "text": [
        "\r",
        " [--                7%                  ] 7852 of 100000 complete in 13.5 sec"
       ]
      },
      {
       "output_type": "stream",
       "stream": "stdout",
       "text": [
        "\r",
        " [---               8%                  ] 8146 of 100000 complete in 14.0 sec"
       ]
      },
      {
       "output_type": "stream",
       "stream": "stdout",
       "text": [
        "\r",
        " [---               8%                  ] 8436 of 100000 complete in 14.5 sec"
       ]
      },
      {
       "output_type": "stream",
       "stream": "stdout",
       "text": [
        "\r",
        " [---               8%                  ] 8727 of 100000 complete in 15.0 sec"
       ]
      },
      {
       "output_type": "stream",
       "stream": "stdout",
       "text": [
        "\r",
        " [---               9%                  ] 9017 of 100000 complete in 15.5 sec"
       ]
      },
      {
       "output_type": "stream",
       "stream": "stdout",
       "text": [
        "\r",
        " [---               9%                  ] 9312 of 100000 complete in 16.0 sec"
       ]
      },
      {
       "output_type": "stream",
       "stream": "stdout",
       "text": [
        "\r",
        " [---               9%                  ] 9601 of 100000 complete in 16.5 sec"
       ]
      },
      {
       "output_type": "stream",
       "stream": "stdout",
       "text": [
        "\r",
        " [---               9%                  ] 9896 of 100000 complete in 17.0 sec"
       ]
      },
      {
       "output_type": "stream",
       "stream": "stdout",
       "text": [
        "\r",
        " [---              10%                  ] 10183 of 100000 complete in 17.5 sec"
       ]
      },
      {
       "output_type": "stream",
       "stream": "stdout",
       "text": [
        "\r",
        " [---              10%                  ] 10479 of 100000 complete in 18.0 sec"
       ]
      },
      {
       "output_type": "stream",
       "stream": "stdout",
       "text": [
        "\r",
        " [----             10%                  ] 10769 of 100000 complete in 18.5 sec"
       ]
      },
      {
       "output_type": "stream",
       "stream": "stdout",
       "text": [
        "\r",
        " [----             11%                  ] 11065 of 100000 complete in 19.0 sec"
       ]
      },
      {
       "output_type": "stream",
       "stream": "stdout",
       "text": [
        "\r",
        " [----             11%                  ] 11355 of 100000 complete in 19.5 sec"
       ]
      },
      {
       "output_type": "stream",
       "stream": "stdout",
       "text": [
        "\r",
        " [----             11%                  ] 11650 of 100000 complete in 20.0 sec"
       ]
      },
      {
       "output_type": "stream",
       "stream": "stdout",
       "text": [
        "\r",
        " [----             11%                  ] 11940 of 100000 complete in 20.5 sec"
       ]
      },
      {
       "output_type": "stream",
       "stream": "stdout",
       "text": [
        "\r",
        " [----             12%                  ] 12235 of 100000 complete in 21.0 sec"
       ]
      },
      {
       "output_type": "stream",
       "stream": "stdout",
       "text": [
        "\r",
        " [----             12%                  ] 12525 of 100000 complete in 21.5 sec"
       ]
      },
      {
       "output_type": "stream",
       "stream": "stdout",
       "text": [
        "\r",
        " [----             12%                  ] 12818 of 100000 complete in 22.0 sec"
       ]
      },
      {
       "output_type": "stream",
       "stream": "stdout",
       "text": [
        "\r",
        " [----             13%                  ] 13106 of 100000 complete in 22.5 sec"
       ]
      },
      {
       "output_type": "stream",
       "stream": "stdout",
       "text": [
        "\r",
        " [-----            13%                  ] 13400 of 100000 complete in 23.0 sec"
       ]
      },
      {
       "output_type": "stream",
       "stream": "stdout",
       "text": [
        "\r",
        " [-----            13%                  ] 13691 of 100000 complete in 23.5 sec"
       ]
      },
      {
       "output_type": "stream",
       "stream": "stdout",
       "text": [
        "\r",
        " [-----            13%                  ] 13985 of 100000 complete in 24.0 sec"
       ]
      },
      {
       "output_type": "stream",
       "stream": "stdout",
       "text": [
        "\r",
        " [-----            14%                  ] 14278 of 100000 complete in 24.5 sec"
       ]
      },
      {
       "output_type": "stream",
       "stream": "stdout",
       "text": [
        "\r",
        " [-----            14%                  ] 14569 of 100000 complete in 25.0 sec"
       ]
      },
      {
       "output_type": "stream",
       "stream": "stdout",
       "text": [
        "\r",
        " [-----            14%                  ] 14865 of 100000 complete in 25.5 sec"
       ]
      },
      {
       "output_type": "stream",
       "stream": "stdout",
       "text": [
        "\r",
        " [-----            15%                  ] 15147 of 100000 complete in 26.0 sec"
       ]
      },
      {
       "output_type": "stream",
       "stream": "stdout",
       "text": [
        "\r",
        " [-----            15%                  ] 15436 of 100000 complete in 26.5 sec"
       ]
      },
      {
       "output_type": "stream",
       "stream": "stdout",
       "text": [
        "\r",
        " [-----            15%                  ] 15714 of 100000 complete in 27.0 sec"
       ]
      },
      {
       "output_type": "stream",
       "stream": "stdout",
       "text": [
        "\r",
        " [------           15%                  ] 15998 of 100000 complete in 27.5 sec"
       ]
      },
      {
       "output_type": "stream",
       "stream": "stdout",
       "text": [
        "\r",
        " [------           16%                  ] 16286 of 100000 complete in 28.0 sec"
       ]
      },
      {
       "output_type": "stream",
       "stream": "stdout",
       "text": [
        "\r",
        " [------           16%                  ] 16570 of 100000 complete in 28.5 sec"
       ]
      },
      {
       "output_type": "stream",
       "stream": "stdout",
       "text": [
        "\r",
        " [------           16%                  ] 16846 of 100000 complete in 29.0 sec"
       ]
      },
      {
       "output_type": "stream",
       "stream": "stdout",
       "text": [
        "\r",
        " [------           17%                  ] 17129 of 100000 complete in 29.5 sec"
       ]
      },
      {
       "output_type": "stream",
       "stream": "stdout",
       "text": [
        "\r",
        " [------           17%                  ] 17406 of 100000 complete in 30.0 sec"
       ]
      },
      {
       "output_type": "stream",
       "stream": "stdout",
       "text": [
        "\r",
        " [------           17%                  ] 17694 of 100000 complete in 30.5 sec"
       ]
      },
      {
       "output_type": "stream",
       "stream": "stdout",
       "text": [
        "\r",
        " [------           17%                  ] 17979 of 100000 complete in 31.0 sec"
       ]
      },
      {
       "output_type": "stream",
       "stream": "stdout",
       "text": [
        "\r",
        " [------           18%                  ] 18270 of 100000 complete in 31.5 sec"
       ]
      },
      {
       "output_type": "stream",
       "stream": "stdout",
       "text": [
        "\r",
        " [-------          18%                  ] 18557 of 100000 complete in 32.1 sec"
       ]
      },
      {
       "output_type": "stream",
       "stream": "stdout",
       "text": [
        "\r",
        " [-------          18%                  ] 18845 of 100000 complete in 32.6 sec"
       ]
      },
      {
       "output_type": "stream",
       "stream": "stdout",
       "text": [
        "\r",
        " [-------          19%                  ] 19129 of 100000 complete in 33.1 sec"
       ]
      },
      {
       "output_type": "stream",
       "stream": "stdout",
       "text": [
        "\r",
        " [-------          19%                  ] 19416 of 100000 complete in 33.6 sec"
       ]
      },
      {
       "output_type": "stream",
       "stream": "stdout",
       "text": [
        "\r",
        " [-------          19%                  ] 19703 of 100000 complete in 34.1 sec"
       ]
      },
      {
       "output_type": "stream",
       "stream": "stdout",
       "text": [
        "\r",
        " [-------          19%                  ] 19989 of 100000 complete in 34.6 sec"
       ]
      },
      {
       "output_type": "stream",
       "stream": "stdout",
       "text": [
        "\r",
        " [-------          20%                  ] 20275 of 100000 complete in 35.1 sec"
       ]
      },
      {
       "output_type": "stream",
       "stream": "stdout",
       "text": [
        "\r",
        " [-------          20%                  ] 20559 of 100000 complete in 35.6 sec"
       ]
      },
      {
       "output_type": "stream",
       "stream": "stdout",
       "text": [
        "\r",
        " [-------          20%                  ] 20845 of 100000 complete in 36.1 sec"
       ]
      },
      {
       "output_type": "stream",
       "stream": "stdout",
       "text": [
        "\r",
        " [--------         21%                  ] 21124 of 100000 complete in 36.6 sec"
       ]
      },
      {
       "output_type": "stream",
       "stream": "stdout",
       "text": [
        "\r",
        " [--------         21%                  ] 21415 of 100000 complete in 37.1 sec"
       ]
      },
      {
       "output_type": "stream",
       "stream": "stdout",
       "text": [
        "\r",
        " [--------         21%                  ] 21698 of 100000 complete in 37.6 sec"
       ]
      },
      {
       "output_type": "stream",
       "stream": "stdout",
       "text": [
        "\r",
        " [--------         21%                  ] 21989 of 100000 complete in 38.1 sec"
       ]
      },
      {
       "output_type": "stream",
       "stream": "stdout",
       "text": [
        "\r",
        " [--------         22%                  ] 22272 of 100000 complete in 38.6 sec"
       ]
      },
      {
       "output_type": "stream",
       "stream": "stdout",
       "text": [
        "\r",
        " [--------         22%                  ] 22561 of 100000 complete in 39.1 sec"
       ]
      },
      {
       "output_type": "stream",
       "stream": "stdout",
       "text": [
        "\r",
        " [--------         22%                  ] 22837 of 100000 complete in 39.6 sec"
       ]
      },
      {
       "output_type": "stream",
       "stream": "stdout",
       "text": [
        "\r",
        " [--------         23%                  ] 23127 of 100000 complete in 40.1 sec"
       ]
      },
      {
       "output_type": "stream",
       "stream": "stdout",
       "text": [
        "\r",
        " [--------         23%                  ] 23410 of 100000 complete in 40.6 sec"
       ]
      },
      {
       "output_type": "stream",
       "stream": "stdout",
       "text": [
        "\r",
        " [---------        23%                  ] 23701 of 100000 complete in 41.1 sec"
       ]
      },
      {
       "output_type": "stream",
       "stream": "stdout",
       "text": [
        "\r",
        " [---------        23%                  ] 23985 of 100000 complete in 41.6 sec"
       ]
      },
      {
       "output_type": "stream",
       "stream": "stdout",
       "text": [
        "\r",
        " [---------        24%                  ] 24276 of 100000 complete in 42.1 sec"
       ]
      },
      {
       "output_type": "stream",
       "stream": "stdout",
       "text": [
        "\r",
        " [---------        24%                  ] 24560 of 100000 complete in 42.6 sec"
       ]
      },
      {
       "output_type": "stream",
       "stream": "stdout",
       "text": [
        "\r",
        " [---------        24%                  ] 24850 of 100000 complete in 43.1 sec"
       ]
      },
      {
       "output_type": "stream",
       "stream": "stdout",
       "text": [
        "\r",
        " [---------        25%                  ] 25133 of 100000 complete in 43.6 sec"
       ]
      },
      {
       "output_type": "stream",
       "stream": "stdout",
       "text": [
        "\r",
        " [---------        25%                  ] 25424 of 100000 complete in 44.1 sec"
       ]
      },
      {
       "output_type": "stream",
       "stream": "stdout",
       "text": [
        "\r",
        " [---------        25%                  ] 25704 of 100000 complete in 44.6 sec"
       ]
      },
      {
       "output_type": "stream",
       "stream": "stdout",
       "text": [
        "\r",
        " [---------        25%                  ] 25980 of 100000 complete in 45.1 sec"
       ]
      },
      {
       "output_type": "stream",
       "stream": "stdout",
       "text": [
        "\r",
        " [---------        26%                  ] 26258 of 100000 complete in 45.6 sec"
       ]
      },
      {
       "output_type": "stream",
       "stream": "stdout",
       "text": [
        "\r",
        " [----------       26%                  ] 26545 of 100000 complete in 46.1 sec"
       ]
      },
      {
       "output_type": "stream",
       "stream": "stdout",
       "text": [
        "\r",
        " [----------       26%                  ] 26830 of 100000 complete in 46.6 sec"
       ]
      },
      {
       "output_type": "stream",
       "stream": "stdout",
       "text": [
        "\r",
        " [----------       27%                  ] 27116 of 100000 complete in 47.1 sec"
       ]
      },
      {
       "output_type": "stream",
       "stream": "stdout",
       "text": [
        "\r",
        " [----------       27%                  ] 27404 of 100000 complete in 47.6 sec"
       ]
      },
      {
       "output_type": "stream",
       "stream": "stdout",
       "text": [
        "\r",
        " [----------       27%                  ] 27691 of 100000 complete in 48.1 sec"
       ]
      },
      {
       "output_type": "stream",
       "stream": "stdout",
       "text": [
        "\r",
        " [----------       27%                  ] 27979 of 100000 complete in 48.6 sec"
       ]
      },
      {
       "output_type": "stream",
       "stream": "stdout",
       "text": [
        "\r",
        " [----------       28%                  ] 28264 of 100000 complete in 49.1 sec"
       ]
      },
      {
       "output_type": "stream",
       "stream": "stdout",
       "text": [
        "\r",
        " [----------       28%                  ] 28540 of 100000 complete in 49.6 sec"
       ]
      },
      {
       "output_type": "stream",
       "stream": "stdout",
       "text": [
        "\r",
        " [----------       28%                  ] 28817 of 100000 complete in 50.1 sec"
       ]
      },
      {
       "output_type": "stream",
       "stream": "stdout",
       "text": [
        "\r",
        " [-----------      29%                  ] 29099 of 100000 complete in 50.6 sec"
       ]
      },
      {
       "output_type": "stream",
       "stream": "stdout",
       "text": [
        "\r",
        " [-----------      29%                  ] 29373 of 100000 complete in 51.1 sec"
       ]
      },
      {
       "output_type": "stream",
       "stream": "stdout",
       "text": [
        "\r",
        " [-----------      29%                  ] 29662 of 100000 complete in 51.6 sec"
       ]
      },
      {
       "output_type": "stream",
       "stream": "stdout",
       "text": [
        "\r",
        " [-----------      29%                  ] 29949 of 100000 complete in 52.1 sec"
       ]
      },
      {
       "output_type": "stream",
       "stream": "stdout",
       "text": [
        "\r",
        " [-----------      30%                  ] 30238 of 100000 complete in 52.6 sec"
       ]
      },
      {
       "output_type": "stream",
       "stream": "stdout",
       "text": [
        "\r",
        " [-----------      30%                  ] 30525 of 100000 complete in 53.1 sec"
       ]
      },
      {
       "output_type": "stream",
       "stream": "stdout",
       "text": [
        "\r",
        " [-----------      30%                  ] 30817 of 100000 complete in 53.6 sec"
       ]
      },
      {
       "output_type": "stream",
       "stream": "stdout",
       "text": [
        "\r",
        " [-----------      31%                  ] 31104 of 100000 complete in 54.1 sec"
       ]
      },
      {
       "output_type": "stream",
       "stream": "stdout",
       "text": [
        "\r",
        " [-----------      31%                  ] 31397 of 100000 complete in 54.6 sec"
       ]
      },
      {
       "output_type": "stream",
       "stream": "stdout",
       "text": [
        "\r",
        " [------------     31%                  ] 31679 of 100000 complete in 55.1 sec"
       ]
      },
      {
       "output_type": "stream",
       "stream": "stdout",
       "text": [
        "\r",
        " [------------     31%                  ] 31962 of 100000 complete in 55.6 sec"
       ]
      },
      {
       "output_type": "stream",
       "stream": "stdout",
       "text": [
        "\r",
        " [------------     32%                  ] 32238 of 100000 complete in 56.1 sec"
       ]
      },
      {
       "output_type": "stream",
       "stream": "stdout",
       "text": [
        "\r",
        " [------------     32%                  ] 32524 of 100000 complete in 56.6 sec"
       ]
      },
      {
       "output_type": "stream",
       "stream": "stdout",
       "text": [
        "\r",
        " [------------     32%                  ] 32808 of 100000 complete in 57.1 sec"
       ]
      },
      {
       "output_type": "stream",
       "stream": "stdout",
       "text": [
        "\r",
        " [------------     33%                  ] 33093 of 100000 complete in 57.6 sec"
       ]
      },
      {
       "output_type": "stream",
       "stream": "stdout",
       "text": [
        "\r",
        " [------------     33%                  ] 33385 of 100000 complete in 58.1 sec"
       ]
      },
      {
       "output_type": "stream",
       "stream": "stdout",
       "text": [
        "\r",
        " [------------     33%                  ] 33667 of 100000 complete in 58.6 sec"
       ]
      },
      {
       "output_type": "stream",
       "stream": "stdout",
       "text": [
        "\r",
        " [------------     33%                  ] 33959 of 100000 complete in 59.1 sec"
       ]
      },
      {
       "output_type": "stream",
       "stream": "stdout",
       "text": [
        "\r",
        " [-------------    34%                  ] 34239 of 100000 complete in 59.6 sec"
       ]
      },
      {
       "output_type": "stream",
       "stream": "stdout",
       "text": [
        "\r",
        " [-------------    34%                  ] 34518 of 100000 complete in 60.1 sec"
       ]
      },
      {
       "output_type": "stream",
       "stream": "stdout",
       "text": [
        "\r",
        " [-------------    34%                  ] 34796 of 100000 complete in 60.6 sec"
       ]
      },
      {
       "output_type": "stream",
       "stream": "stdout",
       "text": [
        "\r",
        " [-------------    35%                  ] 35046 of 100000 complete in 61.1 sec"
       ]
      },
      {
       "output_type": "stream",
       "stream": "stdout",
       "text": [
        "\r",
        " [-------------    35%                  ] 35311 of 100000 complete in 61.6 sec"
       ]
      },
      {
       "output_type": "stream",
       "stream": "stdout",
       "text": [
        "\r",
        " [-------------    35%                  ] 35589 of 100000 complete in 62.1 sec"
       ]
      },
      {
       "output_type": "stream",
       "stream": "stdout",
       "text": [
        "\r",
        " [-------------    35%                  ] 35860 of 100000 complete in 62.6 sec"
       ]
      },
      {
       "output_type": "stream",
       "stream": "stdout",
       "text": [
        "\r",
        " [-------------    36%                  ] 36150 of 100000 complete in 63.1 sec"
       ]
      },
      {
       "output_type": "stream",
       "stream": "stdout",
       "text": [
        "\r",
        " [-------------    36%                  ] 36426 of 100000 complete in 63.6 sec"
       ]
      },
      {
       "output_type": "stream",
       "stream": "stdout",
       "text": [
        "\r",
        " [-------------    36%                  ] 36716 of 100000 complete in 64.1 sec"
       ]
      },
      {
       "output_type": "stream",
       "stream": "stdout",
       "text": [
        "\r",
        " [--------------   36%                  ] 36991 of 100000 complete in 64.6 sec"
       ]
      },
      {
       "output_type": "stream",
       "stream": "stdout",
       "text": [
        "\r",
        " [--------------   37%                  ] 37278 of 100000 complete in 65.1 sec"
       ]
      },
      {
       "output_type": "stream",
       "stream": "stdout",
       "text": [
        "\r",
        " [--------------   37%                  ] 37554 of 100000 complete in 65.6 sec"
       ]
      },
      {
       "output_type": "stream",
       "stream": "stdout",
       "text": [
        "\r",
        " [--------------   37%                  ] 37830 of 100000 complete in 66.1 sec"
       ]
      },
      {
       "output_type": "stream",
       "stream": "stdout",
       "text": [
        "\r",
        " [--------------   38%                  ] 38111 of 100000 complete in 66.6 sec"
       ]
      },
      {
       "output_type": "stream",
       "stream": "stdout",
       "text": [
        "\r",
        " [--------------   38%                  ] 38398 of 100000 complete in 67.1 sec"
       ]
      },
      {
       "output_type": "stream",
       "stream": "stdout",
       "text": [
        "\r",
        " [--------------   38%                  ] 38685 of 100000 complete in 67.6 sec"
       ]
      },
      {
       "output_type": "stream",
       "stream": "stdout",
       "text": [
        "\r",
        " [--------------   38%                  ] 38972 of 100000 complete in 68.1 sec"
       ]
      },
      {
       "output_type": "stream",
       "stream": "stdout",
       "text": [
        "\r",
        " [--------------   39%                  ] 39258 of 100000 complete in 68.6 sec"
       ]
      },
      {
       "output_type": "stream",
       "stream": "stdout",
       "text": [
        "\r",
        " [---------------  39%                  ] 39545 of 100000 complete in 69.1 sec"
       ]
      },
      {
       "output_type": "stream",
       "stream": "stdout",
       "text": [
        "\r",
        " [---------------  39%                  ] 39832 of 100000 complete in 69.6 sec"
       ]
      },
      {
       "output_type": "stream",
       "stream": "stdout",
       "text": [
        "\r",
        " [---------------  40%                  ] 40116 of 100000 complete in 70.1 sec"
       ]
      },
      {
       "output_type": "stream",
       "stream": "stdout",
       "text": [
        "\r",
        " [---------------  40%                  ] 40401 of 100000 complete in 70.6 sec"
       ]
      },
      {
       "output_type": "stream",
       "stream": "stdout",
       "text": [
        "\r",
        " [---------------  40%                  ] 40679 of 100000 complete in 71.1 sec"
       ]
      },
      {
       "output_type": "stream",
       "stream": "stdout",
       "text": [
        "\r",
        " [---------------  40%                  ] 40966 of 100000 complete in 71.6 sec"
       ]
      },
      {
       "output_type": "stream",
       "stream": "stdout",
       "text": [
        "\r",
        " [---------------  41%                  ] 41244 of 100000 complete in 72.1 sec"
       ]
      },
      {
       "output_type": "stream",
       "stream": "stdout",
       "text": [
        "\r",
        " [---------------  41%                  ] 41527 of 100000 complete in 72.6 sec"
       ]
      },
      {
       "output_type": "stream",
       "stream": "stdout",
       "text": [
        "\r",
        " [---------------  41%                  ] 41815 of 100000 complete in 73.1 sec"
       ]
      },
      {
       "output_type": "stream",
       "stream": "stdout",
       "text": [
        "\r",
        " [---------------  42%                  ] 42102 of 100000 complete in 73.6 sec"
       ]
      },
      {
       "output_type": "stream",
       "stream": "stdout",
       "text": [
        "\r",
        " [---------------- 42%                  ] 42386 of 100000 complete in 74.1 sec"
       ]
      },
      {
       "output_type": "stream",
       "stream": "stdout",
       "text": [
        "\r",
        " [---------------- 42%                  ] 42657 of 100000 complete in 74.6 sec"
       ]
      },
      {
       "output_type": "stream",
       "stream": "stdout",
       "text": [
        "\r",
        " [---------------- 42%                  ] 42944 of 100000 complete in 75.1 sec"
       ]
      },
      {
       "output_type": "stream",
       "stream": "stdout",
       "text": [
        "\r",
        " [---------------- 43%                  ] 43228 of 100000 complete in 75.6 sec"
       ]
      },
      {
       "output_type": "stream",
       "stream": "stdout",
       "text": [
        "\r",
        " [---------------- 43%                  ] 43518 of 100000 complete in 76.1 sec"
       ]
      },
      {
       "output_type": "stream",
       "stream": "stdout",
       "text": [
        "\r",
        " [---------------- 43%                  ] 43801 of 100000 complete in 76.6 sec"
       ]
      },
      {
       "output_type": "stream",
       "stream": "stdout",
       "text": [
        "\r",
        " [---------------- 44%                  ] 44068 of 100000 complete in 77.1 sec"
       ]
      },
      {
       "output_type": "stream",
       "stream": "stdout",
       "text": [
        "\r",
        " [---------------- 44%                  ] 44323 of 100000 complete in 77.6 sec"
       ]
      },
      {
       "output_type": "stream",
       "stream": "stdout",
       "text": [
        "\r",
        " [---------------- 44%                  ] 44594 of 100000 complete in 78.1 sec"
       ]
      },
      {
       "output_type": "stream",
       "stream": "stdout",
       "text": [
        "\r",
        " [-----------------44%                  ] 44876 of 100000 complete in 78.6 sec"
       ]
      },
      {
       "output_type": "stream",
       "stream": "stdout",
       "text": [
        "\r",
        " [-----------------45%                  ] 45164 of 100000 complete in 79.1 sec"
       ]
      },
      {
       "output_type": "stream",
       "stream": "stdout",
       "text": [
        "\r",
        " [-----------------45%                  ] 45433 of 100000 complete in 79.6 sec"
       ]
      },
      {
       "output_type": "stream",
       "stream": "stdout",
       "text": [
        "\r",
        " [-----------------45%                  ] 45710 of 100000 complete in 80.1 sec"
       ]
      },
      {
       "output_type": "stream",
       "stream": "stdout",
       "text": [
        "\r",
        " [-----------------45%                  ] 45984 of 100000 complete in 80.6 sec"
       ]
      },
      {
       "output_type": "stream",
       "stream": "stdout",
       "text": [
        "\r",
        " [-----------------46%                  ] 46265 of 100000 complete in 81.1 sec"
       ]
      },
      {
       "output_type": "stream",
       "stream": "stdout",
       "text": [
        "\r",
        " [-----------------46%                  ] 46541 of 100000 complete in 81.6 sec"
       ]
      },
      {
       "output_type": "stream",
       "stream": "stdout",
       "text": [
        "\r",
        " [-----------------46%                  ] 46817 of 100000 complete in 82.1 sec"
       ]
      },
      {
       "output_type": "stream",
       "stream": "stdout",
       "text": [
        "\r",
        " [-----------------47%                  ] 47096 of 100000 complete in 82.7 sec"
       ]
      },
      {
       "output_type": "stream",
       "stream": "stdout",
       "text": [
        "\r",
        " [-----------------47%                  ] 47385 of 100000 complete in 83.2 sec"
       ]
      },
      {
       "output_type": "stream",
       "stream": "stdout",
       "text": [
        "\r",
        " [-----------------47%                  ] 47665 of 100000 complete in 83.7 sec"
       ]
      },
      {
       "output_type": "stream",
       "stream": "stdout",
       "text": [
        "\r",
        " [-----------------47%                  ] 47955 of 100000 complete in 84.2 sec"
       ]
      },
      {
       "output_type": "stream",
       "stream": "stdout",
       "text": [
        "\r",
        " [-----------------48%                  ] 48232 of 100000 complete in 84.7 sec"
       ]
      },
      {
       "output_type": "stream",
       "stream": "stdout",
       "text": [
        "\r",
        " [-----------------48%                  ] 48523 of 100000 complete in 85.2 sec"
       ]
      },
      {
       "output_type": "stream",
       "stream": "stdout",
       "text": [
        "\r",
        " [-----------------48%                  ] 48808 of 100000 complete in 85.7 sec"
       ]
      },
      {
       "output_type": "stream",
       "stream": "stdout",
       "text": [
        "\r",
        " [-----------------49%                  ] 49101 of 100000 complete in 86.2 sec"
       ]
      },
      {
       "output_type": "stream",
       "stream": "stdout",
       "text": [
        "\r",
        " [-----------------49%                  ] 49387 of 100000 complete in 86.7 sec"
       ]
      },
      {
       "output_type": "stream",
       "stream": "stdout",
       "text": [
        "\r",
        " [-----------------49%                  ] 49674 of 100000 complete in 87.2 sec"
       ]
      },
      {
       "output_type": "stream",
       "stream": "stdout",
       "text": [
        "\r",
        " [-----------------49%                  ] 49968 of 100000 complete in 87.7 sec"
       ]
      },
      {
       "output_type": "stream",
       "stream": "stdout",
       "text": [
        "\r",
        " [-----------------50%                  ] 50256 of 100000 complete in 88.2 sec"
       ]
      },
      {
       "output_type": "stream",
       "stream": "stdout",
       "text": [
        "\r",
        " [-----------------50%                  ] 50550 of 100000 complete in 88.7 sec"
       ]
      },
      {
       "output_type": "stream",
       "stream": "stdout",
       "text": [
        "\r",
        " [-----------------50%                  ] 50833 of 100000 complete in 89.2 sec"
       ]
      },
      {
       "output_type": "stream",
       "stream": "stdout",
       "text": [
        "\r",
        " [-----------------51%                  ] 51112 of 100000 complete in 89.7 sec"
       ]
      },
      {
       "output_type": "stream",
       "stream": "stdout",
       "text": [
        "\r",
        " [-----------------51%                  ] 51389 of 100000 complete in 90.2 sec"
       ]
      },
      {
       "output_type": "stream",
       "stream": "stdout",
       "text": [
        "\r",
        " [-----------------51%                  ] 51679 of 100000 complete in 90.7 sec"
       ]
      },
      {
       "output_type": "stream",
       "stream": "stdout",
       "text": [
        "\r",
        " [-----------------51%                  ] 51958 of 100000 complete in 91.2 sec"
       ]
      },
      {
       "output_type": "stream",
       "stream": "stdout",
       "text": [
        "\r",
        " [-----------------52%                  ] 52240 of 100000 complete in 91.7 sec"
       ]
      },
      {
       "output_type": "stream",
       "stream": "stdout",
       "text": [
        "\r",
        " [-----------------52%                  ] 52525 of 100000 complete in 92.2 sec"
       ]
      },
      {
       "output_type": "stream",
       "stream": "stdout",
       "text": [
        "\r",
        " [-----------------52%                  ] 52814 of 100000 complete in 92.7 sec"
       ]
      },
      {
       "output_type": "stream",
       "stream": "stdout",
       "text": [
        "\r",
        " [-----------------53%                  ] 53098 of 100000 complete in 93.2 sec"
       ]
      },
      {
       "output_type": "stream",
       "stream": "stdout",
       "text": [
        "\r",
        " [-----------------53%                  ] 53388 of 100000 complete in 93.7 sec"
       ]
      },
      {
       "output_type": "stream",
       "stream": "stdout",
       "text": [
        "\r",
        " [-----------------53%                  ] 53674 of 100000 complete in 94.2 sec"
       ]
      },
      {
       "output_type": "stream",
       "stream": "stdout",
       "text": [
        "\r",
        " [-----------------53%                  ] 53963 of 100000 complete in 94.7 sec"
       ]
      },
      {
       "output_type": "stream",
       "stream": "stdout",
       "text": [
        "\r",
        " [-----------------54%                  ] 54248 of 100000 complete in 95.2 sec"
       ]
      },
      {
       "output_type": "stream",
       "stream": "stdout",
       "text": [
        "\r",
        " [-----------------54%                  ] 54539 of 100000 complete in 95.7 sec"
       ]
      },
      {
       "output_type": "stream",
       "stream": "stdout",
       "text": [
        "\r",
        " [-----------------54%                  ] 54823 of 100000 complete in 96.2 sec"
       ]
      },
      {
       "output_type": "stream",
       "stream": "stdout",
       "text": [
        "\r",
        " [-----------------55%                  ] 55118 of 100000 complete in 96.7 sec"
       ]
      },
      {
       "output_type": "stream",
       "stream": "stdout",
       "text": [
        "\r",
        " [-----------------55%-                 ] 55405 of 100000 complete in 97.2 sec"
       ]
      },
      {
       "output_type": "stream",
       "stream": "stdout",
       "text": [
        "\r",
        " [-----------------55%-                 ] 55698 of 100000 complete in 97.7 sec"
       ]
      },
      {
       "output_type": "stream",
       "stream": "stdout",
       "text": [
        "\r",
        " [-----------------55%-                 ] 55990 of 100000 complete in 98.2 sec"
       ]
      },
      {
       "output_type": "stream",
       "stream": "stdout",
       "text": [
        "\r",
        " [-----------------56%-                 ] 56277 of 100000 complete in 98.7 sec"
       ]
      },
      {
       "output_type": "stream",
       "stream": "stdout",
       "text": [
        "\r",
        " [-----------------56%-                 ] 56569 of 100000 complete in 99.2 sec"
       ]
      },
      {
       "output_type": "stream",
       "stream": "stdout",
       "text": [
        "\r",
        " [-----------------56%-                 ] 56854 of 100000 complete in 99.7 sec"
       ]
      },
      {
       "output_type": "stream",
       "stream": "stdout",
       "text": [
        "\r",
        " [-----------------57%-                 ] 57146 of 100000 complete in 100.2 sec"
       ]
      },
      {
       "output_type": "stream",
       "stream": "stdout",
       "text": [
        "\r",
        " [-----------------57%-                 ] 57430 of 100000 complete in 100.7 sec"
       ]
      },
      {
       "output_type": "stream",
       "stream": "stdout",
       "text": [
        "\r",
        " [-----------------57%-                 ] 57720 of 100000 complete in 101.2 sec"
       ]
      },
      {
       "output_type": "stream",
       "stream": "stdout",
       "text": [
        "\r",
        " [-----------------58%--                ] 58007 of 100000 complete in 101.7 sec"
       ]
      },
      {
       "output_type": "stream",
       "stream": "stdout",
       "text": [
        "\r",
        " [-----------------58%--                ] 58297 of 100000 complete in 102.2 sec"
       ]
      },
      {
       "output_type": "stream",
       "stream": "stdout",
       "text": [
        "\r",
        " [-----------------58%--                ] 58582 of 100000 complete in 102.7 sec"
       ]
      },
      {
       "output_type": "stream",
       "stream": "stdout",
       "text": [
        "\r",
        " [-----------------58%--                ] 58873 of 100000 complete in 103.2 sec"
       ]
      },
      {
       "output_type": "stream",
       "stream": "stdout",
       "text": [
        "\r",
        " [-----------------59%--                ] 59157 of 100000 complete in 103.7 sec"
       ]
      },
      {
       "output_type": "stream",
       "stream": "stdout",
       "text": [
        "\r",
        " [-----------------59%--                ] 59446 of 100000 complete in 104.2 sec"
       ]
      },
      {
       "output_type": "stream",
       "stream": "stdout",
       "text": [
        "\r",
        " [-----------------59%--                ] 59730 of 100000 complete in 104.7 sec"
       ]
      },
      {
       "output_type": "stream",
       "stream": "stdout",
       "text": [
        "\r",
        " [-----------------60%--                ] 60017 of 100000 complete in 105.2 sec"
       ]
      },
      {
       "output_type": "stream",
       "stream": "stdout",
       "text": [
        "\r",
        " [-----------------60%--                ] 60306 of 100000 complete in 105.7 sec"
       ]
      },
      {
       "output_type": "stream",
       "stream": "stdout",
       "text": [
        "\r",
        " [-----------------60%---               ] 60599 of 100000 complete in 106.2 sec"
       ]
      },
      {
       "output_type": "stream",
       "stream": "stdout",
       "text": [
        "\r",
        " [-----------------60%---               ] 60888 of 100000 complete in 106.7 sec"
       ]
      },
      {
       "output_type": "stream",
       "stream": "stdout",
       "text": [
        "\r",
        " [-----------------61%---               ] 61183 of 100000 complete in 107.2 sec"
       ]
      },
      {
       "output_type": "stream",
       "stream": "stdout",
       "text": [
        "\r",
        " [-----------------61%---               ] 61471 of 100000 complete in 107.7 sec"
       ]
      },
      {
       "output_type": "stream",
       "stream": "stdout",
       "text": [
        "\r",
        " [-----------------61%---               ] 61764 of 100000 complete in 108.2 sec"
       ]
      },
      {
       "output_type": "stream",
       "stream": "stdout",
       "text": [
        "\r",
        " [-----------------62%---               ] 62054 of 100000 complete in 108.7 sec"
       ]
      },
      {
       "output_type": "stream",
       "stream": "stdout",
       "text": [
        "\r",
        " [-----------------62%---               ] 62343 of 100000 complete in 109.2 sec"
       ]
      },
      {
       "output_type": "stream",
       "stream": "stdout",
       "text": [
        "\r",
        " [-----------------62%---               ] 62636 of 100000 complete in 109.7 sec"
       ]
      },
      {
       "output_type": "stream",
       "stream": "stdout",
       "text": [
        "\r",
        " [-----------------62%---               ] 62922 of 100000 complete in 110.2 sec"
       ]
      },
      {
       "output_type": "stream",
       "stream": "stdout",
       "text": [
        "\r",
        " [-----------------63%----              ] 63213 of 100000 complete in 110.7 sec"
       ]
      },
      {
       "output_type": "stream",
       "stream": "stdout",
       "text": [
        "\r",
        " [-----------------63%----              ] 63499 of 100000 complete in 111.2 sec"
       ]
      },
      {
       "output_type": "stream",
       "stream": "stdout",
       "text": [
        "\r",
        " [-----------------63%----              ] 63792 of 100000 complete in 111.7 sec"
       ]
      },
      {
       "output_type": "stream",
       "stream": "stdout",
       "text": [
        "\r",
        " [-----------------64%----              ] 64080 of 100000 complete in 112.2 sec"
       ]
      },
      {
       "output_type": "stream",
       "stream": "stdout",
       "text": [
        "\r",
        " [-----------------64%----              ] 64368 of 100000 complete in 112.7 sec"
       ]
      },
      {
       "output_type": "stream",
       "stream": "stdout",
       "text": [
        "\r",
        " [-----------------64%----              ] 64654 of 100000 complete in 113.2 sec"
       ]
      },
      {
       "output_type": "stream",
       "stream": "stdout",
       "text": [
        "\r",
        " [-----------------64%----              ] 64940 of 100000 complete in 113.7 sec"
       ]
      },
      {
       "output_type": "stream",
       "stream": "stdout",
       "text": [
        "\r",
        " [-----------------65%----              ] 65226 of 100000 complete in 114.2 sec"
       ]
      },
      {
       "output_type": "stream",
       "stream": "stdout",
       "text": [
        "\r",
        " [-----------------65%----              ] 65507 of 100000 complete in 114.7 sec"
       ]
      },
      {
       "output_type": "stream",
       "stream": "stdout",
       "text": [
        "\r",
        " [-----------------65%----              ] 65789 of 100000 complete in 115.2 sec"
       ]
      },
      {
       "output_type": "stream",
       "stream": "stdout",
       "text": [
        "\r",
        " [-----------------66%-----             ] 66078 of 100000 complete in 115.7 sec"
       ]
      },
      {
       "output_type": "stream",
       "stream": "stdout",
       "text": [
        "\r",
        " [-----------------66%-----             ] 66364 of 100000 complete in 116.2 sec"
       ]
      },
      {
       "output_type": "stream",
       "stream": "stdout",
       "text": [
        "\r",
        " [-----------------66%-----             ] 66655 of 100000 complete in 116.7 sec"
       ]
      },
      {
       "output_type": "stream",
       "stream": "stdout",
       "text": [
        "\r",
        " [-----------------66%-----             ] 66944 of 100000 complete in 117.2 sec"
       ]
      },
      {
       "output_type": "stream",
       "stream": "stdout",
       "text": [
        "\r",
        " [-----------------67%-----             ] 67235 of 100000 complete in 117.7 sec"
       ]
      },
      {
       "output_type": "stream",
       "stream": "stdout",
       "text": [
        "\r",
        " [-----------------67%-----             ] 67524 of 100000 complete in 118.2 sec"
       ]
      },
      {
       "output_type": "stream",
       "stream": "stdout",
       "text": [
        "\r",
        " [-----------------67%-----             ] 67813 of 100000 complete in 118.7 sec"
       ]
      },
      {
       "output_type": "stream",
       "stream": "stdout",
       "text": [
        "\r",
        " [-----------------68%-----             ] 68103 of 100000 complete in 119.2 sec"
       ]
      },
      {
       "output_type": "stream",
       "stream": "stdout",
       "text": [
        "\r",
        " [-----------------68%-----             ] 68394 of 100000 complete in 119.7 sec"
       ]
      },
      {
       "output_type": "stream",
       "stream": "stdout",
       "text": [
        "\r",
        " [-----------------68%------            ] 68673 of 100000 complete in 120.2 sec"
       ]
      },
      {
       "output_type": "stream",
       "stream": "stdout",
       "text": [
        "\r",
        " [-----------------68%------            ] 68953 of 100000 complete in 120.7 sec"
       ]
      },
      {
       "output_type": "stream",
       "stream": "stdout",
       "text": [
        "\r",
        " [-----------------69%------            ] 69243 of 100000 complete in 121.2 sec"
       ]
      },
      {
       "output_type": "stream",
       "stream": "stdout",
       "text": [
        "\r",
        " [-----------------69%------            ] 69519 of 100000 complete in 121.7 sec"
       ]
      },
      {
       "output_type": "stream",
       "stream": "stdout",
       "text": [
        "\r",
        " [-----------------69%------            ] 69784 of 100000 complete in 122.2 sec"
       ]
      },
      {
       "output_type": "stream",
       "stream": "stdout",
       "text": [
        "\r",
        " [-----------------70%------            ] 70065 of 100000 complete in 122.7 sec"
       ]
      },
      {
       "output_type": "stream",
       "stream": "stdout",
       "text": [
        "\r",
        " [-----------------70%------            ] 70358 of 100000 complete in 123.2 sec"
       ]
      },
      {
       "output_type": "stream",
       "stream": "stdout",
       "text": [
        "\r",
        " [-----------------70%------            ] 70645 of 100000 complete in 123.7 sec"
       ]
      },
      {
       "output_type": "stream",
       "stream": "stdout",
       "text": [
        "\r",
        " [-----------------70%------            ] 70940 of 100000 complete in 124.2 sec"
       ]
      },
      {
       "output_type": "stream",
       "stream": "stdout",
       "text": [
        "\r",
        " [-----------------71%-------           ] 71224 of 100000 complete in 124.7 sec"
       ]
      },
      {
       "output_type": "stream",
       "stream": "stdout",
       "text": [
        "\r",
        " [-----------------71%-------           ] 71515 of 100000 complete in 125.2 sec"
       ]
      },
      {
       "output_type": "stream",
       "stream": "stdout",
       "text": [
        "\r",
        " [-----------------71%-------           ] 71781 of 100000 complete in 125.7 sec"
       ]
      },
      {
       "output_type": "stream",
       "stream": "stdout",
       "text": [
        "\r",
        " [-----------------72%-------           ] 72072 of 100000 complete in 126.2 sec"
       ]
      },
      {
       "output_type": "stream",
       "stream": "stdout",
       "text": [
        "\r",
        " [-----------------72%-------           ] 72354 of 100000 complete in 126.7 sec"
       ]
      },
      {
       "output_type": "stream",
       "stream": "stdout",
       "text": [
        "\r",
        " [-----------------72%-------           ] 72643 of 100000 complete in 127.2 sec"
       ]
      },
      {
       "output_type": "stream",
       "stream": "stdout",
       "text": [
        "\r",
        " [-----------------72%-------           ] 72916 of 100000 complete in 127.7 sec"
       ]
      },
      {
       "output_type": "stream",
       "stream": "stdout",
       "text": [
        "\r",
        " [-----------------73%-------           ] 73204 of 100000 complete in 128.2 sec"
       ]
      },
      {
       "output_type": "stream",
       "stream": "stdout",
       "text": [
        "\r",
        " [-----------------73%-------           ] 73488 of 100000 complete in 128.7 sec"
       ]
      },
      {
       "output_type": "stream",
       "stream": "stdout",
       "text": [
        "\r",
        " [-----------------73%--------          ] 73771 of 100000 complete in 129.2 sec"
       ]
      },
      {
       "output_type": "stream",
       "stream": "stdout",
       "text": [
        "\r",
        " [-----------------74%--------          ] 74051 of 100000 complete in 129.7 sec"
       ]
      },
      {
       "output_type": "stream",
       "stream": "stdout",
       "text": [
        "\r",
        " [-----------------74%--------          ] 74335 of 100000 complete in 130.2 sec"
       ]
      },
      {
       "output_type": "stream",
       "stream": "stdout",
       "text": [
        "\r",
        " [-----------------74%--------          ] 74612 of 100000 complete in 130.7 sec"
       ]
      },
      {
       "output_type": "stream",
       "stream": "stdout",
       "text": [
        "\r",
        " [-----------------74%--------          ] 74895 of 100000 complete in 131.2 sec"
       ]
      },
      {
       "output_type": "stream",
       "stream": "stdout",
       "text": [
        "\r",
        " [-----------------75%--------          ] 75175 of 100000 complete in 131.7 sec"
       ]
      },
      {
       "output_type": "stream",
       "stream": "stdout",
       "text": [
        "\r",
        " [-----------------75%--------          ] 75455 of 100000 complete in 132.2 sec"
       ]
      },
      {
       "output_type": "stream",
       "stream": "stdout",
       "text": [
        "\r",
        " [-----------------75%--------          ] 75743 of 100000 complete in 132.7 sec"
       ]
      },
      {
       "output_type": "stream",
       "stream": "stdout",
       "text": [
        "\r",
        " [-----------------76%--------          ] 76032 of 100000 complete in 133.2 sec"
       ]
      },
      {
       "output_type": "stream",
       "stream": "stdout",
       "text": [
        "\r",
        " [-----------------76%---------         ] 76322 of 100000 complete in 133.7 sec"
       ]
      },
      {
       "output_type": "stream",
       "stream": "stdout",
       "text": [
        "\r",
        " [-----------------76%---------         ] 76610 of 100000 complete in 134.2 sec"
       ]
      },
      {
       "output_type": "stream",
       "stream": "stdout",
       "text": [
        "\r",
        " [-----------------76%---------         ] 76896 of 100000 complete in 134.7 sec"
       ]
      },
      {
       "output_type": "stream",
       "stream": "stdout",
       "text": [
        "\r",
        " [-----------------77%---------         ] 77182 of 100000 complete in 135.2 sec"
       ]
      },
      {
       "output_type": "stream",
       "stream": "stdout",
       "text": [
        "\r",
        " [-----------------77%---------         ] 77474 of 100000 complete in 135.7 sec"
       ]
      },
      {
       "output_type": "stream",
       "stream": "stdout",
       "text": [
        "\r",
        " [-----------------77%---------         ] 77762 of 100000 complete in 136.2 sec"
       ]
      },
      {
       "output_type": "stream",
       "stream": "stdout",
       "text": [
        "\r",
        " [-----------------78%---------         ] 78051 of 100000 complete in 136.7 sec"
       ]
      },
      {
       "output_type": "stream",
       "stream": "stdout",
       "text": [
        "\r",
        " [-----------------78%---------         ] 78335 of 100000 complete in 137.2 sec"
       ]
      },
      {
       "output_type": "stream",
       "stream": "stdout",
       "text": [
        "\r",
        " [-----------------78%---------         ] 78626 of 100000 complete in 137.7 sec"
       ]
      },
      {
       "output_type": "stream",
       "stream": "stdout",
       "text": [
        "\r",
        " [-----------------78%---------         ] 78915 of 100000 complete in 138.3 sec"
       ]
      },
      {
       "output_type": "stream",
       "stream": "stdout",
       "text": [
        "\r",
        " [-----------------79%----------        ] 79203 of 100000 complete in 138.8 sec"
       ]
      },
      {
       "output_type": "stream",
       "stream": "stdout",
       "text": [
        "\r",
        " [-----------------79%----------        ] 79492 of 100000 complete in 139.3 sec"
       ]
      },
      {
       "output_type": "stream",
       "stream": "stdout",
       "text": [
        "\r",
        " [-----------------79%----------        ] 79782 of 100000 complete in 139.8 sec"
       ]
      },
      {
       "output_type": "stream",
       "stream": "stdout",
       "text": [
        "\r",
        " [-----------------80%----------        ] 80071 of 100000 complete in 140.3 sec"
       ]
      },
      {
       "output_type": "stream",
       "stream": "stdout",
       "text": [
        "\r",
        " [-----------------80%----------        ] 80359 of 100000 complete in 140.8 sec"
       ]
      },
      {
       "output_type": "stream",
       "stream": "stdout",
       "text": [
        "\r",
        " [-----------------80%----------        ] 80649 of 100000 complete in 141.3 sec"
       ]
      },
      {
       "output_type": "stream",
       "stream": "stdout",
       "text": [
        "\r",
        " [-----------------80%----------        ] 80938 of 100000 complete in 141.8 sec"
       ]
      },
      {
       "output_type": "stream",
       "stream": "stdout",
       "text": [
        "\r",
        " [-----------------81%----------        ] 81230 of 100000 complete in 142.3 sec"
       ]
      },
      {
       "output_type": "stream",
       "stream": "stdout",
       "text": [
        "\r",
        " [-----------------81%----------        ] 81513 of 100000 complete in 142.8 sec"
       ]
      },
      {
       "output_type": "stream",
       "stream": "stdout",
       "text": [
        "\r",
        " [-----------------81%-----------       ] 81807 of 100000 complete in 143.3 sec"
       ]
      },
      {
       "output_type": "stream",
       "stream": "stdout",
       "text": [
        "\r",
        " [-----------------82%-----------       ] 82091 of 100000 complete in 143.8 sec"
       ]
      },
      {
       "output_type": "stream",
       "stream": "stdout",
       "text": [
        "\r",
        " [-----------------82%-----------       ] 82385 of 100000 complete in 144.3 sec"
       ]
      },
      {
       "output_type": "stream",
       "stream": "stdout",
       "text": [
        "\r",
        " [-----------------82%-----------       ] 82670 of 100000 complete in 144.8 sec"
       ]
      },
      {
       "output_type": "stream",
       "stream": "stdout",
       "text": [
        "\r",
        " [-----------------82%-----------       ] 82963 of 100000 complete in 145.3 sec"
       ]
      },
      {
       "output_type": "stream",
       "stream": "stdout",
       "text": [
        "\r",
        " [-----------------83%-----------       ] 83248 of 100000 complete in 145.8 sec"
       ]
      },
      {
       "output_type": "stream",
       "stream": "stdout",
       "text": [
        "\r",
        " [-----------------83%-----------       ] 83543 of 100000 complete in 146.3 sec"
       ]
      },
      {
       "output_type": "stream",
       "stream": "stdout",
       "text": [
        "\r",
        " [-----------------83%-----------       ] 83825 of 100000 complete in 146.8 sec"
       ]
      },
      {
       "output_type": "stream",
       "stream": "stdout",
       "text": [
        "\r",
        " [-----------------84%-----------       ] 84118 of 100000 complete in 147.3 sec"
       ]
      },
      {
       "output_type": "stream",
       "stream": "stdout",
       "text": [
        "\r",
        " [-----------------84%------------      ] 84403 of 100000 complete in 147.8 sec"
       ]
      },
      {
       "output_type": "stream",
       "stream": "stdout",
       "text": [
        "\r",
        " [-----------------84%------------      ] 84693 of 100000 complete in 148.3 sec"
       ]
      },
      {
       "output_type": "stream",
       "stream": "stdout",
       "text": [
        "\r",
        " [-----------------84%------------      ] 84975 of 100000 complete in 148.8 sec"
       ]
      },
      {
       "output_type": "stream",
       "stream": "stdout",
       "text": [
        "\r",
        " [-----------------85%------------      ] 85268 of 100000 complete in 149.3 sec"
       ]
      },
      {
       "output_type": "stream",
       "stream": "stdout",
       "text": [
        "\r",
        " [-----------------85%------------      ] 85551 of 100000 complete in 149.8 sec"
       ]
      },
      {
       "output_type": "stream",
       "stream": "stdout",
       "text": [
        "\r",
        " [-----------------85%------------      ] 85845 of 100000 complete in 150.3 sec"
       ]
      },
      {
       "output_type": "stream",
       "stream": "stdout",
       "text": [
        "\r",
        " [-----------------86%------------      ] 86128 of 100000 complete in 150.8 sec"
       ]
      },
      {
       "output_type": "stream",
       "stream": "stdout",
       "text": [
        "\r",
        " [-----------------86%------------      ] 86423 of 100000 complete in 151.3 sec"
       ]
      },
      {
       "output_type": "stream",
       "stream": "stdout",
       "text": [
        "\r",
        " [-----------------86%------------      ] 86709 of 100000 complete in 151.8 sec"
       ]
      },
      {
       "output_type": "stream",
       "stream": "stdout",
       "text": [
        "\r",
        " [-----------------87%-------------     ] 87003 of 100000 complete in 152.3 sec"
       ]
      },
      {
       "output_type": "stream",
       "stream": "stdout",
       "text": [
        "\r",
        " [-----------------87%-------------     ] 87289 of 100000 complete in 152.8 sec"
       ]
      },
      {
       "output_type": "stream",
       "stream": "stdout",
       "text": [
        "\r",
        " [-----------------87%-------------     ] 87578 of 100000 complete in 153.3 sec"
       ]
      },
      {
       "output_type": "stream",
       "stream": "stdout",
       "text": [
        "\r",
        " [-----------------87%-------------     ] 87867 of 100000 complete in 153.8 sec"
       ]
      },
      {
       "output_type": "stream",
       "stream": "stdout",
       "text": [
        "\r",
        " [-----------------88%-------------     ] 88153 of 100000 complete in 154.3 sec"
       ]
      },
      {
       "output_type": "stream",
       "stream": "stdout",
       "text": [
        "\r",
        " [-----------------88%-------------     ] 88438 of 100000 complete in 154.8 sec"
       ]
      },
      {
       "output_type": "stream",
       "stream": "stdout",
       "text": [
        "\r",
        " [-----------------88%-------------     ] 88723 of 100000 complete in 155.3 sec"
       ]
      },
      {
       "output_type": "stream",
       "stream": "stdout",
       "text": [
        "\r",
        " [-----------------89%-------------     ] 89015 of 100000 complete in 155.8 sec"
       ]
      },
      {
       "output_type": "stream",
       "stream": "stdout",
       "text": [
        "\r",
        " [-----------------89%-------------     ] 89300 of 100000 complete in 156.3 sec"
       ]
      },
      {
       "output_type": "stream",
       "stream": "stdout",
       "text": [
        "\r",
        " [-----------------89%--------------    ] 89592 of 100000 complete in 156.8 sec"
       ]
      },
      {
       "output_type": "stream",
       "stream": "stdout",
       "text": [
        "\r",
        " [-----------------89%--------------    ] 89878 of 100000 complete in 157.3 sec"
       ]
      },
      {
       "output_type": "stream",
       "stream": "stdout",
       "text": [
        "\r",
        " [-----------------90%--------------    ] 90170 of 100000 complete in 157.8 sec"
       ]
      },
      {
       "output_type": "stream",
       "stream": "stdout",
       "text": [
        "\r",
        " [-----------------90%--------------    ] 90456 of 100000 complete in 158.3 sec"
       ]
      },
      {
       "output_type": "stream",
       "stream": "stdout",
       "text": [
        "\r",
        " [-----------------90%--------------    ] 90747 of 100000 complete in 158.8 sec"
       ]
      },
      {
       "output_type": "stream",
       "stream": "stdout",
       "text": [
        "\r",
        " [-----------------91%--------------    ] 91030 of 100000 complete in 159.3 sec"
       ]
      },
      {
       "output_type": "stream",
       "stream": "stdout",
       "text": [
        "\r",
        " [-----------------91%--------------    ] 91321 of 100000 complete in 159.8 sec"
       ]
      },
      {
       "output_type": "stream",
       "stream": "stdout",
       "text": [
        "\r",
        " [-----------------91%--------------    ] 91606 of 100000 complete in 160.3 sec"
       ]
      },
      {
       "output_type": "stream",
       "stream": "stdout",
       "text": [
        "\r",
        " [-----------------91%--------------    ] 91898 of 100000 complete in 160.8 sec"
       ]
      },
      {
       "output_type": "stream",
       "stream": "stdout",
       "text": [
        "\r",
        " [-----------------92%---------------   ] 92185 of 100000 complete in 161.3 sec"
       ]
      },
      {
       "output_type": "stream",
       "stream": "stdout",
       "text": [
        "\r",
        " [-----------------92%---------------   ] 92476 of 100000 complete in 161.8 sec"
       ]
      },
      {
       "output_type": "stream",
       "stream": "stdout",
       "text": [
        "\r",
        " [-----------------92%---------------   ] 92762 of 100000 complete in 162.3 sec"
       ]
      },
      {
       "output_type": "stream",
       "stream": "stdout",
       "text": [
        "\r",
        " [-----------------93%---------------   ] 93054 of 100000 complete in 162.8 sec"
       ]
      },
      {
       "output_type": "stream",
       "stream": "stdout",
       "text": [
        "\r",
        " [-----------------93%---------------   ] 93342 of 100000 complete in 163.3 sec"
       ]
      },
      {
       "output_type": "stream",
       "stream": "stdout",
       "text": [
        "\r",
        " [-----------------93%---------------   ] 93633 of 100000 complete in 163.8 sec"
       ]
      },
      {
       "output_type": "stream",
       "stream": "stdout",
       "text": [
        "\r",
        " [-----------------93%---------------   ] 93923 of 100000 complete in 164.3 sec"
       ]
      },
      {
       "output_type": "stream",
       "stream": "stdout",
       "text": [
        "\r",
        " [-----------------94%---------------   ] 94209 of 100000 complete in 164.8 sec"
       ]
      },
      {
       "output_type": "stream",
       "stream": "stdout",
       "text": [
        "\r",
        " [-----------------94%---------------   ] 94494 of 100000 complete in 165.3 sec"
       ]
      },
      {
       "output_type": "stream",
       "stream": "stdout",
       "text": [
        "\r",
        " [-----------------94%----------------  ] 94780 of 100000 complete in 165.8 sec"
       ]
      },
      {
       "output_type": "stream",
       "stream": "stdout",
       "text": [
        "\r",
        " [-----------------95%----------------  ] 95074 of 100000 complete in 166.3 sec"
       ]
      },
      {
       "output_type": "stream",
       "stream": "stdout",
       "text": [
        "\r",
        " [-----------------95%----------------  ] 95356 of 100000 complete in 166.8 sec"
       ]
      },
      {
       "output_type": "stream",
       "stream": "stdout",
       "text": [
        "\r",
        " [-----------------95%----------------  ] 95649 of 100000 complete in 167.3 sec"
       ]
      },
      {
       "output_type": "stream",
       "stream": "stdout",
       "text": [
        "\r",
        " [-----------------95%----------------  ] 95931 of 100000 complete in 167.8 sec"
       ]
      },
      {
       "output_type": "stream",
       "stream": "stdout",
       "text": [
        "\r",
        " [-----------------96%----------------  ] 96224 of 100000 complete in 168.3 sec"
       ]
      },
      {
       "output_type": "stream",
       "stream": "stdout",
       "text": [
        "\r",
        " [-----------------96%----------------  ] 96496 of 100000 complete in 168.8 sec"
       ]
      },
      {
       "output_type": "stream",
       "stream": "stdout",
       "text": [
        "\r",
        " [-----------------96%----------------  ] 96789 of 100000 complete in 169.3 sec"
       ]
      },
      {
       "output_type": "stream",
       "stream": "stdout",
       "text": [
        "\r",
        " [-----------------97%----------------  ] 97071 of 100000 complete in 169.8 sec"
       ]
      },
      {
       "output_type": "stream",
       "stream": "stdout",
       "text": [
        "\r",
        " [-----------------97%----------------  ] 97364 of 100000 complete in 170.3 sec"
       ]
      },
      {
       "output_type": "stream",
       "stream": "stdout",
       "text": [
        "\r",
        " [-----------------97%----------------- ] 97644 of 100000 complete in 170.8 sec"
       ]
      },
      {
       "output_type": "stream",
       "stream": "stdout",
       "text": [
        "\r",
        " [-----------------97%----------------- ] 97937 of 100000 complete in 171.3 sec"
       ]
      },
      {
       "output_type": "stream",
       "stream": "stdout",
       "text": [
        "\r",
        " [-----------------98%----------------- ] 98224 of 100000 complete in 171.8 sec"
       ]
      },
      {
       "output_type": "stream",
       "stream": "stdout",
       "text": [
        "\r",
        " [-----------------98%----------------- ] 98519 of 100000 complete in 172.3 sec"
       ]
      },
      {
       "output_type": "stream",
       "stream": "stdout",
       "text": [
        "\r",
        " [-----------------98%----------------- ] 98806 of 100000 complete in 172.8 sec"
       ]
      },
      {
       "output_type": "stream",
       "stream": "stdout",
       "text": [
        "\r",
        " [-----------------99%----------------- ] 99100 of 100000 complete in 173.3 sec"
       ]
      },
      {
       "output_type": "stream",
       "stream": "stdout",
       "text": [
        "\r",
        " [-----------------99%----------------- ] 99388 of 100000 complete in 173.8 sec"
       ]
      },
      {
       "output_type": "stream",
       "stream": "stdout",
       "text": [
        "\r",
        " [-----------------99%----------------- ] 99684 of 100000 complete in 174.3 sec"
       ]
      },
      {
       "output_type": "stream",
       "stream": "stdout",
       "text": [
        "\r",
        " [-----------------99%----------------- ] 99974 of 100000 complete in 174.8 sec"
       ]
      },
      {
       "output_type": "stream",
       "stream": "stdout",
       "text": [
        "\r",
        " [-----------------100%-----------------] 100000 of 100000 complete in 174.9 sec"
       ]
      },
      {
       "metadata": {},
       "output_type": "display_data",
       "png": "[encoded data removed]",
       "text": [
        "<matplotlib.figure.Figure at 0x86b2850>"
       ]
      },
      {
       "metadata": {},
       "output_type": "display_data",
       "png": "[encoded data removed]",
       "text": [
        "<matplotlib.figure.Figure at 0x75c6390>"
       ]
      }
     ],
     "prompt_number": 475
    },
    {
     "cell_type": "code",
     "collapsed": false,
     "input": [
      "cg37, av_chir37, av_dif37 = setup_analysis(37)\n",
      "\n",
      "model37 = make_model(cg37, av_chir37, av_dif37)\n",
      "M37 = pymc.MCMC(model37)\n",
      "M37.sample(100000, burn=10000, thin=10)"
     ],
     "language": "python",
     "metadata": {},
     "outputs": [
      {
       "output_type": "stream",
       "stream": "stdout",
       "text": [
        "Setting up the simulation for T= 37 ...\n",
        "\n",
        "numBins for chirality: 75\n",
        "Min log(r/ri): -1e-06\n",
        "Max log(r/ri): 1.28446456734\n",
        "Dimensionless Binsize for log(r/ri): 0.0173576428019\n",
        "\n"
       ]
      },
      {
       "output_type": "stream",
       "stream": "stdout",
       "text": [
        "Numbins for diffusion: 75\n",
        "Min 1/ri - 1/r: -1e-06\n",
        "Max 1/ri - 1/r: 0.369055701446\n",
        "Dimensionless Binsize for 1/ri - 1/r: 0.00498725272224\n",
        "\n"
       ]
      },
      {
       "output_type": "stream",
       "stream": "stdout",
       "text": [
        "Done setting up!\n",
        "\r"
       ]
      },
      {
       "output_type": "stream",
       "stream": "stdout",
       "text": [
        " [                  0%                  ] 295 of 100000 complete in 0.5 sec"
       ]
      },
      {
       "output_type": "stream",
       "stream": "stdout",
       "text": [
        "\r",
        " [                  0%                  ] 592 of 100000 complete in 1.0 sec"
       ]
      },
      {
       "output_type": "stream",
       "stream": "stdout",
       "text": [
        "\r",
        " [                  0%                  ] 896 of 100000 complete in 1.5 sec"
       ]
      },
      {
       "output_type": "stream",
       "stream": "stdout",
       "text": [
        "\r",
        " [                  1%                  ] 1189 of 100000 complete in 2.0 sec"
       ]
      },
      {
       "output_type": "stream",
       "stream": "stdout",
       "text": [
        "\r",
        " [                  1%                  ] 1486 of 100000 complete in 2.5 sec"
       ]
      },
      {
       "output_type": "stream",
       "stream": "stdout",
       "text": [
        "\r",
        " [                  1%                  ] 1776 of 100000 complete in 3.0 sec"
       ]
      },
      {
       "output_type": "stream",
       "stream": "stdout",
       "text": [
        "\r",
        " [                  2%                  ] 2069 of 100000 complete in 3.5 sec"
       ]
      },
      {
       "output_type": "stream",
       "stream": "stdout",
       "text": [
        "\r",
        " [                  2%                  ] 2361 of 100000 complete in 4.0 sec"
       ]
      },
      {
       "output_type": "stream",
       "stream": "stdout",
       "text": [
        "\r",
        " [-                 2%                  ] 2649 of 100000 complete in 4.5 sec"
       ]
      },
      {
       "output_type": "stream",
       "stream": "stdout",
       "text": [
        "\r",
        " [-                 2%                  ] 2924 of 100000 complete in 5.0 sec"
       ]
      },
      {
       "output_type": "stream",
       "stream": "stdout",
       "text": [
        "\r",
        " [-                 3%                  ] 3211 of 100000 complete in 5.5 sec"
       ]
      },
      {
       "output_type": "stream",
       "stream": "stdout",
       "text": [
        "\r",
        " [-                 3%                  ] 3470 of 100000 complete in 6.0 sec"
       ]
      },
      {
       "output_type": "stream",
       "stream": "stdout",
       "text": [
        "\r",
        " [-                 3%                  ] 3747 of 100000 complete in 6.5 sec"
       ]
      },
      {
       "output_type": "stream",
       "stream": "stdout",
       "text": [
        "\r",
        " [-                 4%                  ] 4035 of 100000 complete in 7.0 sec"
       ]
      },
      {
       "output_type": "stream",
       "stream": "stdout",
       "text": [
        "\r",
        " [-                 4%                  ] 4323 of 100000 complete in 7.5 sec"
       ]
      },
      {
       "output_type": "stream",
       "stream": "stdout",
       "text": [
        "\r",
        " [-                 4%                  ] 4613 of 100000 complete in 8.0 sec"
       ]
      },
      {
       "output_type": "stream",
       "stream": "stdout",
       "text": [
        "\r",
        " [-                 4%                  ] 4901 of 100000 complete in 8.5 sec"
       ]
      },
      {
       "output_type": "stream",
       "stream": "stdout",
       "text": [
        "\r",
        " [-                 5%                  ] 5196 of 100000 complete in 9.0 sec"
       ]
      },
      {
       "output_type": "stream",
       "stream": "stdout",
       "text": [
        "\r",
        " [--                5%                  ] 5483 of 100000 complete in 9.5 sec"
       ]
      },
      {
       "output_type": "stream",
       "stream": "stdout",
       "text": [
        "\r",
        " [--                5%                  ] 5780 of 100000 complete in 10.0 sec"
       ]
      },
      {
       "output_type": "stream",
       "stream": "stdout",
       "text": [
        "\r",
        " [--                6%                  ] 6068 of 100000 complete in 10.5 sec"
       ]
      },
      {
       "output_type": "stream",
       "stream": "stdout",
       "text": [
        "\r",
        " [--                6%                  ] 6363 of 100000 complete in 11.0 sec"
       ]
      },
      {
       "output_type": "stream",
       "stream": "stdout",
       "text": [
        "\r",
        " [--                6%                  ] 6648 of 100000 complete in 11.5 sec"
       ]
      },
      {
       "output_type": "stream",
       "stream": "stdout",
       "text": [
        "\r",
        " [--                6%                  ] 6944 of 100000 complete in 12.0 sec"
       ]
      },
      {
       "output_type": "stream",
       "stream": "stdout",
       "text": [
        "\r",
        " [--                7%                  ] 7233 of 100000 complete in 12.5 sec"
       ]
      },
      {
       "output_type": "stream",
       "stream": "stdout",
       "text": [
        "\r",
        " [--                7%                  ] 7528 of 100000 complete in 13.0 sec"
       ]
      },
      {
       "output_type": "stream",
       "stream": "stdout",
       "text": [
        "\r",
        " [--                7%                  ] 7817 of 100000 complete in 13.5 sec"
       ]
      },
      {
       "output_type": "stream",
       "stream": "stdout",
       "text": [
        "\r",
        " [---               8%                  ] 8112 of 100000 complete in 14.0 sec"
       ]
      },
      {
       "output_type": "stream",
       "stream": "stdout",
       "text": [
        "\r",
        " [---               8%                  ] 8400 of 100000 complete in 14.5 sec"
       ]
      },
      {
       "output_type": "stream",
       "stream": "stdout",
       "text": [
        "\r",
        " [---               8%                  ] 8695 of 100000 complete in 15.0 sec"
       ]
      },
      {
       "output_type": "stream",
       "stream": "stdout",
       "text": [
        "\r",
        " [---               8%                  ] 8982 of 100000 complete in 15.5 sec"
       ]
      },
      {
       "output_type": "stream",
       "stream": "stdout",
       "text": [
        "\r",
        " [---               9%                  ] 9278 of 100000 complete in 16.0 sec"
       ]
      },
      {
       "output_type": "stream",
       "stream": "stdout",
       "text": [
        "\r",
        " [---               9%                  ] 9566 of 100000 complete in 16.5 sec"
       ]
      },
      {
       "output_type": "stream",
       "stream": "stdout",
       "text": [
        "\r",
        " [---               9%                  ] 9854 of 100000 complete in 17.0 sec"
       ]
      },
      {
       "output_type": "stream",
       "stream": "stdout",
       "text": [
        "\r",
        " [---              10%                  ] 10145 of 100000 complete in 17.5 sec"
       ]
      },
      {
       "output_type": "stream",
       "stream": "stdout",
       "text": [
        "\r",
        " [---              10%                  ] 10437 of 100000 complete in 18.0 sec"
       ]
      },
      {
       "output_type": "stream",
       "stream": "stdout",
       "text": [
        "\r",
        " [----             10%                  ] 10728 of 100000 complete in 18.5 sec"
       ]
      },
      {
       "output_type": "stream",
       "stream": "stdout",
       "text": [
        "\r",
        " [----             11%                  ] 11017 of 100000 complete in 19.0 sec"
       ]
      },
      {
       "output_type": "stream",
       "stream": "stdout",
       "text": [
        "\r",
        " [----             11%                  ] 11309 of 100000 complete in 19.5 sec"
       ]
      },
      {
       "output_type": "stream",
       "stream": "stdout",
       "text": [
        "\r",
        " [----             11%                  ] 11599 of 100000 complete in 20.0 sec"
       ]
      },
      {
       "output_type": "stream",
       "stream": "stdout",
       "text": [
        "\r",
        " [----             11%                  ] 11892 of 100000 complete in 20.5 sec"
       ]
      },
      {
       "output_type": "stream",
       "stream": "stdout",
       "text": [
        "\r",
        " [----             12%                  ] 12182 of 100000 complete in 21.0 sec"
       ]
      },
      {
       "output_type": "stream",
       "stream": "stdout",
       "text": [
        "\r",
        " [----             12%                  ] 12474 of 100000 complete in 21.5 sec"
       ]
      },
      {
       "output_type": "stream",
       "stream": "stdout",
       "text": [
        "\r",
        " [----             12%                  ] 12762 of 100000 complete in 22.0 sec"
       ]
      },
      {
       "output_type": "stream",
       "stream": "stdout",
       "text": [
        "\r",
        " [----             13%                  ] 13051 of 100000 complete in 22.5 sec"
       ]
      },
      {
       "output_type": "stream",
       "stream": "stdout",
       "text": [
        "\r",
        " [-----            13%                  ] 13326 of 100000 complete in 23.0 sec"
       ]
      },
      {
       "output_type": "stream",
       "stream": "stdout",
       "text": [
        "\r",
        " [-----            13%                  ] 13572 of 100000 complete in 23.5 sec"
       ]
      },
      {
       "output_type": "stream",
       "stream": "stdout",
       "text": [
        "\r",
        " [-----            13%                  ] 13846 of 100000 complete in 24.0 sec"
       ]
      },
      {
       "output_type": "stream",
       "stream": "stdout",
       "text": [
        "\r",
        " [-----            14%                  ] 14129 of 100000 complete in 24.5 sec"
       ]
      },
      {
       "output_type": "stream",
       "stream": "stdout",
       "text": [
        "\r",
        " [-----            14%                  ] 14414 of 100000 complete in 25.0 sec"
       ]
      },
      {
       "output_type": "stream",
       "stream": "stdout",
       "text": [
        "\r",
        " [-----            14%                  ] 14704 of 100000 complete in 25.5 sec"
       ]
      },
      {
       "output_type": "stream",
       "stream": "stdout",
       "text": [
        "\r",
        " [-----            14%                  ] 14992 of 100000 complete in 26.0 sec"
       ]
      },
      {
       "output_type": "stream",
       "stream": "stdout",
       "text": [
        "\r",
        " [-----            15%                  ] 15280 of 100000 complete in 26.5 sec"
       ]
      },
      {
       "output_type": "stream",
       "stream": "stdout",
       "text": [
        "\r",
        " [-----            15%                  ] 15565 of 100000 complete in 27.0 sec"
       ]
      },
      {
       "output_type": "stream",
       "stream": "stdout",
       "text": [
        "\r",
        " [------           15%                  ] 15851 of 100000 complete in 27.5 sec"
       ]
      },
      {
       "output_type": "stream",
       "stream": "stdout",
       "text": [
        "\r",
        " [------           16%                  ] 16140 of 100000 complete in 28.0 sec"
       ]
      },
      {
       "output_type": "stream",
       "stream": "stdout",
       "text": [
        "\r",
        " [------           16%                  ] 16425 of 100000 complete in 28.5 sec"
       ]
      },
      {
       "output_type": "stream",
       "stream": "stdout",
       "text": [
        "\r",
        " [------           16%                  ] 16717 of 100000 complete in 29.0 sec"
       ]
      },
      {
       "output_type": "stream",
       "stream": "stdout",
       "text": [
        "\r",
        " [------           16%                  ] 16999 of 100000 complete in 29.5 sec"
       ]
      },
      {
       "output_type": "stream",
       "stream": "stdout",
       "text": [
        "\r",
        " [------           17%                  ] 17291 of 100000 complete in 30.0 sec"
       ]
      },
      {
       "output_type": "stream",
       "stream": "stdout",
       "text": [
        "\r",
        " [------           17%                  ] 17575 of 100000 complete in 30.6 sec"
       ]
      },
      {
       "output_type": "stream",
       "stream": "stdout",
       "text": [
        "\r",
        " [------           17%                  ] 17868 of 100000 complete in 31.1 sec"
       ]
      },
      {
       "output_type": "stream",
       "stream": "stdout",
       "text": [
        "\r",
        " [------           18%                  ] 18154 of 100000 complete in 31.6 sec"
       ]
      },
      {
       "output_type": "stream",
       "stream": "stdout",
       "text": [
        "\r",
        " [-------          18%                  ] 18446 of 100000 complete in 32.1 sec"
       ]
      },
      {
       "output_type": "stream",
       "stream": "stdout",
       "text": [
        "\r",
        " [-------          18%                  ] 18729 of 100000 complete in 32.6 sec"
       ]
      },
      {
       "output_type": "stream",
       "stream": "stdout",
       "text": [
        "\r",
        " [-------          19%                  ] 19021 of 100000 complete in 33.1 sec"
       ]
      },
      {
       "output_type": "stream",
       "stream": "stdout",
       "text": [
        "\r",
        " [-------          19%                  ] 19302 of 100000 complete in 33.6 sec"
       ]
      },
      {
       "output_type": "stream",
       "stream": "stdout",
       "text": [
        "\r",
        " [-------          19%                  ] 19595 of 100000 complete in 34.1 sec"
       ]
      },
      {
       "output_type": "stream",
       "stream": "stdout",
       "text": [
        "\r",
        " [-------          19%                  ] 19877 of 100000 complete in 34.6 sec"
       ]
      },
      {
       "output_type": "stream",
       "stream": "stdout",
       "text": [
        "\r",
        " [-------          20%                  ] 20169 of 100000 complete in 35.1 sec"
       ]
      },
      {
       "output_type": "stream",
       "stream": "stdout",
       "text": [
        "\r",
        " [-------          20%                  ] 20450 of 100000 complete in 35.6 sec"
       ]
      },
      {
       "output_type": "stream",
       "stream": "stdout",
       "text": [
        "\r",
        " [-------          20%                  ] 20740 of 100000 complete in 36.1 sec"
       ]
      },
      {
       "output_type": "stream",
       "stream": "stdout",
       "text": [
        "\r",
        " [-------          21%                  ] 21025 of 100000 complete in 36.6 sec"
       ]
      },
      {
       "output_type": "stream",
       "stream": "stdout",
       "text": [
        "\r",
        " [--------         21%                  ] 21287 of 100000 complete in 37.1 sec"
       ]
      },
      {
       "output_type": "stream",
       "stream": "stdout",
       "text": [
        "\r",
        " [--------         21%                  ] 21469 of 100000 complete in 37.6 sec"
       ]
      },
      {
       "output_type": "stream",
       "stream": "stdout",
       "text": [
        "\r",
        " [--------         21%                  ] 21748 of 100000 complete in 38.1 sec"
       ]
      },
      {
       "output_type": "stream",
       "stream": "stdout",
       "text": [
        "\r",
        " [--------         22%                  ] 22039 of 100000 complete in 38.6 sec"
       ]
      },
      {
       "output_type": "stream",
       "stream": "stdout",
       "text": [
        "\r",
        " [--------         22%                  ] 22327 of 100000 complete in 39.1 sec"
       ]
      },
      {
       "output_type": "stream",
       "stream": "stdout",
       "text": [
        "\r",
        " [--------         22%                  ] 22597 of 100000 complete in 39.6 sec"
       ]
      },
      {
       "output_type": "stream",
       "stream": "stdout",
       "text": [
        "\r",
        " [--------         22%                  ] 22870 of 100000 complete in 40.1 sec"
       ]
      },
      {
       "output_type": "stream",
       "stream": "stdout",
       "text": [
        "\r",
        " [--------         23%                  ] 23155 of 100000 complete in 40.6 sec"
       ]
      },
      {
       "output_type": "stream",
       "stream": "stdout",
       "text": [
        "\r",
        " [--------         23%                  ] 23437 of 100000 complete in 41.1 sec"
       ]
      },
      {
       "output_type": "stream",
       "stream": "stdout",
       "text": [
        "\r",
        " [---------        23%                  ] 23727 of 100000 complete in 41.6 sec"
       ]
      },
      {
       "output_type": "stream",
       "stream": "stdout",
       "text": [
        "\r",
        " [---------        24%                  ] 24014 of 100000 complete in 42.1 sec"
       ]
      },
      {
       "output_type": "stream",
       "stream": "stdout",
       "text": [
        "\r",
        " [---------        24%                  ] 24305 of 100000 complete in 42.6 sec"
       ]
      },
      {
       "output_type": "stream",
       "stream": "stdout",
       "text": [
        "\r",
        " [---------        24%                  ] 24592 of 100000 complete in 43.1 sec"
       ]
      },
      {
       "output_type": "stream",
       "stream": "stdout",
       "text": [
        "\r",
        " [---------        24%                  ] 24872 of 100000 complete in 43.6 sec"
       ]
      },
      {
       "output_type": "stream",
       "stream": "stdout",
       "text": [
        "\r",
        " [---------        25%                  ] 25147 of 100000 complete in 44.1 sec"
       ]
      },
      {
       "output_type": "stream",
       "stream": "stdout",
       "text": [
        "\r",
        " [---------        25%                  ] 25434 of 100000 complete in 44.6 sec"
       ]
      },
      {
       "output_type": "stream",
       "stream": "stdout",
       "text": [
        "\r",
        " [---------        25%                  ] 25723 of 100000 complete in 45.1 sec"
       ]
      },
      {
       "output_type": "stream",
       "stream": "stdout",
       "text": [
        "\r",
        " [---------        26%                  ] 26011 of 100000 complete in 45.6 sec"
       ]
      },
      {
       "output_type": "stream",
       "stream": "stdout",
       "text": [
        "\r",
        " [---------        26%                  ] 26307 of 100000 complete in 46.1 sec"
       ]
      },
      {
       "output_type": "stream",
       "stream": "stdout",
       "text": [
        "\r",
        " [----------       26%                  ] 26595 of 100000 complete in 46.6 sec"
       ]
      },
      {
       "output_type": "stream",
       "stream": "stdout",
       "text": [
        "\r",
        " [----------       26%                  ] 26890 of 100000 complete in 47.1 sec"
       ]
      },
      {
       "output_type": "stream",
       "stream": "stdout",
       "text": [
        "\r",
        " [----------       27%                  ] 27177 of 100000 complete in 47.6 sec"
       ]
      },
      {
       "output_type": "stream",
       "stream": "stdout",
       "text": [
        "\r",
        " [----------       27%                  ] 27472 of 100000 complete in 48.1 sec"
       ]
      },
      {
       "output_type": "stream",
       "stream": "stdout",
       "text": [
        "\r",
        " [----------       27%                  ] 27760 of 100000 complete in 48.6 sec"
       ]
      },
      {
       "output_type": "stream",
       "stream": "stdout",
       "text": [
        "\r",
        " [----------       28%                  ] 28054 of 100000 complete in 49.1 sec"
       ]
      },
      {
       "output_type": "stream",
       "stream": "stdout",
       "text": [
        "\r",
        " [----------       28%                  ] 28339 of 100000 complete in 49.6 sec"
       ]
      },
      {
       "output_type": "stream",
       "stream": "stdout",
       "text": [
        "\r",
        " [----------       28%                  ] 28634 of 100000 complete in 50.1 sec"
       ]
      },
      {
       "output_type": "stream",
       "stream": "stdout",
       "text": [
        "\r",
        " [----------       28%                  ] 28921 of 100000 complete in 50.6 sec"
       ]
      },
      {
       "output_type": "stream",
       "stream": "stdout",
       "text": [
        "\r",
        " [-----------      29%                  ] 29215 of 100000 complete in 51.1 sec"
       ]
      },
      {
       "output_type": "stream",
       "stream": "stdout",
       "text": [
        "\r",
        " [-----------      29%                  ] 29502 of 100000 complete in 51.6 sec"
       ]
      },
      {
       "output_type": "stream",
       "stream": "stdout",
       "text": [
        "\r",
        " [-----------      29%                  ] 29797 of 100000 complete in 52.1 sec"
       ]
      },
      {
       "output_type": "stream",
       "stream": "stdout",
       "text": [
        "\r",
        " [-----------      30%                  ] 30086 of 100000 complete in 52.6 sec"
       ]
      },
      {
       "output_type": "stream",
       "stream": "stdout",
       "text": [
        "\r",
        " [-----------      30%                  ] 30381 of 100000 complete in 53.1 sec"
       ]
      },
      {
       "output_type": "stream",
       "stream": "stdout",
       "text": [
        "\r",
        " [-----------      30%                  ] 30670 of 100000 complete in 53.6 sec"
       ]
      },
      {
       "output_type": "stream",
       "stream": "stdout",
       "text": [
        "\r",
        " [-----------      30%                  ] 30964 of 100000 complete in 54.1 sec"
       ]
      },
      {
       "output_type": "stream",
       "stream": "stdout",
       "text": [
        "\r",
        " [-----------      31%                  ] 31252 of 100000 complete in 54.6 sec"
       ]
      },
      {
       "output_type": "stream",
       "stream": "stdout",
       "text": [
        "\r",
        " [-----------      31%                  ] 31547 of 100000 complete in 55.1 sec"
       ]
      },
      {
       "output_type": "stream",
       "stream": "stdout",
       "text": [
        "\r",
        " [------------     31%                  ] 31835 of 100000 complete in 55.6 sec"
       ]
      },
      {
       "output_type": "stream",
       "stream": "stdout",
       "text": [
        "\r",
        " [------------     32%                  ] 32129 of 100000 complete in 56.1 sec"
       ]
      },
      {
       "output_type": "stream",
       "stream": "stdout",
       "text": [
        "\r",
        " [------------     32%                  ] 32422 of 100000 complete in 56.6 sec"
       ]
      },
      {
       "output_type": "stream",
       "stream": "stdout",
       "text": [
        "\r",
        " [------------     32%                  ] 32712 of 100000 complete in 57.1 sec"
       ]
      },
      {
       "output_type": "stream",
       "stream": "stdout",
       "text": [
        "\r",
        " [------------     33%                  ] 33005 of 100000 complete in 57.6 sec"
       ]
      },
      {
       "output_type": "stream",
       "stream": "stdout",
       "text": [
        "\r",
        " [------------     33%                  ] 33295 of 100000 complete in 58.1 sec"
       ]
      },
      {
       "output_type": "stream",
       "stream": "stdout",
       "text": [
        "\r",
        " [------------     33%                  ] 33588 of 100000 complete in 58.6 sec"
       ]
      },
      {
       "output_type": "stream",
       "stream": "stdout",
       "text": [
        "\r",
        " [------------     33%                  ] 33876 of 100000 complete in 59.1 sec"
       ]
      },
      {
       "output_type": "stream",
       "stream": "stdout",
       "text": [
        "\r",
        " [------------     34%                  ] 34170 of 100000 complete in 59.6 sec"
       ]
      },
      {
       "output_type": "stream",
       "stream": "stdout",
       "text": [
        "\r",
        " [-------------    34%                  ] 34460 of 100000 complete in 60.1 sec"
       ]
      },
      {
       "output_type": "stream",
       "stream": "stdout",
       "text": [
        "\r",
        " [-------------    34%                  ] 34752 of 100000 complete in 60.6 sec"
       ]
      },
      {
       "output_type": "stream",
       "stream": "stdout",
       "text": [
        "\r",
        " [-------------    35%                  ] 35039 of 100000 complete in 61.1 sec"
       ]
      },
      {
       "output_type": "stream",
       "stream": "stdout",
       "text": [
        "\r",
        " [-------------    35%                  ] 35332 of 100000 complete in 61.6 sec"
       ]
      },
      {
       "output_type": "stream",
       "stream": "stdout",
       "text": [
        "\r",
        " [-------------    35%                  ] 35621 of 100000 complete in 62.1 sec"
       ]
      },
      {
       "output_type": "stream",
       "stream": "stdout",
       "text": [
        "\r",
        " [-------------    35%                  ] 35915 of 100000 complete in 62.6 sec"
       ]
      },
      {
       "output_type": "stream",
       "stream": "stdout",
       "text": [
        "\r",
        " [-------------    36%                  ] 36205 of 100000 complete in 63.1 sec"
       ]
      },
      {
       "output_type": "stream",
       "stream": "stdout",
       "text": [
        "\r",
        " [-------------    36%                  ] 36497 of 100000 complete in 63.6 sec"
       ]
      },
      {
       "output_type": "stream",
       "stream": "stdout",
       "text": [
        "\r",
        " [-------------    36%                  ] 36787 of 100000 complete in 64.1 sec"
       ]
      },
      {
       "output_type": "stream",
       "stream": "stdout",
       "text": [
        "\r",
        " [--------------   37%                  ] 37074 of 100000 complete in 64.6 sec"
       ]
      },
      {
       "output_type": "stream",
       "stream": "stdout",
       "text": [
        "\r",
        " [--------------   37%                  ] 37352 of 100000 complete in 65.1 sec"
       ]
      },
      {
       "output_type": "stream",
       "stream": "stdout",
       "text": [
        "\r",
        " [--------------   37%                  ] 37641 of 100000 complete in 65.6 sec"
       ]
      },
      {
       "output_type": "stream",
       "stream": "stdout",
       "text": [
        "\r",
        " [--------------   37%                  ] 37927 of 100000 complete in 66.1 sec"
       ]
      },
      {
       "output_type": "stream",
       "stream": "stdout",
       "text": [
        "\r",
        " [--------------   38%                  ] 38187 of 100000 complete in 66.6 sec"
       ]
      },
      {
       "output_type": "stream",
       "stream": "stdout",
       "text": [
        "\r",
        " [--------------   38%                  ] 38467 of 100000 complete in 67.1 sec"
       ]
      },
      {
       "output_type": "stream",
       "stream": "stdout",
       "text": [
        "\r",
        " [--------------   38%                  ] 38756 of 100000 complete in 67.6 sec"
       ]
      },
      {
       "output_type": "stream",
       "stream": "stdout",
       "text": [
        "\r",
        " [--------------   39%                  ] 39051 of 100000 complete in 68.1 sec"
       ]
      },
      {
       "output_type": "stream",
       "stream": "stdout",
       "text": [
        "\r",
        " [--------------   39%                  ] 39338 of 100000 complete in 68.6 sec"
       ]
      },
      {
       "output_type": "stream",
       "stream": "stdout",
       "text": [
        "\r",
        " [---------------  39%                  ] 39633 of 100000 complete in 69.1 sec"
       ]
      },
      {
       "output_type": "stream",
       "stream": "stdout",
       "text": [
        "\r",
        " [---------------  39%                  ] 39916 of 100000 complete in 69.6 sec"
       ]
      },
      {
       "output_type": "stream",
       "stream": "stdout",
       "text": [
        "\r",
        " [---------------  40%                  ] 40211 of 100000 complete in 70.1 sec"
       ]
      },
      {
       "output_type": "stream",
       "stream": "stdout",
       "text": [
        "\r",
        " [---------------  40%                  ] 40496 of 100000 complete in 70.6 sec"
       ]
      },
      {
       "output_type": "stream",
       "stream": "stdout",
       "text": [
        "\r",
        " [---------------  40%                  ] 40789 of 100000 complete in 71.1 sec"
       ]
      },
      {
       "output_type": "stream",
       "stream": "stdout",
       "text": [
        "\r",
        " [---------------  41%                  ] 41070 of 100000 complete in 71.6 sec"
       ]
      },
      {
       "output_type": "stream",
       "stream": "stdout",
       "text": [
        "\r",
        " [---------------  41%                  ] 41364 of 100000 complete in 72.1 sec"
       ]
      },
      {
       "output_type": "stream",
       "stream": "stdout",
       "text": [
        "\r",
        " [---------------  41%                  ] 41649 of 100000 complete in 72.6 sec"
       ]
      },
      {
       "output_type": "stream",
       "stream": "stdout",
       "text": [
        "\r",
        " [---------------  41%                  ] 41942 of 100000 complete in 73.1 sec"
       ]
      },
      {
       "output_type": "stream",
       "stream": "stdout",
       "text": [
        "\r",
        " [---------------- 42%                  ] 42225 of 100000 complete in 73.6 sec"
       ]
      },
      {
       "output_type": "stream",
       "stream": "stdout",
       "text": [
        "\r",
        " [---------------- 42%                  ] 42518 of 100000 complete in 74.1 sec"
       ]
      },
      {
       "output_type": "stream",
       "stream": "stdout",
       "text": [
        "\r",
        " [---------------- 42%                  ] 42802 of 100000 complete in 74.6 sec"
       ]
      },
      {
       "output_type": "stream",
       "stream": "stdout",
       "text": [
        "\r",
        " [---------------- 43%                  ] 43096 of 100000 complete in 75.1 sec"
       ]
      },
      {
       "output_type": "stream",
       "stream": "stdout",
       "text": [
        "\r",
        " [---------------- 43%                  ] 43378 of 100000 complete in 75.6 sec"
       ]
      },
      {
       "output_type": "stream",
       "stream": "stdout",
       "text": [
        "\r",
        " [---------------- 43%                  ] 43672 of 100000 complete in 76.1 sec"
       ]
      },
      {
       "output_type": "stream",
       "stream": "stdout",
       "text": [
        "\r",
        " [---------------- 43%                  ] 43945 of 100000 complete in 76.6 sec"
       ]
      },
      {
       "output_type": "stream",
       "stream": "stdout",
       "text": [
        "\r",
        " [---------------- 44%                  ] 44235 of 100000 complete in 77.1 sec"
       ]
      },
      {
       "output_type": "stream",
       "stream": "stdout",
       "text": [
        "\r",
        " [---------------- 44%                  ] 44519 of 100000 complete in 77.6 sec"
       ]
      },
      {
       "output_type": "stream",
       "stream": "stdout",
       "text": [
        "\r",
        " [-----------------44%                  ] 44812 of 100000 complete in 78.1 sec"
       ]
      },
      {
       "output_type": "stream",
       "stream": "stdout",
       "text": [
        "\r",
        " [-----------------45%                  ] 45097 of 100000 complete in 78.6 sec"
       ]
      },
      {
       "output_type": "stream",
       "stream": "stdout",
       "text": [
        "\r",
        " [-----------------45%                  ] 45385 of 100000 complete in 79.1 sec"
       ]
      },
      {
       "output_type": "stream",
       "stream": "stdout",
       "text": [
        "\r",
        " [-----------------45%                  ] 45670 of 100000 complete in 79.6 sec"
       ]
      },
      {
       "output_type": "stream",
       "stream": "stdout",
       "text": [
        "\r",
        " [-----------------45%                  ] 45959 of 100000 complete in 80.1 sec"
       ]
      },
      {
       "output_type": "stream",
       "stream": "stdout",
       "text": [
        "\r",
        " [-----------------46%                  ] 46249 of 100000 complete in 80.6 sec"
       ]
      },
      {
       "output_type": "stream",
       "stream": "stdout",
       "text": [
        "\r",
        " [-----------------46%                  ] 46537 of 100000 complete in 81.1 sec"
       ]
      },
      {
       "output_type": "stream",
       "stream": "stdout",
       "text": [
        "\r",
        " [-----------------46%                  ] 46825 of 100000 complete in 81.6 sec"
       ]
      },
      {
       "output_type": "stream",
       "stream": "stdout",
       "text": [
        "\r",
        " [-----------------47%                  ] 47113 of 100000 complete in 82.1 sec"
       ]
      },
      {
       "output_type": "stream",
       "stream": "stdout",
       "text": [
        "\r",
        " [-----------------47%                  ] 47402 of 100000 complete in 82.6 sec"
       ]
      },
      {
       "output_type": "stream",
       "stream": "stdout",
       "text": [
        "\r",
        " [-----------------47%                  ] 47690 of 100000 complete in 83.1 sec"
       ]
      },
      {
       "output_type": "stream",
       "stream": "stdout",
       "text": [
        "\r",
        " [-----------------47%                  ] 47977 of 100000 complete in 83.6 sec"
       ]
      },
      {
       "output_type": "stream",
       "stream": "stdout",
       "text": [
        "\r",
        " [-----------------48%                  ] 48265 of 100000 complete in 84.1 sec"
       ]
      },
      {
       "output_type": "stream",
       "stream": "stdout",
       "text": [
        "\r",
        " [-----------------48%                  ] 48554 of 100000 complete in 84.6 sec"
       ]
      },
      {
       "output_type": "stream",
       "stream": "stdout",
       "text": [
        "\r",
        " [-----------------48%                  ] 48843 of 100000 complete in 85.1 sec"
       ]
      },
      {
       "output_type": "stream",
       "stream": "stdout",
       "text": [
        "\r",
        " [-----------------49%                  ] 49132 of 100000 complete in 85.6 sec"
       ]
      },
      {
       "output_type": "stream",
       "stream": "stdout",
       "text": [
        "\r",
        " [-----------------49%                  ] 49420 of 100000 complete in 86.1 sec"
       ]
      },
      {
       "output_type": "stream",
       "stream": "stdout",
       "text": [
        "\r",
        " [-----------------49%                  ] 49709 of 100000 complete in 86.6 sec"
       ]
      },
      {
       "output_type": "stream",
       "stream": "stdout",
       "text": [
        "\r",
        " [-----------------49%                  ] 49997 of 100000 complete in 87.1 sec"
       ]
      },
      {
       "output_type": "stream",
       "stream": "stdout",
       "text": [
        "\r",
        " [-----------------50%                  ] 50285 of 100000 complete in 87.6 sec"
       ]
      },
      {
       "output_type": "stream",
       "stream": "stdout",
       "text": [
        "\r",
        " [-----------------50%                  ] 50564 of 100000 complete in 88.1 sec"
       ]
      },
      {
       "output_type": "stream",
       "stream": "stdout",
       "text": [
        "\r",
        " [-----------------50%                  ] 50853 of 100000 complete in 88.6 sec"
       ]
      },
      {
       "output_type": "stream",
       "stream": "stdout",
       "text": [
        "\r",
        " [-----------------51%                  ] 51141 of 100000 complete in 89.1 sec"
       ]
      },
      {
       "output_type": "stream",
       "stream": "stdout",
       "text": [
        "\r",
        " [-----------------51%                  ] 51431 of 100000 complete in 89.6 sec"
       ]
      },
      {
       "output_type": "stream",
       "stream": "stdout",
       "text": [
        "\r",
        " [-----------------51%                  ] 51723 of 100000 complete in 90.1 sec"
       ]
      },
      {
       "output_type": "stream",
       "stream": "stdout",
       "text": [
        "\r",
        " [-----------------52%                  ] 52010 of 100000 complete in 90.7 sec"
       ]
      },
      {
       "output_type": "stream",
       "stream": "stdout",
       "text": [
        "\r",
        " [-----------------52%                  ] 52303 of 100000 complete in 91.2 sec"
       ]
      },
      {
       "output_type": "stream",
       "stream": "stdout",
       "text": [
        "\r",
        " [-----------------52%                  ] 52591 of 100000 complete in 91.7 sec"
       ]
      },
      {
       "output_type": "stream",
       "stream": "stdout",
       "text": [
        "\r",
        " [-----------------52%                  ] 52883 of 100000 complete in 92.2 sec"
       ]
      },
      {
       "output_type": "stream",
       "stream": "stdout",
       "text": [
        "\r",
        " [-----------------53%                  ] 53167 of 100000 complete in 92.7 sec"
       ]
      },
      {
       "output_type": "stream",
       "stream": "stdout",
       "text": [
        "\r",
        " [-----------------53%                  ] 53459 of 100000 complete in 93.2 sec"
       ]
      },
      {
       "output_type": "stream",
       "stream": "stdout",
       "text": [
        "\r",
        " [-----------------53%                  ] 53744 of 100000 complete in 93.7 sec"
       ]
      },
      {
       "output_type": "stream",
       "stream": "stdout",
       "text": [
        "\r",
        " [-----------------54%                  ] 54035 of 100000 complete in 94.2 sec"
       ]
      },
      {
       "output_type": "stream",
       "stream": "stdout",
       "text": [
        "\r",
        " [-----------------54%                  ] 54322 of 100000 complete in 94.7 sec"
       ]
      },
      {
       "output_type": "stream",
       "stream": "stdout",
       "text": [
        "\r",
        " [-----------------54%                  ] 54614 of 100000 complete in 95.2 sec"
       ]
      },
      {
       "output_type": "stream",
       "stream": "stdout",
       "text": [
        "\r",
        " [-----------------54%                  ] 54900 of 100000 complete in 95.7 sec"
       ]
      },
      {
       "output_type": "stream",
       "stream": "stdout",
       "text": [
        "\r",
        " [-----------------55%                  ] 55192 of 100000 complete in 96.2 sec"
       ]
      },
      {
       "output_type": "stream",
       "stream": "stdout",
       "text": [
        "\r",
        " [-----------------55%-                 ] 55476 of 100000 complete in 96.7 sec"
       ]
      },
      {
       "output_type": "stream",
       "stream": "stdout",
       "text": [
        "\r",
        " [-----------------55%-                 ] 55770 of 100000 complete in 97.2 sec"
       ]
      },
      {
       "output_type": "stream",
       "stream": "stdout",
       "text": [
        "\r",
        " [-----------------56%-                 ] 56057 of 100000 complete in 97.7 sec"
       ]
      },
      {
       "output_type": "stream",
       "stream": "stdout",
       "text": [
        "\r",
        " [-----------------56%-                 ] 56351 of 100000 complete in 98.2 sec"
       ]
      },
      {
       "output_type": "stream",
       "stream": "stdout",
       "text": [
        "\r",
        " [-----------------56%-                 ] 56636 of 100000 complete in 98.7 sec"
       ]
      },
      {
       "output_type": "stream",
       "stream": "stdout",
       "text": [
        "\r",
        " [-----------------56%-                 ] 56930 of 100000 complete in 99.2 sec"
       ]
      },
      {
       "output_type": "stream",
       "stream": "stdout",
       "text": [
        "\r",
        " [-----------------57%-                 ] 57214 of 100000 complete in 99.7 sec"
       ]
      },
      {
       "output_type": "stream",
       "stream": "stdout",
       "text": [
        "\r",
        " [-----------------57%-                 ] 57508 of 100000 complete in 100.2 sec"
       ]
      },
      {
       "output_type": "stream",
       "stream": "stdout",
       "text": [
        "\r",
        " [-----------------57%-                 ] 57800 of 100000 complete in 100.7 sec"
       ]
      },
      {
       "output_type": "stream",
       "stream": "stdout",
       "text": [
        "\r",
        " [-----------------58%--                ] 58090 of 100000 complete in 101.2 sec"
       ]
      },
      {
       "output_type": "stream",
       "stream": "stdout",
       "text": [
        "\r",
        " [-----------------58%--                ] 58382 of 100000 complete in 101.7 sec"
       ]
      },
      {
       "output_type": "stream",
       "stream": "stdout",
       "text": [
        "\r",
        " [-----------------58%--                ] 58670 of 100000 complete in 102.2 sec"
       ]
      },
      {
       "output_type": "stream",
       "stream": "stdout",
       "text": [
        "\r",
        " [-----------------58%--                ] 58947 of 100000 complete in 102.7 sec"
       ]
      },
      {
       "output_type": "stream",
       "stream": "stdout",
       "text": [
        "\r",
        " [-----------------59%--                ] 59234 of 100000 complete in 103.2 sec"
       ]
      },
      {
       "output_type": "stream",
       "stream": "stdout",
       "text": [
        "\r",
        " [-----------------59%--                ] 59526 of 100000 complete in 103.7 sec"
       ]
      },
      {
       "output_type": "stream",
       "stream": "stdout",
       "text": [
        "\r",
        " [-----------------59%--                ] 59812 of 100000 complete in 104.2 sec"
       ]
      },
      {
       "output_type": "stream",
       "stream": "stdout",
       "text": [
        "\r",
        " [-----------------60%--                ] 60104 of 100000 complete in 104.7 sec"
       ]
      },
      {
       "output_type": "stream",
       "stream": "stdout",
       "text": [
        "\r",
        " [-----------------60%--                ] 60392 of 100000 complete in 105.2 sec"
       ]
      },
      {
       "output_type": "stream",
       "stream": "stdout",
       "text": [
        "\r",
        " [-----------------60%---               ] 60684 of 100000 complete in 105.7 sec"
       ]
      },
      {
       "output_type": "stream",
       "stream": "stdout",
       "text": [
        "\r",
        " [-----------------60%---               ] 60973 of 100000 complete in 106.2 sec"
       ]
      },
      {
       "output_type": "stream",
       "stream": "stdout",
       "text": [
        "\r",
        " [-----------------61%---               ] 61264 of 100000 complete in 106.7 sec"
       ]
      },
      {
       "output_type": "stream",
       "stream": "stdout",
       "text": [
        "\r",
        " [-----------------61%---               ] 61552 of 100000 complete in 107.2 sec"
       ]
      },
      {
       "output_type": "stream",
       "stream": "stdout",
       "text": [
        "\r",
        " [-----------------61%---               ] 61844 of 100000 complete in 107.7 sec"
       ]
      },
      {
       "output_type": "stream",
       "stream": "stdout",
       "text": [
        "\r",
        " [-----------------62%---               ] 62131 of 100000 complete in 108.2 sec"
       ]
      },
      {
       "output_type": "stream",
       "stream": "stdout",
       "text": [
        "\r",
        " [-----------------62%---               ] 62422 of 100000 complete in 108.7 sec"
       ]
      },
      {
       "output_type": "stream",
       "stream": "stdout",
       "text": [
        "\r",
        " [-----------------62%---               ] 62710 of 100000 complete in 109.2 sec"
       ]
      },
      {
       "output_type": "stream",
       "stream": "stdout",
       "text": [
        "\r",
        " [-----------------62%---               ] 62999 of 100000 complete in 109.7 sec"
       ]
      },
      {
       "output_type": "stream",
       "stream": "stdout",
       "text": [
        "\r",
        " [-----------------63%----              ] 63288 of 100000 complete in 110.2 sec"
       ]
      },
      {
       "output_type": "stream",
       "stream": "stdout",
       "text": [
        "\r",
        " [-----------------63%----              ] 63579 of 100000 complete in 110.7 sec"
       ]
      },
      {
       "output_type": "stream",
       "stream": "stdout",
       "text": [
        "\r",
        " [-----------------63%----              ] 63868 of 100000 complete in 111.2 sec"
       ]
      },
      {
       "output_type": "stream",
       "stream": "stdout",
       "text": [
        "\r",
        " [-----------------64%----              ] 64159 of 100000 complete in 111.7 sec"
       ]
      },
      {
       "output_type": "stream",
       "stream": "stdout",
       "text": [
        "\r",
        " [-----------------64%----              ] 64451 of 100000 complete in 112.2 sec"
       ]
      },
      {
       "output_type": "stream",
       "stream": "stdout",
       "text": [
        "\r",
        " [-----------------64%----              ] 64740 of 100000 complete in 112.7 sec"
       ]
      },
      {
       "output_type": "stream",
       "stream": "stdout",
       "text": [
        "\r",
        " [-----------------65%----              ] 65032 of 100000 complete in 113.2 sec"
       ]
      },
      {
       "output_type": "stream",
       "stream": "stdout",
       "text": [
        "\r",
        " [-----------------65%----              ] 65315 of 100000 complete in 113.7 sec"
       ]
      },
      {
       "output_type": "stream",
       "stream": "stdout",
       "text": [
        "\r",
        " [-----------------65%----              ] 65610 of 100000 complete in 114.2 sec"
       ]
      },
      {
       "output_type": "stream",
       "stream": "stdout",
       "text": [
        "\r",
        " [-----------------65%-----             ] 65899 of 100000 complete in 114.7 sec"
       ]
      },
      {
       "output_type": "stream",
       "stream": "stdout",
       "text": [
        "\r",
        " [-----------------66%-----             ] 66193 of 100000 complete in 115.2 sec"
       ]
      },
      {
       "output_type": "stream",
       "stream": "stdout",
       "text": [
        "\r",
        " [-----------------66%-----             ] 66484 of 100000 complete in 115.7 sec"
       ]
      },
      {
       "output_type": "stream",
       "stream": "stdout",
       "text": [
        "\r",
        " [-----------------66%-----             ] 66780 of 100000 complete in 116.2 sec"
       ]
      },
      {
       "output_type": "stream",
       "stream": "stdout",
       "text": [
        "\r",
        " [-----------------67%-----             ] 67069 of 100000 complete in 116.7 sec"
       ]
      },
      {
       "output_type": "stream",
       "stream": "stdout",
       "text": [
        "\r",
        " [-----------------67%-----             ] 67362 of 100000 complete in 117.2 sec"
       ]
      },
      {
       "output_type": "stream",
       "stream": "stdout",
       "text": [
        "\r",
        " [-----------------67%-----             ] 67650 of 100000 complete in 117.7 sec"
       ]
      },
      {
       "output_type": "stream",
       "stream": "stdout",
       "text": [
        "\r",
        " [-----------------67%-----             ] 67945 of 100000 complete in 118.2 sec"
       ]
      },
      {
       "output_type": "stream",
       "stream": "stdout",
       "text": [
        "\r",
        " [-----------------68%-----             ] 68235 of 100000 complete in 118.7 sec"
       ]
      },
      {
       "output_type": "stream",
       "stream": "stdout",
       "text": [
        "\r",
        " [-----------------68%------            ] 68531 of 100000 complete in 119.2 sec"
       ]
      },
      {
       "output_type": "stream",
       "stream": "stdout",
       "text": [
        "\r",
        " [-----------------68%------            ] 68818 of 100000 complete in 119.7 sec"
       ]
      },
      {
       "output_type": "stream",
       "stream": "stdout",
       "text": [
        "\r",
        " [-----------------69%------            ] 69114 of 100000 complete in 120.2 sec"
       ]
      },
      {
       "output_type": "stream",
       "stream": "stdout",
       "text": [
        "\r",
        " [-----------------69%------            ] 69402 of 100000 complete in 120.7 sec"
       ]
      },
      {
       "output_type": "stream",
       "stream": "stdout",
       "text": [
        "\r",
        " [-----------------69%------            ] 69697 of 100000 complete in 121.2 sec"
       ]
      },
      {
       "output_type": "stream",
       "stream": "stdout",
       "text": [
        "\r",
        " [-----------------69%------            ] 69983 of 100000 complete in 121.7 sec"
       ]
      },
      {
       "output_type": "stream",
       "stream": "stdout",
       "text": [
        "\r",
        " [-----------------70%------            ] 70279 of 100000 complete in 122.2 sec"
       ]
      },
      {
       "output_type": "stream",
       "stream": "stdout",
       "text": [
        "\r",
        " [-----------------70%------            ] 70567 of 100000 complete in 122.7 sec"
       ]
      },
      {
       "output_type": "stream",
       "stream": "stdout",
       "text": [
        "\r",
        " [-----------------70%------            ] 70861 of 100000 complete in 123.2 sec"
       ]
      },
      {
       "output_type": "stream",
       "stream": "stdout",
       "text": [
        "\r",
        " [-----------------71%-------           ] 71155 of 100000 complete in 123.7 sec"
       ]
      },
      {
       "output_type": "stream",
       "stream": "stdout",
       "text": [
        "\r",
        " [-----------------71%-------           ] 71443 of 100000 complete in 124.2 sec"
       ]
      },
      {
       "output_type": "stream",
       "stream": "stdout",
       "text": [
        "\r",
        " [-----------------71%-------           ] 71725 of 100000 complete in 124.7 sec"
       ]
      },
      {
       "output_type": "stream",
       "stream": "stdout",
       "text": [
        "\r",
        " [-----------------72%-------           ] 72004 of 100000 complete in 125.2 sec"
       ]
      },
      {
       "output_type": "stream",
       "stream": "stdout",
       "text": [
        "\r",
        " [-----------------72%-------           ] 72293 of 100000 complete in 125.7 sec"
       ]
      },
      {
       "output_type": "stream",
       "stream": "stdout",
       "text": [
        "\r",
        " [-----------------72%-------           ] 72580 of 100000 complete in 126.2 sec"
       ]
      },
      {
       "output_type": "stream",
       "stream": "stdout",
       "text": [
        "\r",
        " [-----------------72%-------           ] 72829 of 100000 complete in 126.7 sec"
       ]
      },
      {
       "output_type": "stream",
       "stream": "stdout",
       "text": [
        "\r",
        " [-----------------73%-------           ] 73083 of 100000 complete in 127.2 sec"
       ]
      },
      {
       "output_type": "stream",
       "stream": "stdout",
       "text": [
        "\r",
        " [-----------------73%-------           ] 73358 of 100000 complete in 127.7 sec"
       ]
      },
      {
       "output_type": "stream",
       "stream": "stdout",
       "text": [
        "\r",
        " [-----------------73%-------           ] 73648 of 100000 complete in 128.2 sec"
       ]
      },
      {
       "output_type": "stream",
       "stream": "stdout",
       "text": [
        "\r",
        " [-----------------73%--------          ] 73943 of 100000 complete in 128.7 sec"
       ]
      },
      {
       "output_type": "stream",
       "stream": "stdout",
       "text": [
        "\r",
        " [-----------------74%--------          ] 74229 of 100000 complete in 129.2 sec"
       ]
      },
      {
       "output_type": "stream",
       "stream": "stdout",
       "text": [
        "\r",
        " [-----------------74%--------          ] 74521 of 100000 complete in 129.7 sec"
       ]
      },
      {
       "output_type": "stream",
       "stream": "stdout",
       "text": [
        "\r",
        " [-----------------74%--------          ] 74810 of 100000 complete in 130.2 sec"
       ]
      },
      {
       "output_type": "stream",
       "stream": "stdout",
       "text": [
        "\r",
        " [-----------------75%--------          ] 75101 of 100000 complete in 130.7 sec"
       ]
      },
      {
       "output_type": "stream",
       "stream": "stdout",
       "text": [
        "\r",
        " [-----------------75%--------          ] 75388 of 100000 complete in 131.2 sec"
       ]
      },
      {
       "output_type": "stream",
       "stream": "stdout",
       "text": [
        "\r",
        " [-----------------75%--------          ] 75673 of 100000 complete in 131.7 sec"
       ]
      },
      {
       "output_type": "stream",
       "stream": "stdout",
       "text": [
        "\r",
        " [-----------------75%--------          ] 75964 of 100000 complete in 132.2 sec"
       ]
      },
      {
       "output_type": "stream",
       "stream": "stdout",
       "text": [
        "\r",
        " [-----------------76%--------          ] 76259 of 100000 complete in 132.7 sec"
       ]
      },
      {
       "output_type": "stream",
       "stream": "stdout",
       "text": [
        "\r",
        " [-----------------76%---------         ] 76549 of 100000 complete in 133.2 sec"
       ]
      },
      {
       "output_type": "stream",
       "stream": "stdout",
       "text": [
        "\r",
        " [-----------------76%---------         ] 76842 of 100000 complete in 133.7 sec"
       ]
      },
      {
       "output_type": "stream",
       "stream": "stdout",
       "text": [
        "\r",
        " [-----------------77%---------         ] 77137 of 100000 complete in 134.2 sec"
       ]
      },
      {
       "output_type": "stream",
       "stream": "stdout",
       "text": [
        "\r",
        " [-----------------77%---------         ] 77426 of 100000 complete in 134.7 sec"
       ]
      },
      {
       "output_type": "stream",
       "stream": "stdout",
       "text": [
        "\r",
        " [-----------------77%---------         ] 77719 of 100000 complete in 135.2 sec"
       ]
      },
      {
       "output_type": "stream",
       "stream": "stdout",
       "text": [
        "\r",
        " [-----------------78%---------         ] 78007 of 100000 complete in 135.7 sec"
       ]
      },
      {
       "output_type": "stream",
       "stream": "stdout",
       "text": [
        "\r",
        " [-----------------78%---------         ] 78303 of 100000 complete in 136.2 sec"
       ]
      },
      {
       "output_type": "stream",
       "stream": "stdout",
       "text": [
        "\r",
        " [-----------------78%---------         ] 78581 of 100000 complete in 136.7 sec"
       ]
      },
      {
       "output_type": "stream",
       "stream": "stdout",
       "text": [
        "\r",
        " [-----------------78%---------         ] 78875 of 100000 complete in 137.2 sec"
       ]
      },
      {
       "output_type": "stream",
       "stream": "stdout",
       "text": [
        "\r",
        " [-----------------79%----------        ] 79135 of 100000 complete in 137.7 sec"
       ]
      },
      {
       "output_type": "stream",
       "stream": "stdout",
       "text": [
        "\r",
        " [-----------------79%----------        ] 79430 of 100000 complete in 138.2 sec"
       ]
      },
      {
       "output_type": "stream",
       "stream": "stdout",
       "text": [
        "\r",
        " [-----------------79%----------        ] 79720 of 100000 complete in 138.7 sec"
       ]
      },
      {
       "output_type": "stream",
       "stream": "stdout",
       "text": [
        "\r",
        " [-----------------80%----------        ] 80013 of 100000 complete in 139.2 sec"
       ]
      },
      {
       "output_type": "stream",
       "stream": "stdout",
       "text": [
        "\r",
        " [-----------------80%----------        ] 80302 of 100000 complete in 139.7 sec"
       ]
      },
      {
       "output_type": "stream",
       "stream": "stdout",
       "text": [
        "\r",
        " [-----------------80%----------        ] 80600 of 100000 complete in 140.2 sec"
       ]
      },
      {
       "output_type": "stream",
       "stream": "stdout",
       "text": [
        "\r",
        " [-----------------80%----------        ] 80890 of 100000 complete in 140.7 sec"
       ]
      },
      {
       "output_type": "stream",
       "stream": "stdout",
       "text": [
        "\r",
        " [-----------------81%----------        ] 81183 of 100000 complete in 141.2 sec"
       ]
      },
      {
       "output_type": "stream",
       "stream": "stdout",
       "text": [
        "\r",
        " [-----------------81%----------        ] 81472 of 100000 complete in 141.7 sec"
       ]
      },
      {
       "output_type": "stream",
       "stream": "stdout",
       "text": [
        "\r",
        " [-----------------81%-----------       ] 81768 of 100000 complete in 142.2 sec"
       ]
      },
      {
       "output_type": "stream",
       "stream": "stdout",
       "text": [
        "\r",
        " [-----------------82%-----------       ] 82057 of 100000 complete in 142.7 sec"
       ]
      },
      {
       "output_type": "stream",
       "stream": "stdout",
       "text": [
        "\r",
        " [-----------------82%-----------       ] 82351 of 100000 complete in 143.2 sec"
       ]
      },
      {
       "output_type": "stream",
       "stream": "stdout",
       "text": [
        "\r",
        " [-----------------82%-----------       ] 82640 of 100000 complete in 143.7 sec"
       ]
      },
      {
       "output_type": "stream",
       "stream": "stdout",
       "text": [
        "\r",
        " [-----------------82%-----------       ] 82933 of 100000 complete in 144.2 sec"
       ]
      },
      {
       "output_type": "stream",
       "stream": "stdout",
       "text": [
        "\r",
        " [-----------------83%-----------       ] 83221 of 100000 complete in 144.7 sec"
       ]
      },
      {
       "output_type": "stream",
       "stream": "stdout",
       "text": [
        "\r",
        " [-----------------83%-----------       ] 83513 of 100000 complete in 145.2 sec"
       ]
      },
      {
       "output_type": "stream",
       "stream": "stdout",
       "text": [
        "\r",
        " [-----------------83%-----------       ] 83804 of 100000 complete in 145.7 sec"
       ]
      },
      {
       "output_type": "stream",
       "stream": "stdout",
       "text": [
        "\r",
        " [-----------------84%-----------       ] 84094 of 100000 complete in 146.2 sec"
       ]
      },
      {
       "output_type": "stream",
       "stream": "stdout",
       "text": [
        "\r",
        " [-----------------84%------------      ] 84385 of 100000 complete in 146.7 sec"
       ]
      },
      {
       "output_type": "stream",
       "stream": "stdout",
       "text": [
        "\r",
        " [-----------------84%------------      ] 84672 of 100000 complete in 147.2 sec"
       ]
      },
      {
       "output_type": "stream",
       "stream": "stdout",
       "text": [
        "\r",
        " [-----------------84%------------      ] 84965 of 100000 complete in 147.7 sec"
       ]
      },
      {
       "output_type": "stream",
       "stream": "stdout",
       "text": [
        "\r",
        " [-----------------85%------------      ] 85254 of 100000 complete in 148.2 sec"
       ]
      },
      {
       "output_type": "stream",
       "stream": "stdout",
       "text": [
        "\r",
        " [-----------------85%------------      ] 85546 of 100000 complete in 148.7 sec"
       ]
      },
      {
       "output_type": "stream",
       "stream": "stdout",
       "text": [
        "\r",
        " [-----------------85%------------      ] 85835 of 100000 complete in 149.2 sec"
       ]
      },
      {
       "output_type": "stream",
       "stream": "stdout",
       "text": [
        "\r",
        " [-----------------86%------------      ] 86128 of 100000 complete in 149.7 sec"
       ]
      },
      {
       "output_type": "stream",
       "stream": "stdout",
       "text": [
        "\r",
        " [-----------------86%------------      ] 86416 of 100000 complete in 150.2 sec"
       ]
      },
      {
       "output_type": "stream",
       "stream": "stdout",
       "text": [
        "\r",
        " [-----------------86%------------      ] 86708 of 100000 complete in 150.7 sec"
       ]
      },
      {
       "output_type": "stream",
       "stream": "stdout",
       "text": [
        "\r",
        " [-----------------86%-------------     ] 86997 of 100000 complete in 151.2 sec"
       ]
      },
      {
       "output_type": "stream",
       "stream": "stdout",
       "text": [
        "\r",
        " [-----------------87%-------------     ] 87289 of 100000 complete in 151.7 sec"
       ]
      },
      {
       "output_type": "stream",
       "stream": "stdout",
       "text": [
        "\r",
        " [-----------------87%-------------     ] 87578 of 100000 complete in 152.3 sec"
       ]
      },
      {
       "output_type": "stream",
       "stream": "stdout",
       "text": [
        "\r",
        " [-----------------87%-------------     ] 87870 of 100000 complete in 152.8 sec"
       ]
      },
      {
       "output_type": "stream",
       "stream": "stdout",
       "text": [
        "\r",
        " [-----------------88%-------------     ] 88159 of 100000 complete in 153.3 sec"
       ]
      },
      {
       "output_type": "stream",
       "stream": "stdout",
       "text": [
        "\r",
        " [-----------------88%-------------     ] 88452 of 100000 complete in 153.8 sec"
       ]
      },
      {
       "output_type": "stream",
       "stream": "stdout",
       "text": [
        "\r",
        " [-----------------88%-------------     ] 88738 of 100000 complete in 154.3 sec"
       ]
      },
      {
       "output_type": "stream",
       "stream": "stdout",
       "text": [
        "\r",
        " [-----------------89%-------------     ] 89029 of 100000 complete in 154.8 sec"
       ]
      },
      {
       "output_type": "stream",
       "stream": "stdout",
       "text": [
        "\r",
        " [-----------------89%-------------     ] 89317 of 100000 complete in 155.3 sec"
       ]
      },
      {
       "output_type": "stream",
       "stream": "stdout",
       "text": [
        "\r",
        " [-----------------89%--------------    ] 89611 of 100000 complete in 155.8 sec"
       ]
      },
      {
       "output_type": "stream",
       "stream": "stdout",
       "text": [
        "\r",
        " [-----------------89%--------------    ] 89903 of 100000 complete in 156.3 sec"
       ]
      },
      {
       "output_type": "stream",
       "stream": "stdout",
       "text": [
        "\r",
        " [-----------------90%--------------    ] 90196 of 100000 complete in 156.8 sec"
       ]
      },
      {
       "output_type": "stream",
       "stream": "stdout",
       "text": [
        "\r",
        " [-----------------90%--------------    ] 90492 of 100000 complete in 157.3 sec"
       ]
      },
      {
       "output_type": "stream",
       "stream": "stdout",
       "text": [
        "\r",
        " [-----------------90%--------------    ] 90782 of 100000 complete in 157.8 sec"
       ]
      },
      {
       "output_type": "stream",
       "stream": "stdout",
       "text": [
        "\r",
        " [-----------------91%--------------    ] 91077 of 100000 complete in 158.3 sec"
       ]
      },
      {
       "output_type": "stream",
       "stream": "stdout",
       "text": [
        "\r",
        " [-----------------91%--------------    ] 91366 of 100000 complete in 158.8 sec"
       ]
      },
      {
       "output_type": "stream",
       "stream": "stdout",
       "text": [
        "\r",
        " [-----------------91%--------------    ] 91662 of 100000 complete in 159.3 sec"
       ]
      },
      {
       "output_type": "stream",
       "stream": "stdout",
       "text": [
        "\r",
        " [-----------------91%--------------    ] 91951 of 100000 complete in 159.8 sec"
       ]
      },
      {
       "output_type": "stream",
       "stream": "stdout",
       "text": [
        "\r",
        " [-----------------92%---------------   ] 92247 of 100000 complete in 160.3 sec"
       ]
      },
      {
       "output_type": "stream",
       "stream": "stdout",
       "text": [
        "\r",
        " [-----------------92%---------------   ] 92538 of 100000 complete in 160.8 sec"
       ]
      },
      {
       "output_type": "stream",
       "stream": "stdout",
       "text": [
        "\r",
        " [-----------------92%---------------   ] 92835 of 100000 complete in 161.3 sec"
       ]
      },
      {
       "output_type": "stream",
       "stream": "stdout",
       "text": [
        "\r",
        " [-----------------93%---------------   ] 93126 of 100000 complete in 161.8 sec"
       ]
      },
      {
       "output_type": "stream",
       "stream": "stdout",
       "text": [
        "\r",
        " [-----------------93%---------------   ] 93423 of 100000 complete in 162.3 sec"
       ]
      },
      {
       "output_type": "stream",
       "stream": "stdout",
       "text": [
        "\r",
        " [-----------------93%---------------   ] 93711 of 100000 complete in 162.8 sec"
       ]
      },
      {
       "output_type": "stream",
       "stream": "stdout",
       "text": [
        "\r",
        " [-----------------94%---------------   ] 94007 of 100000 complete in 163.3 sec"
       ]
      },
      {
       "output_type": "stream",
       "stream": "stdout",
       "text": [
        "\r",
        " [-----------------94%---------------   ] 94295 of 100000 complete in 163.8 sec"
       ]
      },
      {
       "output_type": "stream",
       "stream": "stdout",
       "text": [
        "\r",
        " [-----------------94%---------------   ] 94590 of 100000 complete in 164.3 sec"
       ]
      },
      {
       "output_type": "stream",
       "stream": "stdout",
       "text": [
        "\r",
        " [-----------------94%----------------  ] 94878 of 100000 complete in 164.8 sec"
       ]
      },
      {
       "output_type": "stream",
       "stream": "stdout",
       "text": [
        "\r",
        " [-----------------95%----------------  ] 95173 of 100000 complete in 165.3 sec"
       ]
      },
      {
       "output_type": "stream",
       "stream": "stdout",
       "text": [
        "\r",
        " [-----------------95%----------------  ] 95461 of 100000 complete in 165.8 sec"
       ]
      },
      {
       "output_type": "stream",
       "stream": "stdout",
       "text": [
        "\r",
        " [-----------------95%----------------  ] 95758 of 100000 complete in 166.3 sec"
       ]
      },
      {
       "output_type": "stream",
       "stream": "stdout",
       "text": [
        "\r",
        " [-----------------96%----------------  ] 96047 of 100000 complete in 166.8 sec"
       ]
      },
      {
       "output_type": "stream",
       "stream": "stdout",
       "text": [
        "\r",
        " [-----------------96%----------------  ] 96344 of 100000 complete in 167.3 sec"
       ]
      },
      {
       "output_type": "stream",
       "stream": "stdout",
       "text": [
        "\r",
        " [-----------------96%----------------  ] 96636 of 100000 complete in 167.8 sec"
       ]
      },
      {
       "output_type": "stream",
       "stream": "stdout",
       "text": [
        "\r",
        " [-----------------96%----------------  ] 96931 of 100000 complete in 168.3 sec"
       ]
      },
      {
       "output_type": "stream",
       "stream": "stdout",
       "text": [
        "\r",
        " [-----------------97%----------------  ] 97222 of 100000 complete in 168.8 sec"
       ]
      },
      {
       "output_type": "stream",
       "stream": "stdout",
       "text": [
        "\r",
        " [-----------------97%----------------- ] 97513 of 100000 complete in 169.3 sec"
       ]
      },
      {
       "output_type": "stream",
       "stream": "stdout",
       "text": [
        "\r",
        " [-----------------97%----------------- ] 97806 of 100000 complete in 169.8 sec"
       ]
      },
      {
       "output_type": "stream",
       "stream": "stdout",
       "text": [
        "\r",
        " [-----------------98%----------------- ] 98097 of 100000 complete in 170.3 sec"
       ]
      },
      {
       "output_type": "stream",
       "stream": "stdout",
       "text": [
        "\r",
        " [-----------------98%----------------- ] 98393 of 100000 complete in 170.8 sec"
       ]
      },
      {
       "output_type": "stream",
       "stream": "stdout",
       "text": [
        "\r",
        " [-----------------98%----------------- ] 98684 of 100000 complete in 171.3 sec"
       ]
      },
      {
       "output_type": "stream",
       "stream": "stdout",
       "text": [
        "\r",
        " [-----------------98%----------------- ] 98977 of 100000 complete in 171.8 sec"
       ]
      },
      {
       "output_type": "stream",
       "stream": "stdout",
       "text": [
        "\r",
        " [-----------------99%----------------- ] 99268 of 100000 complete in 172.3 sec"
       ]
      },
      {
       "output_type": "stream",
       "stream": "stdout",
       "text": [
        "\r",
        " [-----------------99%----------------- ] 99562 of 100000 complete in 172.8 sec"
       ]
      },
      {
       "output_type": "stream",
       "stream": "stdout",
       "text": [
        "\r",
        " [-----------------99%----------------- ] 99853 of 100000 complete in 173.3 sec"
       ]
      },
      {
       "output_type": "stream",
       "stream": "stdout",
       "text": [
        "\r",
        " [-----------------100%-----------------] 100000 of 100000 complete in 173.5 sec"
       ]
      },
      {
       "metadata": {},
       "output_type": "display_data",
       "png": "[encoded data removed]",
       "text": [
        "<matplotlib.figure.Figure at 0x13c71110>"
       ]
      },
      {
       "metadata": {},
       "output_type": "display_data",
       "png": "[encoded data removed]",
       "text": [
        "<matplotlib.figure.Figure at 0x126b6fd0>"
       ]
      }
     ],
     "prompt_number": 476
    },
    {
     "cell_type": "markdown",
     "metadata": {},
     "source": [
      "# Comparing Results"
     ]
    },
    {
     "cell_type": "code",
     "collapsed": false,
     "input": [
      "def print_mean_error(M, temp, variable):\n",
      "    mean = M.get_node(variable).stats()['mean']\n",
      "    maxMean = M.get_node(variable).stats()['95% HPD interval'][1]\n",
      "    print temp, ':' , mean , '+-' , maxMean-mean"
     ],
     "language": "python",
     "metadata": {},
     "outputs": [],
     "prompt_number": 477
    },
    {
     "cell_type": "markdown",
     "metadata": {},
     "source": [
      "In our histograms, do not forget to normalize them."
     ]
    },
    {
     "cell_type": "code",
     "collapsed": false,
     "input": [
      "def makeNormedHist(data, numBins, logX=False, label=None, alpha=None):\n",
      "    weights = np.ones_like(data)/len(data)\n",
      "    if not logX:\n",
      "        plt.hist(data, numBins, weights=weights, label=label, alpha=alpha)\n",
      "    else:\n",
      "        bins = np.logspace(np.log10(np.min(data)), np.log10(np.max(data)), numBins)\n",
      "        plt.hist(data, bins=bins, weights=weights, label=label, alpha=alpha)"
     ],
     "language": "python",
     "metadata": {},
     "outputs": [],
     "prompt_number": 478
    },
    {
     "cell_type": "markdown",
     "metadata": {},
     "source": [
      "I actually probably need to use the same scale for each which is irritating. I don't know if I can believe my results otherwise."
     ]
    },
    {
     "cell_type": "markdown",
     "metadata": {},
     "source": [
      "### v-parallel"
     ]
    },
    {
     "cell_type": "code",
     "collapsed": false,
     "input": [
      "print_mean_error(M21, 21, 'vpar')\n",
      "print_mean_error(M30, 30, 'vpar')\n",
      "print_mean_error(M37, 37, 'vpar')"
     ],
     "language": "python",
     "metadata": {},
     "outputs": [
      {
       "output_type": "stream",
       "stream": "stdout",
       "text": [
        "21 : 0.00242130007839 +- 2.23853483814e-05\n",
        "30 : 0.00405144889317 +- 3.92883754744e-05\n",
        "37 : 0.00719039354116 +- 5.85406818349e-05\n"
       ]
      }
     ],
     "prompt_number": 479
    },
    {
     "cell_type": "code",
     "collapsed": false,
     "input": [
      "vpar_mean = M21.get_node('vpar').stats()['mean']\n",
      "ro_mean = M21.get_node('ro').stats()['mean']\n",
      "R_values =  M21.get_node('R').value\n",
      "t_21 = model21[0][2]\n",
      "plt.plot(t_21, ro_mean + vpar_mean*t_21, '-', t_21, R_values, 'o')\n",
      "plt.title('$v_\\parallel$ at T=21')\n",
      "plt.xlabel('t (s)')\n",
      "plt.ylabel('R ($\\mu m$)')"
     ],
     "language": "python",
     "metadata": {},
     "outputs": [
      {
       "metadata": {},
       "output_type": "pyout",
       "prompt_number": 498,
       "text": [
        "<matplotlib.text.Text at 0x1498d610>"
       ]
      },
      {
       "metadata": {},
       "output_type": "display_data",
       "png": "[encoded data removed]",
       "text": [
        "<matplotlib.figure.Figure at 0x14990650>"
       ]
      }
     ],
     "prompt_number": 498
    },
    {
     "cell_type": "code",
     "collapsed": false,
     "input": [
      "vpar_mean = M30.get_node('vpar').stats()['mean']\n",
      "ro_mean = M30.get_node('ro').stats()['mean']\n",
      "R_values =  M30.get_node('R').value\n",
      "t_30 = model30[0][2]\n",
      "plt.plot(t_30, ro_mean + vpar_mean*t_30, '-', t_30, R_values, 'o')\n",
      "plt.title('$v_\\parallel$ at T=30')\n",
      "plt.xlabel('t (s)')\n",
      "plt.ylabel('R ($\\mu m$)')"
     ],
     "language": "python",
     "metadata": {},
     "outputs": [
      {
       "metadata": {},
       "output_type": "pyout",
       "prompt_number": 499,
       "text": [
        "<matplotlib.text.Text at 0x15d20350>"
       ]
      },
      {
       "metadata": {},
       "output_type": "display_data",
       "png": "[encoded data removed]",
       "text": [
        "<matplotlib.figure.Figure at 0xde15f50>"
       ]
      }
     ],
     "prompt_number": 499
    },
    {
     "cell_type": "code",
     "collapsed": false,
     "input": [
      "vpar_mean = M37.get_node('vpar').stats()['mean']\n",
      "ro_mean = M37.get_node('ro').stats()['mean']\n",
      "R_values =  M37.get_node('R').value\n",
      "t_37 = model37[0][2]\n",
      "plt.plot(t_37, ro_mean + vpar_mean*t_37, '-', t_37, R_values, 'o')\n",
      "plt.title('$v_\\parallel$ at T=37')\n",
      "plt.xlabel('t (s)')\n",
      "plt.ylabel('R ($\\mu m$)')"
     ],
     "language": "python",
     "metadata": {},
     "outputs": [
      {
       "metadata": {},
       "output_type": "pyout",
       "prompt_number": 501,
       "text": [
        "<matplotlib.text.Text at 0x7f1a410>"
       ]
      },
      {
       "metadata": {},
       "output_type": "display_data",
       "png": "[encoded data removed]",
       "text": [
        "<matplotlib.figure.Figure at 0x15d1f2d0>"
       ]
      }
     ],
     "prompt_number": 501
    },
    {
     "cell_type": "code",
     "collapsed": false,
     "input": [
      "makeNormedHist(M21.trace('vpar')[:], 4, label='21')\n",
      "makeNormedHist(M30.trace('vpar')[:], 4, label='30')\n",
      "makeNormedHist(M37.trace('vpar')[:], 4, label='37')\n",
      "plt.legend(loc='best')\n",
      "plt.ylabel('Probability')\n",
      "plt.xlabel('$v_\\parallel$ $(\\mu m/s)$')\n",
      "plt.title('Growth Rate of Colony')"
     ],
     "language": "python",
     "metadata": {},
     "outputs": [
      {
       "metadata": {},
       "output_type": "pyout",
       "prompt_number": 502,
       "text": [
        "<matplotlib.text.Text at 0x8ada690>"
       ]
      },
      {
       "metadata": {},
       "output_type": "display_data",
       "png": "[encoded data removed]",
       "text": [
        "<matplotlib.figure.Figure at 0x14980dd0>"
       ]
      }
     ],
     "prompt_number": 502
    },
    {
     "cell_type": "markdown",
     "metadata": {},
     "source": [
      "### v-perp"
     ]
    },
    {
     "cell_type": "code",
     "collapsed": false,
     "input": [
      "print_mean_error(M21, 21, 'vperp')\n",
      "print_mean_error(M30, 30, 'vperp')\n",
      "print_mean_error(M37, 37, 'vperp')"
     ],
     "language": "python",
     "metadata": {},
     "outputs": [
      {
       "output_type": "stream",
       "stream": "stdout",
       "text": [
        "21 : -2.52392798031e-05 +- 6.76720066141e-05\n",
        "30 : -0.00015545270413 +- 0.000178588948318\n",
        "37 : -0.000417459194211 +- 0.00046511195456\n"
       ]
      }
     ],
     "prompt_number": 507
    },
    {
     "cell_type": "code",
     "collapsed": false,
     "input": [
      "makeNormedHist(M21.trace('vperp')[:], 40, label='21', alpha=0.3)\n",
      "makeNormedHist(M30.trace('vperp')[:], 40, label='30', alpha=0.3)\n",
      "makeNormedHist(M37.trace('vperp')[:], 40, label='37', alpha=0.3)\n",
      "\n",
      "plt.xlabel('$v_\\perp$ $(\\mu m/s)$')\n",
      "plt.ylabel('$Probability$')\n",
      "plt.legend(loc='best')\n",
      "plt.xlim([-0.002, 0.001])"
     ],
     "language": "python",
     "metadata": {},
     "outputs": [
      {
       "metadata": {},
       "output_type": "pyout",
       "prompt_number": 508,
       "text": [
        "(-0.002, 0.001)"
       ]
      },
      {
       "metadata": {},
       "output_type": "display_data",
       "png": "[encoded data removed]",
       "text": [
        "<matplotlib.figure.Figure at 0x19b97f50>"
       ]
      }
     ],
     "prompt_number": 508
    },
    {
     "cell_type": "markdown",
     "metadata": {},
     "source": [
      "### ds"
     ]
    },
    {
     "cell_type": "code",
     "collapsed": false,
     "input": [
      "print_mean_error(M21, 21, 'ds')\n",
      "print_mean_error(M30, 30, 'ds')\n",
      "print_mean_error(M37, 37, 'ds')"
     ],
     "language": "python",
     "metadata": {},
     "outputs": [
      {
       "output_type": "stream",
       "stream": "stdout",
       "text": [
        "21 : 2.42425432766e-05 +- 5.27814809322e-07\n",
        "30 : 0.000125822975271 +- 4.07721984928e-06\n",
        "37 : 0.000465599134798 +- 1.78812825163e-05\n"
       ]
      }
     ],
     "prompt_number": 505
    },
    {
     "cell_type": "code",
     "collapsed": false,
     "input": [
      "makeNormedHist(M21.trace('ds')[:], 40, label='21', alpha=0.3)\n",
      "makeNormedHist(M30.trace('ds')[:], 40, label='30', alpha=0.3)\n",
      "makeNormedHist(M37.trace('ds')[:], 40, label='37', alpha=0.3)\n",
      "\n",
      "plt.gca().set_xscale('log')\n",
      "\n",
      "plt.xlabel('$D$ $(\\mu m)^2/s$')\n",
      "plt.legend(loc='best')"
     ],
     "language": "python",
     "metadata": {},
     "outputs": [
      {
       "metadata": {},
       "output_type": "pyout",
       "prompt_number": 506,
       "text": [
        "<matplotlib.legend.Legend at 0xa7ce410>"
       ]
      },
      {
       "metadata": {},
       "output_type": "display_data",
       "png": "[encoded data removed]",
       "text": [
        "<matplotlib.figure.Figure at 0x19b97510>"
       ]
      }
     ],
     "prompt_number": 506
    },
    {
     "cell_type": "markdown",
     "metadata": {},
     "source": [
      "Beautiful. This is extremely reasonable. We should probably check that the $v_\\parallel$ fit worked well. We should also check that the diffusion coefficient fit was reasonable as well.\n",
      "\n",
      "Let us first dump the MCMC simulations so that we don't have to do them again. Meh it is too much trouble.\n",
      "\n",
      "All right, I think I am all set! I conclude this analysis essentially done. The only question I have left is about changing the priors, i.e. making them uniform to speed up the MCMC. Let us change this and see what happens."
     ]
    }
   ],
   "metadata": {}
  }
 ]
}