{
 "metadata": {
  "name": ""
 },
 "nbformat": 3,
 "nbformat_minor": 0,
 "worksheets": [
  {
   "cells": [
    {
     "cell_type": "code",
     "collapsed": false,
     "input": [
      "%reset"
     ],
     "language": "python",
     "metadata": {},
     "outputs": [
      {
       "name": "stdout",
       "output_type": "stream",
       "stream": "stdout",
       "text": [
        "Once deleted, variables cannot be recovered. Proceed (y/[n])? y\n"
       ]
      }
     ],
     "prompt_number": 288
    },
    {
     "cell_type": "code",
     "collapsed": false,
     "input": [
      "%pylab inline"
     ],
     "language": "python",
     "metadata": {},
     "outputs": [
      {
       "output_type": "stream",
       "stream": "stdout",
       "text": [
        "Populating the interactive namespace from numpy and matplotlib\n"
       ]
      }
     ],
     "prompt_number": 289
    },
    {
     "cell_type": "code",
     "collapsed": false,
     "input": [
      "%reload_ext autoreload\n",
      "%autoreload 2"
     ],
     "language": "python",
     "metadata": {},
     "outputs": [],
     "prompt_number": 290
    },
    {
     "cell_type": "code",
     "collapsed": false,
     "input": [
      "import pandas as pd\n",
      "import numpy as np"
     ],
     "language": "python",
     "metadata": {},
     "outputs": [],
     "prompt_number": 291
    },
    {
     "cell_type": "code",
     "collapsed": false,
     "input": [
      "growthOutputFolder = '/home/bryan/Documents/Research_Data/Nelson/Chirality_Initial_Imaging/Analysis/Growth/Automated_Output'\n",
      "editedFolder = '/home/bryan/Documents/Research_Data/Nelson/Chirality_Initial_Imaging/Analysis/Growth/Edited_Output'"
     ],
     "language": "python",
     "metadata": {},
     "outputs": [],
     "prompt_number": 292
    },
    {
     "cell_type": "markdown",
     "metadata": {},
     "source": [
      "# Importing Data"
     ]
    },
    {
     "cell_type": "markdown",
     "metadata": {},
     "source": [
      "## Growth"
     ]
    },
    {
     "cell_type": "code",
     "collapsed": false,
     "input": [
      "imageData = pd.read_csv(growthOutputFolder + '/automated_Output.csv')\n",
      "imageData = imageData.drop('Unnamed: 0', 1)\n",
      "display(imageData)"
     ],
     "language": "python",
     "metadata": {},
     "outputs": [
      {
       "html": [
        "<pre>\n",
        "&lt;class 'pandas.core.frame.DataFrame'&gt;\n",
        "Int64Index: 92 entries, 0 to 91\n",
        "Data columns (total 7 columns):\n",
        "path                       92  non-null values\n",
        "T                          92  non-null values\n",
        "mL                         92  non-null values\n",
        "name                       92  non-null values\n",
        "date                       92  non-null values\n",
        "colony_radius_mm           92  non-null values\n",
        "colony_radius_mm_stderr    92  non-null values\n",
        "dtypes: float64(2), int64(2), object(3)\n",
        "</pre>"
       ],
       "metadata": {},
       "output_type": "display_data",
       "text": [
        "<class 'pandas.core.frame.DataFrame'>\n",
        "Int64Index: 92 entries, 0 to 91\n",
        "Data columns (total 7 columns):\n",
        "path                       92  non-null values\n",
        "T                          92  non-null values\n",
        "mL                         92  non-null values\n",
        "name                       92  non-null values\n",
        "date                       92  non-null values\n",
        "colony_radius_mm           92  non-null values\n",
        "colony_radius_mm_stderr    92  non-null values\n",
        "dtypes: float64(2), int64(2), object(3)"
       ]
      }
     ],
     "prompt_number": 293
    },
    {
     "cell_type": "markdown",
     "metadata": {},
     "source": [
      "We have decided to drop the error as it is far too annoying. I will just approximate it as I corrected all of the awful ones by hand anyways."
     ]
    },
    {
     "cell_type": "code",
     "collapsed": false,
     "input": [
      "imageData = imageData.drop('colony_radius_mm_stderr', 1)"
     ],
     "language": "python",
     "metadata": {},
     "outputs": [],
     "prompt_number": 294
    },
    {
     "cell_type": "code",
     "collapsed": false,
     "input": [
      "import glob\n",
      "import scipy as sp\n",
      "import scipy.stats\n",
      "import os"
     ],
     "language": "python",
     "metadata": {},
     "outputs": [],
     "prompt_number": 295
    },
    {
     "cell_type": "code",
     "collapsed": false,
     "input": [
      "files = glob.glob(editedFolder + '/*.txt')\n",
      "editedData = pd.DataFrame()\n",
      "for f in files:\n",
      "    data = pd.read_csv(f, sep='\\t')\n",
      "    data['short_name'] = os.path.basename(f)\n",
      "    data['short_name'] = [f.split('.')[0] for f in data['short_name']]\n",
      "    data = data.drop([' ', 'Angle'], 1)\n",
      "\n",
      "    editedData = editedData.append(data)\n",
      "editedData = editedData.reset_index(drop=True)\n",
      "\n",
      "display(editedData.head(5))"
     ],
     "language": "python",
     "metadata": {},
     "outputs": [
      {
       "html": [
        "<div style=\"max-height:1000px;max-width:1500px;overflow:auto;\">\n",
        "<table border=\"1\" class=\"dataframe\">\n",
        "  <thead>\n",
        "    <tr style=\"text-align: right;\">\n",
        "      <th></th>\n",
        "      <th>Length</th>\n",
        "      <th>short_name</th>\n",
        "    </tr>\n",
        "  </thead>\n",
        "  <tbody>\n",
        "    <tr>\n",
        "      <th>0</th>\n",
        "      <td> 446.000</td>\n",
        "      <td> 30C_25mL_ReplicateA_2013_10_15-0011</td>\n",
        "    </tr>\n",
        "    <tr>\n",
        "      <th>1</th>\n",
        "      <td> 442.000</td>\n",
        "      <td> 30C_25mL_ReplicateA_2013_10_15-0011</td>\n",
        "    </tr>\n",
        "    <tr>\n",
        "      <th>2</th>\n",
        "      <td> 492.492</td>\n",
        "      <td> 30C_25mL_ReplicateA_2013_10_15-0011</td>\n",
        "    </tr>\n",
        "    <tr>\n",
        "      <th>3</th>\n",
        "      <td> 489.036</td>\n",
        "      <td> 30C_25mL_ReplicateA_2013_10_15-0011</td>\n",
        "    </tr>\n",
        "    <tr>\n",
        "      <th>4</th>\n",
        "      <td> 463.797</td>\n",
        "      <td> 30C_25mL_ReplicateA_2013_10_15-0011</td>\n",
        "    </tr>\n",
        "  </tbody>\n",
        "</table>\n",
        "</div>"
       ],
       "metadata": {},
       "output_type": "display_data",
       "text": [
        "    Length                           short_name\n",
        "0  446.000  30C_25mL_ReplicateA_2013_10_15-0011\n",
        "1  442.000  30C_25mL_ReplicateA_2013_10_15-0011\n",
        "2  492.492  30C_25mL_ReplicateA_2013_10_15-0011\n",
        "3  489.036  30C_25mL_ReplicateA_2013_10_15-0011\n",
        "4  463.797  30C_25mL_ReplicateA_2013_10_15-0011"
       ]
      }
     ],
     "prompt_number": 296
    },
    {
     "cell_type": "markdown",
     "metadata": {},
     "source": [
      "Good, that is working. Let us now combine this with the old imageData table."
     ]
    },
    {
     "cell_type": "code",
     "collapsed": false,
     "input": [
      "imageData['short_name'] = imageData.path.apply(os.path.basename)\n",
      "imageData['short_name'] = [f.split('.')[0] for f in imageData['short_name']]\n",
      "imageData.head(2)"
     ],
     "language": "python",
     "metadata": {},
     "outputs": [
      {
       "html": [
        "<div style=\"max-height:1000px;max-width:1500px;overflow:auto;\">\n",
        "<table border=\"1\" class=\"dataframe\">\n",
        "  <thead>\n",
        "    <tr style=\"text-align: right;\">\n",
        "      <th></th>\n",
        "      <th>path</th>\n",
        "      <th>T</th>\n",
        "      <th>mL</th>\n",
        "      <th>name</th>\n",
        "      <th>date</th>\n",
        "      <th>colony_radius_mm</th>\n",
        "      <th>short_name</th>\n",
        "    </tr>\n",
        "  </thead>\n",
        "  <tbody>\n",
        "    <tr>\n",
        "      <th>0</th>\n",
        "      <td> /home/bryan/Documents/Research_Data/Nelson/Chi...</td>\n",
        "      <td> 21</td>\n",
        "      <td> 25</td>\n",
        "      <td> ReplicateB</td>\n",
        "      <td> 2013-10-11 00:00:00</td>\n",
        "      <td> 3.293278</td>\n",
        "      <td> 21C_25mL_ReplicateB_2013_10_11-0002</td>\n",
        "    </tr>\n",
        "    <tr>\n",
        "      <th>1</th>\n",
        "      <td> /home/bryan/Documents/Research_Data/Nelson/Chi...</td>\n",
        "      <td> 37</td>\n",
        "      <td> 66</td>\n",
        "      <td> ReplicateB</td>\n",
        "      <td> 2013-10-07 00:00:00</td>\n",
        "      <td> 5.330891</td>\n",
        "      <td> 37C_66mL_ReplicateB_2013_10_07-0004</td>\n",
        "    </tr>\n",
        "  </tbody>\n",
        "</table>\n",
        "</div>"
       ],
       "metadata": {},
       "output_type": "pyout",
       "prompt_number": 297,
       "text": [
        "                                                path   T  mL        name  \\\n",
        "0  /home/bryan/Documents/Research_Data/Nelson/Chi...  21  25  ReplicateB   \n",
        "1  /home/bryan/Documents/Research_Data/Nelson/Chi...  37  66  ReplicateB   \n",
        "\n",
        "                  date  colony_radius_mm                           short_name  \n",
        "0  2013-10-11 00:00:00          3.293278  21C_25mL_ReplicateB_2013_10_11-0002  \n",
        "1  2013-10-07 00:00:00          5.330891  37C_66mL_ReplicateB_2013_10_07-0004  "
       ]
      }
     ],
     "prompt_number": 297
    },
    {
     "cell_type": "markdown",
     "metadata": {},
     "source": [
      "We have given up on the error. It is too annoying, as we don't exactly know what the error is! Our estimates are sloppy and it is likely better to estimate the error from the data."
     ]
    },
    {
     "cell_type": "code",
     "collapsed": false,
     "input": [
      "combinedData = pd.merge(imageData, editedData, on='short_name', how='outer')\n",
      "display(combinedData.head(5))"
     ],
     "language": "python",
     "metadata": {},
     "outputs": [
      {
       "html": [
        "<div style=\"max-height:1000px;max-width:1500px;overflow:auto;\">\n",
        "<table border=\"1\" class=\"dataframe\">\n",
        "  <thead>\n",
        "    <tr style=\"text-align: right;\">\n",
        "      <th></th>\n",
        "      <th>path</th>\n",
        "      <th>T</th>\n",
        "      <th>mL</th>\n",
        "      <th>name</th>\n",
        "      <th>date</th>\n",
        "      <th>colony_radius_mm</th>\n",
        "      <th>short_name</th>\n",
        "      <th>Length</th>\n",
        "    </tr>\n",
        "  </thead>\n",
        "  <tbody>\n",
        "    <tr>\n",
        "      <th>0</th>\n",
        "      <td> /home/bryan/Documents/Research_Data/Nelson/Chi...</td>\n",
        "      <td> 21</td>\n",
        "      <td> 25</td>\n",
        "      <td> ReplicateB</td>\n",
        "      <td> 2013-10-11 00:00:00</td>\n",
        "      <td> 3.293278</td>\n",
        "      <td> 21C_25mL_ReplicateB_2013_10_11-0002</td>\n",
        "      <td> NaN</td>\n",
        "    </tr>\n",
        "    <tr>\n",
        "      <th>1</th>\n",
        "      <td> /home/bryan/Documents/Research_Data/Nelson/Chi...</td>\n",
        "      <td> 37</td>\n",
        "      <td> 66</td>\n",
        "      <td> ReplicateB</td>\n",
        "      <td> 2013-10-07 00:00:00</td>\n",
        "      <td> 5.330891</td>\n",
        "      <td> 37C_66mL_ReplicateB_2013_10_07-0004</td>\n",
        "      <td> NaN</td>\n",
        "    </tr>\n",
        "    <tr>\n",
        "      <th>2</th>\n",
        "      <td> /home/bryan/Documents/Research_Data/Nelson/Chi...</td>\n",
        "      <td> 21</td>\n",
        "      <td> 66</td>\n",
        "      <td> ReplicateA</td>\n",
        "      <td> 2013-10-04 00:00:00</td>\n",
        "      <td> 1.945775</td>\n",
        "      <td> 21C_66mL_ReplicateA_2013_10_04-0012</td>\n",
        "      <td> 222</td>\n",
        "    </tr>\n",
        "    <tr>\n",
        "      <th>3</th>\n",
        "      <td> /home/bryan/Documents/Research_Data/Nelson/Chi...</td>\n",
        "      <td> 21</td>\n",
        "      <td> 66</td>\n",
        "      <td> ReplicateA</td>\n",
        "      <td> 2013-10-04 00:00:00</td>\n",
        "      <td> 1.945775</td>\n",
        "      <td> 21C_66mL_ReplicateA_2013_10_04-0012</td>\n",
        "      <td> 206</td>\n",
        "    </tr>\n",
        "    <tr>\n",
        "      <th>4</th>\n",
        "      <td> /home/bryan/Documents/Research_Data/Nelson/Chi...</td>\n",
        "      <td> 21</td>\n",
        "      <td> 66</td>\n",
        "      <td> ReplicateA</td>\n",
        "      <td> 2013-10-04 00:00:00</td>\n",
        "      <td> 1.945775</td>\n",
        "      <td> 21C_66mL_ReplicateA_2013_10_04-0012</td>\n",
        "      <td> 236</td>\n",
        "    </tr>\n",
        "  </tbody>\n",
        "</table>\n",
        "</div>"
       ],
       "metadata": {},
       "output_type": "display_data",
       "text": [
        "                                                path   T  mL        name  \\\n",
        "0  /home/bryan/Documents/Research_Data/Nelson/Chi...  21  25  ReplicateB   \n",
        "1  /home/bryan/Documents/Research_Data/Nelson/Chi...  37  66  ReplicateB   \n",
        "2  /home/bryan/Documents/Research_Data/Nelson/Chi...  21  66  ReplicateA   \n",
        "3  /home/bryan/Documents/Research_Data/Nelson/Chi...  21  66  ReplicateA   \n",
        "4  /home/bryan/Documents/Research_Data/Nelson/Chi...  21  66  ReplicateA   \n",
        "\n",
        "                  date  colony_radius_mm                           short_name  \\\n",
        "0  2013-10-11 00:00:00          3.293278  21C_25mL_ReplicateB_2013_10_11-0002   \n",
        "1  2013-10-07 00:00:00          5.330891  37C_66mL_ReplicateB_2013_10_07-0004   \n",
        "2  2013-10-04 00:00:00          1.945775  21C_66mL_ReplicateA_2013_10_04-0012   \n",
        "3  2013-10-04 00:00:00          1.945775  21C_66mL_ReplicateA_2013_10_04-0012   \n",
        "4  2013-10-04 00:00:00          1.945775  21C_66mL_ReplicateA_2013_10_04-0012   \n",
        "\n",
        "   Length  \n",
        "0     NaN  \n",
        "1     NaN  \n",
        "2     222  \n",
        "3     206  \n",
        "4     236  "
       ]
      }
     ],
     "prompt_number": 298
    },
    {
     "cell_type": "markdown",
     "metadata": {},
     "source": [
      "Beautiful. Let us now get an appropriate scale for each image."
     ]
    },
    {
     "cell_type": "code",
     "collapsed": false,
     "input": [
      "import chirality_image_analysis.utility as ut"
     ],
     "language": "python",
     "metadata": {},
     "outputs": [],
     "prompt_number": 299
    },
    {
     "cell_type": "code",
     "collapsed": false,
     "input": [
      "\n",
      "combinedData['scale'] = combinedData['path'].apply(ut.getScale)\n",
      "display(combinedData.head(3))"
     ],
     "language": "python",
     "metadata": {},
     "outputs": [
      {
       "html": [
        "<div style=\"max-height:1000px;max-width:1500px;overflow:auto;\">\n",
        "<table border=\"1\" class=\"dataframe\">\n",
        "  <thead>\n",
        "    <tr style=\"text-align: right;\">\n",
        "      <th></th>\n",
        "      <th>path</th>\n",
        "      <th>T</th>\n",
        "      <th>mL</th>\n",
        "      <th>name</th>\n",
        "      <th>date</th>\n",
        "      <th>colony_radius_mm</th>\n",
        "      <th>short_name</th>\n",
        "      <th>Length</th>\n",
        "      <th>scale</th>\n",
        "    </tr>\n",
        "  </thead>\n",
        "  <tbody>\n",
        "    <tr>\n",
        "      <th>0</th>\n",
        "      <td> /home/bryan/Documents/Research_Data/Nelson/Chi...</td>\n",
        "      <td> 21</td>\n",
        "      <td> 25</td>\n",
        "      <td> ReplicateB</td>\n",
        "      <td> 2013-10-11 00:00:00</td>\n",
        "      <td> 3.293278</td>\n",
        "      <td> 21C_25mL_ReplicateB_2013_10_11-0002</td>\n",
        "      <td> NaN</td>\n",
        "      <td> 0.007775</td>\n",
        "    </tr>\n",
        "    <tr>\n",
        "      <th>1</th>\n",
        "      <td> /home/bryan/Documents/Research_Data/Nelson/Chi...</td>\n",
        "      <td> 37</td>\n",
        "      <td> 66</td>\n",
        "      <td> ReplicateB</td>\n",
        "      <td> 2013-10-07 00:00:00</td>\n",
        "      <td> 5.330891</td>\n",
        "      <td> 37C_66mL_ReplicateB_2013_10_07-0004</td>\n",
        "      <td> NaN</td>\n",
        "      <td> 0.010827</td>\n",
        "    </tr>\n",
        "    <tr>\n",
        "      <th>2</th>\n",
        "      <td> /home/bryan/Documents/Research_Data/Nelson/Chi...</td>\n",
        "      <td> 21</td>\n",
        "      <td> 66</td>\n",
        "      <td> ReplicateA</td>\n",
        "      <td> 2013-10-04 00:00:00</td>\n",
        "      <td> 1.945775</td>\n",
        "      <td> 21C_66mL_ReplicateA_2013_10_04-0012</td>\n",
        "      <td> 222</td>\n",
        "      <td> 0.006399</td>\n",
        "    </tr>\n",
        "  </tbody>\n",
        "</table>\n",
        "</div>"
       ],
       "metadata": {},
       "output_type": "display_data",
       "text": [
        "                                                path   T  mL        name  \\\n",
        "0  /home/bryan/Documents/Research_Data/Nelson/Chi...  21  25  ReplicateB   \n",
        "1  /home/bryan/Documents/Research_Data/Nelson/Chi...  37  66  ReplicateB   \n",
        "2  /home/bryan/Documents/Research_Data/Nelson/Chi...  21  66  ReplicateA   \n",
        "\n",
        "                  date  colony_radius_mm                           short_name  \\\n",
        "0  2013-10-11 00:00:00          3.293278  21C_25mL_ReplicateB_2013_10_11-0002   \n",
        "1  2013-10-07 00:00:00          5.330891  37C_66mL_ReplicateB_2013_10_07-0004   \n",
        "2  2013-10-04 00:00:00          1.945775  21C_66mL_ReplicateA_2013_10_04-0012   \n",
        "\n",
        "   Length     scale  \n",
        "0     NaN  0.007775  \n",
        "1     NaN  0.010827  \n",
        "2     222  0.006399  "
       ]
      }
     ],
     "prompt_number": 300
    },
    {
     "cell_type": "code",
     "collapsed": false,
     "input": [
      "de = ~ combinedData.Length.isnull()\n",
      "combinedData['colony_radius_mm'][de] = combinedData['Length'][de]*combinedData['scale'][de]\n",
      "combinedData.head(6)"
     ],
     "language": "python",
     "metadata": {},
     "outputs": [
      {
       "html": [
        "<div style=\"max-height:1000px;max-width:1500px;overflow:auto;\">\n",
        "<table border=\"1\" class=\"dataframe\">\n",
        "  <thead>\n",
        "    <tr style=\"text-align: right;\">\n",
        "      <th></th>\n",
        "      <th>path</th>\n",
        "      <th>T</th>\n",
        "      <th>mL</th>\n",
        "      <th>name</th>\n",
        "      <th>date</th>\n",
        "      <th>colony_radius_mm</th>\n",
        "      <th>short_name</th>\n",
        "      <th>Length</th>\n",
        "      <th>scale</th>\n",
        "    </tr>\n",
        "  </thead>\n",
        "  <tbody>\n",
        "    <tr>\n",
        "      <th>0</th>\n",
        "      <td> /home/bryan/Documents/Research_Data/Nelson/Chi...</td>\n",
        "      <td> 21</td>\n",
        "      <td> 25</td>\n",
        "      <td> ReplicateB</td>\n",
        "      <td> 2013-10-11 00:00:00</td>\n",
        "      <td> 3.293278</td>\n",
        "      <td> 21C_25mL_ReplicateB_2013_10_11-0002</td>\n",
        "      <td> NaN</td>\n",
        "      <td> 0.007775</td>\n",
        "    </tr>\n",
        "    <tr>\n",
        "      <th>1</th>\n",
        "      <td> /home/bryan/Documents/Research_Data/Nelson/Chi...</td>\n",
        "      <td> 37</td>\n",
        "      <td> 66</td>\n",
        "      <td> ReplicateB</td>\n",
        "      <td> 2013-10-07 00:00:00</td>\n",
        "      <td> 5.330891</td>\n",
        "      <td> 37C_66mL_ReplicateB_2013_10_07-0004</td>\n",
        "      <td> NaN</td>\n",
        "      <td> 0.010827</td>\n",
        "    </tr>\n",
        "    <tr>\n",
        "      <th>2</th>\n",
        "      <td> /home/bryan/Documents/Research_Data/Nelson/Chi...</td>\n",
        "      <td> 21</td>\n",
        "      <td> 66</td>\n",
        "      <td> ReplicateA</td>\n",
        "      <td> 2013-10-04 00:00:00</td>\n",
        "      <td> 1.420536</td>\n",
        "      <td> 21C_66mL_ReplicateA_2013_10_04-0012</td>\n",
        "      <td> 222</td>\n",
        "      <td> 0.006399</td>\n",
        "    </tr>\n",
        "    <tr>\n",
        "      <th>3</th>\n",
        "      <td> /home/bryan/Documents/Research_Data/Nelson/Chi...</td>\n",
        "      <td> 21</td>\n",
        "      <td> 66</td>\n",
        "      <td> ReplicateA</td>\n",
        "      <td> 2013-10-04 00:00:00</td>\n",
        "      <td> 1.318155</td>\n",
        "      <td> 21C_66mL_ReplicateA_2013_10_04-0012</td>\n",
        "      <td> 206</td>\n",
        "      <td> 0.006399</td>\n",
        "    </tr>\n",
        "    <tr>\n",
        "      <th>4</th>\n",
        "      <td> /home/bryan/Documents/Research_Data/Nelson/Chi...</td>\n",
        "      <td> 21</td>\n",
        "      <td> 66</td>\n",
        "      <td> ReplicateA</td>\n",
        "      <td> 2013-10-04 00:00:00</td>\n",
        "      <td> 1.510119</td>\n",
        "      <td> 21C_66mL_ReplicateA_2013_10_04-0012</td>\n",
        "      <td> 236</td>\n",
        "      <td> 0.006399</td>\n",
        "    </tr>\n",
        "    <tr>\n",
        "      <th>5</th>\n",
        "      <td> /home/bryan/Documents/Research_Data/Nelson/Chi...</td>\n",
        "      <td> 21</td>\n",
        "      <td> 66</td>\n",
        "      <td> ReplicateA</td>\n",
        "      <td> 2013-10-04 00:00:00</td>\n",
        "      <td> 1.382143</td>\n",
        "      <td> 21C_66mL_ReplicateA_2013_10_04-0012</td>\n",
        "      <td> 216</td>\n",
        "      <td> 0.006399</td>\n",
        "    </tr>\n",
        "  </tbody>\n",
        "</table>\n",
        "</div>"
       ],
       "metadata": {},
       "output_type": "pyout",
       "prompt_number": 301,
       "text": [
        "                                                path   T  mL        name  \\\n",
        "0  /home/bryan/Documents/Research_Data/Nelson/Chi...  21  25  ReplicateB   \n",
        "1  /home/bryan/Documents/Research_Data/Nelson/Chi...  37  66  ReplicateB   \n",
        "2  /home/bryan/Documents/Research_Data/Nelson/Chi...  21  66  ReplicateA   \n",
        "3  /home/bryan/Documents/Research_Data/Nelson/Chi...  21  66  ReplicateA   \n",
        "4  /home/bryan/Documents/Research_Data/Nelson/Chi...  21  66  ReplicateA   \n",
        "5  /home/bryan/Documents/Research_Data/Nelson/Chi...  21  66  ReplicateA   \n",
        "\n",
        "                  date  colony_radius_mm                           short_name  \\\n",
        "0  2013-10-11 00:00:00          3.293278  21C_25mL_ReplicateB_2013_10_11-0002   \n",
        "1  2013-10-07 00:00:00          5.330891  37C_66mL_ReplicateB_2013_10_07-0004   \n",
        "2  2013-10-04 00:00:00          1.420536  21C_66mL_ReplicateA_2013_10_04-0012   \n",
        "3  2013-10-04 00:00:00          1.318155  21C_66mL_ReplicateA_2013_10_04-0012   \n",
        "4  2013-10-04 00:00:00          1.510119  21C_66mL_ReplicateA_2013_10_04-0012   \n",
        "5  2013-10-04 00:00:00          1.382143  21C_66mL_ReplicateA_2013_10_04-0012   \n",
        "\n",
        "   Length     scale  \n",
        "0     NaN  0.007775  \n",
        "1     NaN  0.010827  \n",
        "2     222  0.006399  \n",
        "3     206  0.006399  \n",
        "4     236  0.006399  \n",
        "5     216  0.006399  "
       ]
      }
     ],
     "prompt_number": 301
    },
    {
     "cell_type": "code",
     "collapsed": false,
     "input": [
      "growthData = combinedData.groupby(['path', 'date', 'T', 'mL', 'name']).agg({'colony_radius_mm' : mean})\n",
      "growthData = growthData.reset_index()\n",
      "display(growthData.head(6))"
     ],
     "language": "python",
     "metadata": {},
     "outputs": [
      {
       "html": [
        "<div style=\"max-height:1000px;max-width:1500px;overflow:auto;\">\n",
        "<table border=\"1\" class=\"dataframe\">\n",
        "  <thead>\n",
        "    <tr style=\"text-align: right;\">\n",
        "      <th></th>\n",
        "      <th>path</th>\n",
        "      <th>date</th>\n",
        "      <th>T</th>\n",
        "      <th>mL</th>\n",
        "      <th>name</th>\n",
        "      <th>colony_radius_mm</th>\n",
        "    </tr>\n",
        "  </thead>\n",
        "  <tbody>\n",
        "    <tr>\n",
        "      <th>0</th>\n",
        "      <td> /home/bryan/Documents/Research_Data/Nelson/Chi...</td>\n",
        "      <td> 2013-10-03 00:00:00</td>\n",
        "      <td> 21</td>\n",
        "      <td> 25</td>\n",
        "      <td> ReplicateB</td>\n",
        "      <td> 1.072320</td>\n",
        "    </tr>\n",
        "    <tr>\n",
        "      <th>1</th>\n",
        "      <td> /home/bryan/Documents/Research_Data/Nelson/Chi...</td>\n",
        "      <td> 2013-10-04 00:00:00</td>\n",
        "      <td> 21</td>\n",
        "      <td> 25</td>\n",
        "      <td> ReplicateB</td>\n",
        "      <td> 1.254533</td>\n",
        "    </tr>\n",
        "    <tr>\n",
        "      <th>2</th>\n",
        "      <td> /home/bryan/Documents/Research_Data/Nelson/Chi...</td>\n",
        "      <td> 2013-10-07 00:00:00</td>\n",
        "      <td> 21</td>\n",
        "      <td> 25</td>\n",
        "      <td> ReplicateB</td>\n",
        "      <td> 2.227408</td>\n",
        "    </tr>\n",
        "    <tr>\n",
        "      <th>3</th>\n",
        "      <td> /home/bryan/Documents/Research_Data/Nelson/Chi...</td>\n",
        "      <td> 2013-10-09 00:00:00</td>\n",
        "      <td> 21</td>\n",
        "      <td> 25</td>\n",
        "      <td> ReplicateB</td>\n",
        "      <td> 2.813173</td>\n",
        "    </tr>\n",
        "    <tr>\n",
        "      <th>4</th>\n",
        "      <td> /home/bryan/Documents/Research_Data/Nelson/Chi...</td>\n",
        "      <td> 2013-10-11 00:00:00</td>\n",
        "      <td> 21</td>\n",
        "      <td> 25</td>\n",
        "      <td> ReplicateB</td>\n",
        "      <td> 3.293278</td>\n",
        "    </tr>\n",
        "    <tr>\n",
        "      <th>5</th>\n",
        "      <td> /home/bryan/Documents/Research_Data/Nelson/Chi...</td>\n",
        "      <td> 2013-10-15 00:00:00</td>\n",
        "      <td> 21</td>\n",
        "      <td> 25</td>\n",
        "      <td> ReplicateB</td>\n",
        "      <td> 4.114244</td>\n",
        "    </tr>\n",
        "  </tbody>\n",
        "</table>\n",
        "</div>"
       ],
       "metadata": {},
       "output_type": "display_data",
       "text": [
        "                                                path                 date   T  \\\n",
        "0  /home/bryan/Documents/Research_Data/Nelson/Chi...  2013-10-03 00:00:00  21   \n",
        "1  /home/bryan/Documents/Research_Data/Nelson/Chi...  2013-10-04 00:00:00  21   \n",
        "2  /home/bryan/Documents/Research_Data/Nelson/Chi...  2013-10-07 00:00:00  21   \n",
        "3  /home/bryan/Documents/Research_Data/Nelson/Chi...  2013-10-09 00:00:00  21   \n",
        "4  /home/bryan/Documents/Research_Data/Nelson/Chi...  2013-10-11 00:00:00  21   \n",
        "5  /home/bryan/Documents/Research_Data/Nelson/Chi...  2013-10-15 00:00:00  21   \n",
        "\n",
        "   mL        name  colony_radius_mm  \n",
        "0  25  ReplicateB          1.072320  \n",
        "1  25  ReplicateB          1.254533  \n",
        "2  25  ReplicateB          2.227408  \n",
        "3  25  ReplicateB          2.813173  \n",
        "4  25  ReplicateB          3.293278  \n",
        "5  25  ReplicateB          4.114244  "
       ]
      }
     ],
     "prompt_number": 302
    },
    {
     "cell_type": "markdown",
     "metadata": {},
     "source": [
      "Make the date actually date-time; right now it is a string!"
     ]
    },
    {
     "cell_type": "code",
     "collapsed": false,
     "input": [
      "from dateutil import parser\n",
      "import datetime as dt"
     ],
     "language": "python",
     "metadata": {},
     "outputs": [],
     "prompt_number": 303
    },
    {
     "cell_type": "markdown",
     "metadata": {},
     "source": [
      "There seems to be some weird errors here. The bottom line is that everything else will work better if you create a new column when this is converted to string, delete the old one, and then rename the new one."
     ]
    },
    {
     "cell_type": "code",
     "collapsed": false,
     "input": [
      "growthData['date'] = growthData['date'].apply(parser.parse)"
     ],
     "language": "python",
     "metadata": {},
     "outputs": [],
     "prompt_number": 304
    },
    {
     "cell_type": "markdown",
     "metadata": {},
     "source": [
      "## Chirality Data"
     ]
    },
    {
     "cell_type": "code",
     "collapsed": false,
     "input": [
      "dataDirectory = '/home/bryan/Documents/Research_Data/Nelson/Chirality_Initial_Imaging/Analysis/Chirality_2'"
     ],
     "language": "python",
     "metadata": {},
     "outputs": [],
     "prompt_number": 305
    },
    {
     "cell_type": "code",
     "collapsed": false,
     "input": [
      "folders = glob.glob(dataDirectory + '/*/')\n",
      "csvPaths = [f + '/chiralityData.csv' for f in folders] \n",
      "display(csvPaths)"
     ],
     "language": "python",
     "metadata": {},
     "outputs": [
      {
       "metadata": {},
       "output_type": "display_data",
       "text": [
        "['/home/bryan/Documents/Research_Data/Nelson/Chirality_Initial_Imaging/Analysis/Chirality_2/21_66_ReplicateA_left//chiralityData.csv',\n",
        " '/home/bryan/Documents/Research_Data/Nelson/Chirality_Initial_Imaging/Analysis/Chirality_2/37_25_ReplicateA//chiralityData.csv',\n",
        " '/home/bryan/Documents/Research_Data/Nelson/Chirality_Initial_Imaging/Analysis/Chirality_2/21_25_ReplicateB//chiralityData.csv',\n",
        " '/home/bryan/Documents/Research_Data/Nelson/Chirality_Initial_Imaging/Analysis/Chirality_2/21_56_ReplicateB//chiralityData.csv',\n",
        " '/home/bryan/Documents/Research_Data/Nelson/Chirality_Initial_Imaging/Analysis/Chirality_2/30_50_ReplicateB//chiralityData.csv',\n",
        " '/home/bryan/Documents/Research_Data/Nelson/Chirality_Initial_Imaging/Analysis/Chirality_2/21_50_ReplicateA//chiralityData.csv',\n",
        " '/home/bryan/Documents/Research_Data/Nelson/Chirality_Initial_Imaging/Analysis/Chirality_2/30_25_ReplicateB//chiralityData.csv',\n",
        " '/home/bryan/Documents/Research_Data/Nelson/Chirality_Initial_Imaging/Analysis/Chirality_2/37_50_ReplicateB//chiralityData.csv',\n",
        " '/home/bryan/Documents/Research_Data/Nelson/Chirality_Initial_Imaging/Analysis/Chirality_2/37_66_ReplicateB//chiralityData.csv']"
       ]
      }
     ],
     "prompt_number": 306
    },
    {
     "cell_type": "code",
     "collapsed": false,
     "input": [
      "import pandas as pd\n",
      "\n",
      "allData = pd.DataFrame()\n",
      "for path in csvPaths:\n",
      "    allData = allData.append(pd.read_csv(path))\n",
      "\n",
      "allData.reset_index()\n",
      "\n",
      "allData = allData.rename(columns = {'Unnamed: 0' : 'radius_interval'})"
     ],
     "language": "python",
     "metadata": {},
     "outputs": [],
     "prompt_number": 307
    },
    {
     "cell_type": "code",
     "collapsed": false,
     "input": [
      "allData['rotated_righthanded'] = -1.*allData['rotated']"
     ],
     "language": "python",
     "metadata": {},
     "outputs": [],
     "prompt_number": 308
    },
    {
     "cell_type": "code",
     "collapsed": false,
     "input": [
      "path_label_groups = allData.groupby(['path', 'label'])\n",
      "minRadii = path_label_groups.agg({'r_mm' : min})\n",
      "minRadii = minRadii.add_suffix('_min')\n",
      "display(minRadii.head(5))"
     ],
     "language": "python",
     "metadata": {},
     "outputs": [
      {
       "html": [
        "<div style=\"max-height:1000px;max-width:1500px;overflow:auto;\">\n",
        "<table border=\"1\" class=\"dataframe\">\n",
        "  <thead>\n",
        "    <tr style=\"text-align: right;\">\n",
        "      <th></th>\n",
        "      <th></th>\n",
        "      <th>r_mm_min</th>\n",
        "    </tr>\n",
        "    <tr>\n",
        "      <th>path</th>\n",
        "      <th>label</th>\n",
        "      <th></th>\n",
        "    </tr>\n",
        "  </thead>\n",
        "  <tbody>\n",
        "    <tr>\n",
        "      <th rowspan=\"5\" valign=\"top\">/home/bryan/Documents/Research_Data/Nelson/Chirality_Initial_Imaging/6_ToAnalyze_Clean/21C_25mL_ReplicateB_2013_10_29-0003.tif</th>\n",
        "      <th>1</th>\n",
        "      <td> 2.272560</td>\n",
        "    </tr>\n",
        "    <tr>\n",
        "      <th>2</th>\n",
        "      <td> 2.274830</td>\n",
        "    </tr>\n",
        "    <tr>\n",
        "      <th>3</th>\n",
        "      <td> 2.276843</td>\n",
        "    </tr>\n",
        "    <tr>\n",
        "      <th>4</th>\n",
        "      <td> 2.266615</td>\n",
        "    </tr>\n",
        "    <tr>\n",
        "      <th>5</th>\n",
        "      <td> 2.266022</td>\n",
        "    </tr>\n",
        "  </tbody>\n",
        "</table>\n",
        "</div>"
       ],
       "metadata": {},
       "output_type": "display_data",
       "text": [
        "                                                                                                                                      r_mm_min\n",
        "path                                                                                                                           label          \n",
        "/home/bryan/Documents/Research_Data/Nelson/Chirality_Initial_Imaging/6_ToAnalyze_Clean/21C_25mL_ReplicateB_2013_10_29-0003.tif 1      2.272560\n",
        "                                                                                                                               2      2.274830\n",
        "                                                                                                                               3      2.276843\n",
        "                                                                                                                               4      2.266615\n",
        "                                                                                                                               5      2.266022"
       ]
      }
     ],
     "prompt_number": 309
    },
    {
     "cell_type": "code",
     "collapsed": false,
     "input": [
      "mr_reset = minRadii.reset_index()\n",
      "allData = pd.merge(allData, mr_reset, on=['path', 'label'])\n",
      "print allData"
     ],
     "language": "python",
     "metadata": {},
     "outputs": [
      {
       "output_type": "stream",
       "stream": "stdout",
       "text": [
        "<class 'pandas.core.frame.DataFrame'>\n",
        "Int64Index: 44119 entries, 0 to 44118\n",
        "Data columns (total 21 columns):\n",
        "T                      44119  non-null values\n",
        "radius_interval        44119  non-null values\n",
        "colony_radius_mm       44119  non-null values\n",
        "date                   44119  non-null values\n",
        "dx                     44119  non-null values\n",
        "dx_mm                  44119  non-null values\n",
        "dy                     44119  non-null values\n",
        "dy_mm                  44119  non-null values\n",
        "label                  44119  non-null values\n",
        "mL                     44119  non-null values\n",
        "mm_per_pixel           44119  non-null values\n",
        "name                   44119  non-null values\n",
        "path                   44119  non-null values\n",
        "r                      44119  non-null values\n",
        "r_mm                   44119  non-null values\n",
        "rotated                44119  non-null values\n",
        "theta                  44119  non-null values\n",
        "x                      44119  non-null values\n",
        "y                      44119  non-null values\n",
        "rotated_righthanded    44119  non-null values\n",
        "r_mm_min               44119  non-null values\n",
        "dtypes: float64(14), int64(3), object(4)\n"
       ]
      }
     ],
     "prompt_number": 310
    },
    {
     "cell_type": "code",
     "collapsed": false,
     "input": [
      "allData['log_r_div_ri'] = np.log(allData['r_mm']/allData['r_mm_min'])\n",
      "allData['1_div_ri_minus_1_r'] = (1/allData['r_mm_min']) - (1/allData['r_mm']) \n",
      "display(allData)"
     ],
     "language": "python",
     "metadata": {},
     "outputs": [
      {
       "html": [
        "<pre>\n",
        "&lt;class 'pandas.core.frame.DataFrame'&gt;\n",
        "Int64Index: 44119 entries, 0 to 44118\n",
        "Data columns (total 23 columns):\n",
        "T                      44119  non-null values\n",
        "radius_interval        44119  non-null values\n",
        "colony_radius_mm       44119  non-null values\n",
        "date                   44119  non-null values\n",
        "dx                     44119  non-null values\n",
        "dx_mm                  44119  non-null values\n",
        "dy                     44119  non-null values\n",
        "dy_mm                  44119  non-null values\n",
        "label                  44119  non-null values\n",
        "mL                     44119  non-null values\n",
        "mm_per_pixel           44119  non-null values\n",
        "name                   44119  non-null values\n",
        "path                   44119  non-null values\n",
        "r                      44119  non-null values\n",
        "r_mm                   44119  non-null values\n",
        "rotated                44119  non-null values\n",
        "theta                  44119  non-null values\n",
        "x                      44119  non-null values\n",
        "y                      44119  non-null values\n",
        "rotated_righthanded    44119  non-null values\n",
        "r_mm_min               44119  non-null values\n",
        "log_r_div_ri           44119  non-null values\n",
        "1_div_ri_minus_1_r     44119  non-null values\n",
        "dtypes: float64(16), int64(3), object(4)\n",
        "</pre>"
       ],
       "metadata": {},
       "output_type": "display_data",
       "text": [
        "<class 'pandas.core.frame.DataFrame'>\n",
        "Int64Index: 44119 entries, 0 to 44118\n",
        "Data columns (total 23 columns):\n",
        "T                      44119  non-null values\n",
        "radius_interval        44119  non-null values\n",
        "colony_radius_mm       44119  non-null values\n",
        "date                   44119  non-null values\n",
        "dx                     44119  non-null values\n",
        "dx_mm                  44119  non-null values\n",
        "dy                     44119  non-null values\n",
        "dy_mm                  44119  non-null values\n",
        "label                  44119  non-null values\n",
        "mL                     44119  non-null values\n",
        "mm_per_pixel           44119  non-null values\n",
        "name                   44119  non-null values\n",
        "path                   44119  non-null values\n",
        "r                      44119  non-null values\n",
        "r_mm                   44119  non-null values\n",
        "rotated                44119  non-null values\n",
        "theta                  44119  non-null values\n",
        "x                      44119  non-null values\n",
        "y                      44119  non-null values\n",
        "rotated_righthanded    44119  non-null values\n",
        "r_mm_min               44119  non-null values\n",
        "log_r_div_ri           44119  non-null values\n",
        "1_div_ri_minus_1_r     44119  non-null values\n",
        "dtypes: float64(16), int64(3), object(4)"
       ]
      }
     ],
     "prompt_number": 311
    },
    {
     "cell_type": "markdown",
     "metadata": {},
     "source": [
      "## Combining the Data"
     ]
    },
    {
     "cell_type": "code",
     "collapsed": false,
     "input": [
      "print allData"
     ],
     "language": "python",
     "metadata": {},
     "outputs": [
      {
       "output_type": "stream",
       "stream": "stdout",
       "text": [
        "<class 'pandas.core.frame.DataFrame'>\n",
        "Int64Index: 44119 entries, 0 to 44118\n",
        "Data columns (total 23 columns):\n",
        "T                      44119  non-null values\n",
        "radius_interval        44119  non-null values\n",
        "colony_radius_mm       44119  non-null values\n",
        "date                   44119  non-null values\n",
        "dx                     44119  non-null values\n",
        "dx_mm                  44119  non-null values\n",
        "dy                     44119  non-null values\n",
        "dy_mm                  44119  non-null values\n",
        "label                  44119  non-null values\n",
        "mL                     44119  non-null values\n",
        "mm_per_pixel           44119  non-null values\n",
        "name                   44119  non-null values\n",
        "path                   44119  non-null values\n",
        "r                      44119  non-null values\n",
        "r_mm                   44119  non-null values\n",
        "rotated                44119  non-null values\n",
        "theta                  44119  non-null values\n",
        "x                      44119  non-null values\n",
        "y                      44119  non-null values\n",
        "rotated_righthanded    44119  non-null values\n",
        "r_mm_min               44119  non-null values\n",
        "log_r_div_ri           44119  non-null values\n",
        "1_div_ri_minus_1_r     44119  non-null values\n",
        "dtypes: float64(16), int64(3), object(4)\n"
       ]
      }
     ],
     "prompt_number": 312
    },
    {
     "cell_type": "code",
     "collapsed": false,
     "input": [
      "print growthData"
     ],
     "language": "python",
     "metadata": {},
     "outputs": [
      {
       "output_type": "stream",
       "stream": "stdout",
       "text": [
        "<class 'pandas.core.frame.DataFrame'>\n",
        "Int64Index: 92 entries, 0 to 91\n",
        "Data columns (total 6 columns):\n",
        "path                92  non-null values\n",
        "date                92  non-null values\n",
        "T                   92  non-null values\n",
        "mL                  92  non-null values\n",
        "name                92  non-null values\n",
        "colony_radius_mm    92  non-null values\n",
        "dtypes: datetime64[ns](1), float64(1), int64(2), object(2)\n"
       ]
      }
     ],
     "prompt_number": 313
    },
    {
     "cell_type": "markdown",
     "metadata": {},
     "source": [
      "We want to merge on path, replace date and colony_radius_mm. Let's just drop the columns that we know are not quite accurate."
     ]
    },
    {
     "cell_type": "code",
     "collapsed": false,
     "input": [
      "edited_cd = allData.copy()\n",
      "edited_gd = growthData.copy()"
     ],
     "language": "python",
     "metadata": {},
     "outputs": [],
     "prompt_number": 314
    },
    {
     "cell_type": "code",
     "collapsed": false,
     "input": [
      "edited_cd = edited_cd.drop(['date', 'colony_radius_mm'], 1)"
     ],
     "language": "python",
     "metadata": {},
     "outputs": [],
     "prompt_number": 315
    },
    {
     "cell_type": "code",
     "collapsed": false,
     "input": [
      "print edited_cd"
     ],
     "language": "python",
     "metadata": {},
     "outputs": [
      {
       "output_type": "stream",
       "stream": "stdout",
       "text": [
        "<class 'pandas.core.frame.DataFrame'>\n",
        "Int64Index: 44119 entries, 0 to 44118\n",
        "Data columns (total 21 columns):\n",
        "T                      44119  non-null values\n",
        "radius_interval        44119  non-null values\n",
        "dx                     44119  non-null values\n",
        "dx_mm                  44119  non-null values\n",
        "dy                     44119  non-null values\n",
        "dy_mm                  44119  non-null values\n",
        "label                  44119  non-null values\n",
        "mL                     44119  non-null values\n",
        "mm_per_pixel           44119  non-null values\n",
        "name                   44119  non-null values\n",
        "path                   44119  non-null values\n",
        "r                      44119  non-null values\n",
        "r_mm                   44119  non-null values\n",
        "rotated                44119  non-null values\n",
        "theta                  44119  non-null values\n",
        "x                      44119  non-null values\n",
        "y                      44119  non-null values\n",
        "rotated_righthanded    44119  non-null values\n",
        "r_mm_min               44119  non-null values\n",
        "log_r_div_ri           44119  non-null values\n",
        "1_div_ri_minus_1_r     44119  non-null values\n",
        "dtypes: float64(15), int64(3), object(3)\n"
       ]
      }
     ],
     "prompt_number": 316
    },
    {
     "cell_type": "code",
     "collapsed": false,
     "input": [
      "edited_gd = edited_gd.drop(['T', 'mL', 'name'], 1)"
     ],
     "language": "python",
     "metadata": {},
     "outputs": [],
     "prompt_number": 317
    },
    {
     "cell_type": "code",
     "collapsed": false,
     "input": [
      "print edited_gd"
     ],
     "language": "python",
     "metadata": {},
     "outputs": [
      {
       "output_type": "stream",
       "stream": "stdout",
       "text": [
        "<class 'pandas.core.frame.DataFrame'>\n",
        "Int64Index: 92 entries, 0 to 91\n",
        "Data columns (total 3 columns):\n",
        "path                92  non-null values\n",
        "date                92  non-null values\n",
        "colony_radius_mm    92  non-null values\n",
        "dtypes: datetime64[ns](1), float64(1), object(1)\n"
       ]
      }
     ],
     "prompt_number": 318
    },
    {
     "cell_type": "code",
     "collapsed": false,
     "input": [
      "combinedData = pd.merge(edited_cd, edited_gd, how='outer', on='path')\n",
      "print combinedData"
     ],
     "language": "python",
     "metadata": {},
     "outputs": [
      {
       "output_type": "stream",
       "stream": "stdout",
       "text": [
        "<class 'pandas.core.frame.DataFrame'>\n",
        "Int64Index: 44202 entries, 0 to 44201\n",
        "Data columns (total 23 columns):\n",
        "T                      44119  non-null values\n",
        "radius_interval        44119  non-null values\n",
        "dx                     44119  non-null values\n",
        "dx_mm                  44119  non-null values\n",
        "dy                     44119  non-null values\n",
        "dy_mm                  44119  non-null values\n",
        "label                  44119  non-null values\n",
        "mL                     44119  non-null values\n",
        "mm_per_pixel           44119  non-null values\n",
        "name                   44119  non-null values\n",
        "path                   44202  non-null values\n",
        "r                      44119  non-null values\n",
        "r_mm                   44119  non-null values\n",
        "rotated                44119  non-null values\n",
        "theta                  44119  non-null values\n",
        "x                      44119  non-null values\n",
        "y                      44119  non-null values\n",
        "rotated_righthanded    44119  non-null values\n",
        "r_mm_min               44119  non-null values\n",
        "log_r_div_ri           44119  non-null values\n",
        "1_div_ri_minus_1_r     44119  non-null values\n",
        "date                   44202  non-null values\n",
        "colony_radius_mm       44202  non-null values\n",
        "dtypes: datetime64[ns](1), float64(19), object(3)\n"
       ]
      }
     ],
     "prompt_number": 319
    },
    {
     "cell_type": "markdown",
     "metadata": {},
     "source": [
      "Ok, we are all set. Everything worked well."
     ]
    },
    {
     "cell_type": "markdown",
     "metadata": {},
     "source": [
      "# Fitting Model with PyMC"
     ]
    },
    {
     "cell_type": "markdown",
     "metadata": {},
     "source": [
      "## Converting time to delta T"
     ]
    },
    {
     "cell_type": "markdown",
     "metadata": {},
     "source": [
      "Let us convert the time into seconds."
     ]
    },
    {
     "cell_type": "code",
     "collapsed": false,
     "input": [
      "import time"
     ],
     "language": "python",
     "metadata": {},
     "outputs": [],
     "prompt_number": 320
    },
    {
     "cell_type": "code",
     "collapsed": false,
     "input": [
      "growthData['time_s'] = growthData['date'].apply(lambda x: time.mktime(x.timetuple()))"
     ],
     "language": "python",
     "metadata": {},
     "outputs": [],
     "prompt_number": 321
    },
    {
     "cell_type": "code",
     "collapsed": false,
     "input": [
      "plate_groups = growthData.groupby(['T', 'mL', 'name'])\n",
      "timeDelta = plate_groups['time_s'].transform(lambda x: x - x.min())\n",
      "timeDelta.name = 'timeDelta'\n",
      "print timeDelta.head(15)\n",
      "\n",
      "combinedData = growthData.copy()\n",
      "combinedData['timeDelta'] = timeDelta"
     ],
     "language": "python",
     "metadata": {},
     "outputs": [
      {
       "output_type": "stream",
       "stream": "stdout",
       "text": [
        "0           0\n",
        "1       86400\n",
        "2      345600\n",
        "3      518400\n",
        "4      691200\n",
        "5     1036800\n",
        "6     1555200\n",
        "7     2246400\n",
        "8           0\n",
        "9       86400\n",
        "10     345600\n",
        "11     518400\n",
        "12     691200\n",
        "13    1036800\n",
        "14    1555200\n",
        "Name: timeDelta, dtype: float64\n"
       ]
      }
     ],
     "prompt_number": 322
    },
    {
     "cell_type": "code",
     "collapsed": false,
     "input": [
      "combinedData.head(5)"
     ],
     "language": "python",
     "metadata": {},
     "outputs": [
      {
       "html": [
        "<div style=\"max-height:1000px;max-width:1500px;overflow:auto;\">\n",
        "<table border=\"1\" class=\"dataframe\">\n",
        "  <thead>\n",
        "    <tr style=\"text-align: right;\">\n",
        "      <th></th>\n",
        "      <th>path</th>\n",
        "      <th>date</th>\n",
        "      <th>T</th>\n",
        "      <th>mL</th>\n",
        "      <th>name</th>\n",
        "      <th>colony_radius_mm</th>\n",
        "      <th>time_s</th>\n",
        "      <th>timeDelta</th>\n",
        "    </tr>\n",
        "  </thead>\n",
        "  <tbody>\n",
        "    <tr>\n",
        "      <th>0</th>\n",
        "      <td> /home/bryan/Documents/Research_Data/Nelson/Chi...</td>\n",
        "      <td>2013-10-03 00:00:00</td>\n",
        "      <td> 21</td>\n",
        "      <td> 25</td>\n",
        "      <td> ReplicateB</td>\n",
        "      <td> 1.072320</td>\n",
        "      <td> 1380772800</td>\n",
        "      <td>      0</td>\n",
        "    </tr>\n",
        "    <tr>\n",
        "      <th>1</th>\n",
        "      <td> /home/bryan/Documents/Research_Data/Nelson/Chi...</td>\n",
        "      <td>2013-10-04 00:00:00</td>\n",
        "      <td> 21</td>\n",
        "      <td> 25</td>\n",
        "      <td> ReplicateB</td>\n",
        "      <td> 1.254533</td>\n",
        "      <td> 1380859200</td>\n",
        "      <td>  86400</td>\n",
        "    </tr>\n",
        "    <tr>\n",
        "      <th>2</th>\n",
        "      <td> /home/bryan/Documents/Research_Data/Nelson/Chi...</td>\n",
        "      <td>2013-10-07 00:00:00</td>\n",
        "      <td> 21</td>\n",
        "      <td> 25</td>\n",
        "      <td> ReplicateB</td>\n",
        "      <td> 2.227408</td>\n",
        "      <td> 1381118400</td>\n",
        "      <td> 345600</td>\n",
        "    </tr>\n",
        "    <tr>\n",
        "      <th>3</th>\n",
        "      <td> /home/bryan/Documents/Research_Data/Nelson/Chi...</td>\n",
        "      <td>2013-10-09 00:00:00</td>\n",
        "      <td> 21</td>\n",
        "      <td> 25</td>\n",
        "      <td> ReplicateB</td>\n",
        "      <td> 2.813173</td>\n",
        "      <td> 1381291200</td>\n",
        "      <td> 518400</td>\n",
        "    </tr>\n",
        "    <tr>\n",
        "      <th>4</th>\n",
        "      <td> /home/bryan/Documents/Research_Data/Nelson/Chi...</td>\n",
        "      <td>2013-10-11 00:00:00</td>\n",
        "      <td> 21</td>\n",
        "      <td> 25</td>\n",
        "      <td> ReplicateB</td>\n",
        "      <td> 3.293278</td>\n",
        "      <td> 1381464000</td>\n",
        "      <td> 691200</td>\n",
        "    </tr>\n",
        "  </tbody>\n",
        "</table>\n",
        "</div>"
       ],
       "metadata": {},
       "output_type": "pyout",
       "prompt_number": 323,
       "text": [
        "                                                path                date   T  \\\n",
        "0  /home/bryan/Documents/Research_Data/Nelson/Chi... 2013-10-03 00:00:00  21   \n",
        "1  /home/bryan/Documents/Research_Data/Nelson/Chi... 2013-10-04 00:00:00  21   \n",
        "2  /home/bryan/Documents/Research_Data/Nelson/Chi... 2013-10-07 00:00:00  21   \n",
        "3  /home/bryan/Documents/Research_Data/Nelson/Chi... 2013-10-09 00:00:00  21   \n",
        "4  /home/bryan/Documents/Research_Data/Nelson/Chi... 2013-10-11 00:00:00  21   \n",
        "\n",
        "   mL        name  colony_radius_mm      time_s  timeDelta  \n",
        "0  25  ReplicateB          1.072320  1380772800          0  \n",
        "1  25  ReplicateB          1.254533  1380859200      86400  \n",
        "2  25  ReplicateB          2.227408  1381118400     345600  \n",
        "3  25  ReplicateB          2.813173  1381291200     518400  \n",
        "4  25  ReplicateB          3.293278  1381464000     691200  "
       ]
      }
     ],
     "prompt_number": 323
    },
    {
     "cell_type": "markdown",
     "metadata": {},
     "source": [
      "Good. Finally! That works. lol. We now have the deltaT in seconds."
     ]
    },
    {
     "cell_type": "markdown",
     "metadata": {},
     "source": [
      "## Setting up System"
     ]
    },
    {
     "cell_type": "code",
     "collapsed": false,
     "input": [
      "import pymc"
     ],
     "language": "python",
     "metadata": {},
     "outputs": [],
     "prompt_number": 324
    },
    {
     "cell_type": "code",
     "collapsed": false,
     "input": [
      "def bin_chirality(currentChiralityData):\n",
      "    min_x = currentChiralityData['log_r_div_ri'].min() - 10**-6\n",
      "    max_x = currentChiralityData['log_r_div_ri'].max() + 10**-6\n",
      "    numBins = 75\n",
      "\n",
      "    print 'numBins for chirality:' , numBins\n",
      "    print 'Min log(r/ri):', min_x \n",
      "    print 'Max log(r/ri):', max_x \n",
      "\n",
      "    bins, binsize = np.linspace(min_x, max_x, numBins, retstep=True)\n",
      "\n",
      "    print 'Dimensionless Binsize for log(r/ri):' , binsize\n",
      "\n",
      "    group_T = currentChiralityData.groupby([pd.cut(currentChiralityData['log_r_div_ri'], bins), 'T'])\n",
      "    \n",
      "    return group_T\n",
      "\n",
      "def plot_av_chirality(av_currentChiralityData):\n",
      "    x = av_currentChiralityData['log_r_div_ri', 'mean'].values\n",
      "    y = av_currentChiralityData['rotated_righthanded', 'mean'].values\n",
      "    #xerr=binsize\n",
      "    yerr = av_currentChiralityData['rotated_righthanded', 'std'].values\n",
      "    \n",
      "    plt.figure()\n",
      "    plt.plot(x , y, '+-')\n",
      "    plt.fill_between(x, y - yerr, y + yerr, alpha=0.3, antialiased=True)\n",
      "    plt.xlabel('Average $\\ln{(r/r_i)}$')\n",
      "    plt.ylabel('Average d$\\\\theta$')\n",
      "    plt.title('Average d$\\\\theta$ vs. Normalized Radius')\n",
      "\n",
      "def bin_diffusion(currentChiralityData):\n",
      "    min_x = currentChiralityData['1_div_ri_minus_1_r'].min() - 10**-6\n",
      "    max_x = currentChiralityData['1_div_ri_minus_1_r'].max() + 10**-6\n",
      "    numBins = 75\n",
      "\n",
      "    print 'Numbins for diffusion:' , numBins\n",
      "    print 'Min 1/ri - 1/r:', min_x \n",
      "    print 'Max 1/ri - 1/r:', max_x \n",
      "    \n",
      "    bins, binsize = np.linspace(min_x, max_x, numBins, retstep=True)\n",
      "    \n",
      "    print 'Dimensionless Binsize for 1/ri - 1/r:' , binsize\n",
      "    \n",
      "    group_T = currentChiralityData.groupby([pd.cut(currentChiralityData['1_div_ri_minus_1_r'], bins), 'T'])\n",
      "    \n",
      "    return group_T\n",
      "\n",
      "def plot_diffusion(av_currentDiffusionData, av_currentChiralityData):\n",
      "    x = av_currentDiffusionData['1_div_ri_minus_1_r', 'mean'].values\n",
      "    y = av_currentChiralityData['rotated_righthanded', 'var'].values\n",
      "    #xerr = binsize\n",
      "    #yerr = av_currentChiralityData['rotated_righthanded', 'std'].values\n",
      "        \n",
      "    plt.figure()\n",
      "    plt.plot(x , y, '+-')\n",
      "    \n",
      "    plt.xlabel('Average $1/r_i - 1/r$')\n",
      "    plt.ylabel('Var(d$\\\\theta)$')\n",
      "    plt.title('Variance of d$\\\\theta$ vs. Normalized Radius')\n",
      "\n",
      "def setup_analysis(temp):\n",
      "    \n",
      "    print 'Setting up the simulation for T=' , temp , '...'\n",
      "    \n",
      "    # Get the desired data\n",
      "    plate_groups = combinedData.groupby(['T'])\n",
      "    current_group = plate_groups.get_group(temp)\n",
      "    \n",
      "    current_group['colony_radius_um'] = current_group['colony_radius_mm']*10.**3.\n",
      "    \n",
      "    currentChiralityData = allData[(allData['T'] == temp)]\n",
      "    print\n",
      "    binnedChiralityData = bin_chirality(currentChiralityData)\n",
      "    \n",
      "    av_currentChiralityData = binnedChiralityData.agg([mean, std, var, len])\n",
      "    plot_av_chirality(av_currentChiralityData)\n",
      "    \n",
      "    print\n",
      "    binnedDiffusion = bin_diffusion(currentChiralityData)\n",
      "    av_currentDiffusionData = binnedDiffusion.agg([mean, std, var, len])\n",
      "    \n",
      "    plot_diffusion(av_currentDiffusionData, av_currentChiralityData)\n",
      "    \n",
      "    print\n",
      "    print 'Done setting up!'\n",
      "    \n",
      "    return current_group, av_currentChiralityData, av_currentDiffusionData"
     ],
     "language": "python",
     "metadata": {},
     "outputs": [],
     "prompt_number": 347
    },
    {
     "cell_type": "markdown",
     "metadata": {},
     "source": [
      "## PYMC Analysis"
     ]
    },
    {
     "cell_type": "markdown",
     "metadata": {},
     "source": [
      "### Making the Model"
     ]
    },
    {
     "cell_type": "markdown",
     "metadata": {},
     "source": [
      "It works better to just define it in the Ipython notebook, as it will keep changing.\n",
      "\n",
      "* One thing that is annoying about this system is the wide variety of scales. i.e. velocity is on the $\\mu m$ scale while radius is on the $mm$ scale.\n",
      "* What scale should I use in the MCMC system? I suppose velocity is on the order of $nm$ per second.\n",
      "* Perhaps it would make sense to have a scaling factor...or something of the sort. Do my simulations non-dimensionally.\n",
      "* Or, alternatively, do them without any dimensions. But then things are likely even more confusing.\n",
      "* I guess let us just use mm and we can go from there.\n",
      "    * Meh. Let's use microns. As we are measuring everything in terms of microns."
     ]
    },
    {
     "cell_type": "code",
     "collapsed": false,
     "input": [
      "import pymc\n",
      "import numpy as np\n",
      "\n",
      "def make_model(current_group, av_currentChiralityData, av_currentDiffusionData):\n",
      "\n",
      "    ######################\n",
      "    ### Velocity Piece ###\n",
      "    ######################\n",
      "\n",
      "    ro = pymc.truncated_normal_like('ro', mu=1.5*1000, tau=1./(1.5*1000)**2, a=0, value=1.5*1000)\n",
      "    vpar = pymc.truncated_normal_like('vpar', mu = 1.*10**-3, tau=1./(1.*10**-1)**2, a=0, value=1.*10**-3)\n",
      "    t = current_group['timeDelta'].values\n",
      "\n",
      "    @pymc.deterministic\n",
      "    def modeled_R(ro=ro, vpar=vpar, t=t):\n",
      "        return ro + vpar*t\n",
      "\n",
      "    R = pymc.truncated_normal_like('R', mu = modeled_R, tau=1.0/(0.05*1000)**2, value=current_group['colony_radius_um'], \\\n",
      "                                   observed=True, a=0)\n",
      "\n",
      "    velocityVariables = [ro, vpar, t, R]\n",
      "\n",
      "    #######################\n",
      "    ### Chirality Piece ###\n",
      "    #######################\n",
      "\n",
      "    log_r_ri = av_currentChiralityData['log_r_div_ri', 'mean']\n",
      "\n",
      "    vperp = pymc.Normal('vperp', mu=0, tau=1./(10.**-3.)**2, value=0)\n",
      "\n",
      "    @pymc.deterministic\n",
      "    def modeled_dtheta(vperp=vperp, vpar=vpar, log_r_ri = log_r_ri):\n",
      "        return (vperp/vpar) * log_r_ri\n",
      "\n",
      "    dthetaData = av_currentChiralityData['rotated_righthanded', 'mean']\n",
      "    dthetaStd = av_currentChiralityData['rotated_righthanded', 'std']\n",
      "    dthetaTau = 1.0/dthetaStd**2\n",
      "\n",
      "    dtheta = pymc.Normal('dtheta', mu = modeled_dtheta, tau=dthetaTau, value=dthetaData, observed=True)\n",
      "\n",
      "    chiralityVariables = [log_r_ri, vperp, dtheta]\n",
      "\n",
      "    #######################\n",
      "    ### Diffusion Piece ###\n",
      "    #######################\n",
      "\n",
      "    dif_xaxis = av_currentDiffusionData['1_div_ri_minus_1_r', 'mean'].values\n",
      "    dtheta_variance = av_currentDiffusionData['rotated_righthanded', 'mean'].values\n",
      "\n",
      "    # Estimating the error of the variance\n",
      "    numSamples = av_currentDiffusionData['rotated_righthanded', 'len'].values\n",
      "    dtheta_variance_error = np.sqrt(2*dthetaStd**4/(numSamples - 1)).values\n",
      "\n",
      "    ds = pymc.Uniform('ds', lower=0, upper=10.**-4, value=10.**-6)\n",
      "\n",
      "    @pymc.deterministic\n",
      "    def modeled_variance(vpar=vpar, ds=ds, dif_xaxis=dif_xaxis):\n",
      "        return (2*ds/vpar)*dif_xaxis\n",
      "\n",
      "    var_dtheta = pymc.Normal('var_dtheta', mu=modeled_variance, tau=1./dtheta_variance_error**2, \\\n",
      "                             value=dtheta_variance, observed=True)\n",
      "    diffusionVariables = [dif_xaxis, ds, var_dtheta]\n",
      "\n",
      "    #######################\n",
      "    ### Returning Model ###\n",
      "    #######################\n",
      "\n",
      "    return [velocityVariables, chiralityVariables, diffusionVariables]"
     ],
     "language": "python",
     "metadata": {},
     "outputs": [],
     "prompt_number": 342
    },
    {
     "cell_type": "code",
     "collapsed": false,
     "input": [
      "import chirality_data_analysis as chd\n",
      "import chirality_data_analysis.korelov_model"
     ],
     "language": "python",
     "metadata": {},
     "outputs": [],
     "prompt_number": 343
    },
    {
     "cell_type": "code",
     "collapsed": false,
     "input": [
      "def test_model(temp):\n",
      "    cg, av_chir, av_dif = setup_analysis(temp)\n",
      "    \n",
      "    model = chd.korelov_model.make_model(cg, av_chir, av_dif)\n",
      "    M = pymc.MCMC(model)\n",
      "    M.sample(100000, burn=10000, thin=10)\n",
      "    \n",
      "    return M"
     ],
     "language": "python",
     "metadata": {},
     "outputs": [],
     "prompt_number": 327
    },
    {
     "cell_type": "code",
     "collapsed": false,
     "input": [
      "M21 = test_model(21)"
     ],
     "language": "python",
     "metadata": {},
     "outputs": [
      {
       "output_type": "stream",
       "stream": "stdout",
       "text": [
        "Setting up the simulation for T= 21 ...\n",
        "\n",
        "numBins for chirality: 75\n",
        "Min log(r/ri): -1e-06\n",
        "Max log(r/ri): 0.812636972995\n",
        "Dimensionless Binsize for log(r/ri): 0.0109815942297\n",
        "\n"
       ]
      },
      {
       "output_type": "stream",
       "stream": "stdout",
       "text": [
        "Numbins for diffusion: 75\n",
        "Min 1/ri - 1/r: -1e-06\n",
        "Max 1/ri - 1/r: 0.249954623211\n",
        "Dimensionless Binsize for 1/ri - 1/r: 0.00337777869205\n",
        "\n"
       ]
      },
      {
       "output_type": "stream",
       "stream": "stdout",
       "text": [
        "Done setting up!\n",
        "\r"
       ]
      },
      {
       "output_type": "stream",
       "stream": "stdout",
       "text": [
        " [                  2%                  ] 2155 of 100000 complete in 0.5 sec"
       ]
      },
      {
       "output_type": "stream",
       "stream": "stdout",
       "text": [
        "\r",
        " [-                 3%                  ] 3961 of 100000 complete in 1.0 sec"
       ]
      },
      {
       "output_type": "stream",
       "stream": "stdout",
       "text": [
        "\r",
        " [--                6%                  ] 6130 of 100000 complete in 1.5 sec"
       ]
      },
      {
       "output_type": "stream",
       "stream": "stdout",
       "text": [
        "\r",
        " [---               8%                  ] 8302 of 100000 complete in 2.0 sec"
       ]
      },
      {
       "output_type": "stream",
       "stream": "stdout",
       "text": [
        "\r",
        " [---              10%                  ] 10440 of 100000 complete in 2.5 sec"
       ]
      },
      {
       "output_type": "stream",
       "stream": "stdout",
       "text": [
        "\r",
        " [----             12%                  ] 12598 of 100000 complete in 3.0 sec"
       ]
      },
      {
       "output_type": "stream",
       "stream": "stdout",
       "text": [
        "\r",
        " [-----            14%                  ] 14682 of 100000 complete in 3.5 sec"
       ]
      },
      {
       "output_type": "stream",
       "stream": "stdout",
       "text": [
        "\r",
        " [------           16%                  ] 16782 of 100000 complete in 4.0 sec"
       ]
      },
      {
       "output_type": "stream",
       "stream": "stdout",
       "text": [
        "\r",
        " [-------          18%                  ] 18876 of 100000 complete in 4.5 sec"
       ]
      },
      {
       "output_type": "stream",
       "stream": "stdout",
       "text": [
        "\r",
        " [-------          20%                  ] 20976 of 100000 complete in 5.0 sec"
       ]
      },
      {
       "output_type": "stream",
       "stream": "stdout",
       "text": [
        "\r",
        " [--------         22%                  ] 22883 of 100000 complete in 5.5 sec"
       ]
      },
      {
       "output_type": "stream",
       "stream": "stdout",
       "text": [
        "\r",
        " [---------        24%                  ] 24931 of 100000 complete in 6.0 sec"
       ]
      },
      {
       "output_type": "stream",
       "stream": "stdout",
       "text": [
        "\r",
        " [----------       26%                  ] 26964 of 100000 complete in 6.5 sec"
       ]
      },
      {
       "output_type": "stream",
       "stream": "stdout",
       "text": [
        "\r",
        " [-----------      28%                  ] 28990 of 100000 complete in 7.0 sec"
       ]
      },
      {
       "output_type": "stream",
       "stream": "stdout",
       "text": [
        "\r",
        " [-----------      31%                  ] 31038 of 100000 complete in 7.5 sec"
       ]
      },
      {
       "output_type": "stream",
       "stream": "stdout",
       "text": [
        "\r",
        " [------------     33%                  ] 33096 of 100000 complete in 8.0 sec"
       ]
      },
      {
       "output_type": "stream",
       "stream": "stdout",
       "text": [
        "\r",
        " [-------------    34%                  ] 34973 of 100000 complete in 8.5 sec"
       ]
      },
      {
       "output_type": "stream",
       "stream": "stdout",
       "text": [
        "\r",
        " [--------------   36%                  ] 36888 of 100000 complete in 9.0 sec"
       ]
      },
      {
       "output_type": "stream",
       "stream": "stdout",
       "text": [
        "\r",
        " [--------------   38%                  ] 38891 of 100000 complete in 9.5 sec"
       ]
      },
      {
       "output_type": "stream",
       "stream": "stdout",
       "text": [
        "\r",
        " [---------------  40%                  ] 40972 of 100000 complete in 10.0 sec"
       ]
      },
      {
       "output_type": "stream",
       "stream": "stdout",
       "text": [
        "\r",
        " [---------------- 43%                  ] 43094 of 100000 complete in 10.5 sec"
       ]
      },
      {
       "output_type": "stream",
       "stream": "stdout",
       "text": [
        "\r",
        " [-----------------45%                  ] 45066 of 100000 complete in 11.0 sec"
       ]
      },
      {
       "output_type": "stream",
       "stream": "stdout",
       "text": [
        "\r",
        " [-----------------47%                  ] 47089 of 100000 complete in 11.5 sec"
       ]
      },
      {
       "output_type": "stream",
       "stream": "stdout",
       "text": [
        "\r",
        " [-----------------48%                  ] 48990 of 100000 complete in 12.0 sec"
       ]
      },
      {
       "output_type": "stream",
       "stream": "stdout",
       "text": [
        "\r",
        " [-----------------51%                  ] 51067 of 100000 complete in 12.5 sec"
       ]
      },
      {
       "output_type": "stream",
       "stream": "stdout",
       "text": [
        "\r",
        " [-----------------53%                  ] 53170 of 100000 complete in 13.0 sec"
       ]
      },
      {
       "output_type": "stream",
       "stream": "stdout",
       "text": [
        "\r",
        " [-----------------55%-                 ] 55311 of 100000 complete in 13.5 sec"
       ]
      },
      {
       "output_type": "stream",
       "stream": "stdout",
       "text": [
        "\r",
        " [-----------------57%-                 ] 57420 of 100000 complete in 14.0 sec"
       ]
      },
      {
       "output_type": "stream",
       "stream": "stdout",
       "text": [
        "\r",
        " [-----------------59%--                ] 59546 of 100000 complete in 14.5 sec"
       ]
      },
      {
       "output_type": "stream",
       "stream": "stdout",
       "text": [
        "\r",
        " [-----------------61%---               ] 61666 of 100000 complete in 15.0 sec"
       ]
      },
      {
       "output_type": "stream",
       "stream": "stdout",
       "text": [
        "\r",
        " [-----------------63%----              ] 63808 of 100000 complete in 15.5 sec"
       ]
      },
      {
       "output_type": "stream",
       "stream": "stdout",
       "text": [
        "\r",
        " [-----------------65%-----             ] 65932 of 100000 complete in 16.0 sec"
       ]
      },
      {
       "output_type": "stream",
       "stream": "stdout",
       "text": [
        "\r",
        " [-----------------68%-----             ] 68008 of 100000 complete in 16.5 sec"
       ]
      },
      {
       "output_type": "stream",
       "stream": "stdout",
       "text": [
        "\r",
        " [-----------------70%------            ] 70128 of 100000 complete in 17.0 sec"
       ]
      },
      {
       "output_type": "stream",
       "stream": "stdout",
       "text": [
        "\r",
        " [-----------------72%-------           ] 72156 of 100000 complete in 17.5 sec"
       ]
      },
      {
       "output_type": "stream",
       "stream": "stdout",
       "text": [
        "\r",
        " [-----------------74%--------          ] 74282 of 100000 complete in 18.0 sec"
       ]
      },
      {
       "output_type": "stream",
       "stream": "stdout",
       "text": [
        "\r",
        " [-----------------76%--------          ] 76087 of 100000 complete in 18.5 sec"
       ]
      },
      {
       "output_type": "stream",
       "stream": "stdout",
       "text": [
        "\r",
        " [-----------------78%---------         ] 78139 of 100000 complete in 19.0 sec"
       ]
      },
      {
       "output_type": "stream",
       "stream": "stdout",
       "text": [
        "\r",
        " [-----------------80%----------        ] 80021 of 100000 complete in 19.5 sec"
       ]
      },
      {
       "output_type": "stream",
       "stream": "stdout",
       "text": [
        "\r",
        " [-----------------82%-----------       ] 82129 of 100000 complete in 20.0 sec"
       ]
      },
      {
       "output_type": "stream",
       "stream": "stdout",
       "text": [
        "\r",
        " [-----------------84%-----------       ] 84161 of 100000 complete in 20.5 sec"
       ]
      },
      {
       "output_type": "stream",
       "stream": "stdout",
       "text": [
        "\r",
        " [-----------------86%------------      ] 86293 of 100000 complete in 21.0 sec"
       ]
      },
      {
       "output_type": "stream",
       "stream": "stdout",
       "text": [
        "\r",
        " [-----------------88%-------------     ] 88422 of 100000 complete in 21.5 sec"
       ]
      },
      {
       "output_type": "stream",
       "stream": "stdout",
       "text": [
        "\r",
        " [-----------------90%--------------    ] 90479 of 100000 complete in 22.0 sec"
       ]
      },
      {
       "output_type": "stream",
       "stream": "stdout",
       "text": [
        "\r",
        " [-----------------92%---------------   ] 92578 of 100000 complete in 22.5 sec"
       ]
      },
      {
       "output_type": "stream",
       "stream": "stdout",
       "text": [
        "\r",
        " [-----------------94%---------------   ] 94372 of 100000 complete in 23.0 sec"
       ]
      },
      {
       "output_type": "stream",
       "stream": "stdout",
       "text": [
        "\r",
        " [-----------------96%----------------  ] 96282 of 100000 complete in 23.5 sec"
       ]
      },
      {
       "output_type": "stream",
       "stream": "stdout",
       "text": [
        "\r",
        " [-----------------98%----------------- ] 98070 of 100000 complete in 24.0 sec"
       ]
      },
      {
       "output_type": "stream",
       "stream": "stdout",
       "text": [
        "\r",
        " [-----------------99%----------------- ] 99917 of 100000 complete in 24.5 sec"
       ]
      },
      {
       "output_type": "stream",
       "stream": "stdout",
       "text": [
        "\r",
        " [-----------------100%-----------------] 100000 of 100000 complete in 24.5 sec"
       ]
      },
      {
       "metadata": {},
       "output_type": "display_data",
       "png": "[encoded data removed]",
       "text": [
        "<matplotlib.figure.Figure at 0x1bcb8850>"
       ]
      },
      {
       "metadata": {},
       "output_type": "display_data",
       "png": "[encoded data removed]",
       "text": [
        "<matplotlib.figure.Figure at 0x14451810>"
       ]
      }
     ],
     "prompt_number": 328
    },
    {
     "cell_type": "code",
     "collapsed": false,
     "input": [
      "M30 = test_model(30)"
     ],
     "language": "python",
     "metadata": {},
     "outputs": [
      {
       "output_type": "stream",
       "stream": "stdout",
       "text": [
        "Setting up the simulation for T= 30 ...\n",
        "\n",
        "numBins for chirality: 75\n",
        "Min log(r/ri): -1e-06\n",
        "Max log(r/ri): 1.00084215175\n",
        "Dimensionless Binsize for log(r/ri): 0.0135249074561\n",
        "\n"
       ]
      },
      {
       "output_type": "stream",
       "stream": "stdout",
       "text": [
        "Numbins for diffusion: 75\n",
        "Min 1/ri - 1/r: -1e-06\n",
        "Max 1/ri - 1/r: 0.289300890981\n",
        "Dimensionless Binsize for 1/ri - 1/r: 0.00390948501325\n",
        "\n"
       ]
      },
      {
       "output_type": "stream",
       "stream": "stdout",
       "text": [
        "Done setting up!\n",
        "\r"
       ]
      },
      {
       "output_type": "stream",
       "stream": "stdout",
       "text": [
        " [                  2%                  ] 2141 of 100000 complete in 0.5 sec"
       ]
      },
      {
       "output_type": "stream",
       "stream": "stdout",
       "text": [
        "\r",
        " [-                 4%                  ] 4219 of 100000 complete in 1.0 sec"
       ]
      },
      {
       "output_type": "stream",
       "stream": "stdout",
       "text": [
        "\r",
        " [--                6%                  ] 6180 of 100000 complete in 1.5 sec"
       ]
      },
      {
       "output_type": "stream",
       "stream": "stdout",
       "text": [
        "\r",
        " [---               8%                  ] 8308 of 100000 complete in 2.0 sec"
       ]
      },
      {
       "output_type": "stream",
       "stream": "stdout",
       "text": [
        "\r",
        " [---              10%                  ] 10425 of 100000 complete in 2.5 sec"
       ]
      },
      {
       "output_type": "stream",
       "stream": "stdout",
       "text": [
        "\r",
        " [----             12%                  ] 12539 of 100000 complete in 3.0 sec"
       ]
      },
      {
       "output_type": "stream",
       "stream": "stdout",
       "text": [
        "\r",
        " [-----            14%                  ] 14636 of 100000 complete in 3.5 sec"
       ]
      },
      {
       "output_type": "stream",
       "stream": "stdout",
       "text": [
        "\r",
        " [------           16%                  ] 16750 of 100000 complete in 4.0 sec"
       ]
      },
      {
       "output_type": "stream",
       "stream": "stdout",
       "text": [
        "\r",
        " [-------          18%                  ] 18825 of 100000 complete in 4.5 sec"
       ]
      },
      {
       "output_type": "stream",
       "stream": "stdout",
       "text": [
        "\r",
        " [-------          20%                  ] 20909 of 100000 complete in 5.0 sec"
       ]
      },
      {
       "output_type": "stream",
       "stream": "stdout",
       "text": [
        "\r",
        " [--------         22%                  ] 22979 of 100000 complete in 5.5 sec"
       ]
      },
      {
       "output_type": "stream",
       "stream": "stdout",
       "text": [
        "\r",
        " [---------        25%                  ] 25095 of 100000 complete in 6.0 sec"
       ]
      },
      {
       "output_type": "stream",
       "stream": "stdout",
       "text": [
        "\r",
        " [----------       27%                  ] 27165 of 100000 complete in 6.5 sec"
       ]
      },
      {
       "output_type": "stream",
       "stream": "stdout",
       "text": [
        "\r",
        " [-----------      29%                  ] 29030 of 100000 complete in 7.0 sec"
       ]
      },
      {
       "output_type": "stream",
       "stream": "stdout",
       "text": [
        "\r",
        " [-----------      30%                  ] 30596 of 100000 complete in 7.5 sec"
       ]
      },
      {
       "output_type": "stream",
       "stream": "stdout",
       "text": [
        "\r",
        " [------------     32%                  ] 32543 of 100000 complete in 8.0 sec"
       ]
      },
      {
       "output_type": "stream",
       "stream": "stdout",
       "text": [
        "\r",
        " [-------------    34%                  ] 34625 of 100000 complete in 8.5 sec"
       ]
      },
      {
       "output_type": "stream",
       "stream": "stdout",
       "text": [
        "\r",
        " [-------------    36%                  ] 36628 of 100000 complete in 9.0 sec"
       ]
      },
      {
       "output_type": "stream",
       "stream": "stdout",
       "text": [
        "\r",
        " [--------------   38%                  ] 38678 of 100000 complete in 9.5 sec"
       ]
      },
      {
       "output_type": "stream",
       "stream": "stdout",
       "text": [
        "\r",
        " [---------------  40%                  ] 40534 of 100000 complete in 10.0 sec"
       ]
      },
      {
       "output_type": "stream",
       "stream": "stdout",
       "text": [
        "\r",
        " [---------------- 42%                  ] 42529 of 100000 complete in 10.5 sec"
       ]
      },
      {
       "output_type": "stream",
       "stream": "stdout",
       "text": [
        "\r",
        " [---------------- 44%                  ] 44072 of 100000 complete in 11.0 sec"
       ]
      },
      {
       "output_type": "stream",
       "stream": "stdout",
       "text": [
        "\r",
        " [-----------------45%                  ] 45744 of 100000 complete in 11.5 sec"
       ]
      },
      {
       "output_type": "stream",
       "stream": "stdout",
       "text": [
        "\r",
        " [-----------------47%                  ] 47359 of 100000 complete in 12.0 sec"
       ]
      },
      {
       "output_type": "stream",
       "stream": "stdout",
       "text": [
        "\r",
        " [-----------------48%                  ] 48776 of 100000 complete in 12.5 sec"
       ]
      },
      {
       "output_type": "stream",
       "stream": "stdout",
       "text": [
        "\r",
        " [-----------------50%                  ] 50198 of 100000 complete in 13.0 sec"
       ]
      },
      {
       "output_type": "stream",
       "stream": "stdout",
       "text": [
        "\r",
        " [-----------------51%                  ] 51912 of 100000 complete in 13.5 sec"
       ]
      },
      {
       "output_type": "stream",
       "stream": "stdout",
       "text": [
        "\r",
        " [-----------------53%                  ] 53903 of 100000 complete in 14.0 sec"
       ]
      },
      {
       "output_type": "stream",
       "stream": "stdout",
       "text": [
        "\r",
        " [-----------------55%-                 ] 55857 of 100000 complete in 14.5 sec"
       ]
      },
      {
       "output_type": "stream",
       "stream": "stdout",
       "text": [
        "\r",
        " [-----------------57%-                 ] 57829 of 100000 complete in 15.0 sec"
       ]
      },
      {
       "output_type": "stream",
       "stream": "stdout",
       "text": [
        "\r",
        " [-----------------59%--                ] 59662 of 100000 complete in 15.5 sec"
       ]
      },
      {
       "output_type": "stream",
       "stream": "stdout",
       "text": [
        "\r",
        " [-----------------61%---               ] 61750 of 100000 complete in 16.0 sec"
       ]
      },
      {
       "output_type": "stream",
       "stream": "stdout",
       "text": [
        "\r",
        " [-----------------63%----              ] 63797 of 100000 complete in 16.5 sec"
       ]
      },
      {
       "output_type": "stream",
       "stream": "stdout",
       "text": [
        "\r",
        " [-----------------65%----              ] 65514 of 100000 complete in 17.0 sec"
       ]
      },
      {
       "output_type": "stream",
       "stream": "stdout",
       "text": [
        "\r",
        " [-----------------67%-----             ] 67481 of 100000 complete in 17.5 sec"
       ]
      },
      {
       "output_type": "stream",
       "stream": "stdout",
       "text": [
        "\r",
        " [-----------------69%------            ] 69513 of 100000 complete in 18.0 sec"
       ]
      },
      {
       "output_type": "stream",
       "stream": "stdout",
       "text": [
        "\r",
        " [-----------------71%-------           ] 71479 of 100000 complete in 18.5 sec"
       ]
      },
      {
       "output_type": "stream",
       "stream": "stdout",
       "text": [
        "\r",
        " [-----------------73%-------           ] 73467 of 100000 complete in 19.0 sec"
       ]
      },
      {
       "output_type": "stream",
       "stream": "stdout",
       "text": [
        "\r",
        " [-----------------75%--------          ] 75459 of 100000 complete in 19.5 sec"
       ]
      },
      {
       "output_type": "stream",
       "stream": "stdout",
       "text": [
        "\r",
        " [-----------------77%---------         ] 77449 of 100000 complete in 20.0 sec"
       ]
      },
      {
       "output_type": "stream",
       "stream": "stdout",
       "text": [
        "\r",
        " [-----------------79%----------        ] 79255 of 100000 complete in 20.5 sec"
       ]
      },
      {
       "output_type": "stream",
       "stream": "stdout",
       "text": [
        "\r",
        " [-----------------80%----------        ] 80546 of 100000 complete in 21.0 sec"
       ]
      },
      {
       "output_type": "stream",
       "stream": "stdout",
       "text": [
        "\r",
        " [-----------------81%-----------       ] 81993 of 100000 complete in 21.5 sec"
       ]
      },
      {
       "output_type": "stream",
       "stream": "stdout",
       "text": [
        "\r",
        " [-----------------83%-----------       ] 83382 of 100000 complete in 22.0 sec"
       ]
      },
      {
       "output_type": "stream",
       "stream": "stdout",
       "text": [
        "\r",
        " [-----------------84%------------      ] 84950 of 100000 complete in 22.5 sec"
       ]
      },
      {
       "output_type": "stream",
       "stream": "stdout",
       "text": [
        "\r",
        " [-----------------86%------------      ] 86558 of 100000 complete in 23.0 sec"
       ]
      },
      {
       "output_type": "stream",
       "stream": "stdout",
       "text": [
        "\r",
        " [-----------------88%-------------     ] 88085 of 100000 complete in 23.5 sec"
       ]
      },
      {
       "output_type": "stream",
       "stream": "stdout",
       "text": [
        "\r",
        " [-----------------89%--------------    ] 89628 of 100000 complete in 24.0 sec"
       ]
      },
      {
       "output_type": "stream",
       "stream": "stdout",
       "text": [
        "\r",
        " [-----------------91%--------------    ] 91251 of 100000 complete in 24.5 sec"
       ]
      },
      {
       "output_type": "stream",
       "stream": "stdout",
       "text": [
        "\r",
        " [-----------------92%---------------   ] 92677 of 100000 complete in 25.0 sec"
       ]
      },
      {
       "output_type": "stream",
       "stream": "stdout",
       "text": [
        "\r",
        " [-----------------94%---------------   ] 94491 of 100000 complete in 25.5 sec"
       ]
      },
      {
       "output_type": "stream",
       "stream": "stdout",
       "text": [
        "\r",
        " [-----------------96%----------------  ] 96483 of 100000 complete in 26.0 sec"
       ]
      },
      {
       "output_type": "stream",
       "stream": "stdout",
       "text": [
        "\r",
        " [-----------------98%----------------- ] 98377 of 100000 complete in 26.5 sec"
       ]
      },
      {
       "output_type": "stream",
       "stream": "stdout",
       "text": [
        "\r",
        " [-----------------100%-----------------] 100000 of 100000 complete in 26.9 sec"
       ]
      },
      {
       "metadata": {},
       "output_type": "display_data",
       "png": "[encoded data removed]",
       "text": [
        "<matplotlib.figure.Figure at 0x1424f050>"
       ]
      },
      {
       "metadata": {},
       "output_type": "display_data",
       "png": "[encoded data removed]",
       "text": [
        "<matplotlib.figure.Figure at 0x1c722550>"
       ]
      }
     ],
     "prompt_number": 329
    },
    {
     "cell_type": "code",
     "collapsed": false,
     "input": [
      "M37 = test_model(37)"
     ],
     "language": "python",
     "metadata": {},
     "outputs": [
      {
       "output_type": "stream",
       "stream": "stdout",
       "text": [
        "Setting up the simulation for T= 37 ...\n",
        "\n",
        "numBins for chirality: 75\n",
        "Min log(r/ri): -1e-06\n",
        "Max log(r/ri): 1.28446456734\n",
        "Dimensionless Binsize for log(r/ri): 0.0173576428019\n",
        "\n"
       ]
      },
      {
       "output_type": "stream",
       "stream": "stdout",
       "text": [
        "Numbins for diffusion: 75\n",
        "Min 1/ri - 1/r: -1e-06\n",
        "Max 1/ri - 1/r: 0.369055701446\n",
        "Dimensionless Binsize for 1/ri - 1/r: 0.00498725272224\n",
        "\n"
       ]
      },
      {
       "output_type": "stream",
       "stream": "stdout",
       "text": [
        "Done setting up!\n",
        "\r"
       ]
      },
      {
       "output_type": "stream",
       "stream": "stdout",
       "text": [
        " [                  2%                  ] 2142 of 100000 complete in 0.5 sec"
       ]
      },
      {
       "output_type": "stream",
       "stream": "stdout",
       "text": [
        "\r",
        " [-                 4%                  ] 4250 of 100000 complete in 1.0 sec"
       ]
      },
      {
       "output_type": "stream",
       "stream": "stdout",
       "text": [
        "\r",
        " [--                6%                  ] 6374 of 100000 complete in 1.5 sec"
       ]
      },
      {
       "output_type": "stream",
       "stream": "stdout",
       "text": [
        "\r",
        " [---               8%                  ] 8482 of 100000 complete in 2.0 sec"
       ]
      },
      {
       "output_type": "stream",
       "stream": "stdout",
       "text": [
        "\r",
        " [----             10%                  ] 10617 of 100000 complete in 2.5 sec"
       ]
      },
      {
       "output_type": "stream",
       "stream": "stdout",
       "text": [
        "\r",
        " [----             12%                  ] 12695 of 100000 complete in 3.0 sec"
       ]
      },
      {
       "output_type": "stream",
       "stream": "stdout",
       "text": [
        "\r",
        " [-----            14%                  ] 14794 of 100000 complete in 3.5 sec"
       ]
      },
      {
       "output_type": "stream",
       "stream": "stdout",
       "text": [
        "\r",
        " [------           16%                  ] 16819 of 100000 complete in 4.0 sec"
       ]
      },
      {
       "output_type": "stream",
       "stream": "stdout",
       "text": [
        "\r",
        " [-------          18%                  ] 18897 of 100000 complete in 4.5 sec"
       ]
      },
      {
       "output_type": "stream",
       "stream": "stdout",
       "text": [
        "\r",
        " [-------          20%                  ] 20937 of 100000 complete in 5.0 sec"
       ]
      },
      {
       "output_type": "stream",
       "stream": "stdout",
       "text": [
        "\r",
        " [--------         22%                  ] 22985 of 100000 complete in 5.5 sec"
       ]
      },
      {
       "output_type": "stream",
       "stream": "stdout",
       "text": [
        "\r",
        " [---------        24%                  ] 24848 of 100000 complete in 6.0 sec"
       ]
      },
      {
       "output_type": "stream",
       "stream": "stdout",
       "text": [
        "\r",
        " [----------       26%                  ] 26817 of 100000 complete in 6.5 sec"
       ]
      },
      {
       "output_type": "stream",
       "stream": "stdout",
       "text": [
        "\r",
        " [-----------      28%                  ] 28948 of 100000 complete in 7.0 sec"
       ]
      },
      {
       "output_type": "stream",
       "stream": "stdout",
       "text": [
        "\r",
        " [-----------      30%                  ] 30952 of 100000 complete in 7.5 sec"
       ]
      },
      {
       "output_type": "stream",
       "stream": "stdout",
       "text": [
        "\r",
        " [------------     33%                  ] 33070 of 100000 complete in 8.0 sec"
       ]
      },
      {
       "output_type": "stream",
       "stream": "stdout",
       "text": [
        "\r",
        " [-------------    35%                  ] 35105 of 100000 complete in 8.5 sec"
       ]
      },
      {
       "output_type": "stream",
       "stream": "stdout",
       "text": [
        "\r",
        " [--------------   37%                  ] 37215 of 100000 complete in 9.0 sec"
       ]
      },
      {
       "output_type": "stream",
       "stream": "stdout",
       "text": [
        "\r",
        " [--------------   39%                  ] 39292 of 100000 complete in 9.5 sec"
       ]
      },
      {
       "output_type": "stream",
       "stream": "stdout",
       "text": [
        "\r",
        " [---------------  41%                  ] 41385 of 100000 complete in 10.0 sec"
       ]
      },
      {
       "output_type": "stream",
       "stream": "stdout",
       "text": [
        "\r",
        " [---------------- 43%                  ] 43490 of 100000 complete in 10.5 sec"
       ]
      },
      {
       "output_type": "stream",
       "stream": "stdout",
       "text": [
        "\r",
        " [-----------------45%                  ] 45560 of 100000 complete in 11.0 sec"
       ]
      },
      {
       "output_type": "stream",
       "stream": "stdout",
       "text": [
        "\r",
        " [-----------------47%                  ] 47632 of 100000 complete in 11.5 sec"
       ]
      },
      {
       "output_type": "stream",
       "stream": "stdout",
       "text": [
        "\r",
        " [-----------------49%                  ] 49730 of 100000 complete in 12.0 sec"
       ]
      },
      {
       "output_type": "stream",
       "stream": "stdout",
       "text": [
        "\r",
        " [-----------------51%                  ] 51836 of 100000 complete in 12.5 sec"
       ]
      },
      {
       "output_type": "stream",
       "stream": "stdout",
       "text": [
        "\r",
        " [-----------------53%                  ] 53989 of 100000 complete in 13.0 sec"
       ]
      },
      {
       "output_type": "stream",
       "stream": "stdout",
       "text": [
        "\r",
        " [-----------------56%-                 ] 56100 of 100000 complete in 13.5 sec"
       ]
      },
      {
       "output_type": "stream",
       "stream": "stdout",
       "text": [
        "\r",
        " [-----------------58%--                ] 58224 of 100000 complete in 14.0 sec"
       ]
      },
      {
       "output_type": "stream",
       "stream": "stdout",
       "text": [
        "\r",
        " [-----------------60%--                ] 60334 of 100000 complete in 14.5 sec"
       ]
      },
      {
       "output_type": "stream",
       "stream": "stdout",
       "text": [
        "\r",
        " [-----------------62%---               ] 62450 of 100000 complete in 15.0 sec"
       ]
      },
      {
       "output_type": "stream",
       "stream": "stdout",
       "text": [
        "\r",
        " [-----------------64%----              ] 64559 of 100000 complete in 15.5 sec"
       ]
      },
      {
       "output_type": "stream",
       "stream": "stdout",
       "text": [
        "\r",
        " [-----------------66%-----             ] 66683 of 100000 complete in 16.0 sec"
       ]
      },
      {
       "output_type": "stream",
       "stream": "stdout",
       "text": [
        "\r",
        " [-----------------68%------            ] 68826 of 100000 complete in 16.5 sec"
       ]
      },
      {
       "output_type": "stream",
       "stream": "stdout",
       "text": [
        "\r",
        " [-----------------70%------            ] 70944 of 100000 complete in 17.0 sec"
       ]
      },
      {
       "output_type": "stream",
       "stream": "stdout",
       "text": [
        "\r",
        " [-----------------73%-------           ] 73073 of 100000 complete in 17.5 sec"
       ]
      },
      {
       "output_type": "stream",
       "stream": "stdout",
       "text": [
        "\r",
        " [-----------------75%--------          ] 75168 of 100000 complete in 18.0 sec"
       ]
      },
      {
       "output_type": "stream",
       "stream": "stdout",
       "text": [
        "\r",
        " [-----------------77%---------         ] 77318 of 100000 complete in 18.5 sec"
       ]
      },
      {
       "output_type": "stream",
       "stream": "stdout",
       "text": [
        "\r",
        " [-----------------79%----------        ] 79400 of 100000 complete in 19.0 sec"
       ]
      },
      {
       "output_type": "stream",
       "stream": "stdout",
       "text": [
        "\r",
        " [-----------------81%----------        ] 81508 of 100000 complete in 19.5 sec"
       ]
      },
      {
       "output_type": "stream",
       "stream": "stdout",
       "text": [
        "\r",
        " [-----------------83%-----------       ] 83571 of 100000 complete in 20.0 sec"
       ]
      },
      {
       "output_type": "stream",
       "stream": "stdout",
       "text": [
        "\r",
        " [-----------------85%------------      ] 85707 of 100000 complete in 20.5 sec"
       ]
      },
      {
       "output_type": "stream",
       "stream": "stdout",
       "text": [
        "\r",
        " [-----------------87%-------------     ] 87784 of 100000 complete in 21.0 sec"
       ]
      },
      {
       "output_type": "stream",
       "stream": "stdout",
       "text": [
        "\r",
        " [-----------------89%--------------    ] 89767 of 100000 complete in 21.5 sec"
       ]
      },
      {
       "output_type": "stream",
       "stream": "stdout",
       "text": [
        "\r",
        " [-----------------91%--------------    ] 91866 of 100000 complete in 22.0 sec"
       ]
      },
      {
       "output_type": "stream",
       "stream": "stdout",
       "text": [
        "\r",
        " [-----------------94%---------------   ] 94010 of 100000 complete in 22.5 sec"
       ]
      },
      {
       "output_type": "stream",
       "stream": "stdout",
       "text": [
        "\r",
        " [-----------------96%----------------  ] 96102 of 100000 complete in 23.0 sec"
       ]
      },
      {
       "output_type": "stream",
       "stream": "stdout",
       "text": [
        "\r",
        " [-----------------98%----------------- ] 98217 of 100000 complete in 23.5 sec"
       ]
      },
      {
       "output_type": "stream",
       "stream": "stdout",
       "text": [
        "\r",
        " [-----------------100%-----------------] 100000 of 100000 complete in 23.9 sec"
       ]
      },
      {
       "metadata": {},
       "output_type": "display_data",
       "png": "[encoded data removed]",
       "text": [
        "<matplotlib.figure.Figure at 0x47e9c90>"
       ]
      },
      {
       "metadata": {},
       "output_type": "display_data",
       "png": "[encoded data removed]",
       "text": [
        "<matplotlib.figure.Figure at 0x13c87250>"
       ]
      }
     ],
     "prompt_number": 330
    },
    {
     "cell_type": "markdown",
     "metadata": {},
     "source": [
      "# Comparing Results"
     ]
    },
    {
     "cell_type": "code",
     "collapsed": false,
     "input": [
      "def print_mean_error(M, temp, variable):\n",
      "    mean = M.get_node(variable).stats()['mean']\n",
      "    maxMean = M.get_node(variable).stats()['95% HPD interval'][1]\n",
      "    print temp, ':' , mean , '+-' , maxMean-mean"
     ],
     "language": "python",
     "metadata": {},
     "outputs": [],
     "prompt_number": 331
    },
    {
     "cell_type": "markdown",
     "metadata": {},
     "source": [
      "In our histograms, do not forget to normalize them."
     ]
    },
    {
     "cell_type": "code",
     "collapsed": false,
     "input": [
      "def makeNormedHist(data, numBins, logX=False, label=None, alpha=None):\n",
      "    weights = np.ones_like(data)/len(data)\n",
      "    if not logX:\n",
      "        plt.hist(data, numBins, weights=weights, label=label, alpha=alpha)\n",
      "    else:\n",
      "        bins = np.logspace(np.log10(np.min(data)), np.log10(np.max(data)), numBins)\n",
      "        plt.hist(data, bins=bins, weights=weights, label=label, alpha=alpha)"
     ],
     "language": "python",
     "metadata": {},
     "outputs": [],
     "prompt_number": 332
    },
    {
     "cell_type": "markdown",
     "metadata": {},
     "source": [
      "I actually probably need to use the same scale for each which is irritating. I don't know if I can believe my results otherwise."
     ]
    },
    {
     "cell_type": "markdown",
     "metadata": {},
     "source": [
      "### v-parallel"
     ]
    },
    {
     "cell_type": "code",
     "collapsed": false,
     "input": [
      "print_mean_error(M21, 21, 'vpar')\n",
      "print_mean_error(M30, 30, 'vpar')\n",
      "print_mean_error(M37, 37, 'vpar')"
     ],
     "language": "python",
     "metadata": {},
     "outputs": [
      {
       "output_type": "stream",
       "stream": "stdout",
       "text": [
        "21 : 2.42170888062e-06 +- 2.26736504532e-08\n",
        "30 : 4.05150859362e-06 +- 3.77548885853e-08\n",
        "37 : 7.19086673773e-06 +- 5.67331700878e-08\n"
       ]
      }
     ],
     "prompt_number": 333
    },
    {
     "cell_type": "code",
     "collapsed": false,
     "input": [
      "makeNormedHist(M21.trace('vpar')[:]*10.**3, 4, label='21')\n",
      "makeNormedHist(M30.trace('vpar')[:]*10.**3, 4, label='30')\n",
      "makeNormedHist(M37.trace('vpar')[:]*10.**3, 4, label='37')\n",
      "plt.legend(loc='best')\n",
      "plt.ylabel('Probability')\n",
      "plt.xlabel('$v_\\parallel$ $(\\mu m/s)$')\n",
      "plt.title('Growth Rate of Colony')"
     ],
     "language": "python",
     "metadata": {},
     "outputs": [
      {
       "metadata": {},
       "output_type": "pyout",
       "prompt_number": 334,
       "text": [
        "<matplotlib.text.Text at 0x1375de10>"
       ]
      },
      {
       "metadata": {},
       "output_type": "display_data",
       "png": "[encoded data removed]",
       "text": [
        "<matplotlib.figure.Figure at 0x13f55c50>"
       ]
      }
     ],
     "prompt_number": 334
    },
    {
     "cell_type": "markdown",
     "metadata": {},
     "source": [
      "### v-perp"
     ]
    },
    {
     "cell_type": "code",
     "collapsed": false,
     "input": [
      "print_mean_error(M21, 21, 'vperp')\n",
      "print_mean_error(M30, 30, 'vperp')\n",
      "print_mean_error(M37, 37, 'vperp')"
     ],
     "language": "python",
     "metadata": {},
     "outputs": [
      {
       "output_type": "stream",
       "stream": "stdout",
       "text": [
        "21 : -2.45664850152e-08 +- 6.99393650643e-08\n",
        "30 : -1.54589985496e-07 +- 1.80166809621e-07\n",
        "37 : -4.18018889596e-07 +- 4.5478276604e-07\n"
       ]
      }
     ],
     "prompt_number": 335
    },
    {
     "cell_type": "code",
     "collapsed": false,
     "input": [
      "makeNormedHist(M21.trace('vperp')[:]*10.**3, 40, label='21', alpha=0.3)\n",
      "makeNormedHist(M30.trace('vperp')[:]*10.**3, 40, label='30', alpha=0.3)\n",
      "makeNormedHist(M37.trace('vperp')[:]*10.**3, 40, label='37', alpha=0.3)\n",
      "\n",
      "plt.xlabel('$v_\\perp$ $(\\mu m/s)$')\n",
      "plt.ylabel('$Probability$')\n",
      "plt.legend(loc='best')\n",
      "plt.xlim([-0.002, 0.001])"
     ],
     "language": "python",
     "metadata": {},
     "outputs": [
      {
       "metadata": {},
       "output_type": "pyout",
       "prompt_number": 336,
       "text": [
        "(-0.002, 0.001)"
       ]
      },
      {
       "metadata": {},
       "output_type": "display_data",
       "png": "[encoded data removed]",
       "text": [
        "<matplotlib.figure.Figure at 0x14240810>"
       ]
      }
     ],
     "prompt_number": 336
    },
    {
     "cell_type": "markdown",
     "metadata": {},
     "source": [
      "### ds"
     ]
    },
    {
     "cell_type": "code",
     "collapsed": false,
     "input": [
      "print_mean_error(M21, 21, 'ds')\n",
      "print_mean_error(M30, 30, 'ds')\n",
      "print_mean_error(M37, 37, 'ds')"
     ],
     "language": "python",
     "metadata": {},
     "outputs": [
      {
       "output_type": "stream",
       "stream": "stdout",
       "text": [
        "21 : 9.13613224733e-13 +- 1.79423808877e-12\n",
        "30 : 1.47192284764e-11 +- 2.87712587207e-11\n",
        "37 : 8.91801269175e-10 +- 1.7474091094e-09\n"
       ]
      }
     ],
     "prompt_number": 337
    },
    {
     "cell_type": "code",
     "collapsed": false,
     "input": [
      "makeNormedHist(M21.trace('ds')[:]*10.**6, 40, logX=True, label='21', alpha=0.3)\n",
      "makeNormedHist(M30.trace('ds')[:]*10.**6, 40, logX=True, label='30', alpha=0.3)\n",
      "makeNormedHist(M37.trace('ds')[:]*10.**6, 40, logX=True, label='37', alpha=0.3)\n",
      "\n",
      "plt.gca().set_xscale('log')\n",
      "\n",
      "plt.xlabel('$D$ $(\\mu m)^2/s$')\n",
      "plt.legend(loc='best')"
     ],
     "language": "python",
     "metadata": {},
     "outputs": [
      {
       "metadata": {},
       "output_type": "pyout",
       "prompt_number": 338,
       "text": [
        "<matplotlib.legend.Legend at 0xf3e16d0>"
       ]
      },
      {
       "metadata": {},
       "output_type": "display_data",
       "png": "[encoded data removed]",
       "text": [
        "<matplotlib.figure.Figure at 0x87e65d0>"
       ]
      }
     ],
     "prompt_number": 338
    },
    {
     "cell_type": "markdown",
     "metadata": {},
     "source": [
      "What are the units here? Is this reasonable?"
     ]
    },
    {
     "cell_type": "code",
     "collapsed": false,
     "input": [],
     "language": "python",
     "metadata": {},
     "outputs": []
    }
   ],
   "metadata": {}
  }
 ]
}